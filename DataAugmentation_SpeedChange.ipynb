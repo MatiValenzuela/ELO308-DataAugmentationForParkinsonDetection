{
  "nbformat": 4,
  "nbformat_minor": 0,
  "metadata": {
    "colab": {
      "provenance": [],
      "gpuType": "T4",
      "authorship_tag": "ABX9TyP0PvLltV3dt/dYjucbBGxV",
      "include_colab_link": true
    },
    "kernelspec": {
      "name": "python3",
      "display_name": "Python 3"
    },
    "language_info": {
      "name": "python"
    },
    "accelerator": "GPU"
  },
  "cells": [
    {
      "cell_type": "markdown",
      "metadata": {
        "id": "view-in-github",
        "colab_type": "text"
      },
      "source": [
        "<a href=\"https://colab.research.google.com/github/MatiValenzuela/ELO308-DataAugmentationForParkinsonDetection/blob/main/DataAugmentation_SpeedChange.ipynb\" target=\"_parent\"><img src=\"https://colab.research.google.com/assets/colab-badge.svg\" alt=\"Open In Colab\"/></a>"
      ]
    },
    {
      "cell_type": "markdown",
      "source": [
        "## Bibliotecas"
      ],
      "metadata": {
        "id": "d59Kc72PvN6I"
      }
    },
    {
      "cell_type": "code",
      "execution_count": null,
      "metadata": {
        "id": "GEHmK8DUb-vV"
      },
      "outputs": [],
      "source": [
        "import numpy as np\n",
        "import math\n",
        "import random\n",
        "import pandas as pd\n",
        "import os\n",
        "import matplotlib.pyplot as plt\n",
        "import librosa\n",
        "import librosa.display\n",
        "import IPython\n",
        "from IPython.display import Audio\n",
        "from IPython.display import Image\n",
        "\n",
        "import torch\n",
        "import torch.nn as nn\n",
        "\n",
        "from sklearn.preprocessing import StandardScaler\n",
        "from sklearn.model_selection import StratifiedGroupKFold\n",
        "import torchaudio\n",
        "import torchaudio.functional as F\n",
        "import torchaudio.transforms as T\n",
        "from torch.utils.data import DataLoader, TensorDataset\n",
        "from sklearn.model_selection import KFold\n",
        "import seaborn as sn\n",
        "import sklearn\n",
        "from sklearn.manifold import TSNE\n",
        "from imblearn.metrics import sensitivity_specificity_support\n",
        "\n",
        "import soundfile as sf"
      ]
    },
    {
      "cell_type": "code",
      "source": [
        "from google.colab import drive\n",
        "drive.mount('/content/drive')\n",
        "audio_data_path = '/content/drive/MyDrive/Memoria/Pataka'"
      ],
      "metadata": {
        "id": "ArQB729lcX0y",
        "colab": {
          "base_uri": "https://localhost:8080/",
          "height": 355
        },
        "outputId": "92466a45-27f5-4027-aed8-5398c3256b25"
      },
      "execution_count": null,
      "outputs": [
        {
          "output_type": "error",
          "ename": "KeyboardInterrupt",
          "evalue": "",
          "traceback": [
            "\u001b[0;31m---------------------------------------------------------------------------\u001b[0m",
            "\u001b[0;31mKeyboardInterrupt\u001b[0m                         Traceback (most recent call last)",
            "\u001b[0;32m<ipython-input-2-94c4e75d63ca>\u001b[0m in \u001b[0;36m<cell line: 2>\u001b[0;34m()\u001b[0m\n\u001b[1;32m      1\u001b[0m \u001b[0;32mfrom\u001b[0m \u001b[0mgoogle\u001b[0m\u001b[0;34m.\u001b[0m\u001b[0mcolab\u001b[0m \u001b[0;32mimport\u001b[0m \u001b[0mdrive\u001b[0m\u001b[0;34m\u001b[0m\u001b[0;34m\u001b[0m\u001b[0m\n\u001b[0;32m----> 2\u001b[0;31m \u001b[0mdrive\u001b[0m\u001b[0;34m.\u001b[0m\u001b[0mmount\u001b[0m\u001b[0;34m(\u001b[0m\u001b[0;34m'/content/drive'\u001b[0m\u001b[0;34m)\u001b[0m\u001b[0;34m\u001b[0m\u001b[0;34m\u001b[0m\u001b[0m\n\u001b[0m\u001b[1;32m      3\u001b[0m \u001b[0maudio_data_path\u001b[0m \u001b[0;34m=\u001b[0m \u001b[0;34m'/content/drive/MyDrive/Memoria/Pataka'\u001b[0m\u001b[0;34m\u001b[0m\u001b[0;34m\u001b[0m\u001b[0m\n",
            "\u001b[0;32m/usr/local/lib/python3.10/dist-packages/google/colab/drive.py\u001b[0m in \u001b[0;36mmount\u001b[0;34m(mountpoint, force_remount, timeout_ms, readonly)\u001b[0m\n\u001b[1;32m     98\u001b[0m \u001b[0;32mdef\u001b[0m \u001b[0mmount\u001b[0m\u001b[0;34m(\u001b[0m\u001b[0mmountpoint\u001b[0m\u001b[0;34m,\u001b[0m \u001b[0mforce_remount\u001b[0m\u001b[0;34m=\u001b[0m\u001b[0;32mFalse\u001b[0m\u001b[0;34m,\u001b[0m \u001b[0mtimeout_ms\u001b[0m\u001b[0;34m=\u001b[0m\u001b[0;36m120000\u001b[0m\u001b[0;34m,\u001b[0m \u001b[0mreadonly\u001b[0m\u001b[0;34m=\u001b[0m\u001b[0;32mFalse\u001b[0m\u001b[0;34m)\u001b[0m\u001b[0;34m:\u001b[0m\u001b[0;34m\u001b[0m\u001b[0;34m\u001b[0m\u001b[0m\n\u001b[1;32m     99\u001b[0m   \u001b[0;34m\"\"\"Mount your Google Drive at the specified mountpoint path.\"\"\"\u001b[0m\u001b[0;34m\u001b[0m\u001b[0;34m\u001b[0m\u001b[0m\n\u001b[0;32m--> 100\u001b[0;31m   return _mount(\n\u001b[0m\u001b[1;32m    101\u001b[0m       \u001b[0mmountpoint\u001b[0m\u001b[0;34m,\u001b[0m\u001b[0;34m\u001b[0m\u001b[0;34m\u001b[0m\u001b[0m\n\u001b[1;32m    102\u001b[0m       \u001b[0mforce_remount\u001b[0m\u001b[0;34m=\u001b[0m\u001b[0mforce_remount\u001b[0m\u001b[0;34m,\u001b[0m\u001b[0;34m\u001b[0m\u001b[0;34m\u001b[0m\u001b[0m\n",
            "\u001b[0;32m/usr/local/lib/python3.10/dist-packages/google/colab/drive.py\u001b[0m in \u001b[0;36m_mount\u001b[0;34m(mountpoint, force_remount, timeout_ms, ephemeral, readonly)\u001b[0m\n\u001b[1;32m    127\u001b[0m   )\n\u001b[1;32m    128\u001b[0m   \u001b[0;32mif\u001b[0m \u001b[0mephemeral\u001b[0m\u001b[0;34m:\u001b[0m\u001b[0;34m\u001b[0m\u001b[0;34m\u001b[0m\u001b[0m\n\u001b[0;32m--> 129\u001b[0;31m     _message.blocking_request(\n\u001b[0m\u001b[1;32m    130\u001b[0m         \u001b[0;34m'request_auth'\u001b[0m\u001b[0;34m,\u001b[0m \u001b[0mrequest\u001b[0m\u001b[0;34m=\u001b[0m\u001b[0;34m{\u001b[0m\u001b[0;34m'authType'\u001b[0m\u001b[0;34m:\u001b[0m \u001b[0;34m'dfs_ephemeral'\u001b[0m\u001b[0;34m}\u001b[0m\u001b[0;34m,\u001b[0m \u001b[0mtimeout_sec\u001b[0m\u001b[0;34m=\u001b[0m\u001b[0;32mNone\u001b[0m\u001b[0;34m\u001b[0m\u001b[0;34m\u001b[0m\u001b[0m\n\u001b[1;32m    131\u001b[0m     )\n",
            "\u001b[0;32m/usr/local/lib/python3.10/dist-packages/google/colab/_message.py\u001b[0m in \u001b[0;36mblocking_request\u001b[0;34m(request_type, request, timeout_sec, parent)\u001b[0m\n\u001b[1;32m    174\u001b[0m       \u001b[0mrequest_type\u001b[0m\u001b[0;34m,\u001b[0m \u001b[0mrequest\u001b[0m\u001b[0;34m,\u001b[0m \u001b[0mparent\u001b[0m\u001b[0;34m=\u001b[0m\u001b[0mparent\u001b[0m\u001b[0;34m,\u001b[0m \u001b[0mexpect_reply\u001b[0m\u001b[0;34m=\u001b[0m\u001b[0;32mTrue\u001b[0m\u001b[0;34m\u001b[0m\u001b[0;34m\u001b[0m\u001b[0m\n\u001b[1;32m    175\u001b[0m   )\n\u001b[0;32m--> 176\u001b[0;31m   \u001b[0;32mreturn\u001b[0m \u001b[0mread_reply_from_input\u001b[0m\u001b[0;34m(\u001b[0m\u001b[0mrequest_id\u001b[0m\u001b[0;34m,\u001b[0m \u001b[0mtimeout_sec\u001b[0m\u001b[0;34m)\u001b[0m\u001b[0;34m\u001b[0m\u001b[0;34m\u001b[0m\u001b[0m\n\u001b[0m",
            "\u001b[0;32m/usr/local/lib/python3.10/dist-packages/google/colab/_message.py\u001b[0m in \u001b[0;36mread_reply_from_input\u001b[0;34m(message_id, timeout_sec)\u001b[0m\n\u001b[1;32m     94\u001b[0m     \u001b[0mreply\u001b[0m \u001b[0;34m=\u001b[0m \u001b[0m_read_next_input_message\u001b[0m\u001b[0;34m(\u001b[0m\u001b[0;34m)\u001b[0m\u001b[0;34m\u001b[0m\u001b[0;34m\u001b[0m\u001b[0m\n\u001b[1;32m     95\u001b[0m     \u001b[0;32mif\u001b[0m \u001b[0mreply\u001b[0m \u001b[0;34m==\u001b[0m \u001b[0m_NOT_READY\u001b[0m \u001b[0;32mor\u001b[0m \u001b[0;32mnot\u001b[0m \u001b[0misinstance\u001b[0m\u001b[0;34m(\u001b[0m\u001b[0mreply\u001b[0m\u001b[0;34m,\u001b[0m \u001b[0mdict\u001b[0m\u001b[0;34m)\u001b[0m\u001b[0;34m:\u001b[0m\u001b[0;34m\u001b[0m\u001b[0;34m\u001b[0m\u001b[0m\n\u001b[0;32m---> 96\u001b[0;31m       \u001b[0mtime\u001b[0m\u001b[0;34m.\u001b[0m\u001b[0msleep\u001b[0m\u001b[0;34m(\u001b[0m\u001b[0;36m0.025\u001b[0m\u001b[0;34m)\u001b[0m\u001b[0;34m\u001b[0m\u001b[0;34m\u001b[0m\u001b[0m\n\u001b[0m\u001b[1;32m     97\u001b[0m       \u001b[0;32mcontinue\u001b[0m\u001b[0;34m\u001b[0m\u001b[0;34m\u001b[0m\u001b[0m\n\u001b[1;32m     98\u001b[0m     if (\n",
            "\u001b[0;31mKeyboardInterrupt\u001b[0m: "
          ]
        }
      ]
    },
    {
      "cell_type": "markdown",
      "source": [
        "## Carga de datos Gita\n",
        "En primer lugar se genera un dataframe que incluye el path a los distintos archivos de audio, un ID y un tag siendo 'PD' = 1 y 'HC' = 0"
      ],
      "metadata": {
        "id": "H4CoPzXFjfzd"
      }
    },
    {
      "cell_type": "code",
      "source": [
        "DATA_PATH_Gita = '/content/drive/MyDrive/Memoria/Pataka'\n",
        "\n",
        "SAMPLE_RATE = 44100\n",
        "#AVPEPUDEAC0001_pataka.wav   -> Formato de los archivos\n",
        "data_Gita = pd.DataFrame(columns=['Speaker_ID', 'Label', 'Path'])\n",
        "Speaker_PD=0\n",
        "Speaker_HC=50 #Sabemos que son 50 muestras por cada uno.\n",
        "\n",
        "for dirname, _, filenames in os.walk(DATA_PATH_Gita):\n",
        "\n",
        "    for filename in filenames:\n",
        "        file_path = os.path.join(dirname, filename)\n",
        "\n",
        "        if dirname.find('PD')!=-1:\n",
        "            Speaker_PD+=1\n",
        "            Speaker_ID=Speaker_PD\n",
        "            Label=1\n",
        "        else:\n",
        "            Speaker_HC+=1\n",
        "            Speaker_ID=Speaker_HC\n",
        "            Label=0\n",
        "\n",
        "\n",
        "        data_Gita=pd.concat([data_Gita, pd.DataFrame({\"Speaker_ID\": [Speaker_ID],\n",
        "                            \"Label\": [Label],\n",
        "                            \"Path\": [file_path]\n",
        "                             })],ignore_index=True)\n",
        "print(\"number of files is {}\".format(len(data_Gita)))\n",
        "data_Gita.head()"
      ],
      "metadata": {
        "colab": {
          "base_uri": "https://localhost:8080/",
          "height": 224
        },
        "id": "EeBHQljldm3k",
        "outputId": "6570207d-a677-48c1-d34b-2f9c139ea247"
      },
      "execution_count": null,
      "outputs": [
        {
          "output_type": "stream",
          "name": "stdout",
          "text": [
            "number of files is 100\n"
          ]
        },
        {
          "output_type": "execute_result",
          "data": {
            "text/plain": [
              "  Speaker_ID Label                                               Path\n",
              "0          1     1  /content/drive/MyDrive/Memoria/Pataka/PD/AVPEP...\n",
              "1          2     1  /content/drive/MyDrive/Memoria/Pataka/PD/AVPEP...\n",
              "2          3     1  /content/drive/MyDrive/Memoria/Pataka/PD/AVPEP...\n",
              "3          4     1  /content/drive/MyDrive/Memoria/Pataka/PD/AVPEP...\n",
              "4          5     1  /content/drive/MyDrive/Memoria/Pataka/PD/AVPEP..."
            ],
            "text/html": [
              "\n",
              "  <div id=\"df-96c79890-7bda-468f-8216-7526a684f88c\" class=\"colab-df-container\">\n",
              "    <div>\n",
              "<style scoped>\n",
              "    .dataframe tbody tr th:only-of-type {\n",
              "        vertical-align: middle;\n",
              "    }\n",
              "\n",
              "    .dataframe tbody tr th {\n",
              "        vertical-align: top;\n",
              "    }\n",
              "\n",
              "    .dataframe thead th {\n",
              "        text-align: right;\n",
              "    }\n",
              "</style>\n",
              "<table border=\"1\" class=\"dataframe\">\n",
              "  <thead>\n",
              "    <tr style=\"text-align: right;\">\n",
              "      <th></th>\n",
              "      <th>Speaker_ID</th>\n",
              "      <th>Label</th>\n",
              "      <th>Path</th>\n",
              "    </tr>\n",
              "  </thead>\n",
              "  <tbody>\n",
              "    <tr>\n",
              "      <th>0</th>\n",
              "      <td>1</td>\n",
              "      <td>1</td>\n",
              "      <td>/content/drive/MyDrive/Memoria/Pataka/PD/AVPEP...</td>\n",
              "    </tr>\n",
              "    <tr>\n",
              "      <th>1</th>\n",
              "      <td>2</td>\n",
              "      <td>1</td>\n",
              "      <td>/content/drive/MyDrive/Memoria/Pataka/PD/AVPEP...</td>\n",
              "    </tr>\n",
              "    <tr>\n",
              "      <th>2</th>\n",
              "      <td>3</td>\n",
              "      <td>1</td>\n",
              "      <td>/content/drive/MyDrive/Memoria/Pataka/PD/AVPEP...</td>\n",
              "    </tr>\n",
              "    <tr>\n",
              "      <th>3</th>\n",
              "      <td>4</td>\n",
              "      <td>1</td>\n",
              "      <td>/content/drive/MyDrive/Memoria/Pataka/PD/AVPEP...</td>\n",
              "    </tr>\n",
              "    <tr>\n",
              "      <th>4</th>\n",
              "      <td>5</td>\n",
              "      <td>1</td>\n",
              "      <td>/content/drive/MyDrive/Memoria/Pataka/PD/AVPEP...</td>\n",
              "    </tr>\n",
              "  </tbody>\n",
              "</table>\n",
              "</div>\n",
              "    <div class=\"colab-df-buttons\">\n",
              "\n",
              "  <div class=\"colab-df-container\">\n",
              "    <button class=\"colab-df-convert\" onclick=\"convertToInteractive('df-96c79890-7bda-468f-8216-7526a684f88c')\"\n",
              "            title=\"Convert this dataframe to an interactive table.\"\n",
              "            style=\"display:none;\">\n",
              "\n",
              "  <svg xmlns=\"http://www.w3.org/2000/svg\" height=\"24px\" viewBox=\"0 -960 960 960\">\n",
              "    <path d=\"M120-120v-720h720v720H120Zm60-500h600v-160H180v160Zm220 220h160v-160H400v160Zm0 220h160v-160H400v160ZM180-400h160v-160H180v160Zm440 0h160v-160H620v160ZM180-180h160v-160H180v160Zm440 0h160v-160H620v160Z\"/>\n",
              "  </svg>\n",
              "    </button>\n",
              "\n",
              "  <style>\n",
              "    .colab-df-container {\n",
              "      display:flex;\n",
              "      gap: 12px;\n",
              "    }\n",
              "\n",
              "    .colab-df-convert {\n",
              "      background-color: #E8F0FE;\n",
              "      border: none;\n",
              "      border-radius: 50%;\n",
              "      cursor: pointer;\n",
              "      display: none;\n",
              "      fill: #1967D2;\n",
              "      height: 32px;\n",
              "      padding: 0 0 0 0;\n",
              "      width: 32px;\n",
              "    }\n",
              "\n",
              "    .colab-df-convert:hover {\n",
              "      background-color: #E2EBFA;\n",
              "      box-shadow: 0px 1px 2px rgba(60, 64, 67, 0.3), 0px 1px 3px 1px rgba(60, 64, 67, 0.15);\n",
              "      fill: #174EA6;\n",
              "    }\n",
              "\n",
              "    .colab-df-buttons div {\n",
              "      margin-bottom: 4px;\n",
              "    }\n",
              "\n",
              "    [theme=dark] .colab-df-convert {\n",
              "      background-color: #3B4455;\n",
              "      fill: #D2E3FC;\n",
              "    }\n",
              "\n",
              "    [theme=dark] .colab-df-convert:hover {\n",
              "      background-color: #434B5C;\n",
              "      box-shadow: 0px 1px 3px 1px rgba(0, 0, 0, 0.15);\n",
              "      filter: drop-shadow(0px 1px 2px rgba(0, 0, 0, 0.3));\n",
              "      fill: #FFFFFF;\n",
              "    }\n",
              "  </style>\n",
              "\n",
              "    <script>\n",
              "      const buttonEl =\n",
              "        document.querySelector('#df-96c79890-7bda-468f-8216-7526a684f88c button.colab-df-convert');\n",
              "      buttonEl.style.display =\n",
              "        google.colab.kernel.accessAllowed ? 'block' : 'none';\n",
              "\n",
              "      async function convertToInteractive(key) {\n",
              "        const element = document.querySelector('#df-96c79890-7bda-468f-8216-7526a684f88c');\n",
              "        const dataTable =\n",
              "          await google.colab.kernel.invokeFunction('convertToInteractive',\n",
              "                                                    [key], {});\n",
              "        if (!dataTable) return;\n",
              "\n",
              "        const docLinkHtml = 'Like what you see? Visit the ' +\n",
              "          '<a target=\"_blank\" href=https://colab.research.google.com/notebooks/data_table.ipynb>data table notebook</a>'\n",
              "          + ' to learn more about interactive tables.';\n",
              "        element.innerHTML = '';\n",
              "        dataTable['output_type'] = 'display_data';\n",
              "        await google.colab.output.renderOutput(dataTable, element);\n",
              "        const docLink = document.createElement('div');\n",
              "        docLink.innerHTML = docLinkHtml;\n",
              "        element.appendChild(docLink);\n",
              "      }\n",
              "    </script>\n",
              "  </div>\n",
              "\n",
              "\n",
              "<div id=\"df-ccdd1dff-8b31-4033-bbf4-41f48502c831\">\n",
              "  <button class=\"colab-df-quickchart\" onclick=\"quickchart('df-ccdd1dff-8b31-4033-bbf4-41f48502c831')\"\n",
              "            title=\"Suggest charts\"\n",
              "            style=\"display:none;\">\n",
              "\n",
              "<svg xmlns=\"http://www.w3.org/2000/svg\" height=\"24px\"viewBox=\"0 0 24 24\"\n",
              "     width=\"24px\">\n",
              "    <g>\n",
              "        <path d=\"M19 3H5c-1.1 0-2 .9-2 2v14c0 1.1.9 2 2 2h14c1.1 0 2-.9 2-2V5c0-1.1-.9-2-2-2zM9 17H7v-7h2v7zm4 0h-2V7h2v10zm4 0h-2v-4h2v4z\"/>\n",
              "    </g>\n",
              "</svg>\n",
              "  </button>\n",
              "\n",
              "<style>\n",
              "  .colab-df-quickchart {\n",
              "      --bg-color: #E8F0FE;\n",
              "      --fill-color: #1967D2;\n",
              "      --hover-bg-color: #E2EBFA;\n",
              "      --hover-fill-color: #174EA6;\n",
              "      --disabled-fill-color: #AAA;\n",
              "      --disabled-bg-color: #DDD;\n",
              "  }\n",
              "\n",
              "  [theme=dark] .colab-df-quickchart {\n",
              "      --bg-color: #3B4455;\n",
              "      --fill-color: #D2E3FC;\n",
              "      --hover-bg-color: #434B5C;\n",
              "      --hover-fill-color: #FFFFFF;\n",
              "      --disabled-bg-color: #3B4455;\n",
              "      --disabled-fill-color: #666;\n",
              "  }\n",
              "\n",
              "  .colab-df-quickchart {\n",
              "    background-color: var(--bg-color);\n",
              "    border: none;\n",
              "    border-radius: 50%;\n",
              "    cursor: pointer;\n",
              "    display: none;\n",
              "    fill: var(--fill-color);\n",
              "    height: 32px;\n",
              "    padding: 0;\n",
              "    width: 32px;\n",
              "  }\n",
              "\n",
              "  .colab-df-quickchart:hover {\n",
              "    background-color: var(--hover-bg-color);\n",
              "    box-shadow: 0 1px 2px rgba(60, 64, 67, 0.3), 0 1px 3px 1px rgba(60, 64, 67, 0.15);\n",
              "    fill: var(--button-hover-fill-color);\n",
              "  }\n",
              "\n",
              "  .colab-df-quickchart-complete:disabled,\n",
              "  .colab-df-quickchart-complete:disabled:hover {\n",
              "    background-color: var(--disabled-bg-color);\n",
              "    fill: var(--disabled-fill-color);\n",
              "    box-shadow: none;\n",
              "  }\n",
              "\n",
              "  .colab-df-spinner {\n",
              "    border: 2px solid var(--fill-color);\n",
              "    border-color: transparent;\n",
              "    border-bottom-color: var(--fill-color);\n",
              "    animation:\n",
              "      spin 1s steps(1) infinite;\n",
              "  }\n",
              "\n",
              "  @keyframes spin {\n",
              "    0% {\n",
              "      border-color: transparent;\n",
              "      border-bottom-color: var(--fill-color);\n",
              "      border-left-color: var(--fill-color);\n",
              "    }\n",
              "    20% {\n",
              "      border-color: transparent;\n",
              "      border-left-color: var(--fill-color);\n",
              "      border-top-color: var(--fill-color);\n",
              "    }\n",
              "    30% {\n",
              "      border-color: transparent;\n",
              "      border-left-color: var(--fill-color);\n",
              "      border-top-color: var(--fill-color);\n",
              "      border-right-color: var(--fill-color);\n",
              "    }\n",
              "    40% {\n",
              "      border-color: transparent;\n",
              "      border-right-color: var(--fill-color);\n",
              "      border-top-color: var(--fill-color);\n",
              "    }\n",
              "    60% {\n",
              "      border-color: transparent;\n",
              "      border-right-color: var(--fill-color);\n",
              "    }\n",
              "    80% {\n",
              "      border-color: transparent;\n",
              "      border-right-color: var(--fill-color);\n",
              "      border-bottom-color: var(--fill-color);\n",
              "    }\n",
              "    90% {\n",
              "      border-color: transparent;\n",
              "      border-bottom-color: var(--fill-color);\n",
              "    }\n",
              "  }\n",
              "</style>\n",
              "\n",
              "  <script>\n",
              "    async function quickchart(key) {\n",
              "      const quickchartButtonEl =\n",
              "        document.querySelector('#' + key + ' button');\n",
              "      quickchartButtonEl.disabled = true;  // To prevent multiple clicks.\n",
              "      quickchartButtonEl.classList.add('colab-df-spinner');\n",
              "      try {\n",
              "        const charts = await google.colab.kernel.invokeFunction(\n",
              "            'suggestCharts', [key], {});\n",
              "      } catch (error) {\n",
              "        console.error('Error during call to suggestCharts:', error);\n",
              "      }\n",
              "      quickchartButtonEl.classList.remove('colab-df-spinner');\n",
              "      quickchartButtonEl.classList.add('colab-df-quickchart-complete');\n",
              "    }\n",
              "    (() => {\n",
              "      let quickchartButtonEl =\n",
              "        document.querySelector('#df-ccdd1dff-8b31-4033-bbf4-41f48502c831 button');\n",
              "      quickchartButtonEl.style.display =\n",
              "        google.colab.kernel.accessAllowed ? 'block' : 'none';\n",
              "    })();\n",
              "  </script>\n",
              "</div>\n",
              "    </div>\n",
              "  </div>\n"
            ]
          },
          "metadata": {},
          "execution_count": 3
        }
      ]
    },
    {
      "cell_type": "code",
      "source": [
        "print('Data Gita')\n",
        "print('Parkinson')\n",
        "PD_Gita=data_Gita[data_Gita['Label']==1].sort_values(by=['Speaker_ID'])['Speaker_ID'].unique()\n",
        "print(PD_Gita)\n",
        "print('size=', PD_Gita.shape)\n",
        "print('Control')\n",
        "HC_Gita=data_Gita[data_Gita['Label']==0].sort_values(by=['Speaker_ID'])['Speaker_ID'].unique()\n",
        "print(HC_Gita)\n",
        "print('size=', HC_Gita.shape)\n",
        "\n",
        "#Partition Gita\n",
        "Train_Subject_Gita=np.concatenate([PD_Gita, HC_Gita])\n",
        "print(\"Data Gita\")\n",
        "print(\"To train:\",np.unique(Train_Subject_Gita).shape)\n",
        "data_train_Gita=data_Gita"
      ],
      "metadata": {
        "colab": {
          "base_uri": "https://localhost:8080/"
        },
        "id": "scf_WlWinINZ",
        "outputId": "e670f0c0-7347-4567-f6a7-874a09d5738d"
      },
      "execution_count": null,
      "outputs": [
        {
          "output_type": "stream",
          "name": "stdout",
          "text": [
            "Data Gita\n",
            "Parkinson\n",
            "[1 2 3 4 5 6 7 8 9 10 11 12 13 14 15 16 17 18 19 20 21 22 23 24 25 26 27\n",
            " 28 29 30 31 32 33 34 35 36 37 38 39 40 41 42 43 44 45 46 47 48 49 50]\n",
            "size= (50,)\n",
            "Control\n",
            "[51 52 53 54 55 56 57 58 59 60 61 62 63 64 65 66 67 68 69 70 71 72 73 74\n",
            " 75 76 77 78 79 80 81 82 83 84 85 86 87 88 89 90 91 92 93 94 95 96 97 98\n",
            " 99 100]\n",
            "size= (50,)\n",
            "Data Gita\n",
            "To train: (100,)\n"
          ]
        }
      ]
    },
    {
      "cell_type": "markdown",
      "source": [
        "## Carga de datos Neurovoz"
      ],
      "metadata": {
        "id": "UwV0nkjGzSa8"
      }
    },
    {
      "cell_type": "code",
      "source": [
        "DATA_PATH_NeuroV = '/content/drive/MyDrive/Memoria/Neurovoz/PATAKA'\n",
        "\n",
        "SAMPLE_RATE_NeuroV = 44100\n",
        "data_NeuroV = pd.DataFrame(columns=['Speaker_ID', 'Label', 'Path'])\n",
        "for dirname, _, filenames in os.walk(DATA_PATH_NeuroV):\n",
        "    for filename in filenames:\n",
        "            file_path = os.path.join(dirname, filename)\n",
        "            if filename.find('wav')!=-1:\n",
        "                identifiers=filename.split('.')[0].split('_')\n",
        "                Speaker_ID=int(identifiers[2])+100\n",
        "                if identifiers[0]=='PD':\n",
        "                    Label=1\n",
        "                else:\n",
        "                    Label=0\n",
        "            data_NeuroV=pd.concat([data_NeuroV, pd.DataFrame({\"Speaker_ID\": [Speaker_ID],\n",
        "                            \"Label\": [Label],\n",
        "                            \"Path\": [file_path]\n",
        "                             })],ignore_index=True)\n",
        "print(\"number of files is {}\".format(len(data_NeuroV)))\n",
        "data_NeuroV.head()"
      ],
      "metadata": {
        "colab": {
          "base_uri": "https://localhost:8080/"
        },
        "id": "XuM1N4zkzWud",
        "outputId": "8dbe4741-58da-4378-f2a1-7970d7b1e8f7"
      },
      "execution_count": null,
      "outputs": [
        {
          "output_type": "stream",
          "name": "stdout",
          "text": [
            "number of files is 86\n"
          ]
        },
        {
          "output_type": "execute_result",
          "data": {
            "text/plain": [
              "  Speaker_ID Label                                               Path\n",
              "0        134     0  /content/drive/MyDrive/Memoria/Neurovoz/PATAKA...\n",
              "1        160     0  /content/drive/MyDrive/Memoria/Neurovoz/PATAKA...\n",
              "2        149     0  /content/drive/MyDrive/Memoria/Neurovoz/PATAKA...\n",
              "3        153     0  /content/drive/MyDrive/Memoria/Neurovoz/PATAKA...\n",
              "4        136     0  /content/drive/MyDrive/Memoria/Neurovoz/PATAKA..."
            ],
            "text/html": [
              "\n",
              "  <div id=\"df-7d6fcef1-0fa6-4d4e-bc1e-c2f1b69d7631\" class=\"colab-df-container\">\n",
              "    <div>\n",
              "<style scoped>\n",
              "    .dataframe tbody tr th:only-of-type {\n",
              "        vertical-align: middle;\n",
              "    }\n",
              "\n",
              "    .dataframe tbody tr th {\n",
              "        vertical-align: top;\n",
              "    }\n",
              "\n",
              "    .dataframe thead th {\n",
              "        text-align: right;\n",
              "    }\n",
              "</style>\n",
              "<table border=\"1\" class=\"dataframe\">\n",
              "  <thead>\n",
              "    <tr style=\"text-align: right;\">\n",
              "      <th></th>\n",
              "      <th>Speaker_ID</th>\n",
              "      <th>Label</th>\n",
              "      <th>Path</th>\n",
              "    </tr>\n",
              "  </thead>\n",
              "  <tbody>\n",
              "    <tr>\n",
              "      <th>0</th>\n",
              "      <td>134</td>\n",
              "      <td>0</td>\n",
              "      <td>/content/drive/MyDrive/Memoria/Neurovoz/PATAKA...</td>\n",
              "    </tr>\n",
              "    <tr>\n",
              "      <th>1</th>\n",
              "      <td>160</td>\n",
              "      <td>0</td>\n",
              "      <td>/content/drive/MyDrive/Memoria/Neurovoz/PATAKA...</td>\n",
              "    </tr>\n",
              "    <tr>\n",
              "      <th>2</th>\n",
              "      <td>149</td>\n",
              "      <td>0</td>\n",
              "      <td>/content/drive/MyDrive/Memoria/Neurovoz/PATAKA...</td>\n",
              "    </tr>\n",
              "    <tr>\n",
              "      <th>3</th>\n",
              "      <td>153</td>\n",
              "      <td>0</td>\n",
              "      <td>/content/drive/MyDrive/Memoria/Neurovoz/PATAKA...</td>\n",
              "    </tr>\n",
              "    <tr>\n",
              "      <th>4</th>\n",
              "      <td>136</td>\n",
              "      <td>0</td>\n",
              "      <td>/content/drive/MyDrive/Memoria/Neurovoz/PATAKA...</td>\n",
              "    </tr>\n",
              "  </tbody>\n",
              "</table>\n",
              "</div>\n",
              "    <div class=\"colab-df-buttons\">\n",
              "\n",
              "  <div class=\"colab-df-container\">\n",
              "    <button class=\"colab-df-convert\" onclick=\"convertToInteractive('df-7d6fcef1-0fa6-4d4e-bc1e-c2f1b69d7631')\"\n",
              "            title=\"Convert this dataframe to an interactive table.\"\n",
              "            style=\"display:none;\">\n",
              "\n",
              "  <svg xmlns=\"http://www.w3.org/2000/svg\" height=\"24px\" viewBox=\"0 -960 960 960\">\n",
              "    <path d=\"M120-120v-720h720v720H120Zm60-500h600v-160H180v160Zm220 220h160v-160H400v160Zm0 220h160v-160H400v160ZM180-400h160v-160H180v160Zm440 0h160v-160H620v160ZM180-180h160v-160H180v160Zm440 0h160v-160H620v160Z\"/>\n",
              "  </svg>\n",
              "    </button>\n",
              "\n",
              "  <style>\n",
              "    .colab-df-container {\n",
              "      display:flex;\n",
              "      gap: 12px;\n",
              "    }\n",
              "\n",
              "    .colab-df-convert {\n",
              "      background-color: #E8F0FE;\n",
              "      border: none;\n",
              "      border-radius: 50%;\n",
              "      cursor: pointer;\n",
              "      display: none;\n",
              "      fill: #1967D2;\n",
              "      height: 32px;\n",
              "      padding: 0 0 0 0;\n",
              "      width: 32px;\n",
              "    }\n",
              "\n",
              "    .colab-df-convert:hover {\n",
              "      background-color: #E2EBFA;\n",
              "      box-shadow: 0px 1px 2px rgba(60, 64, 67, 0.3), 0px 1px 3px 1px rgba(60, 64, 67, 0.15);\n",
              "      fill: #174EA6;\n",
              "    }\n",
              "\n",
              "    .colab-df-buttons div {\n",
              "      margin-bottom: 4px;\n",
              "    }\n",
              "\n",
              "    [theme=dark] .colab-df-convert {\n",
              "      background-color: #3B4455;\n",
              "      fill: #D2E3FC;\n",
              "    }\n",
              "\n",
              "    [theme=dark] .colab-df-convert:hover {\n",
              "      background-color: #434B5C;\n",
              "      box-shadow: 0px 1px 3px 1px rgba(0, 0, 0, 0.15);\n",
              "      filter: drop-shadow(0px 1px 2px rgba(0, 0, 0, 0.3));\n",
              "      fill: #FFFFFF;\n",
              "    }\n",
              "  </style>\n",
              "\n",
              "    <script>\n",
              "      const buttonEl =\n",
              "        document.querySelector('#df-7d6fcef1-0fa6-4d4e-bc1e-c2f1b69d7631 button.colab-df-convert');\n",
              "      buttonEl.style.display =\n",
              "        google.colab.kernel.accessAllowed ? 'block' : 'none';\n",
              "\n",
              "      async function convertToInteractive(key) {\n",
              "        const element = document.querySelector('#df-7d6fcef1-0fa6-4d4e-bc1e-c2f1b69d7631');\n",
              "        const dataTable =\n",
              "          await google.colab.kernel.invokeFunction('convertToInteractive',\n",
              "                                                    [key], {});\n",
              "        if (!dataTable) return;\n",
              "\n",
              "        const docLinkHtml = 'Like what you see? Visit the ' +\n",
              "          '<a target=\"_blank\" href=https://colab.research.google.com/notebooks/data_table.ipynb>data table notebook</a>'\n",
              "          + ' to learn more about interactive tables.';\n",
              "        element.innerHTML = '';\n",
              "        dataTable['output_type'] = 'display_data';\n",
              "        await google.colab.output.renderOutput(dataTable, element);\n",
              "        const docLink = document.createElement('div');\n",
              "        docLink.innerHTML = docLinkHtml;\n",
              "        element.appendChild(docLink);\n",
              "      }\n",
              "    </script>\n",
              "  </div>\n",
              "\n",
              "\n",
              "<div id=\"df-012f2fd2-4932-4c88-bea8-5fc4cd429bb3\">\n",
              "  <button class=\"colab-df-quickchart\" onclick=\"quickchart('df-012f2fd2-4932-4c88-bea8-5fc4cd429bb3')\"\n",
              "            title=\"Suggest charts\"\n",
              "            style=\"display:none;\">\n",
              "\n",
              "<svg xmlns=\"http://www.w3.org/2000/svg\" height=\"24px\"viewBox=\"0 0 24 24\"\n",
              "     width=\"24px\">\n",
              "    <g>\n",
              "        <path d=\"M19 3H5c-1.1 0-2 .9-2 2v14c0 1.1.9 2 2 2h14c1.1 0 2-.9 2-2V5c0-1.1-.9-2-2-2zM9 17H7v-7h2v7zm4 0h-2V7h2v10zm4 0h-2v-4h2v4z\"/>\n",
              "    </g>\n",
              "</svg>\n",
              "  </button>\n",
              "\n",
              "<style>\n",
              "  .colab-df-quickchart {\n",
              "      --bg-color: #E8F0FE;\n",
              "      --fill-color: #1967D2;\n",
              "      --hover-bg-color: #E2EBFA;\n",
              "      --hover-fill-color: #174EA6;\n",
              "      --disabled-fill-color: #AAA;\n",
              "      --disabled-bg-color: #DDD;\n",
              "  }\n",
              "\n",
              "  [theme=dark] .colab-df-quickchart {\n",
              "      --bg-color: #3B4455;\n",
              "      --fill-color: #D2E3FC;\n",
              "      --hover-bg-color: #434B5C;\n",
              "      --hover-fill-color: #FFFFFF;\n",
              "      --disabled-bg-color: #3B4455;\n",
              "      --disabled-fill-color: #666;\n",
              "  }\n",
              "\n",
              "  .colab-df-quickchart {\n",
              "    background-color: var(--bg-color);\n",
              "    border: none;\n",
              "    border-radius: 50%;\n",
              "    cursor: pointer;\n",
              "    display: none;\n",
              "    fill: var(--fill-color);\n",
              "    height: 32px;\n",
              "    padding: 0;\n",
              "    width: 32px;\n",
              "  }\n",
              "\n",
              "  .colab-df-quickchart:hover {\n",
              "    background-color: var(--hover-bg-color);\n",
              "    box-shadow: 0 1px 2px rgba(60, 64, 67, 0.3), 0 1px 3px 1px rgba(60, 64, 67, 0.15);\n",
              "    fill: var(--button-hover-fill-color);\n",
              "  }\n",
              "\n",
              "  .colab-df-quickchart-complete:disabled,\n",
              "  .colab-df-quickchart-complete:disabled:hover {\n",
              "    background-color: var(--disabled-bg-color);\n",
              "    fill: var(--disabled-fill-color);\n",
              "    box-shadow: none;\n",
              "  }\n",
              "\n",
              "  .colab-df-spinner {\n",
              "    border: 2px solid var(--fill-color);\n",
              "    border-color: transparent;\n",
              "    border-bottom-color: var(--fill-color);\n",
              "    animation:\n",
              "      spin 1s steps(1) infinite;\n",
              "  }\n",
              "\n",
              "  @keyframes spin {\n",
              "    0% {\n",
              "      border-color: transparent;\n",
              "      border-bottom-color: var(--fill-color);\n",
              "      border-left-color: var(--fill-color);\n",
              "    }\n",
              "    20% {\n",
              "      border-color: transparent;\n",
              "      border-left-color: var(--fill-color);\n",
              "      border-top-color: var(--fill-color);\n",
              "    }\n",
              "    30% {\n",
              "      border-color: transparent;\n",
              "      border-left-color: var(--fill-color);\n",
              "      border-top-color: var(--fill-color);\n",
              "      border-right-color: var(--fill-color);\n",
              "    }\n",
              "    40% {\n",
              "      border-color: transparent;\n",
              "      border-right-color: var(--fill-color);\n",
              "      border-top-color: var(--fill-color);\n",
              "    }\n",
              "    60% {\n",
              "      border-color: transparent;\n",
              "      border-right-color: var(--fill-color);\n",
              "    }\n",
              "    80% {\n",
              "      border-color: transparent;\n",
              "      border-right-color: var(--fill-color);\n",
              "      border-bottom-color: var(--fill-color);\n",
              "    }\n",
              "    90% {\n",
              "      border-color: transparent;\n",
              "      border-bottom-color: var(--fill-color);\n",
              "    }\n",
              "  }\n",
              "</style>\n",
              "\n",
              "  <script>\n",
              "    async function quickchart(key) {\n",
              "      const quickchartButtonEl =\n",
              "        document.querySelector('#' + key + ' button');\n",
              "      quickchartButtonEl.disabled = true;  // To prevent multiple clicks.\n",
              "      quickchartButtonEl.classList.add('colab-df-spinner');\n",
              "      try {\n",
              "        const charts = await google.colab.kernel.invokeFunction(\n",
              "            'suggestCharts', [key], {});\n",
              "      } catch (error) {\n",
              "        console.error('Error during call to suggestCharts:', error);\n",
              "      }\n",
              "      quickchartButtonEl.classList.remove('colab-df-spinner');\n",
              "      quickchartButtonEl.classList.add('colab-df-quickchart-complete');\n",
              "    }\n",
              "    (() => {\n",
              "      let quickchartButtonEl =\n",
              "        document.querySelector('#df-012f2fd2-4932-4c88-bea8-5fc4cd429bb3 button');\n",
              "      quickchartButtonEl.style.display =\n",
              "        google.colab.kernel.accessAllowed ? 'block' : 'none';\n",
              "    })();\n",
              "  </script>\n",
              "</div>\n",
              "    </div>\n",
              "  </div>\n"
            ]
          },
          "metadata": {},
          "execution_count": 5
        }
      ]
    },
    {
      "cell_type": "code",
      "source": [
        "print('Data NeuroVoz')\n",
        "print('Parkinson')\n",
        "PD_NeuroV=data_NeuroV[data_NeuroV['Label']==1].sort_values(by=['Speaker_ID'])['Speaker_ID'].unique()\n",
        "print(PD_NeuroV)\n",
        "print('size=', PD_NeuroV.shape)\n",
        "print('Control')\n",
        "HC_NeuroV=data_NeuroV[data_NeuroV['Label']==0].sort_values(by=['Speaker_ID'])['Speaker_ID'].unique()\n",
        "print(HC_NeuroV)\n",
        "print('size=', HC_NeuroV.shape)\n",
        "\n",
        "#Partition NeuroVoz\n",
        "Train_Subject_NeuroV=np.concatenate([PD_NeuroV, HC_NeuroV])\n",
        "print(\"Data NeuroVoz\")\n",
        "print(\"To test:\",np.unique(Train_Subject_NeuroV).shape)\n",
        "data_test_NeuroV=data_NeuroV"
      ],
      "metadata": {
        "colab": {
          "base_uri": "https://localhost:8080/"
        },
        "id": "JncLOiUkzaXx",
        "outputId": "48c54c61-b735-4e2c-854f-c5b3f06d5cdc"
      },
      "execution_count": null,
      "outputs": [
        {
          "output_type": "stream",
          "name": "stdout",
          "text": [
            "Data NeuroVoz\n",
            "Parkinson\n",
            "[106 107 108 109 110 111 112 113 115 116 117 118 119 120 124 125 127 128\n",
            " 129 130 131 132 133 135 137 138 139 140 141 142 143 144 146 147 166 168\n",
            " 169 170 177 209 211 213 215 217]\n",
            "size= (44,)\n",
            "Control\n",
            "[134 136 148 149 151 152 153 154 155 156 160 161 162 163 164 172 174 175\n",
            " 176 181 182 185 186 205 212 216 218 220 222 228 230 231 232 234 236 237\n",
            " 238 240 241 242 243 245]\n",
            "size= (42,)\n",
            "Data NeuroVoz\n",
            "To test: (86,)\n"
          ]
        }
      ]
    },
    {
      "cell_type": "markdown",
      "source": [
        "# Train with: Gita"
      ],
      "metadata": {
        "id": "1-Br9bC2GkS3"
      }
    },
    {
      "cell_type": "markdown",
      "source": [
        "## Procesamiento de los datos\n",
        "Primero segmentamos nuestras señales.\n",
        "En esta sección se realiza el data augmentation.\n",
        "https://librosa.org/doc/main/_modules/librosa/effects.html#time_stretch\n"
      ],
      "metadata": {
        "id": "DIp4bb-trPGn"
      }
    },
    {
      "cell_type": "code",
      "source": [
        "#selecting 400ms overlap in 50ms of audio signal example\n",
        "def process_select_signals(data, SAMPLE_RATE, want_to_augment = True):\n",
        "    time_leng=0.4 #Esto son 400 ms.\n",
        "    sample_leng=int(time_leng*SAMPLE_RATE) #Sample_rate = 44100. sample_leng = 0.4*44100 = 17640\n",
        "    overloap=2\n",
        "    signals, y_label, subject_group, tono =[],[],[],[]\n",
        "    data_size = len(data)\n",
        "    total_segments=0\n",
        "    processed_audios = 0\n",
        "\n",
        "    if want_to_augment:\n",
        "      augmentedSignals, augmentedY_label, augmentedSubject_group =[],[],[]\n",
        "      augmented_data_counter = 0\n",
        "      augment_offset = 1000\n",
        "\n",
        "\n",
        "\n",
        "    #Processs data to train\n",
        "    for data_ind, file_path in enumerate(data.Path): #Obtengo los paths a los datos de audio\n",
        "        audio, sample_rate = librosa.load(file_path, sr=SAMPLE_RATE) #Cargo la señal de audio.\n",
        "\n",
        "        augmented_flag = False\n",
        "\n",
        "        if want_to_augment:\n",
        "          prob_aug = random.random()\n",
        "          if prob_aug <= 1: #Se va a aplicar siempre en este caso\n",
        "            #Aplico data augmentation\n",
        "            speed_rate = random.uniform(0.5,1.6)\n",
        "            augmented_audio = librosa.effects.time_stretch(audio,rate=speed_rate)\n",
        "\n",
        "            data_size += 1 #Tengo un audio más que procesar, el aumentado\n",
        "            augmented_flag = True\n",
        "            augmented_data_counter += 1\n",
        "\n",
        "          #else: No aplico data augmentantion\n",
        "\n",
        "        for a in range(2): #Pasamos 2 veces, una con el original, otra con el aumentado\n",
        "          if want_to_augment and augmented_flag and a == 1:\n",
        "              audio = augmented_audio\n",
        "              #print(\"Now with the augmented data\")\n",
        "          elif (want_to_augment == False or augmented_flag == False) and a == 1:\n",
        "              break;\n",
        "\n",
        "          audio_len=len(audio)\n",
        "          audio=audio/np.max(abs(audio)) #normalizamos\n",
        "          indx=[i for i,x in enumerate(np.sqrt(abs(audio))) if x>.30]\n",
        "\n",
        "          segments=0 #Segmentos de señal\n",
        "          if (indx[0]+sample_leng)<audio_len:\n",
        "              for i in range(int((-indx[0]+indx[len(indx)-1])/(sample_leng/overloap))):\n",
        "                  ind_start = i * int(sample_leng/overloap)+indx[0]\n",
        "                  ind_end = ind_start + sample_leng\n",
        "                  if ind_end <= indx[len(indx)-1]:\n",
        "                      signal=np.zeros(sample_leng)\n",
        "                      signal = audio[ind_start:int(ind_end)]\n",
        "\n",
        "                      if want_to_augment and augmented_flag and a == 1:\n",
        "                        #print(\"Adding segment to the augmented list\")\n",
        "                        augmentedSignals.append(signal) #Guardo segmentos de las señales aumentadas\n",
        "                        augmentedY_label.append(data.iloc[data_ind]['Label']) #Guardo su clasificación\n",
        "                        augmentedSubject_group.append(data.iloc[data_ind]['Speaker_ID'] + augment_offset) #Guardo su ID del sujeto\n",
        "\n",
        "                      elif a == 0:\n",
        "                        #print(\"Adding segment to the real list\")\n",
        "                        signals.append(signal) #Guardo segmentos de las señales originales\n",
        "                        y_label.append(data.iloc[data_ind]['Label']) #Guardo su clasificación\n",
        "                        subject_group.append(data.iloc[data_ind]['Speaker_ID']) #Guardo su ID del sujeto\n",
        "\n",
        "                      segments=segments+1\n",
        "              processed_audios += 1\n",
        "              print(\" Processed {}/{} files\".format(processed_audios,data_size),end='')\n",
        "              print(\" Time audio: {} Segments {} \".format((audio_len-1)/sample_rate,segments))\n",
        "          else:\n",
        "              print(\" Processed {}/{} files\".format(processed_audios,data_size),end='')\n",
        "              print(\" Time audio: {} Segments {} \".format((audio_len-1)/sample_rate,0))\n",
        "          total_segments += segments\n",
        "\n",
        "    print(\" Total segments: \", total_segments)\n",
        "\n",
        "    signals = np.stack(signals,axis=0)\n",
        "    y_label = np.stack(y_label,axis=0)\n",
        "    subject_group = np.stack(subject_group,axis=0)\n",
        "\n",
        "    if want_to_augment:\n",
        "      augmentedSignals = np.stack(augmentedSignals,axis=0)\n",
        "      augmentedY_label = np.stack(augmentedY_label,axis=0)\n",
        "      augmentedSubject_group = np.stack(augmentedSubject_group,axis=0)\n",
        "      print(\" Total augmentations: \", augmented_data_counter)\n",
        "      return signals, y_label, subject_group, augmentedSignals, augmentedY_label, augmentedSubject_group\n",
        "\n",
        "    else:\n",
        "      return signals, y_label, subject_group"
      ],
      "metadata": {
        "id": "Dg8Yj4m8Ay8q"
      },
      "execution_count": null,
      "outputs": []
    },
    {
      "cell_type": "code",
      "source": [
        "# Data train GITA + Data Augmentation\n",
        "signals_train_Gita, y_label_train_Gita, subject_group_train_Gita, aug_signals, aug_labels, aug_groups = process_select_signals(data_train_Gita, SAMPLE_RATE)\n",
        "\n",
        "print(\"-\"*40)\n",
        "# Data test NeuroVoz (sin data augmentation)\n",
        "signals_test_NeuroV, y_label_test_NeuroV, subject_group_test_NeuroV = process_select_signals(data_test_NeuroV, SAMPLE_RATE, want_to_augment = False)"
      ],
      "metadata": {
        "id": "4y5QOsOQpx7E",
        "colab": {
          "base_uri": "https://localhost:8080/"
        },
        "outputId": "2fe8380b-0987-4fd7-978c-5a1ae04a01dc"
      },
      "execution_count": null,
      "outputs": [
        {
          "output_type": "stream",
          "name": "stdout",
          "text": [
            " Processed 1/101 files Time audio: 3.2960090702947844 Segments 14 \n",
            " Processed 2/101 files Time audio: 3.2960090702947844 Segments 14 \n",
            " Processed 3/102 files Time audio: 7.261950113378685 Segments 34 \n",
            " Processed 4/102 files Time audio: 7.261950113378685 Segments 34 \n",
            " Processed 5/103 files Time audio: 6.469138321995465 Segments 30 \n",
            " Processed 6/103 files Time audio: 6.469138321995465 Segments 30 \n",
            " Processed 7/104 files Time audio: 2.5204761904761903 Segments 9 \n",
            " Processed 8/104 files Time audio: 2.5204761904761903 Segments 9 \n",
            " Processed 9/105 files Time audio: 7.466031746031746 Segments 35 \n",
            " Processed 10/105 files Time audio: 7.466031746031746 Segments 35 \n",
            " Processed 11/106 files Time audio: 6.533945578231292 Segments 30 \n",
            " Processed 12/106 files Time audio: 6.533945578231292 Segments 30 \n",
            " Processed 13/107 files Time audio: 4.915079365079365 Segments 22 \n",
            " Processed 14/107 files Time audio: 4.915079365079365 Segments 22 \n",
            " Processed 15/108 files Time audio: 4.467210884353742 Segments 20 \n",
            " Processed 16/108 files Time audio: 4.467210884353742 Segments 20 \n",
            " Processed 17/109 files Time audio: 3.5493650793650793 Segments 15 \n",
            " Processed 18/109 files Time audio: 3.5493650793650793 Segments 15 \n",
            " Processed 19/110 files Time audio: 10.52297052154195 Segments 50 \n",
            " Processed 20/110 files Time audio: 10.52297052154195 Segments 50 \n",
            " Processed 21/111 files Time audio: 2.988231292517007 Segments 13 \n",
            " Processed 22/111 files Time audio: 2.988231292517007 Segments 13 \n",
            " Processed 23/112 files Time audio: 4.17984126984127 Segments 19 \n",
            " Processed 24/112 files Time audio: 4.17984126984127 Segments 19 \n",
            " Processed 25/113 files Time audio: 3.1898412698412697 Segments 14 \n",
            " Processed 26/113 files Time audio: 3.1898412698412697 Segments 14 \n",
            " Processed 27/114 files Time audio: 6.068208616780045 Segments 28 \n",
            " Processed 28/114 files Time audio: 6.068208616780045 Segments 28 \n",
            " Processed 29/115 files Time audio: 6.781859410430839 Segments 32 \n",
            " Processed 30/115 files Time audio: 6.781859410430839 Segments 32 \n",
            " Processed 31/116 files Time audio: 5.463877551020408 Segments 25 \n",
            " Processed 32/116 files Time audio: 5.463877551020408 Segments 25 \n",
            " Processed 33/117 files Time audio: 6.576893424036281 Segments 30 \n",
            " Processed 34/117 files Time audio: 6.576893424036281 Segments 30 \n",
            " Processed 35/118 files Time audio: 3.325034013605442 Segments 14 \n",
            " Processed 36/118 files Time audio: 3.325034013605442 Segments 14 \n",
            " Processed 37/119 files Time audio: 3.6186394557823127 Segments 16 \n",
            " Processed 38/119 files Time audio: 3.6186394557823127 Segments 16 \n",
            " Processed 39/120 files Time audio: 1.7343990929705215 Segments 7 \n",
            " Processed 40/120 files Time audio: 1.7343990929705215 Segments 7 \n",
            " Processed 41/121 files Time audio: 5.866780045351474 Segments 27 \n",
            " Processed 42/121 files Time audio: 5.866780045351474 Segments 27 \n",
            " Processed 43/122 files Time audio: 3.281859410430839 Segments 14 \n",
            " Processed 44/122 files Time audio: 3.281859410430839 Segments 14 \n",
            " Processed 45/123 files Time audio: 5.842403628117914 Segments 26 \n",
            " Processed 46/123 files Time audio: 5.842403628117914 Segments 26 \n",
            " Processed 47/124 files Time audio: 4.345238095238095 Segments 18 \n",
            " Processed 48/124 files Time audio: 4.345238095238095 Segments 18 \n",
            " Processed 49/125 files Time audio: 1.4207709750566893 Segments 5 \n",
            " Processed 50/125 files Time audio: 1.4207709750566893 Segments 5 \n",
            " Processed 51/126 files Time audio: 2.1656916099773245 Segments 9 \n",
            " Processed 52/126 files Time audio: 2.1656916099773245 Segments 9 \n",
            " Processed 53/127 files Time audio: 2.364512471655329 Segments 10 \n",
            " Processed 54/127 files Time audio: 2.364512471655329 Segments 10 \n",
            " Processed 55/128 files Time audio: 3.318934240362812 Segments 15 \n",
            " Processed 56/128 files Time audio: 3.318934240362812 Segments 15 \n",
            " Processed 57/129 files Time audio: 2.5707482993197277 Segments 11 \n",
            " Processed 58/129 files Time audio: 2.5707482993197277 Segments 11 \n",
            " Processed 59/130 files Time audio: 3.713219954648526 Segments 16 \n",
            " Processed 60/130 files Time audio: 3.713219954648526 Segments 16 \n",
            " Processed 61/131 files Time audio: 6.52859410430839 Segments 30 \n",
            " Processed 62/131 files Time audio: 6.52859410430839 Segments 30 \n",
            " Processed 63/132 files Time audio: 4.131632653061224 Segments 19 \n",
            " Processed 64/132 files Time audio: 4.131632653061224 Segments 19 \n",
            " Processed 65/133 files Time audio: 4.568458049886622 Segments 20 \n",
            " Processed 66/133 files Time audio: 4.568458049886622 Segments 20 \n",
            " Processed 67/134 files Time audio: 6.379342403628118 Segments 30 \n",
            " Processed 68/134 files Time audio: 6.379342403628118 Segments 30 \n",
            " Processed 69/135 files Time audio: 3.768140589569161 Segments 16 \n",
            " Processed 70/135 files Time audio: 3.768140589569161 Segments 16 \n",
            " Processed 71/136 files Time audio: 1.9452380952380952 Segments 7 \n",
            " Processed 72/136 files Time audio: 1.9452380952380952 Segments 7 \n",
            " Processed 73/137 files Time audio: 3.4593197278911565 Segments 15 \n",
            " Processed 74/137 files Time audio: 3.4593197278911565 Segments 15 \n",
            " Processed 75/138 files Time audio: 7.7713378684807255 Segments 36 \n",
            " Processed 76/138 files Time audio: 7.7713378684807255 Segments 36 \n",
            " Processed 77/139 files Time audio: 1.3895238095238096 Segments 5 \n",
            " Processed 78/139 files Time audio: 1.3895238095238096 Segments 5 \n",
            " Processed 79/140 files Time audio: 6.407369614512471 Segments 30 \n",
            " Processed 80/140 files Time audio: 6.407369614512471 Segments 30 \n",
            " Processed 81/141 files Time audio: 5.553083900226757 Segments 25 \n",
            " Processed 82/141 files Time audio: 5.553083900226757 Segments 25 \n",
            " Processed 83/142 files Time audio: 6.140181405895691 Segments 28 \n",
            " Processed 84/142 files Time audio: 6.140181405895691 Segments 28 \n",
            " Processed 85/143 files Time audio: 2.7931519274376417 Segments 12 \n",
            " Processed 86/143 files Time audio: 2.7931519274376417 Segments 12 \n",
            " Processed 87/144 files Time audio: 5.0751700680272105 Segments 23 \n",
            " Processed 88/144 files Time audio: 5.0751700680272105 Segments 23 \n",
            " Processed 89/145 files Time audio: 5.661836734693877 Segments 26 \n",
            " Processed 90/145 files Time audio: 5.661836734693877 Segments 26 \n",
            " Processed 91/146 files Time audio: 6.953650793650794 Segments 33 \n",
            " Processed 92/146 files Time audio: 6.953650793650794 Segments 33 \n",
            " Processed 93/147 files Time audio: 2.519614512471655 Segments 10 \n",
            " Processed 94/147 files Time audio: 2.519614512471655 Segments 10 \n",
            " Processed 95/148 files Time audio: 7.788730158730159 Segments 36 \n",
            " Processed 96/148 files Time audio: 7.788730158730159 Segments 36 \n",
            " Processed 97/149 files Time audio: 5.139591836734694 Segments 23 \n",
            " Processed 98/149 files Time audio: 5.139591836734694 Segments 23 \n",
            " Processed 99/150 files Time audio: 4.688956916099773 Segments 20 \n",
            " Processed 100/150 files Time audio: 4.688956916099773 Segments 20 \n",
            " Processed 101/151 files Time audio: 6.537664399092971 Segments 31 \n",
            " Processed 102/151 files Time audio: 6.537664399092971 Segments 31 \n",
            " Processed 103/152 files Time audio: 3.8930385487528345 Segments 17 \n",
            " Processed 104/152 files Time audio: 3.8930385487528345 Segments 17 \n",
            " Processed 105/153 files Time audio: 8.474852607709751 Segments 40 \n",
            " Processed 106/153 files Time audio: 8.474852607709751 Segments 40 \n",
            " Processed 107/154 files Time audio: 3.1004308390022675 Segments 13 \n",
            " Processed 108/154 files Time audio: 3.1004308390022675 Segments 13 \n",
            " Processed 109/155 files Time audio: 4.291269841269841 Segments 19 \n",
            " Processed 110/155 files Time audio: 4.291269841269841 Segments 19 \n",
            " Processed 111/156 files Time audio: 1.9213151927437642 Segments 8 \n",
            " Processed 112/156 files Time audio: 1.9213151927437642 Segments 8 \n",
            " Processed 113/157 files Time audio: 5.183628117913832 Segments 24 \n",
            " Processed 114/157 files Time audio: 5.183628117913832 Segments 24 \n",
            " Processed 115/158 files Time audio: 3.1710657596371883 Segments 14 \n",
            " Processed 116/158 files Time audio: 3.1710657596371883 Segments 14 \n",
            " Processed 117/159 files Time audio: 2.4088208616780045 Segments 10 \n",
            " Processed 118/159 files Time audio: 2.4088208616780045 Segments 10 \n",
            " Processed 119/160 files Time audio: 5.2766213151927435 Segments 24 \n",
            " Processed 120/160 files Time audio: 5.2766213151927435 Segments 24 \n",
            " Processed 121/161 files Time audio: 4.022993197278912 Segments 18 \n",
            " Processed 122/161 files Time audio: 4.022993197278912 Segments 18 \n",
            " Processed 123/162 files Time audio: 6.83687074829932 Segments 32 \n",
            " Processed 124/162 files Time audio: 6.83687074829932 Segments 32 \n",
            " Processed 125/163 files Time audio: 3.3463038548752833 Segments 15 \n",
            " Processed 126/163 files Time audio: 3.3463038548752833 Segments 15 \n",
            " Processed 127/164 files Time audio: 3.8841496598639456 Segments 17 \n",
            " Processed 128/164 files Time audio: 3.8841496598639456 Segments 17 \n",
            " Processed 129/165 files Time audio: 4.7089569160997735 Segments 22 \n",
            " Processed 130/165 files Time audio: 4.7089569160997735 Segments 22 \n",
            " Processed 131/166 files Time audio: 2.6549886621315193 Segments 11 \n",
            " Processed 132/166 files Time audio: 2.6549886621315193 Segments 11 \n",
            " Processed 133/167 files Time audio: 2.1874149659863944 Segments 9 \n",
            " Processed 134/167 files Time audio: 2.1874149659863944 Segments 9 \n",
            " Processed 135/168 files Time audio: 4.846326530612245 Segments 21 \n",
            " Processed 136/168 files Time audio: 4.846326530612245 Segments 21 \n",
            " Processed 137/169 files Time audio: 3.7718820861678006 Segments 16 \n",
            " Processed 138/169 files Time audio: 3.7718820861678006 Segments 16 \n",
            " Processed 139/170 files Time audio: 2.3314285714285714 Segments 9 \n",
            " Processed 140/170 files Time audio: 2.3314285714285714 Segments 9 \n",
            " Processed 141/171 files Time audio: 2.944875283446712 Segments 13 \n",
            " Processed 142/171 files Time audio: 2.944875283446712 Segments 13 \n",
            " Processed 143/172 files Time audio: 6.201360544217687 Segments 28 \n",
            " Processed 144/172 files Time audio: 6.201360544217687 Segments 28 \n",
            " Processed 145/173 files Time audio: 7.368299319727891 Segments 34 \n",
            " Processed 146/173 files Time audio: 7.368299319727891 Segments 34 \n",
            " Processed 147/174 files Time audio: 2.4614285714285713 Segments 10 \n",
            " Processed 148/174 files Time audio: 2.4614285714285713 Segments 10 \n",
            " Processed 149/175 files Time audio: 3.6421315192743764 Segments 16 \n",
            " Processed 150/175 files Time audio: 3.6421315192743764 Segments 16 \n",
            " Processed 151/176 files Time audio: 2.9742403628117913 Segments 13 \n",
            " Processed 152/176 files Time audio: 2.9742403628117913 Segments 13 \n",
            " Processed 153/177 files Time audio: 3.22843537414966 Segments 14 \n",
            " Processed 154/177 files Time audio: 3.22843537414966 Segments 14 \n",
            " Processed 155/178 files Time audio: 4.743265306122449 Segments 22 \n",
            " Processed 156/178 files Time audio: 4.743265306122449 Segments 22 \n",
            " Processed 157/179 files Time audio: 5.377573696145125 Segments 25 \n",
            " Processed 158/179 files Time audio: 5.377573696145125 Segments 25 \n",
            " Processed 159/180 files Time audio: 2.5513378684807257 Segments 11 \n",
            " Processed 160/180 files Time audio: 2.5513378684807257 Segments 11 \n",
            " Processed 161/181 files Time audio: 7.714943310657596 Segments 36 \n",
            " Processed 162/181 files Time audio: 7.714943310657596 Segments 36 \n",
            " Processed 163/182 files Time audio: 2.765034013605442 Segments 12 \n",
            " Processed 164/182 files Time audio: 2.765034013605442 Segments 12 \n",
            " Processed 165/183 files Time audio: 3.4314739229024944 Segments 15 \n",
            " Processed 166/183 files Time audio: 3.4314739229024944 Segments 15 \n",
            " Processed 167/184 files Time audio: 4.744943310657597 Segments 22 \n",
            " Processed 168/184 files Time audio: 4.744943310657597 Segments 22 \n",
            " Processed 169/185 files Time audio: 4.735328798185941 Segments 21 \n",
            " Processed 170/185 files Time audio: 4.735328798185941 Segments 21 \n",
            " Processed 171/186 files Time audio: 1.9105442176870748 Segments 8 \n",
            " Processed 172/186 files Time audio: 1.9105442176870748 Segments 8 \n",
            " Processed 173/187 files Time audio: 1.6822448979591837 Segments 6 \n",
            " Processed 174/187 files Time audio: 1.6822448979591837 Segments 6 \n",
            " Processed 175/188 files Time audio: 4.413832199546485 Segments 20 \n",
            " Processed 176/188 files Time audio: 4.413832199546485 Segments 20 \n",
            " Processed 177/189 files Time audio: 3.918390022675737 Segments 18 \n",
            " Processed 178/189 files Time audio: 3.918390022675737 Segments 18 \n",
            " Processed 179/190 files Time audio: 4.8749886621315195 Segments 22 \n",
            " Processed 180/190 files Time audio: 4.8749886621315195 Segments 22 \n",
            " Processed 181/191 files Time audio: 4.72625850340136 Segments 21 \n",
            " Processed 182/191 files Time audio: 4.72625850340136 Segments 21 \n",
            " Processed 183/192 files Time audio: 3.4902721088435373 Segments 15 \n",
            " Processed 184/192 files Time audio: 3.4902721088435373 Segments 15 \n",
            " Processed 185/193 files Time audio: 3.509931972789116 Segments 16 \n",
            " Processed 186/193 files Time audio: 3.509931972789116 Segments 16 \n",
            " Processed 187/194 files Time audio: 2.4535374149659863 Segments 10 \n",
            " Processed 188/194 files Time audio: 2.4535374149659863 Segments 10 \n",
            " Processed 189/195 files Time audio: 3.2775056689342406 Segments 14 \n",
            " Processed 190/195 files Time audio: 3.2775056689342406 Segments 14 \n",
            " Processed 191/196 files Time audio: 3.83156462585034 Segments 17 \n",
            " Processed 192/196 files Time audio: 3.83156462585034 Segments 17 \n",
            " Processed 193/197 files Time audio: 4.52718820861678 Segments 20 \n",
            " Processed 194/197 files Time audio: 4.52718820861678 Segments 20 \n",
            " Processed 195/198 files Time audio: 2.7872562358276642 Segments 12 \n",
            " Processed 196/198 files Time audio: 2.7872562358276642 Segments 12 \n",
            " Processed 197/199 files Time audio: 5.023650793650794 Segments 23 \n",
            " Processed 198/199 files Time audio: 5.023650793650794 Segments 23 \n",
            " Processed 199/200 files Time audio: 5.738979591836735 Segments 26 \n",
            " Processed 200/200 files Time audio: 5.738979591836735 Segments 26 \n",
            " Total segments:  3924\n",
            " Total augmentations:  100\n",
            "----------------------------------------\n",
            " Processed 1/86 files Time audio: 20.82548752834467 Segments 102 \n",
            " Processed 2/86 files Time audio: 15.305170068027211 Segments 75 \n",
            " Processed 3/86 files Time audio: 21.0797052154195 Segments 103 \n",
            " Processed 4/86 files Time audio: 5.784807256235828 Segments 27 \n",
            " Processed 5/86 files Time audio: 11.495124716553288 Segments 56 \n",
            " Processed 6/86 files Time audio: 11.823990929705216 Segments 57 \n",
            " Processed 7/86 files Time audio: 10.284331065759638 Segments 49 \n",
            " Processed 8/86 files Time audio: 9.943514739229025 Segments 48 \n",
            " Processed 9/86 files Time audio: 11.875124716553287 Segments 58 \n",
            " Processed 10/86 files Time audio: 9.69015873015873 Segments 47 \n",
            " Processed 11/86 files Time audio: 10.044625850340136 Segments 48 \n",
            " Processed 12/86 files Time audio: 22.476485260770975 Segments 109 \n",
            " Processed 13/86 files Time audio: 8.724807256235827 Segments 40 \n",
            " Processed 14/86 files Time audio: 11.351360544217687 Segments 55 \n",
            " Processed 15/86 files Time audio: 6.616802721088435 Segments 31 \n",
            " Processed 16/86 files Time audio: 18.445804988662132 Segments 90 \n",
            " Processed 17/86 files Time audio: 19.57950113378685 Segments 96 \n",
            " Processed 18/86 files Time audio: 20.52641723356009 Segments 101 \n",
            " Processed 19/86 files Time audio: 10.61439909297052 Segments 51 \n",
            " Processed 20/86 files Time audio: 6.476916099773242 Segments 31 \n",
            " Processed 21/86 files Time audio: 9.896984126984126 Segments 48 \n",
            " Processed 22/86 files Time audio: 11.197437641723356 Segments 54 \n",
            " Processed 23/86 files Time audio: 2.3939002267573697 Segments 10 \n",
            " Processed 24/86 files Time audio: 15.312063492063492 Segments 74 \n",
            " Processed 25/86 files Time audio: 18.465034013605443 Segments 91 \n",
            " Processed 26/86 files Time audio: 11.826281179138322 Segments 57 \n",
            " Processed 27/86 files Time audio: 7.6682993197278915 Segments 36 \n",
            " Processed 28/86 files Time audio: 5.358163265306122 Segments 25 \n",
            " Processed 29/86 files Time audio: 17.551269841269843 Segments 85 \n",
            " Processed 30/86 files Time audio: 10.636621315192743 Segments 49 \n",
            " Processed 31/86 files Time audio: 18.816598639455783 Segments 91 \n",
            " Processed 32/86 files Time audio: 7.956054421768708 Segments 37 \n",
            " Processed 33/86 files Time audio: 11.533151927437642 Segments 54 \n",
            " Processed 34/86 files Time audio: 24.995668934240364 Segments 120 \n",
            " Processed 35/86 files Time audio: 20.51238095238095 Segments 99 \n",
            " Processed 36/86 files Time audio: 26.934784580498867 Segments 131 \n",
            " Processed 37/86 files Time audio: 13.768548752834468 Segments 67 \n",
            " Processed 38/86 files Time audio: 11.604897959183674 Segments 55 \n",
            " Processed 39/86 files Time audio: 18.41031746031746 Segments 88 \n",
            " Processed 40/86 files Time audio: 14.38 Segments 69 \n",
            " Processed 41/86 files Time audio: 12.074353741496598 Segments 59 \n",
            " Processed 42/86 files Time audio: 5.498684807256236 Segments 26 \n",
            " Processed 43/86 files Time audio: 21.99251700680272 Segments 108 \n",
            " Processed 44/86 files Time audio: 14.364671201814058 Segments 70 \n",
            " Processed 45/86 files Time audio: 7.806507936507937 Segments 37 \n",
            " Processed 46/86 files Time audio: 20.88886621315193 Segments 103 \n",
            " Processed 47/86 files Time audio: 8.445668934240363 Segments 40 \n",
            " Processed 48/86 files Time audio: 12.863718820861678 Segments 62 \n",
            " Processed 49/86 files Time audio: 5.60875283446712 Segments 26 \n",
            " Processed 50/86 files Time audio: 4.504603174603175 Segments 21 \n",
            " Processed 51/86 files Time audio: 8.51047619047619 Segments 41 \n",
            " Processed 52/86 files Time audio: 10.103356009070295 Segments 49 \n",
            " Processed 53/86 files Time audio: 3.9514739229024944 Segments 18 \n",
            " Processed 54/86 files Time audio: 3.3710430839002266 Segments 15 \n",
            " Processed 55/86 files Time audio: 6.393877551020408 Segments 30 \n",
            " Processed 56/86 files Time audio: 21.45326530612245 Segments 106 \n",
            " Processed 57/86 files Time audio: 6.925215419501134 Segments 33 \n",
            " Processed 58/86 files Time audio: 18.346031746031745 Segments 90 \n",
            " Processed 59/86 files Time audio: 9.109614512471655 Segments 44 \n",
            " Processed 60/86 files Time audio: 11.032675736961451 Segments 53 \n",
            " Processed 61/86 files Time audio: 9.03795918367347 Segments 43 \n",
            " Processed 62/86 files Time audio: 12.743197278911564 Segments 62 \n",
            " Processed 63/86 files Time audio: 12.07031746031746 Segments 59 \n",
            " Processed 64/86 files Time audio: 16.683718820861678 Segments 82 \n",
            " Processed 65/86 files Time audio: 4.344489795918367 Segments 20 \n",
            " Processed 66/86 files Time audio: 7.265124716553288 Segments 35 \n",
            " Processed 67/86 files Time audio: 10.693038548752835 Segments 51 \n",
            " Processed 68/86 files Time audio: 5.900226757369614 Segments 27 \n",
            " Processed 69/86 files Time audio: 9.860340136054422 Segments 48 \n",
            " Processed 70/86 files Time audio: 17.822244897959184 Segments 87 \n",
            " Processed 71/86 files Time audio: 7.613424036281179 Segments 36 \n",
            " Processed 72/86 files Time audio: 13.091814058956917 Segments 64 \n",
            " Processed 73/86 files Time audio: 6.251111111111111 Segments 29 \n",
            " Processed 74/86 files Time audio: 15.367573696145124 Segments 75 \n",
            " Processed 75/86 files Time audio: 11.23702947845805 Segments 54 \n",
            " Processed 76/86 files Time audio: 10.024807256235828 Segments 48 \n",
            " Processed 77/86 files Time audio: 19.439591836734692 Segments 94 \n",
            " Processed 78/86 files Time audio: 7.47984126984127 Segments 36 \n",
            " Processed 79/86 files Time audio: 13.488888888888889 Segments 65 \n",
            " Processed 80/86 files Time audio: 12.348775510204081 Segments 59 \n",
            " Processed 81/86 files Time audio: 3.4393197278911565 Segments 15 \n",
            " Processed 82/86 files Time audio: 6.00172335600907 Segments 28 \n",
            " Processed 83/86 files Time audio: 11.155827664399093 Segments 54 \n",
            " Processed 84/86 files Time audio: 12.621655328798186 Segments 59 \n",
            " Processed 85/86 files Time audio: 8.55031746031746 Segments 38 \n",
            " Processed 86/86 files Time audio: 14.73766439909297 Segments 72 \n",
            " Total segments:  4985\n"
          ]
        }
      ]
    },
    {
      "cell_type": "markdown",
      "source": [
        "### Verificación de tamaños"
      ],
      "metadata": {
        "id": "mO_JLAgTKn_b"
      }
    },
    {
      "cell_type": "markdown",
      "source": [
        "GITA"
      ],
      "metadata": {
        "id": "0ic2sbnPKvwL"
      }
    },
    {
      "cell_type": "code",
      "source": [
        "print('size data train', signals_train_Gita.shape)  # Debería dar size data train (1962, 17640).\n",
        "print('size labels train', y_label_train_Gita.shape)\n",
        "print('size group subject train', subject_group_train_Gita.shape)"
      ],
      "metadata": {
        "id": "TtH8YlYUns9C",
        "colab": {
          "base_uri": "https://localhost:8080/"
        },
        "outputId": "f7fe6c6a-ed8f-4e5a-97a2-fc1cac916b43"
      },
      "execution_count": null,
      "outputs": [
        {
          "output_type": "stream",
          "name": "stdout",
          "text": [
            "size data train (1962, 17640)\n",
            "size labels train (1962,)\n",
            "size group subject train (1962,)\n"
          ]
        }
      ]
    },
    {
      "cell_type": "code",
      "source": [
        "print('size augmented signals', aug_signals.shape)\n",
        "print('size labels augmented', aug_labels.shape)\n",
        "print('size group subject augmented', aug_groups.shape)"
      ],
      "metadata": {
        "id": "w9B2Bv6AFhR2",
        "colab": {
          "base_uri": "https://localhost:8080/"
        },
        "outputId": "ec82ca5e-ae7d-45a2-b71a-097921e42636"
      },
      "execution_count": null,
      "outputs": [
        {
          "output_type": "stream",
          "name": "stdout",
          "text": [
            "size augmented signals (2207, 17640)\n",
            "size labels augmented (2207,)\n",
            "size group subject augmented (2207,)\n"
          ]
        }
      ]
    },
    {
      "cell_type": "markdown",
      "source": [
        "NeuroVoz"
      ],
      "metadata": {
        "id": "r6lE7D3GKx1l"
      }
    },
    {
      "cell_type": "code",
      "source": [
        "print('size data test', signals_test_NeuroV.shape)  # Debería dar size data test (4985, 17640).\n",
        "print('size labels test', y_label_test_NeuroV.shape)\n",
        "print('size group subject test', subject_group_test_NeuroV.shape)"
      ],
      "metadata": {
        "id": "wleAL1lhKzKg",
        "colab": {
          "base_uri": "https://localhost:8080/"
        },
        "outputId": "0aa75f0e-8d94-48e6-e9b3-c7af1af5a564"
      },
      "execution_count": null,
      "outputs": [
        {
          "output_type": "stream",
          "name": "stdout",
          "text": [
            "size data test (4985, 17640)\n",
            "size labels test (4985,)\n",
            "size group subject test (4985,)\n"
          ]
        }
      ]
    },
    {
      "cell_type": "markdown",
      "source": [
        "## Espectrogramas"
      ],
      "metadata": {
        "id": "KgUeGFjKrdOJ"
      }
    },
    {
      "cell_type": "code",
      "source": [
        "def compute_norm_spect(signals, sample_rate):\n",
        "    n_fft = 2048 #Numero de puntos\n",
        "    win_length = int(0.015*sample_rate)  # Tamaño de la ventana\n",
        "    hop_length = int(0.010*sample_rate)  # Tamaño del Hop\n",
        "    n_mels = 65                          # Número de ventanas de Mel\n",
        "\n",
        "    mel_spectrogram = T.MelSpectrogram(  #T from torchaudio.transforms. Configuración del espectrograma de Mel\n",
        "        sample_rate=sample_rate,\n",
        "        n_fft=n_fft,\n",
        "        win_length=win_length,\n",
        "        hop_length=hop_length,\n",
        "        center=True,\n",
        "        pad_mode=\"reflect\",\n",
        "        power=2.0,\n",
        "        norm=\"slaney\",\n",
        "        #onesided=True,\n",
        "        n_mels=n_mels,\n",
        "        mel_scale=\"htk\",\n",
        "    )\n",
        "\n",
        "\n",
        "    mel_spectrograms = []\n",
        "    scaler = StandardScaler()\n",
        "    print(\"Calculating mel spectrograms\")\n",
        "    for i in range(signals.shape[0]):\n",
        "        mel_spect = librosa.power_to_db(mel_spectrogram(torch.from_numpy(signals[i,:]))) #Calculamos el MelSpectrogram y Transformación a dB\n",
        "        mel_spect_norm=scaler.fit_transform(mel_spect) #Normalizamos a media 0, stdDev 1\n",
        "        mel_spectrograms.append(mel_spect_norm) #Guardamos los espectrogramas.\n",
        "        print(\"\\r Processed {}/{} files\".format(i,signals.shape[0]),end='')\n",
        "    mel_spectrograms = np.stack(mel_spectrograms,axis=0)\n",
        "    print(' ')\n",
        "    return mel_spectrograms"
      ],
      "metadata": {
        "id": "kePzTHqB3KbC"
      },
      "execution_count": null,
      "outputs": []
    },
    {
      "cell_type": "code",
      "source": [
        "#Data train\n",
        "mel_spectrograms_train_Gita=compute_norm_spect(signals_train_Gita, SAMPLE_RATE)\n",
        "print('Data size:',mel_spectrograms_train_Gita.shape)\n",
        "print(\"-\"*40)\n",
        "\n",
        "aug_mel_spectrograms = compute_norm_spect(aug_signals, SAMPLE_RATE)\n",
        "print('Data size:',aug_mel_spectrograms.shape)\n",
        "print(\"-\"*40)\n",
        "\n",
        "#Data test\n",
        "mel_spectrograms_test_NeuroV=compute_norm_spect(signals_test_NeuroV, SAMPLE_RATE)\n",
        "print('Data size:',mel_spectrograms_test_NeuroV.shape)"
      ],
      "metadata": {
        "id": "Jcy40l1F3PpD",
        "colab": {
          "base_uri": "https://localhost:8080/"
        },
        "outputId": "188face3-1cce-46d6-8e6a-ae8f35cf49b3"
      },
      "execution_count": null,
      "outputs": [
        {
          "output_type": "stream",
          "name": "stdout",
          "text": [
            "Calculating mel spectrograms\n",
            " Processed 1961/1962 files \n",
            "Data size: (1962, 65, 41)\n",
            "----------------------------------------\n",
            "Calculating mel spectrograms\n",
            " Processed 1961/1962 files \n",
            "Data size: (1962, 65, 41)\n",
            "----------------------------------------\n",
            "Calculating mel spectrograms\n",
            " Processed 4984/4985 files \n",
            "Data size: (4985, 65, 41)\n"
          ]
        }
      ]
    },
    {
      "cell_type": "markdown",
      "source": [
        "## Verificación visual y auditiva"
      ],
      "metadata": {
        "id": "T95umySYhOlb"
      }
    },
    {
      "cell_type": "code",
      "source": [
        "#Sólo para ver, no es necesario ejecutarla.\n",
        "offset = 0\n",
        "plt.subplot(1, 2, 1)\n",
        "plt.imshow(mel_spectrograms_train_Gita[offset], cmap='viridis', origin='lower', aspect='auto')\n",
        "plt.colorbar(format='%+2.0f dB')\n",
        "plt.title('Espectrograma de Mel- Original. Sujeto: {}'.format(subject_group_train_Gita[offset]))\n",
        "\n",
        "plt.subplot(1, 2, 2)\n",
        "plt.imshow(aug_mel_spectrograms[offset], cmap='viridis', origin='lower', aspect='auto')\n",
        "plt.colorbar(format='%+2.0f dB')\n",
        "plt.title('Espectrograma de Mel - Speed Changed. Sujeto: {}'.format(aug_groups[offset]))\n",
        "\n",
        "plt.tight_layout()\n",
        "plt.savefig('/content/drive/MyDrive/Memoria/Imagenes/speedChange_segmented.png')\n",
        "plt.show()"
      ],
      "metadata": {
        "id": "G3YtAEGAr5rz",
        "colab": {
          "base_uri": "https://localhost:8080/",
          "height": 487
        },
        "outputId": "deaacc05-7ec4-4e10-da62-19566a5923b4"
      },
      "execution_count": null,
      "outputs": [
        {
          "output_type": "display_data",
          "data": {
            "text/plain": [
              "<Figure size 640x480 with 4 Axes>"
            ],
            "image/png": "[encoded data removed]"
          },
          "metadata": {}
        }
      ]
    },
    {
      "cell_type": "code",
      "source": [
        "#Pruebas para escuchar - Original Segmentado\n",
        "sujeto = 0\n",
        "Audio(signals_train_Gita[sujeto],rate=SAMPLE_RATE)"
      ],
      "metadata": {
        "id": "sT2IYXW5tzgv"
      },
      "execution_count": null,
      "outputs": []
    },
    {
      "cell_type": "code",
      "source": [
        "#Pruebas para escuchar - Aumentado Segmentado\n",
        "Audio(aug_signals[sujeto],rate=SAMPLE_RATE)"
      ],
      "metadata": {
        "id": "8MAUP7UxMbwW"
      },
      "execution_count": null,
      "outputs": []
    },
    {
      "cell_type": "code",
      "source": [
        "#Pruebas para escuchar - Original Completo\n",
        "original, sample_rate = librosa.load(data_train_Gita['Path'][sujeto], sr=SAMPLE_RATE)\n",
        "Audio(original, rate=SAMPLE_RATE)"
      ],
      "metadata": {
        "id": "HaOudKjNMufN"
      },
      "execution_count": null,
      "outputs": []
    },
    {
      "cell_type": "code",
      "source": [
        "#Pruebas para escuchar - Aumentado Completo\n",
        "y_stretch = original.copy()\n",
        "rate = 0.5\n",
        "y_stretch = librosa.effects.time_stretch(y_stretch,rate=rate)\n",
        "sf.write('/content/drive/MyDrive/Memoria/audiosAumentados/speedChange_completa_05.wav', y_stretch, SAMPLE_RATE)\n",
        "Audio(y_stretch, rate=SAMPLE_RATE)"
      ],
      "metadata": {
        "id": "_kdApyGJNZtb"
      },
      "execution_count": null,
      "outputs": []
    },
    {
      "cell_type": "markdown",
      "source": [
        "## Diseño y entrenamiento de la red convolucional"
      ],
      "metadata": {
        "id": "9_uPYYbqq8Ky"
      }
    },
    {
      "cell_type": "code",
      "source": [
        "class CNN(nn.Module):\n",
        "\n",
        "        def __init__(self, kernel_size_1=8, kernel_size_2=9, depth_CL=64, neurons_MLP=64, drop_out=0.2):\n",
        "            super().__init__()\n",
        "\n",
        "            # 1. conv block\n",
        "            self.conv2Dblock1 = nn.Sequential(\n",
        "            nn.Conv2d(in_channels=1,\n",
        "                       out_channels=depth_CL,\n",
        "                       kernel_size=kernel_size_1,\n",
        "                       stride=1,\n",
        "                       padding=1\n",
        "                      ),\n",
        "            nn.BatchNorm2d(depth_CL),\n",
        "            nn.ReLU(),\n",
        "            nn.MaxPool2d(kernel_size=2),\n",
        "            nn.Dropout(p=drop_out),\n",
        "            )\n",
        "\n",
        "            # 2. conv block\n",
        "            self.conv2Dblock2 = nn.Sequential(\n",
        "            nn.Conv2d(in_channels=depth_CL,\n",
        "                       out_channels=depth_CL,\n",
        "                       kernel_size=kernel_size_2,\n",
        "                       stride=1,\n",
        "                       padding=1\n",
        "                      ),\n",
        "            nn.BatchNorm2d(depth_CL),\n",
        "            nn.ReLU(),\n",
        "            nn.MaxPool2d(kernel_size=2),\n",
        "            nn.Dropout(p=drop_out),\n",
        "\n",
        "            )\n",
        "\n",
        "            self.MLP = nn.Sequential(\n",
        "                nn.Linear(depth_CL*math.ceil((math.ceil((65-kernel_size_1)/2+1)-kernel_size_2)/2+1)\n",
        "                          *math.ceil((math.ceil((41-kernel_size_1)/2+1)-kernel_size_2)/2+1),neurons_MLP),\n",
        "            nn.ReLU(),\n",
        "            nn.Dropout(p=drop_out),\n",
        "            )\n",
        "\n",
        "            self.out_softmax = nn.Sequential(\n",
        "                nn.Linear(neurons_MLP,2),\n",
        "                nn.Softmax(dim=1)\n",
        "            )\n",
        "\n",
        "\n",
        "        def forward(self,x):\n",
        "            x = self.conv2Dblock1(x)\n",
        "            conv_embedding = self.conv2Dblock2(x)\n",
        "            conv_embedding = torch.flatten(conv_embedding, start_dim=1)\n",
        "            MPL_output = self.MLP(conv_embedding)\n",
        "            output_softmax = self.out_softmax(MPL_output)\n",
        "            return output_softmax, MPL_output"
      ],
      "metadata": {
        "id": "NeucVhojq7N3"
      },
      "execution_count": null,
      "outputs": []
    },
    {
      "cell_type": "code",
      "source": [
        "def reset_weights(m):\n",
        "    for layer in m.children():\n",
        "        if hasattr(layer, 'reset_parameters'):\n",
        "            layer.reset_parameters()\n",
        "\n",
        "def soft_output_by_subject(output_test, Y_test, subject_group_test, ):\n",
        "\n",
        "    Y_test_bySubject= []\n",
        "    output_test_bySubjects=torch.empty((1,2),device=output_test.device.type)\n",
        "    subject_in_group=np.unique(subject_group_test)\n",
        "    output_test_subject=torch.zeros(subject_in_group.shape)\n",
        "    Y_estimated_test_subject=torch.ones(subject_in_group.shape)\n",
        "    for i, speaker in enumerate(subject_in_group):\n",
        "        index_speaker = np.where(subject_group_test==speaker)\n",
        "        output_test_subject[i]=torch.mean(torch.log(output_test[index_speaker][:,1]) -torch.log(output_test[index_speaker][:,0]),0)\n",
        "        Y_test_bySubject.append(Y_test[index_speaker][0])\n",
        "\n",
        "\n",
        "    Y_test_tensor_bySubject = torch.tensor(Y_test_bySubject,dtype=torch.long,device=device)\n",
        "    Y_estimated_test_subject[output_test_subject<0]=0\n",
        "    return output_test_subject , Y_test_tensor_bySubject,Y_estimated_test_subject"
      ],
      "metadata": {
        "id": "9dvSRpyns8y8"
      },
      "execution_count": null,
      "outputs": []
    },
    {
      "cell_type": "code",
      "source": [
        "sgkf = StratifiedGroupKFold(n_splits=10)\n",
        "\n",
        "Data_Gita_strat=sgkf.split(mel_spectrograms_train_Gita, y=y_label_train_Gita, groups=subject_group_train_Gita)\n",
        "\n",
        "device = 'cuda' if torch.cuda.is_available() else 'cpu'\n",
        "\n",
        "if device=='cuda':\n",
        "    print(\"cuda\")\n",
        "    #torch.cuda.set_device(1)\n",
        "\n",
        "BATCH_SIZE = 64\n",
        "\n",
        "\n",
        "#Data to test NeuroV\n",
        "X_test_NeuroV =np.expand_dims(np.stack(mel_spectrograms_test_NeuroV, axis=0),1)\n",
        "Y_test_NeuroV= y_label_test_NeuroV\n",
        "X_test_tensor_NeuroV = torch.tensor(X_test_NeuroV,device=device).float()\n",
        "Y_test_tensor_NeuroV = torch.tensor(Y_test_NeuroV,dtype=torch.long,device=device)\n",
        "\n",
        "\n",
        "#Métricas del modelo\n",
        "results_val_metric_subject_Gita  = []\n",
        "Subject_Sen_spe_Gita, Subject_f1_score_Gita, Subject_MCC_Gita, Subject_AUC_Gita=[],[],[],[]\n",
        "Subject_fpr_Gita, Subject_tpr_Gita=[],[]\n",
        "results_loss_Epochs, results_metric_Epochs= [], []\n",
        "results_val_metric_Gita_Epochs, results_val_loss_Gita_Epochs=[],[]\n",
        "\n",
        "#Métricas de validación con el mismo dataset\n",
        "val_windows_metrics_Gita, val_subject_metrics_Gita=[],[]\n",
        "\n",
        "#Para test con Neurovoz\n",
        "test_windows_metrics_NeuroV, test_subject_metrics_NeuroV=[],[]\n",
        "\n",
        "#Para T-SNE:\n",
        "flattern_train_CNN_Original, Y_train_Original_fold =[],[]\n",
        "flattern_train_CNN_Augmented, Y_train_Augmented_fold =[],[]\n",
        "\n",
        "#Para Covarianza y divergencia\n",
        "Y_Original_fold=[]\n",
        "Y_Augmented_fold =[]\n",
        "#flattern_output_CNN_Original, Y_val_Original_fold=[],[]\n",
        "#flattern_output_CNN_Augmented, Y_val_Augmented_fold =[],[]\n",
        "\n",
        "for k in range(10):\n",
        "    results_loss, results_metric, results_val_metric_Gita, results_val_loss_Gita,  = [], [], [], []\n",
        "\n",
        "\n",
        "    print('')\n",
        "    print(f\"\\k-fold {k + 1} \\n***********************\")\n",
        "\n",
        "    train_index_Gita, val_index_Gita =next(iter(Data_Gita_strat))\n",
        "\n",
        "    print(np.unique(subject_group_train_Gita[val_index_Gita])) #Imprimo los índices que serán usados en validation\n",
        "\n",
        "\n",
        "    #Variables para T-SNE\n",
        "    X_Original = np.expand_dims(np.stack(mel_spectrograms_train_Gita[train_index_Gita,:,:], axis=0),1)\n",
        "    X_tensor_Original = torch.tensor(X_Original,device=device).float()\n",
        "    Y_tensor_Original = torch.tensor(y_label_train_Gita[train_index_Gita], dtype=torch.long,device=device)\n",
        "\n",
        "    X_Augmented = np.expand_dims(np.stack(aug_mel_spectrograms, axis=0),1)\n",
        "    X_tensor_Augmented = torch.tensor(X_Augmented,device=device).float()\n",
        "    Y_tensor_Augmented = torch.tensor(aug_labels, dtype=torch.long,device=device)\n",
        "\n",
        "    #Data to train. Augmented variables: aug_signals, aug_labels, aug_groups, aug_mel_spectrograms\n",
        "\n",
        "    X_train = np.expand_dims(np.stack(np.concatenate([mel_spectrograms_train_Gita[train_index_Gita,:,:], aug_mel_spectrograms], axis=0), axis=0),1) #Acá poner + augmentedSpec\n",
        "    Y_train = np.concatenate([y_label_train_Gita[train_index_Gita], aug_labels],axis=0) #Aca igua ponerle las de augmented\n",
        "\n",
        "    X_tensor = torch.tensor(X_train,device=device).float()\n",
        "    Y_tensor = torch.tensor(Y_train, dtype=torch.long,device=device)\n",
        "\n",
        "    subject_group_train=np.concatenate([subject_group_train_Gita[train_index_Gita], aug_groups],axis=0)#Acá igual concatenar las de augmented\n",
        "\n",
        "\n",
        "    #Data to val Gita\n",
        "    X_val_Gita =np.expand_dims(np.stack(mel_spectrograms_train_Gita[val_index_Gita,:,:], axis=0),1)\n",
        "    Y_val_Gita= y_label_train_Gita[val_index_Gita]\n",
        "    subject_group_val_Gita=subject_group_train_Gita[val_index_Gita]\n",
        "    X_val_tensor_Gita = torch.tensor(X_val_Gita,device=device).float()\n",
        "    Y_val_tensor_Gita = torch.tensor(Y_val_Gita,dtype=torch.long,device=device)\n",
        "\n",
        "\n",
        "    DATASET_SIZE=X_train.shape[0]\n",
        "    iters = int(DATASET_SIZE / BATCH_SIZE)\n",
        "\n",
        "    model = CNN().to(device)\n",
        "    model.apply(reset_weights)\n",
        "\n",
        "\n",
        "    loss_func = nn.CrossEntropyLoss()\n",
        "    optimizer = torch.optim.SGD(model.parameters(),lr=0.1)\n",
        "    lambda1 = lambda epoch: 0.95 ** epoch\n",
        "    scheduler = torch.optim.lr_scheduler.LambdaLR(optimizer, lr_lambda=lambda1)\n",
        "\n",
        "\n",
        "    dataset=TensorDataset(X_tensor,Y_tensor)\n",
        "    dataloader = DataLoader(dataset, batch_size=BATCH_SIZE, shuffle=True)\n",
        "\n",
        "    for epoch in range(100): #100 épocas\n",
        "        epoch_acc = 0\n",
        "        epoch_loss = 0\n",
        "        for id_batch, (x_batch, y_batch) in enumerate(dataloader):\n",
        "            actual_batch_size=x_batch.shape[0]\n",
        "\n",
        "            # zero the parameter gradients\n",
        "            model.train()\n",
        "            optimizer.zero_grad()\n",
        "\n",
        "            # forward\n",
        "            outputs = model(x_batch)[0]\n",
        "\n",
        "            # calculate accuracy\n",
        "            prediction = torch.max(outputs, 1)[1]\n",
        "            metric = sklearn.metrics.accuracy_score(y_batch.data.cpu(), prediction.data.cpu())*100\n",
        "\n",
        "\n",
        "            # calculate loss + backward + optimize\n",
        "            loss = loss_func(outputs, y_batch)\n",
        "            loss.backward()\n",
        "            optimizer.step()\n",
        "\n",
        "            epoch_acc += metric*actual_batch_size/DATASET_SIZE\n",
        "            epoch_loss += loss.item()*actual_batch_size/DATASET_SIZE\n",
        "        print(f\"\\r Epoch {epoch +1}: iteration {id_batch +1}/{iters} Acc_class: {epoch_acc:.2f}\",end='')\n",
        "\n",
        "\n",
        "        scheduler.step()\n",
        "\n",
        "        with torch.no_grad():\n",
        "            model.eval()\n",
        "            output_val_Gita = model(X_val_tensor_Gita)[0]\n",
        "            prediction_val_Gita = torch.max(output_val_Gita, 1)[1]\n",
        "            val_metric_Gita = sklearn.metrics.accuracy_score(Y_val_tensor_Gita.data.cpu(), prediction_val_Gita.data.cpu())*100\n",
        "            val_loss_Gita = loss_func(output_val_Gita, Y_val_tensor_Gita.data)\n",
        "\n",
        "            output_val_bySubjects_Gita, Y_val_tensor_bySubject_Gita, prediction_val_bySubject_Gita =soft_output_by_subject(output_val_Gita, Y_val_Gita, subject_group_val_Gita)\n",
        "            val_metric_subject_Gita = sklearn.metrics.accuracy_score(Y_val_tensor_bySubject_Gita.data.cpu(), prediction_val_bySubject_Gita.data.cpu())*100\n",
        "\n",
        "        # append history\n",
        "        results_loss.append(epoch_loss)\n",
        "        results_metric.append(epoch_acc)\n",
        "        results_val_metric_Gita.append(val_metric_Gita)\n",
        "        results_val_metric_subject_Gita.append(val_metric_subject_Gita)\n",
        "        results_val_loss_Gita.append(val_loss_Gita.item())\n",
        "\n",
        "\n",
        "    print('')\n",
        "    print(f\"\\r validation Gita: {val_metric_Gita:.2f} % by Subject: {val_metric_subject_Gita:.2f}%  \")\n",
        "\n",
        "    #compute metrics\n",
        "    Sen_spe_subject_Gita=sensitivity_specificity_support(Y_val_tensor_bySubject_Gita.data.cpu(), prediction_val_bySubject_Gita.data.cpu(), average='binary')*100\n",
        "    val_f1_score_Gita = sklearn.metrics.f1_score(Y_val_tensor_bySubject_Gita.data.cpu(), prediction_val_bySubject_Gita.data.cpu())*100\n",
        "    val_MCC_Gita = sklearn.metrics.matthews_corrcoef(Y_val_tensor_bySubject_Gita.data.cpu(), prediction_val_bySubject_Gita.data.cpu())\n",
        "    val_fpr_Gita, val_tpr_Gita, _ = sklearn.metrics.roc_curve(Y_val_tensor_bySubject_Gita.data.cpu(), output_val_bySubjects_Gita.data.cpu())\n",
        "    val_AUC_Gita = sklearn.metrics.auc(val_fpr_Gita, val_tpr_Gita)\n",
        "\n",
        "    #Métricas para T-SNE\n",
        "    with torch.no_grad():\n",
        "        model.eval()\n",
        "        output_train_Original, train_CNN_Original = model(X_tensor_Original)\n",
        "        output_train_Augmented, train_CNN_Augmented = model(X_tensor_Augmented)\n",
        "\n",
        "    with torch.no_grad():\n",
        "        model.eval()\n",
        "        output_test_NeuroV, output_CNN_NeuroV = model(X_test_tensor_NeuroV)\n",
        "        prediction_test_NeuroV = torch.max(output_test_NeuroV, 1)[1]\n",
        "\n",
        "    test_metric_NeuroV = sklearn.metrics.accuracy_score(Y_test_tensor_NeuroV.data.cpu(), prediction_test_NeuroV.data.cpu())*100\n",
        "\n",
        "    output_test_bySubjects_NeuroV, Y_test_tensor_bySubject_NeuroV, prediction_test_bySubject_NeuroV =soft_output_by_subject( output_test_NeuroV, Y_test_NeuroV, subject_group_test_NeuroV)\n",
        "    test_metric_subject_NeuroV = sklearn.metrics.accuracy_score(Y_test_tensor_bySubject_NeuroV.data.cpu(), prediction_test_bySubject_NeuroV.data.cpu())*100\n",
        "\n",
        "    results_loss_Epochs.append(results_loss)\n",
        "    results_metric_Epochs.append(results_metric)\n",
        "    results_val_metric_Gita_Epochs.append(results_val_metric_Gita)\n",
        "    results_val_loss_Gita_Epochs.append(results_val_loss_Gita)\n",
        "\n",
        "    val_windows_metrics_Gita.append(val_metric_Gita)\n",
        "    val_subject_metrics_Gita.append(val_metric_subject_Gita)\n",
        "    Subject_Sen_spe_Gita.append([Sen_spe_subject_Gita[0]*100, Sen_spe_subject_Gita[1]*100])\n",
        "    Subject_f1_score_Gita.append(val_f1_score_Gita)\n",
        "    Subject_MCC_Gita.append(val_MCC_Gita)\n",
        "    Subject_AUC_Gita.append(val_AUC_Gita)\n",
        "    Subject_fpr_Gita.append(val_fpr_Gita)\n",
        "    Subject_tpr_Gita.append(val_tpr_Gita)\n",
        "\n",
        "    #Para covarianza y divergencia\n",
        "    #flattern_output_CNN_Original.append(output_CNN_Original)\n",
        "    Y_Original_fold.append(y_label_train_Gita[train_index_Gita])\n",
        "\n",
        "    #flattern_output_CNN_Augmented.append(output_CNN_Augmented)\n",
        "    Y_Augmented_fold.append(aug_labels)\n",
        "\n",
        "\n",
        "    #Variables para T-SNE\n",
        "    flattern_train_CNN_Original.append(train_CNN_Original)\n",
        "    Y_train_Original_fold.append(Y_tensor_Original)\n",
        "    flattern_train_CNN_Augmented.append(train_CNN_Augmented)\n",
        "    Y_train_Augmented_fold.append(Y_tensor_Augmented)\n",
        "\n",
        "    test_windows_metrics_NeuroV.append(test_metric_NeuroV)\n",
        "    test_subject_metrics_NeuroV.append(test_metric_subject_NeuroV)\n",
        "\n",
        "    torch.save(model.state_dict(), '/content/drive/MyDrive/Memoria/speed_change/test5/duplicado/CNN_Gita_pataka_fold_'+str(k)+'.pt')"
      ],
      "metadata": {
        "id": "tXXsM11gBpK4"
      },
      "execution_count": null,
      "outputs": []
    },
    {
      "cell_type": "markdown",
      "source": [
        "## Métricas GITA"
      ],
      "metadata": {
        "id": "y5I2jbnVBeqw"
      }
    },
    {
      "cell_type": "code",
      "source": [
        "#Métricas\n",
        "print(f'Gita: Accuracy:    {np.mean(val_subject_metrics_Gita):.2f} ({np.std(val_subject_metrics_Gita):.2f})%')\n",
        "print(f\"\\r      Sensitivity: {np.mean(np.stack(Subject_Sen_spe_Gita,0),0)[0]:.2f} ({np.std(np.stack(Subject_Sen_spe_Gita,0),0)[0]:.2f})% \")\n",
        "print(f\"\\r      Specifity:   {np.mean(np.stack(Subject_Sen_spe_Gita,0),0)[1]:.2f} ({np.std(np.stack(Subject_Sen_spe_Gita,0),0)[1]:.2f})% \")\n",
        "print(f'\\r      f1_score:    {np.mean(Subject_f1_score_Gita):.2f} ({np.std(Subject_f1_score_Gita):.2f})%')\n",
        "print(f'\\r      MCC:         {np.mean(Subject_MCC_Gita):.2f} ({np.std(Subject_MCC_Gita):.2f})')\n",
        "print(f'\\r      AUC:         {np.mean(Subject_AUC_Gita):.2f} ({np.std(Subject_AUC_Gita):.2f})')\n"
      ],
      "metadata": {
        "colab": {
          "base_uri": "https://localhost:8080/"
        },
        "id": "fJvrhg4KBNOQ",
        "outputId": "caa9e73d-2b53-400e-8dc0-91e9cec15315"
      },
      "execution_count": null,
      "outputs": [
        {
          "output_type": "stream",
          "name": "stdout",
          "text": [
            "Gita: Accuracy:    100.00 (0.00)%\n",
            "\r      Sensitivity: 100.00 (0.00)% \n",
            "\r      Specifity:   100.00 (0.00)% \n",
            "\r      f1_score:    100.00 (0.00)%\n",
            "\r      MCC:         1.00 (0.00)\n",
            "\r      AUC:         1.00 (0.00)\n"
          ]
        }
      ]
    },
    {
      "cell_type": "code",
      "source": [
        "results_loss_Epochs_mean=np.stack(results_loss_Epochs,0).mean(axis=0)\n",
        "results_loss_Epochs_std=np.stack(results_loss_Epochs,0).std(axis=0)\n",
        "\n",
        "results_val_loss_Gita_Epochs_mean=np.stack(results_val_loss_Gita_Epochs,0).mean(axis=0)\n",
        "results_val_loss_Gita_Epochs_std=np.stack(results_val_loss_Gita_Epochs,0).std(axis=0)\n",
        "\n",
        "fig, ax = plt.subplots(figsize=(8, 4))\n",
        "ax.plot(range(epoch+1),results_loss_Epochs_mean, alpha=0.5, color='#888888', label='train', linewidth = 2.0)\n",
        "ax.fill_between(range(epoch+1), results_loss_Epochs_mean - results_loss_Epochs_std, results_loss_Epochs_mean + results_loss_Epochs_std, color='#888888', alpha=0.4)\n",
        "\n",
        "ax.plot(range(epoch+1),results_val_loss_Gita_Epochs_mean, alpha=0.5, color='blue', label='Validation Gita', linewidth = 2.0)\n",
        "ax.fill_between(range(epoch+1), results_val_loss_Gita_Epochs_mean - results_val_loss_Gita_Epochs_std, results_val_loss_Gita_Epochs_mean + results_val_loss_Gita_Epochs_std, color='blue', alpha=0.2)\n",
        "\n",
        "\n",
        "ax.set_ylim([0,1])\n",
        "ax.legend(loc='lower right')\n",
        "ax.set_ylabel(\"Loss\")\n",
        "ax.set_xlabel(\"Epoch\")\n",
        "plt.savefig(\"/content/drive/MyDrive/Memoria/speed_change/test5/duplicado/Loss_Train_Validation_pataka.pdf\", dpi=150)\n",
        "\n",
        "results_metric_Epochs_mean=np.stack(results_metric_Epochs,0).mean(axis=0)\n",
        "results_metric_Epochs_std=np.stack(results_metric_Epochs,0).std(axis=0)\n",
        "\n",
        "results_val_metric_Gita_Epochs_mean=np.stack(results_val_metric_Gita_Epochs,0).mean(axis=0)\n",
        "results_val_metric_Gita_Epochs_std=np.stack(results_val_metric_Gita_Epochs,0).std(axis=0)\n",
        "\n",
        "\n",
        "fig, ax = plt.subplots(figsize=(8, 4))\n",
        "ax.plot(range(epoch+1),results_metric_Epochs_mean, alpha=0.5, color='#888888', label='train', linewidth = 2.0)\n",
        "ax.fill_between(range(epoch+1), results_metric_Epochs_mean - results_metric_Epochs_std, results_metric_Epochs_mean + results_metric_Epochs_std, color='#888888', alpha=0.4)\n",
        "\n",
        "ax.plot(range(epoch+1),results_val_metric_Gita_Epochs_mean, alpha=0.5, color='blue', label='Validation Gita', linewidth = 2.0)\n",
        "ax.fill_between(range(epoch+1), results_val_metric_Gita_Epochs_mean - results_val_metric_Gita_Epochs_std, results_val_metric_Gita_Epochs_mean + results_val_metric_Gita_Epochs_std, color='blue', alpha=0.2)\n",
        "\n",
        "ax.set_ylim([30,100])\n",
        "ax.legend(loc='lower right')\n",
        "\n",
        "ax.set_ylabel(\"Accuracy (%)\")\n",
        "ax.set_xlabel(\"Epoch\")\n",
        "plt.savefig(\"/content/drive/MyDrive/Memoria/speed_change/test5/duplicado/Accuracy_Train_Validation_pataka_prob_100.pdf\", dpi=150)"
      ],
      "metadata": {
        "colab": {
          "base_uri": "https://localhost:8080/",
          "height": 769
        },
        "id": "XG_oAyzjBhzW",
        "outputId": "3291b9f6-0c2e-42c6-a868-c9b894e74794"
      },
      "execution_count": null,
      "outputs": [
        {
          "output_type": "display_data",
          "data": {
            "text/plain": [
              "<Figure size 800x400 with 1 Axes>"
            ],
            "image/png": "[encoded data removed]"
          },
          "metadata": {}
        },
        {
          "output_type": "display_data",
          "data": {
            "text/plain": [
              "<Figure size 800x400 with 1 Axes>"
            ],
            "image/png": "[encoded data removed]"
          },
          "metadata": {}
        }
      ]
    },
    {
      "cell_type": "code",
      "source": [
        "print(f'Gita: Accuracy by windows:, {np.mean(val_windows_metrics_Gita):.2f} ({np.std(val_windows_metrics_Gita):.2f})%,Accuracy by subject:{np.mean(val_subject_metrics_Gita):.2f} ({np.std(val_subject_metrics_Gita):.2f})')"
      ],
      "metadata": {
        "colab": {
          "base_uri": "https://localhost:8080/"
        },
        "id": "lbwBtJmYsBVU",
        "outputId": "b0360d00-ab7d-4ef3-e81b-23ba6acddaeb"
      },
      "execution_count": null,
      "outputs": [
        {
          "output_type": "stream",
          "name": "stdout",
          "text": [
            "Gita: Accuracy by windows:, 99.39 (1.14)%,Accuracy by subject:100.00 (0.00)\n"
          ]
        }
      ]
    },
    {
      "cell_type": "code",
      "source": [
        "def plot_ROC_k_fold(fpr_k_folds,tpr_k_folds,auc_k_folds,folds, color):\n",
        "    mean_fpr = np.linspace(0, 1, 100)\n",
        "    fig, ax = plt.subplots(figsize=(6, 6))\n",
        "    ax.plot([0, 1], [0, 1], \"k--\", label=\"chance level (AUC = 0.5)\")\n",
        "    tprs=[]\n",
        "    for k in range(folds):\n",
        "        #display = sklearn.metrics.RocCurveDisplay(fpr=fpr_k_folds[k], tpr=tpr_k_folds[k], roc_auc=auc_k_folds[k],\n",
        "        #                           estimator_name='ROC fold'+str(k))\n",
        "        #display.plot()\n",
        "\n",
        "        interp_tpr = np.interp(mean_fpr, fpr_k_folds[k], tpr_k_folds[k])\n",
        "        interp_tpr[0] = 0.0\n",
        "        tprs.append(interp_tpr)\n",
        "    mean_tpr = np.mean(tprs, axis=0)\n",
        "    mean_auc =np.mean(auc_k_folds)\n",
        "    std_auc = np.std(auc_k_folds)\n",
        "    ax.plot(\n",
        "        mean_fpr,\n",
        "        mean_tpr,\n",
        "        color=color,\n",
        "        label=r\"Mean ROC (AUC = %0.2f $\\pm$ %0.2f)\" % (mean_auc, std_auc),\n",
        "        lw=2,\n",
        "        alpha=0.8,\n",
        "    )\n",
        "\n",
        "    std_tpr = np.std(tprs, axis=0)\n",
        "    tprs_upper = np.minimum(mean_tpr + std_tpr, 1)\n",
        "    tprs_lower = np.maximum(mean_tpr - std_tpr, 0)\n",
        "    ax.fill_between(\n",
        "        mean_fpr,\n",
        "        tprs_lower,\n",
        "        tprs_upper,\n",
        "        color=color,\n",
        "        alpha=0.2,\n",
        "        label=r\"$\\pm$ 1 std. dev.\",\n",
        "    )\n",
        "\n",
        "    ax.set(\n",
        "        xlim=[-0.05, 1.05],\n",
        "        ylim=[-0.05, 1.05],\n",
        "        xlabel=\"False Positive Rate\",\n",
        "        ylabel=\"True Positive Rate\",\n",
        "       # title=f\"Mean ROC curve with variability\\n(Positive label '{target_names[1]}')\",\n",
        "    )\n",
        "    ax.axis(\"square\")\n",
        "    ax.legend(loc=\"lower right\")\n",
        "    plt.savefig(\"/content/drive/MyDrive/Memoria/speed_change/test5/duplicado/ROC_Subject_fpr_Gita.pdf\", dpi=150)\n",
        "    plt.show()\n"
      ],
      "metadata": {
        "id": "ysdyBYUDsNkB"
      },
      "execution_count": null,
      "outputs": []
    },
    {
      "cell_type": "code",
      "source": [
        "plot_ROC_k_fold(Subject_fpr_Gita,Subject_tpr_Gita,Subject_AUC_Gita, 10, 'blue')\n",
        "#df=pd.DataFrame({'Subject_fpr_Gita':np.transpose(Subject_fpr_Gita),'Subject_tpr_Gita':np.transpose(Subject_tpr_Gita),\n",
        "#                 'Subject_AUC_Gita':np.transpose(Subject_AUC_Gita) })\n",
        "#df.to_csv('CNN_Gita_fpr_tpr_AUC_pataka.csv')"
      ],
      "metadata": {
        "colab": {
          "base_uri": "https://localhost:8080/",
          "height": 542
        },
        "id": "Y6KpPTPUsOmB",
        "outputId": "1dd08b38-ce05-4650-e4bc-b19544224b17"
      },
      "execution_count": null,
      "outputs": [
        {
          "output_type": "display_data",
          "data": {
            "text/plain": [
              "<Figure size 600x600 with 1 Axes>"
            ],
            "image/png": "[encoded data removed]"
          },
          "metadata": {}
        }
      ]
    },
    {
      "cell_type": "markdown",
      "source": [
        "## Métricas Cross-Validation (Neurovoz)"
      ],
      "metadata": {
        "id": "dLnF6t1w4c_g"
      }
    },
    {
      "cell_type": "code",
      "source": [
        "print(f'NeuroV: Accuracy:  {np.mean(test_subject_metrics_NeuroV):.2f} ({np.std(test_subject_metrics_NeuroV):.2f})%')\n",
        "print(f'Test NeuroV: Accuracy by windows:, {np.mean(test_windows_metrics_NeuroV):.2f} ({np.std(test_windows_metrics_NeuroV):.2f})%,Accuracy by subject:{np.mean(test_subject_metrics_NeuroV):.2f} ({np.std(test_subject_metrics_NeuroV):.2f})')"
      ],
      "metadata": {
        "id": "5V_29M1L4gqa",
        "colab": {
          "base_uri": "https://localhost:8080/"
        },
        "outputId": "9f584cb0-c65a-4b57-8356-1fabb87191a5"
      },
      "execution_count": null,
      "outputs": [
        {
          "output_type": "stream",
          "name": "stdout",
          "text": [
            "NeuroV: Accuracy:  49.53 (1.49)%\n",
            "Test NeuroV: Accuracy by windows:, 44.48 (2.20)%,Accuracy by subject:49.53 (1.49)\n"
          ]
        }
      ]
    },
    {
      "cell_type": "markdown",
      "source": [
        "## Divergencia y varianza"
      ],
      "metadata": {
        "id": "D2Ii23x4yTaB"
      }
    },
    {
      "cell_type": "code",
      "source": [
        "def KLdivergence(x, y):\n",
        "#  \"\"\"Compute the Kullback-Leibler divergence between two multivariate samples.\n",
        "#  Parameters\n",
        "#  ----------\n",
        "#  x : 2D array (n,d)\n",
        "#    Samples from distribution P, which typically represents the true\n",
        "#    distribution.\n",
        "#  y : 2D array (m,d)\n",
        "#    Samples from distribution Q, which typically represents the approximate\n",
        "#    distribution.\n",
        "#  Returns\n",
        "#  -------\n",
        "#  out : float\n",
        "#    The estimated Kullback-Leibler divergence D(P||Q).\n",
        "#  References\n",
        "#  ----------\n",
        "#  Pérez-Cruz, F. Kullback-Leibler divergence estimation of\n",
        "#continuous distributions IEEE International Symposium on Information\n",
        "#Theory, 2008.\n",
        "#  \"\"\"\n",
        "  from scipy.spatial import cKDTree as KDTree\n",
        "\n",
        "  # Check the dimensions are consistent\n",
        "  x = np.atleast_2d(x)\n",
        "  y = np.atleast_2d(y)\n",
        "\n",
        "  n,d = x.shape\n",
        "  m,dy = y.shape\n",
        "\n",
        "  assert(d == dy)\n",
        "\n",
        "\n",
        "  # Build a KD tree representation of the samples and find the nearest neighbour\n",
        "  # of each point in x.\n",
        "  xtree = KDTree(x)\n",
        "  ytree = KDTree(y)\n",
        "\n",
        "  # Get the first two nearest neighbours for x, since the closest one is the\n",
        "  # sample itself.\n",
        "  r = xtree.query(x, k=2, eps=.01, p=2)[0][:,1]\n",
        "  s = ytree.query(x, k=1, eps=.01, p=2)[0]\n",
        "\n",
        "  # There is a mistake in the paper. In Eq. 14, the right side misses a negative sign\n",
        "  # on the first term of the right hand side.\n",
        "  return -np.log(r/s).sum() * d / n + np.log(m / (n - 1.))"
      ],
      "metadata": {
        "id": "s5FC7TgVyWvd"
      },
      "execution_count": null,
      "outputs": []
    },
    {
      "cell_type": "code",
      "source": [
        "KL_HC_1=[]\n",
        "KL_PD_1=[]\n",
        "KL_HC_2=[]\n",
        "KL_PD_2=[]\n",
        "for k in range(10): #output por train, val por train\n",
        "    KL_HC_1.append(KLdivergence(flattern_train_CNN_Original[k].data.cpu()[np.where(Y_Original_fold[k]==0)], flattern_train_CNN_Augmented[k].data.cpu()[np.where(Y_Augmented_fold[k]==0)]))\n",
        "    KL_HC_2.append(KLdivergence(flattern_train_CNN_Augmented[k].data.cpu()[np.where(Y_Augmented_fold[k]==0)], flattern_train_CNN_Original[k].data.cpu()[np.where(Y_Original_fold[k]==0)]))\n",
        "\n",
        "    KL_PD_1.append(KLdivergence(flattern_train_CNN_Original[k].data.cpu()[np.where(Y_Original_fold[k]==1)], flattern_train_CNN_Augmented[k].data.cpu()[np.where(Y_Augmented_fold[k]==1)]))\n",
        "    KL_PD_2.append(KLdivergence(flattern_train_CNN_Augmented[k].data.cpu()[np.where(Y_Augmented_fold[k]==1)], flattern_train_CNN_Original[k].data.cpu()[np.where(Y_Original_fold[k]==1)]))\n",
        "\n",
        "\n",
        "\n",
        "print(f'KL para HC, {np.mean(KL_HC_1):.2f} ({np.std(KL_HC_1):.2f})')\n",
        "print(f'KL para HC, {np.mean(KL_HC_2):.2f} ({np.std(KL_HC_2):.2f})')\n",
        "\n",
        "print(f'KL para PD, {np.mean(KL_PD_1):.2f} ({np.std(KL_PD_1):.2f})')\n",
        "print(f'KL para PD, {np.mean(KL_PD_2):.2f} ({np.std(KL_PD_2):.2f})')\n",
        "print('')\n",
        "\n",
        "print(f'KL para HC, {np.mean([KL_HC_1, KL_HC_2]):.2f} ({np.std([KL_HC_1, KL_HC_2]):.2f})')\n",
        "print(f'KL para PD, {np.mean([KL_PD_1, KL_PD_2]):.2f} ({np.std([KL_PD_1, KL_PD_2]):.2f})')"
      ],
      "metadata": {
        "colab": {
          "base_uri": "https://localhost:8080/"
        },
        "id": "1s7VGmbLzJIT",
        "outputId": "76f2772d-7de6-465b-9796-f4e7e35c64e2"
      },
      "execution_count": null,
      "outputs": [
        {
          "output_type": "stream",
          "name": "stdout",
          "text": [
            "KL para HC, -272.56 (9.86)\n",
            "KL para HC, -244.30 (8.78)\n",
            "KL para PD, -286.62 (4.78)\n",
            "KL para PD, -256.69 (3.97)\n",
            "\n",
            "KL para HC, -258.43 (16.94)\n",
            "KL para PD, -271.66 (15.60)\n"
          ]
        }
      ]
    },
    {
      "cell_type": "markdown",
      "source": [
        "Varianza"
      ],
      "metadata": {
        "id": "ZykW12ixzyzo"
      }
    },
    {
      "cell_type": "code",
      "source": [
        "Variance_HC, Variance_PD=[],[]\n",
        "for k in range(10): #output o val por train\n",
        "    Original_features_HC=flattern_train_CNN_Original[k].data.cpu()[np.where(Y_Original_fold[k]==0)]\n",
        "    Augmented_features_HC=flattern_train_CNN_Augmented[k].data.cpu()[np.where(Y_Augmented_fold[k]==0)]\n",
        "    Original_features_PD=flattern_train_CNN_Original[k].data.cpu()[np.where(Y_Original_fold[k]==1)]\n",
        "    Augmented_features_PD=flattern_train_CNN_Augmented[k].data.cpu()[np.where(Y_Augmented_fold[k]==1)]\n",
        "\n",
        "    features_HC=torch.concat([Original_features_HC, Augmented_features_HC])\n",
        "    features_PD=torch.concat([Original_features_PD, Augmented_features_PD])\n",
        "    Variance_HC.append(np.trace(np.cov(np.transpose(features_HC))))\n",
        "    Variance_PD.append(np.trace(np.cov(np.transpose(features_PD))))\n",
        "\n",
        "print(f'Cov para HC, {np.mean(Variance_HC):.2f} ({np.std(Variance_HC):.2f})')\n",
        "print(f'Cov para PD, {np.mean(Variance_PD):.2f} ({np.std(Variance_PD):.2f})')"
      ],
      "metadata": {
        "colab": {
          "base_uri": "https://localhost:8080/"
        },
        "id": "cnwqQtuezyEM",
        "outputId": "6eaf9a73-c115-46cd-892f-3a657255e20d"
      },
      "execution_count": null,
      "outputs": [
        {
          "output_type": "stream",
          "name": "stdout",
          "text": [
            "Cov para HC, 11.02 (2.25)\n",
            "Cov para PD, 18.40 (1.71)\n"
          ]
        }
      ]
    },
    {
      "cell_type": "markdown",
      "source": [
        "## T-SNE"
      ],
      "metadata": {
        "id": "UgIz-CjhgkSV"
      }
    },
    {
      "cell_type": "code",
      "source": [
        "def plot_embedding(X, y, d, title=None):\n",
        "    \"\"\"Plot an embedding X with the class label y colored by the domain d.\"\"\"\n",
        "    x_min, x_max = np.min(X, 0), np.max(X, 0)\n",
        "    X = (X - x_min) / (x_max - x_min)\n",
        "    # Plot colors numbers\n",
        "    plt.figure(figsize=(10,10))\n",
        "    ax = plt.subplot(111)\n",
        "    colores=[(0,0.6,1), (0,0,1), (1,0.5,0.5), (1,0,0)  ]\n",
        "\n",
        "    for i in range(X.shape[0]):\n",
        "        # plot colored number\n",
        "        #plt.text(X[i, 0], X[i, 1], 'o',\n",
        "        #         color=colores[y[i]],\n",
        "        #         fontdict={ 'size': 14})\n",
        "        plt.plot(X[i, 0], X[i, 1], 'o',\n",
        "                 color=colores[y[i]],#plt.cm.brw(y[i]),\n",
        "                  )\n",
        "\n",
        "    plt.xticks([]), plt.yticks([])\n",
        "    plt.legend(['Augmented_HC', 'Augmented_PD', 'Original_HC', 'Original_PD'] )\n",
        "    ax = plt.gca()\n",
        "    leg = ax.get_legend()\n",
        "    leg.legendHandles[0].set_color((0,0.6,1))\n",
        "    leg.legendHandles[1].set_color((0,0,1))\n",
        "    leg.legendHandles[2].set_color((1,0.5,0.5))\n",
        "    leg.legendHandles[3].set_color((1,0,0))\n",
        "    if title is not None:\n",
        "        plt.title(title)"
      ],
      "metadata": {
        "id": "qDnjGEkMeFX-"
      },
      "execution_count": null,
      "outputs": []
    },
    {
      "cell_type": "code",
      "source": [
        "t_SNE= TSNE(n_components=2,n_iter=500,n_iter_without_progress=150, n_jobs=2, random_state=0)\n",
        "\n",
        "for k in range(10):\n",
        "    CCN_train=np.concatenate([flattern_train_CNN_Augmented[k].data.cpu(), flattern_train_CNN_Original[k].data.cpu()])\n",
        "    Y_train=np.concatenate([ Y_train_Augmented_fold[k].data.cpu(), Y_train_Original_fold[k].data.cpu()])\n",
        "    Y_train_plot=np.concatenate([Y_train_Augmented_fold[k].data.cpu(), Y_train_Original_fold[k].data.cpu()+2])\n",
        "    domain_train=np.concatenate([np.ones( Y_train_Augmented_fold[k].shape), np.zeros(Y_train_Original_fold[k].shape)])\n",
        "\n",
        "    projections=t_SNE.fit_transform(CCN_train,Y_train)\n",
        "\n",
        "    plot_embedding(projections,Y_train_plot,domain_train, 't-SNE embeedding')\n",
        "    plt.savefig(\"/content/drive/MyDrive/Memoria/speed_change/test5/duplicado/T-SNE{}.pdf\".format(k), dpi=150)\n",
        "\n",
        "    plt.show()"
      ],
      "metadata": {
        "id": "P1R3lRmXd_pi"
      },
      "execution_count": null,
      "outputs": []
    },
    {
      "cell_type": "markdown",
      "source": [
        "# Train with: NeuroVoz"
      ],
      "metadata": {
        "id": "_IVq5raMmpvT"
      }
    },
    {
      "cell_type": "markdown",
      "source": [
        "## Processing"
      ],
      "metadata": {
        "id": "BAdyJolTniU7"
      }
    },
    {
      "cell_type": "code",
      "source": [
        "#selecting 400ms overlap in 50ms of audio signal example\n",
        "def process_select_signals(data, SAMPLE_RATE, want_to_augment = True):\n",
        "    time_leng=0.4 #Esto son 400 ms.\n",
        "    sample_leng=int(time_leng*SAMPLE_RATE) #Sample_rate = 44100. sample_leng = 0.4*44100 = 17640\n",
        "    overloap=2\n",
        "    signals, y_label, subject_group, tono =[],[],[],[]\n",
        "    data_size = len(data)\n",
        "    total_segments=0\n",
        "    processed_audios = 0\n",
        "\n",
        "    if want_to_augment:\n",
        "      augmentedSignals, augmentedY_label, augmentedSubject_group =[],[],[]\n",
        "      augmented_data_counter = 0\n",
        "      augment_offset = 1000\n",
        "\n",
        "\n",
        "\n",
        "    #Processs data to train\n",
        "    for data_ind, file_path in enumerate(data.Path): #Obtengo los paths a los datos de audio\n",
        "        audio, sample_rate = librosa.load(file_path, sr=SAMPLE_RATE) #Cargo la señal de audio.\n",
        "\n",
        "        augmented_flag = False\n",
        "\n",
        "        if want_to_augment:\n",
        "          prob_aug = random.random()\n",
        "          if prob_aug <= 1: #Se va a aplicar siempre en este caso\n",
        "            #Aplico data augmentation\n",
        "            speed_rate = random.uniform(0.5,1.6)\n",
        "            augmented_audio = librosa.effects.time_stretch(audio,rate=speed_rate)\n",
        "\n",
        "            data_size += 1 #Tengo un audio más que procesar, el aumentado\n",
        "            augmented_flag = True\n",
        "            augmented_data_counter += 1\n",
        "\n",
        "          #else: No aplico data augmentantion\n",
        "\n",
        "        for a in range(2): #Pasamos 2 veces, una con el original, otra con el aumentado\n",
        "          if want_to_augment and augmented_flag and a == 1:\n",
        "              audio = augmented_audio\n",
        "              #print(\"Now with the augmented data\")\n",
        "          elif (want_to_augment == False or augmented_flag == False) and a == 1:\n",
        "              break;\n",
        "\n",
        "          audio_len=len(audio)\n",
        "          audio=audio/np.max(abs(audio)) #normalizamos\n",
        "          indx=[i for i,x in enumerate(np.sqrt(abs(audio))) if x>.30]\n",
        "\n",
        "          segments=0 #Segmentos de señal\n",
        "          if (indx[0]+sample_leng)<audio_len:\n",
        "              for i in range(int((-indx[0]+indx[len(indx)-1])/(sample_leng/overloap))):\n",
        "                  ind_start = i * int(sample_leng/overloap)+indx[0]\n",
        "                  ind_end = ind_start + sample_leng\n",
        "                  if ind_end <= indx[len(indx)-1]:\n",
        "                      signal=np.zeros(sample_leng)\n",
        "                      signal = audio[ind_start:int(ind_end)]\n",
        "\n",
        "                      if want_to_augment and augmented_flag and a == 1:\n",
        "                        #print(\"Adding segment to the augmented list\")\n",
        "                        augmentedSignals.append(signal) #Guardo segmentos de las señales aumentadas\n",
        "                        augmentedY_label.append(data.iloc[data_ind]['Label']) #Guardo su clasificación\n",
        "                        augmentedSubject_group.append(data.iloc[data_ind]['Speaker_ID'] + augment_offset) #Guardo su ID del sujeto\n",
        "\n",
        "                      elif a == 0:\n",
        "                        #print(\"Adding segment to the real list\")\n",
        "                        signals.append(signal) #Guardo segmentos de las señales originales\n",
        "                        y_label.append(data.iloc[data_ind]['Label']) #Guardo su clasificación\n",
        "                        subject_group.append(data.iloc[data_ind]['Speaker_ID']) #Guardo su ID del sujeto\n",
        "\n",
        "                      segments=segments+1\n",
        "              processed_audios += 1\n",
        "              print(\" Processed {}/{} files\".format(processed_audios,data_size),end='')\n",
        "              print(\" Time audio: {} Segments {} \".format((audio_len-1)/sample_rate,segments))\n",
        "          else:\n",
        "              print(\" Processed {}/{} files\".format(processed_audios,data_size),end='')\n",
        "              print(\" Time audio: {} Segments {} \".format((audio_len-1)/sample_rate,0))\n",
        "          total_segments += segments\n",
        "\n",
        "    print(\" Total segments: \", total_segments)\n",
        "\n",
        "    signals = np.stack(signals,axis=0)\n",
        "    y_label = np.stack(y_label,axis=0)\n",
        "    subject_group = np.stack(subject_group,axis=0)\n",
        "\n",
        "    if want_to_augment:\n",
        "      augmentedSignals = np.stack(augmentedSignals,axis=0)\n",
        "      augmentedY_label = np.stack(augmentedY_label,axis=0)\n",
        "      augmentedSubject_group = np.stack(augmentedSubject_group,axis=0)\n",
        "      print(\" Total augmentations: \", augmented_data_counter)\n",
        "      return signals, y_label, subject_group, augmentedSignals, augmentedY_label, augmentedSubject_group\n",
        "\n",
        "    else:\n",
        "      return signals, y_label, subject_group"
      ],
      "metadata": {
        "id": "FVte2Ed3Iy4W"
      },
      "execution_count": null,
      "outputs": []
    },
    {
      "cell_type": "code",
      "source": [
        "# Data test GITA (sin data augmentation)\n",
        "signals_test_Gita, y_label_test_Gita, subject_group_test_Gita = process_select_signals(data_train_Gita, SAMPLE_RATE, want_to_augment = False)\n",
        "\n",
        "print(\"-\"*40)\n",
        "# Data train NeuroVoz + Data Augmentation\n",
        "signals_train_NeuroV, y_label_train_NeuroV, subject_group_train_NeuroV, aug_signals, aug_labels, aug_groups = process_select_signals(data_test_NeuroV, SAMPLE_RATE)"
      ],
      "metadata": {
        "id": "kexao050mevW"
      },
      "execution_count": null,
      "outputs": []
    },
    {
      "cell_type": "markdown",
      "source": [
        "### Verificación de tamaños"
      ],
      "metadata": {
        "id": "aogH8KLNG8T4"
      }
    },
    {
      "cell_type": "markdown",
      "source": [
        "GITA"
      ],
      "metadata": {
        "id": "8j1G9ppxG8T4"
      }
    },
    {
      "cell_type": "code",
      "source": [
        "print('size data train', signals_test_Gita.shape)  # Debería dar size data train (1962, 17640).\n",
        "print('size labels train', y_label_test_Gita.shape)\n",
        "print('size group subject train', subject_group_test_Gita.shape)"
      ],
      "metadata": {
        "id": "nUS00i9iG8T5"
      },
      "execution_count": null,
      "outputs": []
    },
    {
      "cell_type": "markdown",
      "source": [
        "NeuroVoz"
      ],
      "metadata": {
        "id": "BCj0AJQsG8T5"
      }
    },
    {
      "cell_type": "code",
      "source": [
        "print('size data test', signals_train_NeuroV.shape)  # Debería dar size data test (4985, 17640).\n",
        "print('size labels test', y_label_train_NeuroV.shape)\n",
        "print('size group subject test', subject_group_train_NeuroV.shape)"
      ],
      "metadata": {
        "id": "kOE52o37G8T5"
      },
      "execution_count": null,
      "outputs": []
    },
    {
      "cell_type": "code",
      "source": [
        "print('size augmented signals', aug_signals.shape)\n",
        "print('size labels augmented', aug_labels.shape)\n",
        "print('size group subject augmented', aug_groups.shape)"
      ],
      "metadata": {
        "id": "KQxCtoUMG8T5"
      },
      "execution_count": null,
      "outputs": []
    },
    {
      "cell_type": "markdown",
      "source": [
        "## Espectrogramas"
      ],
      "metadata": {
        "id": "Ra1x-kNrG5b5"
      }
    },
    {
      "cell_type": "code",
      "source": [
        "def compute_norm_spect(signals, sample_rate):\n",
        "    n_fft = 2048 #Numero de puntos\n",
        "    win_length = int(0.015*sample_rate)  # Tamaño de la ventana\n",
        "    hop_length = int(0.010*sample_rate)  # Tamaño del Hop\n",
        "    n_mels = 65                          # Número de ventanas de Mel\n",
        "\n",
        "    mel_spectrogram = T.MelSpectrogram(  #T from torchaudio.transforms. Configuración del espectrograma de Mel\n",
        "        sample_rate=sample_rate,\n",
        "        n_fft=n_fft,\n",
        "        win_length=win_length,\n",
        "        hop_length=hop_length,\n",
        "        center=True,\n",
        "        pad_mode=\"reflect\",\n",
        "        power=2.0,\n",
        "        norm=\"slaney\",\n",
        "        #onesided=True,\n",
        "        n_mels=n_mels,\n",
        "        mel_scale=\"htk\",\n",
        "    )\n",
        "\n",
        "\n",
        "    mel_spectrograms = []\n",
        "    scaler = StandardScaler()\n",
        "    print(\"Calculating mel spectrograms\")\n",
        "    for i in range(signals.shape[0]):\n",
        "        mel_spect = librosa.power_to_db(mel_spectrogram(torch.from_numpy(signals[i,:])))\n",
        "        mel_spect_norm=scaler.fit_transform(mel_spect)\n",
        "        mel_spectrograms.append(mel_spect_norm)\n",
        "        print(\"\\r Processed {}/{} files\".format(i,signals.shape[0]),end='')\n",
        "    mel_spectrograms = np.stack(mel_spectrograms,axis=0)\n",
        "    print(' ')\n",
        "    return mel_spectrograms"
      ],
      "metadata": {
        "id": "Gk34k8x4ohmc"
      },
      "execution_count": null,
      "outputs": []
    },
    {
      "cell_type": "code",
      "source": [
        "#Data train\n",
        "mel_spectrograms_train_NeuroV=compute_norm_spect(signals_train_NeuroV, SAMPLE_RATE)\n",
        "aug_mel_spectrograms = compute_norm_spect(aug_signals, SAMPLE_RATE)\n",
        "print('Data size:',mel_spectrograms_train_NeuroV.shape)\n",
        "\n",
        "print(\"-\"*40)\n",
        "#Data test\n",
        "mel_spectrograms_test_Gita=compute_norm_spect(signals_test_Gita, SAMPLE_RATE)\n",
        "print('Data size:',mel_spectrograms_test_Gita.shape)"
      ],
      "metadata": {
        "id": "SNiSiRo8oBBw",
        "colab": {
          "base_uri": "https://localhost:8080/"
        },
        "outputId": "1f6487a4-ac4a-4d7f-f327-cfca885640b6"
      },
      "execution_count": null,
      "outputs": [
        {
          "output_type": "stream",
          "name": "stdout",
          "text": [
            "Calculating mel spectrograms\n",
            " Processed 4984/4985 files \n",
            "Calculating mel spectrograms\n",
            " Processed 5464/5465 files \n",
            "Data size: (4985, 65, 41)\n",
            "----------------------------------------\n",
            "Calculating mel spectrograms\n",
            " Processed 1961/1962 files \n",
            "Data size: (1962, 65, 41)\n"
          ]
        }
      ]
    },
    {
      "cell_type": "markdown",
      "source": [
        "## Entrenamiento"
      ],
      "metadata": {
        "id": "QEmSw3fMFQqp"
      }
    },
    {
      "cell_type": "code",
      "source": [
        "class CNN(nn.Module):\n",
        "\n",
        "        def __init__(self, kernel_size_1=8, kernel_size_2=9, depth_CL=64, neurons_MLP=64, drop_out=0.2):\n",
        "            super().__init__()\n",
        "\n",
        "            # 1. conv block\n",
        "            self.conv2Dblock1 = nn.Sequential(\n",
        "            nn.Conv2d(in_channels=1,\n",
        "                       out_channels=depth_CL,\n",
        "                       kernel_size=kernel_size_1,\n",
        "                       stride=1,\n",
        "                       padding=1\n",
        "                      ),\n",
        "            nn.BatchNorm2d(depth_CL),\n",
        "            nn.ReLU(),\n",
        "            nn.MaxPool2d(kernel_size=2),\n",
        "            nn.Dropout(p=drop_out),\n",
        "            )\n",
        "\n",
        "            # 2. conv block\n",
        "            self.conv2Dblock2 = nn.Sequential(\n",
        "            nn.Conv2d(in_channels=depth_CL,\n",
        "                       out_channels=depth_CL,\n",
        "                       kernel_size=kernel_size_2,\n",
        "                       stride=1,\n",
        "                       padding=1\n",
        "                      ),\n",
        "            nn.BatchNorm2d(depth_CL),\n",
        "            nn.ReLU(),\n",
        "            nn.MaxPool2d(kernel_size=2),\n",
        "            nn.Dropout(p=drop_out),\n",
        "\n",
        "            )\n",
        "\n",
        "            self.MLP = nn.Sequential(\n",
        "                nn.Linear(depth_CL*math.ceil((math.ceil((65-kernel_size_1)/2+1)-kernel_size_2)/2+1)\n",
        "                          *math.ceil((math.ceil((41-kernel_size_1)/2+1)-kernel_size_2)/2+1),neurons_MLP),\n",
        "            nn.ReLU(),\n",
        "            nn.Dropout(p=drop_out),\n",
        "            )\n",
        "\n",
        "            self.out_softmax = nn.Sequential(\n",
        "                nn.Linear(neurons_MLP,2),\n",
        "                nn.Softmax(dim=1)\n",
        "            )\n",
        "\n",
        "\n",
        "        def forward(self,x):\n",
        "            x = self.conv2Dblock1(x)\n",
        "            conv_embedding = self.conv2Dblock2(x)\n",
        "            conv_embedding = torch.flatten(conv_embedding, start_dim=1)\n",
        "            MPL_output = self.MLP(conv_embedding)\n",
        "            output_softmax = self.out_softmax(MPL_output)\n",
        "            return output_softmax, MPL_output"
      ],
      "metadata": {
        "id": "W33sC-2-ot9m"
      },
      "execution_count": null,
      "outputs": []
    },
    {
      "cell_type": "code",
      "source": [
        "def reset_weights(m):\n",
        "    for layer in m.children():\n",
        "        if hasattr(layer, 'reset_parameters'):\n",
        "            layer.reset_parameters()\n",
        "\n",
        "def soft_output_by_subject(output_test, Y_test, subject_group_test, ):\n",
        "\n",
        "    Y_test_bySubject= []\n",
        "    output_test_bySubjects=torch.empty((1,2),device=output_test.device.type)\n",
        "    subject_in_group=np.unique(subject_group_test)\n",
        "    output_test_subject=torch.zeros(subject_in_group.shape)\n",
        "    Y_estimated_test_subject=torch.ones(subject_in_group.shape)\n",
        "    for i, speaker in enumerate(subject_in_group):\n",
        "        index_speaker = np.where(subject_group_test==speaker)\n",
        "        output_test_subject[i]=torch.mean(torch.log(output_test[index_speaker][:,1]) -torch.log(output_test[index_speaker][:,0]),0)\n",
        "        Y_test_bySubject.append(Y_test[index_speaker][0])\n",
        "\n",
        "\n",
        "    Y_test_tensor_bySubject = torch.tensor(Y_test_bySubject,dtype=torch.long,device=device)\n",
        "    Y_estimated_test_subject[output_test_subject<0]=0\n",
        "    return output_test_subject , Y_test_tensor_bySubject,Y_estimated_test_subject"
      ],
      "metadata": {
        "id": "PaC_CWemozI9"
      },
      "execution_count": null,
      "outputs": []
    },
    {
      "cell_type": "code",
      "source": [
        "sgkf = StratifiedGroupKFold(n_splits=10)\n",
        "\n",
        "Data_NeuroV_strat=sgkf.split(mel_spectrograms_train_NeuroV, y=y_label_train_NeuroV, groups=subject_group_train_NeuroV)\n",
        "\n",
        "device = 'cuda' if torch.cuda.is_available() else 'cpu'\n",
        "\n",
        "if device=='cuda':\n",
        "    print(\"cuda\")\n",
        "    #torch.cuda.set_device(1)\n",
        "\n",
        "BATCH_SIZE = 64\n",
        "\n",
        "\n",
        "#Data to test Gita\n",
        "X_test_Gita =np.expand_dims(np.stack(mel_spectrograms_test_Gita, axis=0),1)\n",
        "Y_test_Gita= y_label_test_Gita\n",
        "X_test_tensor_Gita = torch.tensor(X_test_Gita,device=device).float()\n",
        "Y_test_tensor_Gita = torch.tensor(Y_test_Gita,dtype=torch.long,device=device)\n",
        "\n",
        "\n",
        "#Métricas del modelo\n",
        "results_val_metric_subject_NeuroV  = []\n",
        "Subject_Sen_spe_NeuroV, Subject_f1_score_NeuroV, Subject_MCC_NeuroV, Subject_AUC_NeuroV=[],[],[],[]\n",
        "Subject_fpr_NeuroV, Subject_tpr_NeuroV=[],[]\n",
        "results_loss_Epochs, results_metric_Epochs= [], []\n",
        "results_val_metric_NeuroV_Epochs, results_val_loss_NeuroV_Epochs=[],[]\n",
        "\n",
        "#Métricas de validación con el mismo dataset\n",
        "val_windows_metrics_NeuroV, val_subject_metrics_NeuroV=[],[]\n",
        "\n",
        "#Para test con Gita\n",
        "test_windows_metrics_Gita, test_subject_metrics_Gita=[],[]\n",
        "\n",
        "#Para T-SNE:\n",
        "flattern_train_CNN_Original, Y_train_Original_fold =[],[]\n",
        "flattern_train_CNN_Augmented, Y_train_Augmented_fold =[],[]\n",
        "\n",
        "for k in range(10):\n",
        "    results_loss, results_metric, results_val_metric_NeuroV, results_val_loss_NeuroV,  = [], [], [], []\n",
        "\n",
        "\n",
        "    print('')\n",
        "    print(f\"\\k-fold {k + 1} \\n***********************\")\n",
        "\n",
        "    train_index_NeuroV, val_index_NeuroV =next(iter(Data_NeuroV_strat))\n",
        "\n",
        "    print(np.unique(subject_group_train_NeuroV[val_index_NeuroV])) #Imprimo los índices que serán usados en validation\n",
        "\n",
        "\n",
        "    #Variables para T-SNE\n",
        "    X_Original = np.expand_dims(np.stack(mel_spectrograms_train_NeuroV[train_index_NeuroV,:,:], axis=0),1)\n",
        "    X_tensor_Original = torch.tensor(X_Original,device=device).float()\n",
        "    Y_tensor_Original = torch.tensor(y_label_train_NeuroV[train_index_NeuroV], dtype=torch.long,device=device)\n",
        "\n",
        "    X_Augmented = np.expand_dims(np.stack(aug_mel_spectrograms, axis=0),1)\n",
        "    X_tensor_Augmented = torch.tensor(X_Augmented,device=device).float()\n",
        "    Y_tensor_Augmented = torch.tensor(aug_labels, dtype=torch.long,device=device)\n",
        "\n",
        "    #Data to train. Augmented variables: aug_signals, aug_labels, aug_groups, aug_mel_spectrograms\n",
        "\n",
        "    X_train = np.expand_dims(np.stack(np.concatenate([mel_spectrograms_train_NeuroV[train_index_NeuroV,:,:], aug_mel_spectrograms], axis=0), axis=0),1) #Acá poner + augmentedSpec\n",
        "    Y_train = np.concatenate([y_label_train_NeuroV[train_index_NeuroV], aug_labels],axis=0) #Aca igua ponerle las de augmented\n",
        "\n",
        "    X_tensor = torch.tensor(X_train,device=device).float()\n",
        "    Y_tensor = torch.tensor(Y_train, dtype=torch.long,device=device)\n",
        "\n",
        "    subject_group_train=np.concatenate([subject_group_train_NeuroV[train_index_NeuroV], aug_groups],axis=0)#Acá igual concatenar las de augmented\n",
        "\n",
        "\n",
        "    #Data to val NeuroV\n",
        "    X_val_NeuroV =np.expand_dims(np.stack(mel_spectrograms_train_NeuroV[val_index_NeuroV,:,:], axis=0),1)\n",
        "    Y_val_NeuroV= y_label_train_NeuroV[val_index_NeuroV]\n",
        "    subject_group_val_NeuroV=subject_group_train_NeuroV[val_index_NeuroV]\n",
        "    X_val_tensor_NeuroV = torch.tensor(X_val_NeuroV,device=device).float()\n",
        "    Y_val_tensor_NeuroV = torch.tensor(Y_val_NeuroV,dtype=torch.long,device=device)\n",
        "\n",
        "\n",
        "    DATASET_SIZE=X_train.shape[0]\n",
        "    iters = int(DATASET_SIZE / BATCH_SIZE)\n",
        "\n",
        "    model = CNN().to(device)\n",
        "    model.apply(reset_weights)\n",
        "\n",
        "\n",
        "    loss_func = nn.CrossEntropyLoss()\n",
        "    optimizer = torch.optim.SGD(model.parameters(),lr=0.1)\n",
        "    lambda1 = lambda epoch: 0.95 ** epoch\n",
        "    scheduler = torch.optim.lr_scheduler.LambdaLR(optimizer, lr_lambda=lambda1)\n",
        "\n",
        "\n",
        "    dataset=TensorDataset(X_tensor,Y_tensor)\n",
        "    dataloader = DataLoader(dataset, batch_size=BATCH_SIZE, shuffle=True)\n",
        "\n",
        "    for epoch in range(100): #100 épocas\n",
        "        epoch_acc = 0\n",
        "        epoch_loss = 0\n",
        "        for id_batch, (x_batch, y_batch) in enumerate(dataloader):\n",
        "            actual_batch_size=x_batch.shape[0]\n",
        "\n",
        "            # zero the parameter gradients\n",
        "            model.train()\n",
        "            optimizer.zero_grad()\n",
        "\n",
        "            # forward\n",
        "            outputs = model(x_batch)[0]\n",
        "\n",
        "            # calculate accuracy\n",
        "            prediction = torch.max(outputs, 1)[1]\n",
        "            metric = sklearn.metrics.accuracy_score(y_batch.data.cpu(), prediction.data.cpu())*100\n",
        "\n",
        "\n",
        "            # calculate loss + backward + optimize\n",
        "            loss = loss_func(outputs, y_batch)\n",
        "            loss.backward()\n",
        "            optimizer.step()\n",
        "\n",
        "            epoch_acc += metric*actual_batch_size/DATASET_SIZE\n",
        "            epoch_loss += loss.item()*actual_batch_size/DATASET_SIZE\n",
        "        print(f\"\\r Epoch {epoch +1}: iteration {id_batch +1}/{iters} Acc_class: {epoch_acc:.2f}\",end='')\n",
        "\n",
        "\n",
        "        scheduler.step()\n",
        "\n",
        "        with torch.no_grad():\n",
        "            model.eval()\n",
        "            output_val_NeuroV = model(X_val_tensor_NeuroV)[0]\n",
        "            prediction_val_NeuroV = torch.max(output_val_NeuroV, 1)[1]\n",
        "            val_metric_NeuroV = sklearn.metrics.accuracy_score(Y_val_tensor_NeuroV.data.cpu(), prediction_val_NeuroV.data.cpu())*100\n",
        "            val_loss_NeuroV = loss_func(output_val_NeuroV, Y_val_tensor_NeuroV.data)\n",
        "\n",
        "            output_val_bySubjects_NeuroV, Y_val_tensor_bySubject_NeuroV, prediction_val_bySubject_NeuroV =soft_output_by_subject(output_val_NeuroV, Y_val_NeuroV, subject_group_val_NeuroV)\n",
        "            val_metric_subject_NeuroV = sklearn.metrics.accuracy_score(Y_val_tensor_bySubject_NeuroV.data.cpu(), prediction_val_bySubject_NeuroV.data.cpu())*100\n",
        "\n",
        "        # append history\n",
        "        results_loss.append(epoch_loss)\n",
        "        results_metric.append(epoch_acc)\n",
        "        results_val_metric_NeuroV.append(val_metric_NeuroV)\n",
        "        results_val_metric_subject_NeuroV.append(val_metric_subject_NeuroV)\n",
        "        results_val_loss_NeuroV.append(val_loss_NeuroV.item())\n",
        "\n",
        "\n",
        "    print('')\n",
        "    print(f\"\\r validation NeuroV: {val_metric_NeuroV:.2f} % by Subject: {val_metric_subject_NeuroV:.2f}%  \")\n",
        "\n",
        "    #compute metrics\n",
        "    Sen_spe_subject_NeuroV=sensitivity_specificity_support(Y_val_tensor_bySubject_NeuroV.data.cpu(), prediction_val_bySubject_NeuroV.data.cpu(), average='binary')*100\n",
        "    val_f1_score_NeuroV = sklearn.metrics.f1_score(Y_val_tensor_bySubject_NeuroV.data.cpu(), prediction_val_bySubject_NeuroV.data.cpu())*100\n",
        "    val_MCC_NeuroV = sklearn.metrics.matthews_corrcoef(Y_val_tensor_bySubject_NeuroV.data.cpu(), prediction_val_bySubject_NeuroV.data.cpu())\n",
        "    val_fpr_NeuroV, val_tpr_NeuroV, _ = sklearn.metrics.roc_curve(Y_val_tensor_bySubject_NeuroV.data.cpu(), output_val_bySubjects_NeuroV.data.cpu())\n",
        "    val_AUC_NeuroV = sklearn.metrics.auc(val_fpr_NeuroV, val_tpr_NeuroV)\n",
        "\n",
        "    #Métricas para T-SNE\n",
        "    with torch.no_grad():\n",
        "        model.eval()\n",
        "        output_train_Original, train_CNN_Original = model(X_tensor_Original)\n",
        "        output_train_Augmented, train_CNN_Augmented = model(X_tensor_Augmented)\n",
        "\n",
        "    with torch.no_grad():\n",
        "        model.eval()\n",
        "        output_test_Gita, output_CNN_Gita = model(X_test_tensor_Gita)\n",
        "        prediction_test_Gita = torch.max(output_test_Gita, 1)[1]\n",
        "\n",
        "    test_metric_Gita = sklearn.metrics.accuracy_score(Y_test_tensor_Gita.data.cpu(), prediction_test_Gita.data.cpu())*100\n",
        "\n",
        "    output_test_bySubjects_Gita, Y_test_tensor_bySubject_Gita, prediction_test_bySubject_Gita =soft_output_by_subject( output_test_Gita, Y_test_Gita, subject_group_test_Gita)\n",
        "    test_metric_subject_Gita = sklearn.metrics.accuracy_score(Y_test_tensor_bySubject_Gita.data.cpu(), prediction_test_bySubject_Gita.data.cpu())*100\n",
        "\n",
        "    results_loss_Epochs.append(results_loss)\n",
        "    results_metric_Epochs.append(results_metric)\n",
        "    results_val_metric_NeuroV_Epochs.append(results_val_metric_NeuroV)\n",
        "    results_val_loss_NeuroV_Epochs.append(results_val_loss_NeuroV)\n",
        "\n",
        "    val_windows_metrics_NeuroV.append(val_metric_NeuroV)\n",
        "    val_subject_metrics_NeuroV.append(val_metric_subject_NeuroV)\n",
        "    Subject_Sen_spe_NeuroV.append([Sen_spe_subject_NeuroV[0]*100, Sen_spe_subject_NeuroV[1]*100])\n",
        "    Subject_f1_score_NeuroV.append(val_f1_score_NeuroV)\n",
        "    Subject_MCC_NeuroV.append(val_MCC_NeuroV)\n",
        "    Subject_AUC_NeuroV.append(val_AUC_NeuroV)\n",
        "    Subject_fpr_NeuroV.append(val_fpr_NeuroV)\n",
        "    Subject_tpr_NeuroV.append(val_tpr_NeuroV)\n",
        "\n",
        "\n",
        "    #Variables para T-SNE\n",
        "    flattern_train_CNN_Original.append(train_CNN_Original)\n",
        "    Y_train_Original_fold.append(Y_tensor_Original)\n",
        "    flattern_train_CNN_Augmented.append(train_CNN_Augmented)\n",
        "    Y_train_Augmented_fold.append(Y_tensor_Augmented)\n",
        "\n",
        "    test_windows_metrics_Gita.append(test_metric_Gita)\n",
        "    test_subject_metrics_Gita.append(test_metric_subject_Gita)\n",
        "\n",
        "    torch.save(model.state_dict(), '/content/drive/MyDrive/Memoria/speed_change/test5/trainNeurovoz/CNN_NeuroV_pataka_fold_'+str(k)+'.pt')"
      ],
      "metadata": {
        "id": "wHO9nAKoo5ii"
      },
      "execution_count": null,
      "outputs": []
    },
    {
      "cell_type": "markdown",
      "source": [
        "# MÉTRICAS"
      ],
      "metadata": {
        "id": "uTUB3AfQH19H"
      }
    },
    {
      "cell_type": "markdown",
      "source": [
        "## Métricas con Neurovoz"
      ],
      "metadata": {
        "id": "3JvVsZ9wviI_"
      }
    },
    {
      "cell_type": "code",
      "source": [
        "#Métricas\n",
        "print(f'NeuroV: Accuracy:    {np.mean(val_subject_metrics_NeuroV):.2f} ({np.std(val_subject_metrics_NeuroV):.2f})%')\n",
        "print(f\"\\r      Sensitivity: {np.mean(np.stack(Subject_Sen_spe_NeuroV,0),0)[0]:.2f} ({np.std(np.stack(Subject_Sen_spe_NeuroV,0),0)[0]:.2f})% \")\n",
        "print(f\"\\r      Specifity:   {np.mean(np.stack(Subject_Sen_spe_NeuroV,0),0)[1]:.2f} ({np.std(np.stack(Subject_Sen_spe_NeuroV,0),0)[1]:.2f})% \")\n",
        "print(f'\\r      f1_score:    {np.mean(Subject_f1_score_NeuroV):.2f} ({np.std(Subject_f1_score_NeuroV):.2f})%')\n",
        "print(f'\\r      MCC:         {np.mean(Subject_MCC_NeuroV):.2f} ({np.std(Subject_MCC_NeuroV):.2f})')\n",
        "print(f'\\r      AUC:         {np.mean(Subject_AUC_NeuroV):.2f} ({np.std(Subject_AUC_NeuroV):.2f})')\n"
      ],
      "metadata": {
        "id": "WQDndNHJtub0",
        "colab": {
          "base_uri": "https://localhost:8080/"
        },
        "outputId": "a0544c10-cd15-4e8b-c654-227467338b17"
      },
      "execution_count": null,
      "outputs": [
        {
          "output_type": "stream",
          "name": "stdout",
          "text": [
            "NeuroV: Accuracy:    98.89 (3.33)%\n",
            "\r      Sensitivity: 100.00 (0.00)% \n",
            "\r      Specifity:   97.50 (7.50)% \n",
            "\r      f1_score:    99.09 (2.73)%\n",
            "\r      MCC:         0.98 (0.06)\n",
            "\r      AUC:         0.98 (0.05)\n"
          ]
        }
      ]
    },
    {
      "cell_type": "code",
      "source": [
        "print(f'NeuroV: Accuracy by windows:, {np.mean(val_windows_metrics_NeuroV):.2f} ({np.std(val_windows_metrics_NeuroV):.2f})%,Accuracy by subject:{np.mean(val_subject_metrics_NeuroV):.2f} ({np.std(val_subject_metrics_NeuroV):.2f})')"
      ],
      "metadata": {
        "id": "BN2KWa1ut1Xs",
        "colab": {
          "base_uri": "https://localhost:8080/"
        },
        "outputId": "86d5fc16-fcce-440a-eedd-814d23266a16"
      },
      "execution_count": null,
      "outputs": [
        {
          "output_type": "stream",
          "name": "stdout",
          "text": [
            "NeuroV: Accuracy by windows:, 96.40 (2.78)%,Accuracy by subject:98.89 (3.33)\n"
          ]
        }
      ]
    },
    {
      "cell_type": "markdown",
      "source": [
        "## Cross-Validation con Gita"
      ],
      "metadata": {
        "id": "qEJmtu0rvgZr"
      }
    },
    {
      "cell_type": "code",
      "source": [
        "print(f'Gita: Accuracy:  {np.mean(test_subject_metrics_Gita):.2f} ({np.std(test_subject_metrics_Gita):.2f})%')\n",
        "print(f'Test Gita: Accuracy by windows:, {np.mean(test_windows_metrics_Gita):.2f} ({np.std(test_windows_metrics_Gita):.2f})%,Accuracy by subject:{np.mean(test_subject_metrics_Gita):.2f} ({np.std(test_subject_metrics_Gita):.2f})')"
      ],
      "metadata": {
        "colab": {
          "base_uri": "https://localhost:8080/"
        },
        "outputId": "392e21a6-a48b-4aa1-e650-49a5da2558a3",
        "id": "m4XXOPRIt6C-"
      },
      "execution_count": null,
      "outputs": [
        {
          "output_type": "stream",
          "name": "stdout",
          "text": [
            "Gita: Accuracy:  47.50 (2.80)%\n",
            "Test Gita: Accuracy by windows:, 47.66 (1.66)%,Accuracy by subject:47.50 (2.80)\n"
          ]
        }
      ]
    },
    {
      "cell_type": "markdown",
      "source": [
        "## Curvas (Accuracy, Loss, ROC y T-SNE)"
      ],
      "metadata": {
        "id": "pZo9GNE0vq_k"
      }
    },
    {
      "cell_type": "code",
      "source": [
        "results_loss_Epochs_mean=np.stack(results_loss_Epochs,0).mean(axis=0)\n",
        "results_loss_Epochs_std=np.stack(results_loss_Epochs,0).std(axis=0)\n",
        "\n",
        "results_val_loss_NeuroV_Epochs_mean=np.stack(results_val_loss_NeuroV_Epochs,0).mean(axis=0)\n",
        "results_val_loss_NeuroV_Epochs_mean=np.stack(results_val_loss_NeuroV_Epochs,0).mean(axis=0)\n",
        "results_val_loss_NeuroV_Epochs_std=np.stack(results_val_loss_NeuroV_Epochs,0).std(axis=0)\n",
        "\n",
        "fig, ax = plt.subplots(figsize=(8, 4))\n",
        "ax.plot(range(epoch+1),results_loss_Epochs_mean, alpha=0.5, color='#888888', label='train', linewidth = 2.0)\n",
        "ax.fill_between(range(epoch+1), results_loss_Epochs_mean - results_loss_Epochs_std, results_loss_Epochs_mean + results_loss_Epochs_std, color='#888888', alpha=0.4)\n",
        "\n",
        "ax.plot(range(epoch+1),results_val_loss_NeuroV_Epochs_mean, alpha=0.5, color='blue', label='Validation NeuroV', linewidth = 2.0)\n",
        "ax.fill_between(range(epoch+1), results_val_loss_NeuroV_Epochs_mean - results_val_loss_NeuroV_Epochs_std, results_val_loss_NeuroV_Epochs_mean + results_val_loss_NeuroV_Epochs_std, color='blue', alpha=0.2)\n",
        "\n",
        "\n",
        "ax.set_ylim([0,1])\n",
        "ax.legend(loc='lower right')\n",
        "ax.set_ylabel(\"Loss\")\n",
        "ax.set_xlabel(\"Epoch\")\n",
        "plt.savefig(\"/content/drive/MyDrive/Memoria/speed_change/test5/trainNeurovoz/Loss_Train_Validation_pataka.pdf\", dpi=150)\n",
        "\n",
        "results_metric_Epochs_mean=np.stack(results_metric_Epochs,0).mean(axis=0)\n",
        "results_metric_Epochs_std=np.stack(results_metric_Epochs,0).std(axis=0)\n",
        "\n",
        "results_val_metric_NeuroV_Epochs_mean=np.stack(results_val_metric_NeuroV_Epochs,0).mean(axis=0)\n",
        "results_val_metric_NeuroV_Epochs_std=np.stack(results_val_metric_NeuroV_Epochs,0).std(axis=0)\n",
        "\n",
        "\n",
        "fig, ax = plt.subplots(figsize=(8, 4))\n",
        "ax.plot(range(epoch+1),results_metric_Epochs_mean, alpha=0.5, color='#888888', label='train', linewidth = 2.0)\n",
        "ax.fill_between(range(epoch+1), results_metric_Epochs_mean - results_metric_Epochs_std, results_metric_Epochs_mean + results_metric_Epochs_std, color='#888888', alpha=0.4)\n",
        "\n",
        "ax.plot(range(epoch+1),results_val_metric_NeuroV_Epochs_mean, alpha=0.5, color='blue', label='Validation NeuroV', linewidth = 2.0)\n",
        "ax.fill_between(range(epoch+1), results_val_metric_NeuroV_Epochs_mean - results_val_metric_NeuroV_Epochs_std, results_val_metric_NeuroV_Epochs_mean + results_val_metric_NeuroV_Epochs_std, color='blue', alpha=0.2)\n",
        "\n",
        "ax.set_ylim([30,100])\n",
        "ax.legend(loc='lower right')\n",
        "\n",
        "ax.set_ylabel(\"Accuracy (%)\")\n",
        "ax.set_xlabel(\"Epoch\")\n",
        "plt.savefig(\"/content/drive/MyDrive/Memoria/speed_change/test5/trainNeurovoz/Accuracy_Train_Validation_pataka_prob_100.pdf\", dpi=150)"
      ],
      "metadata": {
        "colab": {
          "base_uri": "https://localhost:8080/",
          "height": 769
        },
        "outputId": "1cdf83c2-120a-46fd-b37e-03cff99b09b1",
        "id": "TvG0SlLNuHDI"
      },
      "execution_count": null,
      "outputs": [
        {
          "output_type": "display_data",
          "data": {
            "text/plain": [
              "<Figure size 800x400 with 1 Axes>"
            ],
            "image/png": "[encoded data removed]"
          },
          "metadata": {}
        },
        {
          "output_type": "display_data",
          "data": {
            "text/plain": [
              "<Figure size 800x400 with 1 Axes>"
            ],
            "image/png": "[encoded data removed]"
          },
          "metadata": {}
        }
      ]
    },
    {
      "cell_type": "code",
      "source": [
        "def plot_ROC_k_fold(fpr_k_folds,tpr_k_folds,auc_k_folds,folds, color):\n",
        "    mean_fpr = np.linspace(0, 1, 100)\n",
        "    fig, ax = plt.subplots(figsize=(6, 6))\n",
        "    ax.plot([0, 1], [0, 1], \"k--\", label=\"chance level (AUC = 0.5)\")\n",
        "    tprs=[]\n",
        "    for k in range(folds):\n",
        "        #display = sklearn.metrics.RocCurveDisplay(fpr=fpr_k_folds[k], tpr=tpr_k_folds[k], roc_auc=auc_k_folds[k],\n",
        "        #                           estimator_name='ROC fold'+str(k))\n",
        "        #display.plot()\n",
        "\n",
        "        interp_tpr = np.interp(mean_fpr, fpr_k_folds[k], tpr_k_folds[k])\n",
        "        interp_tpr[0] = 0.0\n",
        "        tprs.append(interp_tpr)\n",
        "    mean_tpr = np.mean(tprs, axis=0)\n",
        "    mean_auc =np.mean(auc_k_folds)\n",
        "    std_auc = np.std(auc_k_folds)\n",
        "    ax.plot(\n",
        "        mean_fpr,\n",
        "        mean_tpr,\n",
        "        color=color,\n",
        "        label=r\"Mean ROC (AUC = %0.2f $\\pm$ %0.2f)\" % (mean_auc, std_auc),\n",
        "        lw=2,\n",
        "        alpha=0.8,\n",
        "    )\n",
        "\n",
        "    std_tpr = np.std(tprs, axis=0)\n",
        "    tprs_upper = np.minimum(mean_tpr + std_tpr, 1)\n",
        "    tprs_lower = np.maximum(mean_tpr - std_tpr, 0)\n",
        "    ax.fill_between(\n",
        "        mean_fpr,\n",
        "        tprs_lower,\n",
        "        tprs_upper,\n",
        "        color=color,\n",
        "        alpha=0.2,\n",
        "        label=r\"$\\pm$ 1 std. dev.\",\n",
        "    )\n",
        "\n",
        "    ax.set(\n",
        "        xlim=[-0.05, 1.05],\n",
        "        ylim=[-0.05, 1.05],\n",
        "        xlabel=\"False Positive Rate\",\n",
        "        ylabel=\"True Positive Rate\",\n",
        "       # title=f\"Mean ROC curve with variability\\n(Positive label '{target_names[1]}')\",\n",
        "    )\n",
        "    ax.axis(\"square\")\n",
        "    ax.legend(loc=\"lower right\")\n",
        "    plt.savefig(\"/content/drive/MyDrive/Memoria/speed_change/test5/trainNeurovoz/ROC_Subject_fpr_NeuroV.pdf\", dpi=150)\n",
        "    plt.show()\n"
      ],
      "metadata": {
        "id": "HqL0NzmKuVs5"
      },
      "execution_count": null,
      "outputs": []
    },
    {
      "cell_type": "code",
      "source": [
        "plot_ROC_k_fold(Subject_fpr_NeuroV,Subject_tpr_NeuroV,Subject_AUC_NeuroV, 10, 'blue')"
      ],
      "metadata": {
        "colab": {
          "base_uri": "https://localhost:8080/",
          "height": 542
        },
        "outputId": "d4fe0c10-c846-4e0f-fde7-9b03b88308c8",
        "id": "CxnJD1M3u2pr"
      },
      "execution_count": null,
      "outputs": [
        {
          "output_type": "display_data",
          "data": {
            "text/plain": [
              "<Figure size 600x600 with 1 Axes>"
            ],
            "image/png": "[encoded data removed]"
          },
          "metadata": {}
        }
      ]
    },
    {
      "cell_type": "markdown",
      "source": [
        "### t-SNE"
      ],
      "metadata": {
        "id": "DfO4G1zbHoM0"
      }
    },
    {
      "cell_type": "code",
      "source": [
        "def plot_embedding(X, y, d, title=None):\n",
        "    \"\"\"Plot an embedding X with the class label y colored by the domain d.\"\"\"\n",
        "    x_min, x_max = np.min(X, 0), np.max(X, 0)\n",
        "    X = (X - x_min) / (x_max - x_min)\n",
        "    # Plot colors numbers\n",
        "    plt.figure(figsize=(10,10))\n",
        "    ax = plt.subplot(111)\n",
        "    colores=[(0,0.6,1), (0,0,1), (1,0.5,0.5), (1,0,0)  ]\n",
        "\n",
        "    for i in range(X.shape[0]):\n",
        "        # plot colored number\n",
        "        #plt.text(X[i, 0], X[i, 1], 'o',\n",
        "        #         color=colores[y[i]],\n",
        "        #         fontdict={ 'size': 14})\n",
        "        plt.plot(X[i, 0], X[i, 1], 'o',\n",
        "                 color=colores[y[i]],#plt.cm.brw(y[i]),\n",
        "                  )\n",
        "\n",
        "    plt.xticks([]), plt.yticks([])\n",
        "    plt.legend(['Augmented_HC', 'Augmented_PD', 'Original_HC', 'Original_PD'] )\n",
        "    ax = plt.gca()\n",
        "    leg = ax.get_legend()\n",
        "    leg.legendHandles[0].set_color((0,0.6,1))\n",
        "    leg.legendHandles[1].set_color((0,0,1))\n",
        "    leg.legendHandles[2].set_color((1,0.5,0.5))\n",
        "    leg.legendHandles[3].set_color((1,0,0))\n",
        "    if title is not None:\n",
        "        plt.title(title)"
      ],
      "metadata": {
        "id": "eIgHy_VTu8Mp"
      },
      "execution_count": null,
      "outputs": []
    },
    {
      "cell_type": "code",
      "source": [
        "t_SNE= TSNE(n_components=2,n_iter=500,n_iter_without_progress=150, n_jobs=2, random_state=0)\n",
        "\n",
        "for k in range(10):\n",
        "    CCN_train=np.concatenate([flattern_train_CNN_Augmented[k].data.cpu(), flattern_train_CNN_Original[k].data.cpu()])\n",
        "    Y_train=np.concatenate([ Y_train_Augmented_fold[k].data.cpu(), Y_train_Original_fold[k].data.cpu()])\n",
        "    Y_train_plot=np.concatenate([Y_train_Augmented_fold[k].data.cpu(), Y_train_Original_fold[k].data.cpu()+2])\n",
        "    domain_train=np.concatenate([np.ones( Y_train_Augmented_fold[k].shape), np.zeros(Y_train_Original_fold[k].shape)])\n",
        "\n",
        "    projections=t_SNE.fit_transform(CCN_train,Y_train)\n",
        "\n",
        "    plot_embedding(projections,Y_train_plot,domain_train, 't-SNE embeedding')\n",
        "    plt.savefig(\"/content/drive/MyDrive/Memoria/speed_change/test5/trainNeurovoz/T-SNE{}.pdf\".format(k), dpi=150)\n",
        "\n",
        "    plt.show()\n"
      ],
      "metadata": {
        "id": "XMnPE46vvAI6"
      },
      "execution_count": null,
      "outputs": []
    }
  ]
}