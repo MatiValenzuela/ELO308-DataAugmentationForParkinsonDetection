{
  "nbformat": 4,
  "nbformat_minor": 0,
  "metadata": {
    "colab": {
      "provenance": [],
      "gpuType": "T4",
      "authorship_tag": "ABX9TyPPlPy1WKHwB7BwXAgFPBwR",
      "include_colab_link": true
    },
    "kernelspec": {
      "name": "python3",
      "display_name": "Python 3"
    },
    "language_info": {
      "name": "python"
    },
    "accelerator": "GPU"
  },
  "cells": [
    {
      "cell_type": "markdown",
      "metadata": {
        "id": "view-in-github",
        "colab_type": "text"
      },
      "source": [
        "<a href=\"https://colab.research.google.com/github/MatiValenzuela/ELO308-DataAugmentationForParkinsonDetection/blob/main/DataAugmentation_PitchChange.ipynb\" target=\"_parent\"><img src=\"https://colab.research.google.com/assets/colab-badge.svg\" alt=\"Open In Colab\"/></a>"
      ]
    },
    {
      "cell_type": "markdown",
      "source": [
        "## Bibliotecas"
      ],
      "metadata": {
        "id": "d59Kc72PvN6I"
      }
    },
    {
      "cell_type": "code",
      "execution_count": null,
      "metadata": {
        "id": "GEHmK8DUb-vV"
      },
      "outputs": [],
      "source": [
        "import numpy as np\n",
        "import math\n",
        "import random\n",
        "import pandas as pd\n",
        "import os\n",
        "import matplotlib.pyplot as plt\n",
        "import librosa\n",
        "import librosa.display\n",
        "import IPython\n",
        "from IPython.display import Audio\n",
        "from IPython.display import Image\n",
        "\n",
        "import torch\n",
        "import torch.nn as nn\n",
        "\n",
        "from sklearn.preprocessing import StandardScaler\n",
        "from sklearn.model_selection import StratifiedGroupKFold\n",
        "import torchaudio\n",
        "import torchaudio.functional as F\n",
        "import torchaudio.transforms as T\n",
        "from torch.utils.data import DataLoader, TensorDataset\n",
        "from sklearn.model_selection import KFold\n",
        "import seaborn as sn\n",
        "import sklearn\n",
        "from sklearn.manifold import TSNE\n",
        "from imblearn.metrics import sensitivity_specificity_support\n",
        "\n",
        "import soundfile as sf"
      ]
    },
    {
      "cell_type": "code",
      "source": [
        "from google.colab import drive\n",
        "drive.mount('/content/drive')\n",
        "audio_data_path = '/content/drive/MyDrive/Memoria/Pataka'"
      ],
      "metadata": {
        "colab": {
          "base_uri": "https://localhost:8080/"
        },
        "id": "ArQB729lcX0y",
        "outputId": "4bf2fde0-1dd0-4648-f019-eaa47396e948"
      },
      "execution_count": null,
      "outputs": [
        {
          "output_type": "stream",
          "name": "stdout",
          "text": [
            "Mounted at /content/drive\n"
          ]
        }
      ]
    },
    {
      "cell_type": "markdown",
      "source": [
        "## Carga de datos Gita\n",
        "En primer lugar se genera un dataframe que incluye el path a los distintos archivos de audio, un ID y un tag siendo 'PD' = 1 y 'HC' = 0"
      ],
      "metadata": {
        "id": "H4CoPzXFjfzd"
      }
    },
    {
      "cell_type": "code",
      "source": [
        "DATA_PATH_Gita = '/content/drive/MyDrive/Memoria/Pataka'\n",
        "\n",
        "SAMPLE_RATE = 44100\n",
        "#AVPEPUDEAC0001_pataka.wav   -> Formato de los archivos\n",
        "data_Gita = pd.DataFrame(columns=['Speaker_ID', 'Label', 'Path'])\n",
        "Speaker_PD=0\n",
        "Speaker_HC=50 #Sabemos que son 50 muestras por cada uno.\n",
        "\n",
        "for dirname, _, filenames in os.walk(DATA_PATH_Gita):\n",
        "\n",
        "    for filename in filenames:\n",
        "        file_path = os.path.join(dirname, filename)\n",
        "\n",
        "        if dirname.find('PD')!=-1:\n",
        "            Speaker_PD+=1\n",
        "            Speaker_ID=Speaker_PD\n",
        "            Label=1\n",
        "        else:\n",
        "            Speaker_HC+=1\n",
        "            Speaker_ID=Speaker_HC\n",
        "            Label=0\n",
        "\n",
        "\n",
        "        data_Gita=pd.concat([data_Gita, pd.DataFrame({\"Speaker_ID\": [Speaker_ID],\n",
        "                            \"Label\": [Label],\n",
        "                            \"Path\": [file_path]\n",
        "                             })],ignore_index=True)\n",
        "print(\"number of files is {}\".format(len(data_Gita)))\n",
        "data_Gita.head()"
      ],
      "metadata": {
        "colab": {
          "base_uri": "https://localhost:8080/",
          "height": 224
        },
        "id": "EeBHQljldm3k",
        "outputId": "511d4e78-2154-4454-ebff-3a8bbfce7d33"
      },
      "execution_count": null,
      "outputs": [
        {
          "output_type": "stream",
          "name": "stdout",
          "text": [
            "number of files is 100\n"
          ]
        },
        {
          "output_type": "execute_result",
          "data": {
            "text/plain": [
              "  Speaker_ID Label                                               Path\n",
              "0          1     1  /content/drive/MyDrive/Memoria/Pataka/PD/AVPEP...\n",
              "1          2     1  /content/drive/MyDrive/Memoria/Pataka/PD/AVPEP...\n",
              "2          3     1  /content/drive/MyDrive/Memoria/Pataka/PD/AVPEP...\n",
              "3          4     1  /content/drive/MyDrive/Memoria/Pataka/PD/AVPEP...\n",
              "4          5     1  /content/drive/MyDrive/Memoria/Pataka/PD/AVPEP..."
            ],
            "text/html": [
              "\n",
              "  <div id=\"df-6425cd0b-4be3-413c-ad64-095b3f894d9e\" class=\"colab-df-container\">\n",
              "    <div>\n",
              "<style scoped>\n",
              "    .dataframe tbody tr th:only-of-type {\n",
              "        vertical-align: middle;\n",
              "    }\n",
              "\n",
              "    .dataframe tbody tr th {\n",
              "        vertical-align: top;\n",
              "    }\n",
              "\n",
              "    .dataframe thead th {\n",
              "        text-align: right;\n",
              "    }\n",
              "</style>\n",
              "<table border=\"1\" class=\"dataframe\">\n",
              "  <thead>\n",
              "    <tr style=\"text-align: right;\">\n",
              "      <th></th>\n",
              "      <th>Speaker_ID</th>\n",
              "      <th>Label</th>\n",
              "      <th>Path</th>\n",
              "    </tr>\n",
              "  </thead>\n",
              "  <tbody>\n",
              "    <tr>\n",
              "      <th>0</th>\n",
              "      <td>1</td>\n",
              "      <td>1</td>\n",
              "      <td>/content/drive/MyDrive/Memoria/Pataka/PD/AVPEP...</td>\n",
              "    </tr>\n",
              "    <tr>\n",
              "      <th>1</th>\n",
              "      <td>2</td>\n",
              "      <td>1</td>\n",
              "      <td>/content/drive/MyDrive/Memoria/Pataka/PD/AVPEP...</td>\n",
              "    </tr>\n",
              "    <tr>\n",
              "      <th>2</th>\n",
              "      <td>3</td>\n",
              "      <td>1</td>\n",
              "      <td>/content/drive/MyDrive/Memoria/Pataka/PD/AVPEP...</td>\n",
              "    </tr>\n",
              "    <tr>\n",
              "      <th>3</th>\n",
              "      <td>4</td>\n",
              "      <td>1</td>\n",
              "      <td>/content/drive/MyDrive/Memoria/Pataka/PD/AVPEP...</td>\n",
              "    </tr>\n",
              "    <tr>\n",
              "      <th>4</th>\n",
              "      <td>5</td>\n",
              "      <td>1</td>\n",
              "      <td>/content/drive/MyDrive/Memoria/Pataka/PD/AVPEP...</td>\n",
              "    </tr>\n",
              "  </tbody>\n",
              "</table>\n",
              "</div>\n",
              "    <div class=\"colab-df-buttons\">\n",
              "\n",
              "  <div class=\"colab-df-container\">\n",
              "    <button class=\"colab-df-convert\" onclick=\"convertToInteractive('df-6425cd0b-4be3-413c-ad64-095b3f894d9e')\"\n",
              "            title=\"Convert this dataframe to an interactive table.\"\n",
              "            style=\"display:none;\">\n",
              "\n",
              "  <svg xmlns=\"http://www.w3.org/2000/svg\" height=\"24px\" viewBox=\"0 -960 960 960\">\n",
              "    <path d=\"M120-120v-720h720v720H120Zm60-500h600v-160H180v160Zm220 220h160v-160H400v160Zm0 220h160v-160H400v160ZM180-400h160v-160H180v160Zm440 0h160v-160H620v160ZM180-180h160v-160H180v160Zm440 0h160v-160H620v160Z\"/>\n",
              "  </svg>\n",
              "    </button>\n",
              "\n",
              "  <style>\n",
              "    .colab-df-container {\n",
              "      display:flex;\n",
              "      gap: 12px;\n",
              "    }\n",
              "\n",
              "    .colab-df-convert {\n",
              "      background-color: #E8F0FE;\n",
              "      border: none;\n",
              "      border-radius: 50%;\n",
              "      cursor: pointer;\n",
              "      display: none;\n",
              "      fill: #1967D2;\n",
              "      height: 32px;\n",
              "      padding: 0 0 0 0;\n",
              "      width: 32px;\n",
              "    }\n",
              "\n",
              "    .colab-df-convert:hover {\n",
              "      background-color: #E2EBFA;\n",
              "      box-shadow: 0px 1px 2px rgba(60, 64, 67, 0.3), 0px 1px 3px 1px rgba(60, 64, 67, 0.15);\n",
              "      fill: #174EA6;\n",
              "    }\n",
              "\n",
              "    .colab-df-buttons div {\n",
              "      margin-bottom: 4px;\n",
              "    }\n",
              "\n",
              "    [theme=dark] .colab-df-convert {\n",
              "      background-color: #3B4455;\n",
              "      fill: #D2E3FC;\n",
              "    }\n",
              "\n",
              "    [theme=dark] .colab-df-convert:hover {\n",
              "      background-color: #434B5C;\n",
              "      box-shadow: 0px 1px 3px 1px rgba(0, 0, 0, 0.15);\n",
              "      filter: drop-shadow(0px 1px 2px rgba(0, 0, 0, 0.3));\n",
              "      fill: #FFFFFF;\n",
              "    }\n",
              "  </style>\n",
              "\n",
              "    <script>\n",
              "      const buttonEl =\n",
              "        document.querySelector('#df-6425cd0b-4be3-413c-ad64-095b3f894d9e button.colab-df-convert');\n",
              "      buttonEl.style.display =\n",
              "        google.colab.kernel.accessAllowed ? 'block' : 'none';\n",
              "\n",
              "      async function convertToInteractive(key) {\n",
              "        const element = document.querySelector('#df-6425cd0b-4be3-413c-ad64-095b3f894d9e');\n",
              "        const dataTable =\n",
              "          await google.colab.kernel.invokeFunction('convertToInteractive',\n",
              "                                                    [key], {});\n",
              "        if (!dataTable) return;\n",
              "\n",
              "        const docLinkHtml = 'Like what you see? Visit the ' +\n",
              "          '<a target=\"_blank\" href=https://colab.research.google.com/notebooks/data_table.ipynb>data table notebook</a>'\n",
              "          + ' to learn more about interactive tables.';\n",
              "        element.innerHTML = '';\n",
              "        dataTable['output_type'] = 'display_data';\n",
              "        await google.colab.output.renderOutput(dataTable, element);\n",
              "        const docLink = document.createElement('div');\n",
              "        docLink.innerHTML = docLinkHtml;\n",
              "        element.appendChild(docLink);\n",
              "      }\n",
              "    </script>\n",
              "  </div>\n",
              "\n",
              "\n",
              "<div id=\"df-25bf1e50-336f-43a8-b9c5-93121ab6353c\">\n",
              "  <button class=\"colab-df-quickchart\" onclick=\"quickchart('df-25bf1e50-336f-43a8-b9c5-93121ab6353c')\"\n",
              "            title=\"Suggest charts\"\n",
              "            style=\"display:none;\">\n",
              "\n",
              "<svg xmlns=\"http://www.w3.org/2000/svg\" height=\"24px\"viewBox=\"0 0 24 24\"\n",
              "     width=\"24px\">\n",
              "    <g>\n",
              "        <path d=\"M19 3H5c-1.1 0-2 .9-2 2v14c0 1.1.9 2 2 2h14c1.1 0 2-.9 2-2V5c0-1.1-.9-2-2-2zM9 17H7v-7h2v7zm4 0h-2V7h2v10zm4 0h-2v-4h2v4z\"/>\n",
              "    </g>\n",
              "</svg>\n",
              "  </button>\n",
              "\n",
              "<style>\n",
              "  .colab-df-quickchart {\n",
              "      --bg-color: #E8F0FE;\n",
              "      --fill-color: #1967D2;\n",
              "      --hover-bg-color: #E2EBFA;\n",
              "      --hover-fill-color: #174EA6;\n",
              "      --disabled-fill-color: #AAA;\n",
              "      --disabled-bg-color: #DDD;\n",
              "  }\n",
              "\n",
              "  [theme=dark] .colab-df-quickchart {\n",
              "      --bg-color: #3B4455;\n",
              "      --fill-color: #D2E3FC;\n",
              "      --hover-bg-color: #434B5C;\n",
              "      --hover-fill-color: #FFFFFF;\n",
              "      --disabled-bg-color: #3B4455;\n",
              "      --disabled-fill-color: #666;\n",
              "  }\n",
              "\n",
              "  .colab-df-quickchart {\n",
              "    background-color: var(--bg-color);\n",
              "    border: none;\n",
              "    border-radius: 50%;\n",
              "    cursor: pointer;\n",
              "    display: none;\n",
              "    fill: var(--fill-color);\n",
              "    height: 32px;\n",
              "    padding: 0;\n",
              "    width: 32px;\n",
              "  }\n",
              "\n",
              "  .colab-df-quickchart:hover {\n",
              "    background-color: var(--hover-bg-color);\n",
              "    box-shadow: 0 1px 2px rgba(60, 64, 67, 0.3), 0 1px 3px 1px rgba(60, 64, 67, 0.15);\n",
              "    fill: var(--button-hover-fill-color);\n",
              "  }\n",
              "\n",
              "  .colab-df-quickchart-complete:disabled,\n",
              "  .colab-df-quickchart-complete:disabled:hover {\n",
              "    background-color: var(--disabled-bg-color);\n",
              "    fill: var(--disabled-fill-color);\n",
              "    box-shadow: none;\n",
              "  }\n",
              "\n",
              "  .colab-df-spinner {\n",
              "    border: 2px solid var(--fill-color);\n",
              "    border-color: transparent;\n",
              "    border-bottom-color: var(--fill-color);\n",
              "    animation:\n",
              "      spin 1s steps(1) infinite;\n",
              "  }\n",
              "\n",
              "  @keyframes spin {\n",
              "    0% {\n",
              "      border-color: transparent;\n",
              "      border-bottom-color: var(--fill-color);\n",
              "      border-left-color: var(--fill-color);\n",
              "    }\n",
              "    20% {\n",
              "      border-color: transparent;\n",
              "      border-left-color: var(--fill-color);\n",
              "      border-top-color: var(--fill-color);\n",
              "    }\n",
              "    30% {\n",
              "      border-color: transparent;\n",
              "      border-left-color: var(--fill-color);\n",
              "      border-top-color: var(--fill-color);\n",
              "      border-right-color: var(--fill-color);\n",
              "    }\n",
              "    40% {\n",
              "      border-color: transparent;\n",
              "      border-right-color: var(--fill-color);\n",
              "      border-top-color: var(--fill-color);\n",
              "    }\n",
              "    60% {\n",
              "      border-color: transparent;\n",
              "      border-right-color: var(--fill-color);\n",
              "    }\n",
              "    80% {\n",
              "      border-color: transparent;\n",
              "      border-right-color: var(--fill-color);\n",
              "      border-bottom-color: var(--fill-color);\n",
              "    }\n",
              "    90% {\n",
              "      border-color: transparent;\n",
              "      border-bottom-color: var(--fill-color);\n",
              "    }\n",
              "  }\n",
              "</style>\n",
              "\n",
              "  <script>\n",
              "    async function quickchart(key) {\n",
              "      const quickchartButtonEl =\n",
              "        document.querySelector('#' + key + ' button');\n",
              "      quickchartButtonEl.disabled = true;  // To prevent multiple clicks.\n",
              "      quickchartButtonEl.classList.add('colab-df-spinner');\n",
              "      try {\n",
              "        const charts = await google.colab.kernel.invokeFunction(\n",
              "            'suggestCharts', [key], {});\n",
              "      } catch (error) {\n",
              "        console.error('Error during call to suggestCharts:', error);\n",
              "      }\n",
              "      quickchartButtonEl.classList.remove('colab-df-spinner');\n",
              "      quickchartButtonEl.classList.add('colab-df-quickchart-complete');\n",
              "    }\n",
              "    (() => {\n",
              "      let quickchartButtonEl =\n",
              "        document.querySelector('#df-25bf1e50-336f-43a8-b9c5-93121ab6353c button');\n",
              "      quickchartButtonEl.style.display =\n",
              "        google.colab.kernel.accessAllowed ? 'block' : 'none';\n",
              "    })();\n",
              "  </script>\n",
              "</div>\n",
              "    </div>\n",
              "  </div>\n"
            ]
          },
          "metadata": {},
          "execution_count": 3
        }
      ]
    },
    {
      "cell_type": "code",
      "source": [
        "print('Data Gita')\n",
        "print('Parkinson')\n",
        "PD_Gita=data_Gita[data_Gita['Label']==1].sort_values(by=['Speaker_ID'])['Speaker_ID'].unique()\n",
        "print(PD_Gita)\n",
        "print('size=', PD_Gita.shape)\n",
        "print('Control')\n",
        "HC_Gita=data_Gita[data_Gita['Label']==0].sort_values(by=['Speaker_ID'])['Speaker_ID'].unique()\n",
        "print(HC_Gita)\n",
        "print('size=', HC_Gita.shape)\n",
        "\n",
        "#Partition Gita\n",
        "Train_Subject_Gita=np.concatenate([PD_Gita, HC_Gita])\n",
        "print(\"Data Gita\")\n",
        "print(\"To train:\",np.unique(Train_Subject_Gita).shape)\n",
        "data_train_Gita=data_Gita"
      ],
      "metadata": {
        "colab": {
          "base_uri": "https://localhost:8080/"
        },
        "id": "scf_WlWinINZ",
        "outputId": "6105a3b6-619a-420d-d1b4-362ec966ce8a"
      },
      "execution_count": null,
      "outputs": [
        {
          "output_type": "stream",
          "name": "stdout",
          "text": [
            "Data Gita\n",
            "Parkinson\n",
            "[1 2 3 4 5 6 7 8 9 10 11 12 13 14 15 16 17 18 19 20 21 22 23 24 25 26 27\n",
            " 28 29 30 31 32 33 34 35 36 37 38 39 40 41 42 43 44 45 46 47 48 49 50]\n",
            "size= (50,)\n",
            "Control\n",
            "[51 52 53 54 55 56 57 58 59 60 61 62 63 64 65 66 67 68 69 70 71 72 73 74\n",
            " 75 76 77 78 79 80 81 82 83 84 85 86 87 88 89 90 91 92 93 94 95 96 97 98\n",
            " 99 100]\n",
            "size= (50,)\n",
            "Data Gita\n",
            "To train: (100,)\n"
          ]
        }
      ]
    },
    {
      "cell_type": "markdown",
      "source": [
        "## Carga de datos Neurovoz"
      ],
      "metadata": {
        "id": "UwV0nkjGzSa8"
      }
    },
    {
      "cell_type": "code",
      "source": [
        "DATA_PATH_NeuroV = '/content/drive/MyDrive/Memoria/Neurovoz/PATAKA'\n",
        "\n",
        "SAMPLE_RATE_NeuroV = 44100\n",
        "data_NeuroV = pd.DataFrame(columns=['Speaker_ID', 'Label', 'Path'])\n",
        "for dirname, _, filenames in os.walk(DATA_PATH_NeuroV):\n",
        "    for filename in filenames:\n",
        "            file_path = os.path.join(dirname, filename)\n",
        "            if filename.find('wav')!=-1:\n",
        "                identifiers=filename.split('.')[0].split('_')\n",
        "                Speaker_ID=int(identifiers[2])+100 #Offset of the labels\n",
        "                if identifiers[0]=='PD':\n",
        "                    Label=1\n",
        "                else:\n",
        "                    Label=0\n",
        "            data_NeuroV=pd.concat([data_NeuroV, pd.DataFrame({\"Speaker_ID\": [Speaker_ID],\n",
        "                            \"Label\": [Label],\n",
        "                            \"Path\": [file_path]\n",
        "                             })],ignore_index=True)\n",
        "print(\"number of files is {}\".format(len(data_NeuroV)))\n",
        "data_NeuroV.head()"
      ],
      "metadata": {
        "colab": {
          "base_uri": "https://localhost:8080/",
          "height": 224
        },
        "id": "XuM1N4zkzWud",
        "outputId": "4b8e3133-4701-4fca-95ec-9e4a31f80bd1"
      },
      "execution_count": null,
      "outputs": [
        {
          "output_type": "stream",
          "name": "stdout",
          "text": [
            "number of files is 86\n"
          ]
        },
        {
          "output_type": "execute_result",
          "data": {
            "text/plain": [
              "  Speaker_ID Label                                               Path\n",
              "0        134     0  /content/drive/MyDrive/Memoria/Neurovoz/PATAKA...\n",
              "1        160     0  /content/drive/MyDrive/Memoria/Neurovoz/PATAKA...\n",
              "2        149     0  /content/drive/MyDrive/Memoria/Neurovoz/PATAKA...\n",
              "3        153     0  /content/drive/MyDrive/Memoria/Neurovoz/PATAKA...\n",
              "4        136     0  /content/drive/MyDrive/Memoria/Neurovoz/PATAKA..."
            ],
            "text/html": [
              "\n",
              "  <div id=\"df-32d9c71e-1808-4127-a271-aa7bf9af3c9a\" class=\"colab-df-container\">\n",
              "    <div>\n",
              "<style scoped>\n",
              "    .dataframe tbody tr th:only-of-type {\n",
              "        vertical-align: middle;\n",
              "    }\n",
              "\n",
              "    .dataframe tbody tr th {\n",
              "        vertical-align: top;\n",
              "    }\n",
              "\n",
              "    .dataframe thead th {\n",
              "        text-align: right;\n",
              "    }\n",
              "</style>\n",
              "<table border=\"1\" class=\"dataframe\">\n",
              "  <thead>\n",
              "    <tr style=\"text-align: right;\">\n",
              "      <th></th>\n",
              "      <th>Speaker_ID</th>\n",
              "      <th>Label</th>\n",
              "      <th>Path</th>\n",
              "    </tr>\n",
              "  </thead>\n",
              "  <tbody>\n",
              "    <tr>\n",
              "      <th>0</th>\n",
              "      <td>134</td>\n",
              "      <td>0</td>\n",
              "      <td>/content/drive/MyDrive/Memoria/Neurovoz/PATAKA...</td>\n",
              "    </tr>\n",
              "    <tr>\n",
              "      <th>1</th>\n",
              "      <td>160</td>\n",
              "      <td>0</td>\n",
              "      <td>/content/drive/MyDrive/Memoria/Neurovoz/PATAKA...</td>\n",
              "    </tr>\n",
              "    <tr>\n",
              "      <th>2</th>\n",
              "      <td>149</td>\n",
              "      <td>0</td>\n",
              "      <td>/content/drive/MyDrive/Memoria/Neurovoz/PATAKA...</td>\n",
              "    </tr>\n",
              "    <tr>\n",
              "      <th>3</th>\n",
              "      <td>153</td>\n",
              "      <td>0</td>\n",
              "      <td>/content/drive/MyDrive/Memoria/Neurovoz/PATAKA...</td>\n",
              "    </tr>\n",
              "    <tr>\n",
              "      <th>4</th>\n",
              "      <td>136</td>\n",
              "      <td>0</td>\n",
              "      <td>/content/drive/MyDrive/Memoria/Neurovoz/PATAKA...</td>\n",
              "    </tr>\n",
              "  </tbody>\n",
              "</table>\n",
              "</div>\n",
              "    <div class=\"colab-df-buttons\">\n",
              "\n",
              "  <div class=\"colab-df-container\">\n",
              "    <button class=\"colab-df-convert\" onclick=\"convertToInteractive('df-32d9c71e-1808-4127-a271-aa7bf9af3c9a')\"\n",
              "            title=\"Convert this dataframe to an interactive table.\"\n",
              "            style=\"display:none;\">\n",
              "\n",
              "  <svg xmlns=\"http://www.w3.org/2000/svg\" height=\"24px\" viewBox=\"0 -960 960 960\">\n",
              "    <path d=\"M120-120v-720h720v720H120Zm60-500h600v-160H180v160Zm220 220h160v-160H400v160Zm0 220h160v-160H400v160ZM180-400h160v-160H180v160Zm440 0h160v-160H620v160ZM180-180h160v-160H180v160Zm440 0h160v-160H620v160Z\"/>\n",
              "  </svg>\n",
              "    </button>\n",
              "\n",
              "  <style>\n",
              "    .colab-df-container {\n",
              "      display:flex;\n",
              "      gap: 12px;\n",
              "    }\n",
              "\n",
              "    .colab-df-convert {\n",
              "      background-color: #E8F0FE;\n",
              "      border: none;\n",
              "      border-radius: 50%;\n",
              "      cursor: pointer;\n",
              "      display: none;\n",
              "      fill: #1967D2;\n",
              "      height: 32px;\n",
              "      padding: 0 0 0 0;\n",
              "      width: 32px;\n",
              "    }\n",
              "\n",
              "    .colab-df-convert:hover {\n",
              "      background-color: #E2EBFA;\n",
              "      box-shadow: 0px 1px 2px rgba(60, 64, 67, 0.3), 0px 1px 3px 1px rgba(60, 64, 67, 0.15);\n",
              "      fill: #174EA6;\n",
              "    }\n",
              "\n",
              "    .colab-df-buttons div {\n",
              "      margin-bottom: 4px;\n",
              "    }\n",
              "\n",
              "    [theme=dark] .colab-df-convert {\n",
              "      background-color: #3B4455;\n",
              "      fill: #D2E3FC;\n",
              "    }\n",
              "\n",
              "    [theme=dark] .colab-df-convert:hover {\n",
              "      background-color: #434B5C;\n",
              "      box-shadow: 0px 1px 3px 1px rgba(0, 0, 0, 0.15);\n",
              "      filter: drop-shadow(0px 1px 2px rgba(0, 0, 0, 0.3));\n",
              "      fill: #FFFFFF;\n",
              "    }\n",
              "  </style>\n",
              "\n",
              "    <script>\n",
              "      const buttonEl =\n",
              "        document.querySelector('#df-32d9c71e-1808-4127-a271-aa7bf9af3c9a button.colab-df-convert');\n",
              "      buttonEl.style.display =\n",
              "        google.colab.kernel.accessAllowed ? 'block' : 'none';\n",
              "\n",
              "      async function convertToInteractive(key) {\n",
              "        const element = document.querySelector('#df-32d9c71e-1808-4127-a271-aa7bf9af3c9a');\n",
              "        const dataTable =\n",
              "          await google.colab.kernel.invokeFunction('convertToInteractive',\n",
              "                                                    [key], {});\n",
              "        if (!dataTable) return;\n",
              "\n",
              "        const docLinkHtml = 'Like what you see? Visit the ' +\n",
              "          '<a target=\"_blank\" href=https://colab.research.google.com/notebooks/data_table.ipynb>data table notebook</a>'\n",
              "          + ' to learn more about interactive tables.';\n",
              "        element.innerHTML = '';\n",
              "        dataTable['output_type'] = 'display_data';\n",
              "        await google.colab.output.renderOutput(dataTable, element);\n",
              "        const docLink = document.createElement('div');\n",
              "        docLink.innerHTML = docLinkHtml;\n",
              "        element.appendChild(docLink);\n",
              "      }\n",
              "    </script>\n",
              "  </div>\n",
              "\n",
              "\n",
              "<div id=\"df-fb52aff7-332d-4ab2-9365-1e4c417b8632\">\n",
              "  <button class=\"colab-df-quickchart\" onclick=\"quickchart('df-fb52aff7-332d-4ab2-9365-1e4c417b8632')\"\n",
              "            title=\"Suggest charts\"\n",
              "            style=\"display:none;\">\n",
              "\n",
              "<svg xmlns=\"http://www.w3.org/2000/svg\" height=\"24px\"viewBox=\"0 0 24 24\"\n",
              "     width=\"24px\">\n",
              "    <g>\n",
              "        <path d=\"M19 3H5c-1.1 0-2 .9-2 2v14c0 1.1.9 2 2 2h14c1.1 0 2-.9 2-2V5c0-1.1-.9-2-2-2zM9 17H7v-7h2v7zm4 0h-2V7h2v10zm4 0h-2v-4h2v4z\"/>\n",
              "    </g>\n",
              "</svg>\n",
              "  </button>\n",
              "\n",
              "<style>\n",
              "  .colab-df-quickchart {\n",
              "      --bg-color: #E8F0FE;\n",
              "      --fill-color: #1967D2;\n",
              "      --hover-bg-color: #E2EBFA;\n",
              "      --hover-fill-color: #174EA6;\n",
              "      --disabled-fill-color: #AAA;\n",
              "      --disabled-bg-color: #DDD;\n",
              "  }\n",
              "\n",
              "  [theme=dark] .colab-df-quickchart {\n",
              "      --bg-color: #3B4455;\n",
              "      --fill-color: #D2E3FC;\n",
              "      --hover-bg-color: #434B5C;\n",
              "      --hover-fill-color: #FFFFFF;\n",
              "      --disabled-bg-color: #3B4455;\n",
              "      --disabled-fill-color: #666;\n",
              "  }\n",
              "\n",
              "  .colab-df-quickchart {\n",
              "    background-color: var(--bg-color);\n",
              "    border: none;\n",
              "    border-radius: 50%;\n",
              "    cursor: pointer;\n",
              "    display: none;\n",
              "    fill: var(--fill-color);\n",
              "    height: 32px;\n",
              "    padding: 0;\n",
              "    width: 32px;\n",
              "  }\n",
              "\n",
              "  .colab-df-quickchart:hover {\n",
              "    background-color: var(--hover-bg-color);\n",
              "    box-shadow: 0 1px 2px rgba(60, 64, 67, 0.3), 0 1px 3px 1px rgba(60, 64, 67, 0.15);\n",
              "    fill: var(--button-hover-fill-color);\n",
              "  }\n",
              "\n",
              "  .colab-df-quickchart-complete:disabled,\n",
              "  .colab-df-quickchart-complete:disabled:hover {\n",
              "    background-color: var(--disabled-bg-color);\n",
              "    fill: var(--disabled-fill-color);\n",
              "    box-shadow: none;\n",
              "  }\n",
              "\n",
              "  .colab-df-spinner {\n",
              "    border: 2px solid var(--fill-color);\n",
              "    border-color: transparent;\n",
              "    border-bottom-color: var(--fill-color);\n",
              "    animation:\n",
              "      spin 1s steps(1) infinite;\n",
              "  }\n",
              "\n",
              "  @keyframes spin {\n",
              "    0% {\n",
              "      border-color: transparent;\n",
              "      border-bottom-color: var(--fill-color);\n",
              "      border-left-color: var(--fill-color);\n",
              "    }\n",
              "    20% {\n",
              "      border-color: transparent;\n",
              "      border-left-color: var(--fill-color);\n",
              "      border-top-color: var(--fill-color);\n",
              "    }\n",
              "    30% {\n",
              "      border-color: transparent;\n",
              "      border-left-color: var(--fill-color);\n",
              "      border-top-color: var(--fill-color);\n",
              "      border-right-color: var(--fill-color);\n",
              "    }\n",
              "    40% {\n",
              "      border-color: transparent;\n",
              "      border-right-color: var(--fill-color);\n",
              "      border-top-color: var(--fill-color);\n",
              "    }\n",
              "    60% {\n",
              "      border-color: transparent;\n",
              "      border-right-color: var(--fill-color);\n",
              "    }\n",
              "    80% {\n",
              "      border-color: transparent;\n",
              "      border-right-color: var(--fill-color);\n",
              "      border-bottom-color: var(--fill-color);\n",
              "    }\n",
              "    90% {\n",
              "      border-color: transparent;\n",
              "      border-bottom-color: var(--fill-color);\n",
              "    }\n",
              "  }\n",
              "</style>\n",
              "\n",
              "  <script>\n",
              "    async function quickchart(key) {\n",
              "      const quickchartButtonEl =\n",
              "        document.querySelector('#' + key + ' button');\n",
              "      quickchartButtonEl.disabled = true;  // To prevent multiple clicks.\n",
              "      quickchartButtonEl.classList.add('colab-df-spinner');\n",
              "      try {\n",
              "        const charts = await google.colab.kernel.invokeFunction(\n",
              "            'suggestCharts', [key], {});\n",
              "      } catch (error) {\n",
              "        console.error('Error during call to suggestCharts:', error);\n",
              "      }\n",
              "      quickchartButtonEl.classList.remove('colab-df-spinner');\n",
              "      quickchartButtonEl.classList.add('colab-df-quickchart-complete');\n",
              "    }\n",
              "    (() => {\n",
              "      let quickchartButtonEl =\n",
              "        document.querySelector('#df-fb52aff7-332d-4ab2-9365-1e4c417b8632 button');\n",
              "      quickchartButtonEl.style.display =\n",
              "        google.colab.kernel.accessAllowed ? 'block' : 'none';\n",
              "    })();\n",
              "  </script>\n",
              "</div>\n",
              "    </div>\n",
              "  </div>\n"
            ]
          },
          "metadata": {},
          "execution_count": 5
        }
      ]
    },
    {
      "cell_type": "code",
      "source": [
        "print('Data NeuroVoz')\n",
        "print('Parkinson')\n",
        "PD_NeuroV=data_NeuroV[data_NeuroV['Label']==1].sort_values(by=['Speaker_ID'])['Speaker_ID'].unique()\n",
        "print(PD_NeuroV)\n",
        "print('size=', PD_NeuroV.shape)\n",
        "print('Control')\n",
        "HC_NeuroV=data_NeuroV[data_NeuroV['Label']==0].sort_values(by=['Speaker_ID'])['Speaker_ID'].unique()\n",
        "print(HC_NeuroV)\n",
        "print('size=', HC_NeuroV.shape)\n",
        "\n",
        "#Partition NeuroVoz\n",
        "Train_Subject_NeuroV=np.concatenate([PD_NeuroV, HC_NeuroV])\n",
        "print(\"Data NeuroVoz\")\n",
        "print(\"To test:\",np.unique(Train_Subject_NeuroV).shape)\n",
        "data_test_NeuroV=data_NeuroV"
      ],
      "metadata": {
        "colab": {
          "base_uri": "https://localhost:8080/"
        },
        "id": "JncLOiUkzaXx",
        "outputId": "a1d03e9a-af50-42a4-caa1-056eb1ffd5cc"
      },
      "execution_count": null,
      "outputs": [
        {
          "output_type": "stream",
          "name": "stdout",
          "text": [
            "Data NeuroVoz\n",
            "Parkinson\n",
            "[106 107 108 109 110 111 112 113 115 116 117 118 119 120 124 125 127 128\n",
            " 129 130 131 132 133 135 137 138 139 140 141 142 143 144 146 147 166 168\n",
            " 169 170 177 209 211 213 215 217]\n",
            "size= (44,)\n",
            "Control\n",
            "[134 136 148 149 151 152 153 154 155 156 160 161 162 163 164 172 174 175\n",
            " 176 181 182 185 186 205 212 216 218 220 222 228 230 231 232 234 236 237\n",
            " 238 240 241 242 243 245]\n",
            "size= (42,)\n",
            "Data NeuroVoz\n",
            "To test: (86,)\n"
          ]
        }
      ]
    },
    {
      "cell_type": "markdown",
      "source": [
        "# Train with: GITA"
      ],
      "metadata": {
        "id": "HCtw0nHzyXA4"
      }
    },
    {
      "cell_type": "markdown",
      "source": [
        "## Procesamiento de los datos\n",
        "Aquí se realiza el data augmentation\n",
        "https://librosa.org/doc/main/_modules/librosa/effects.html#pitch_shift"
      ],
      "metadata": {
        "id": "DIp4bb-trPGn"
      }
    },
    {
      "cell_type": "code",
      "source": [
        "#selecting 400ms overlap in 50ms of audio signal example\n",
        "def process_select_signals(data, SAMPLE_RATE, want_to_augment = True):\n",
        "    time_leng=0.4 #Esto son 400 ms.\n",
        "    sample_leng=int(time_leng*SAMPLE_RATE) #Sample_rate = 44100. sample_leng = 0.4*44100 = 17640\n",
        "    overloap=2\n",
        "    signals, y_label, subject_group, tono =[],[],[],[]\n",
        "    data_size = len(data)\n",
        "    total_segments=0\n",
        "    processed_audios = 0\n",
        "\n",
        "    if want_to_augment:\n",
        "      augmentedSignals, augmentedY_label, augmentedSubject_group =[],[],[]\n",
        "      augmented_data_counter = 0\n",
        "      augment_offset = 1000\n",
        "\n",
        "\n",
        "\n",
        "    #Processs data to train\n",
        "    for data_ind, file_path in enumerate(data.Path): #Here i got the paths to audio signals\n",
        "        audio, sample_rate = librosa.load(file_path, sr=SAMPLE_RATE) #Loading audio signals\n",
        "\n",
        "        augmented_flag = False\n",
        "\n",
        "        if want_to_augment: #Only if i want to augment\n",
        "          prob_aug = random.random()\n",
        "          if prob_aug <= 1: #Se va a aplicar siempre en este caso\n",
        "            bins_per_octave = 12 #This way we are working with the musical tones and semitones (C-D-E-F-G-A-B ....)\n",
        "            pitch_change = 4 * ((random.random()*2)-1) #This indicates how much the pitch will change, it is maximum 4 semitones up or 4 semitones down.\n",
        "            augmented_audio = librosa.effects.pitch_shift(audio,sr=sample_rate, n_steps=pitch_change, bins_per_octave=bins_per_octave)\n",
        "            data_size += 1 #Now i have one more audio to process\n",
        "            augmented_flag = True\n",
        "            augmented_data_counter += 1\n",
        "\n",
        "          #else: Don't apply data augmentantion\n",
        "\n",
        "        for a in range(2): #We do the proccesing step 2 times, first with the original audio, then with the augmented.\n",
        "          if want_to_augment and augmented_flag and a == 1:\n",
        "              audio = augmented_audio\n",
        "              #print(\"Now with the augmented data\")\n",
        "          elif (want_to_augment == False or augmented_flag == False) and a == 1:\n",
        "              break;\n",
        "\n",
        "          audio_len=len(audio)\n",
        "          audio=audio/np.max(abs(audio))\n",
        "          indx=[i for i,x in enumerate(np.sqrt(abs(audio))) if x>.30]\n",
        "\n",
        "          segments=0\n",
        "          if (indx[0]+sample_leng)<audio_len:\n",
        "              for i in range(int((-indx[0]+indx[len(indx)-1])/(sample_leng/overloap))):\n",
        "                  ind_start = i * int(sample_leng/overloap)+indx[0]\n",
        "                  ind_end = ind_start + sample_leng\n",
        "                  if ind_end <= indx[len(indx)-1]:\n",
        "                      signal=np.zeros(sample_leng)\n",
        "                      signal = audio[ind_start:int(ind_end)]\n",
        "\n",
        "                      if want_to_augment and augmented_flag and a == 1:\n",
        "                        #print(\"Adding segment to the augmented list\")\n",
        "                        augmentedSignals.append(signal) #Save segment of augmented audio\n",
        "                        augmentedY_label.append(data.iloc[data_ind]['Label']) #Save subject label\n",
        "                        augmentedSubject_group.append(data.iloc[data_ind]['Speaker_ID'] + augment_offset) #Save subject ID\n",
        "\n",
        "                      elif a == 0:\n",
        "                        #print(\"Adding segment to the real list\")\n",
        "                        signals.append(signal)\n",
        "                        y_label.append(data.iloc[data_ind]['Label'])\n",
        "                        subject_group.append(data.iloc[data_ind]['Speaker_ID'])\n",
        "\n",
        "                      segments=segments+1\n",
        "              processed_audios += 1\n",
        "              print(\" Processed {}/{} files\".format(processed_audios,data_size),end='')\n",
        "              print(\" Time audio: {} Segments {} \".format((audio_len-1)/sample_rate,segments))\n",
        "          else:\n",
        "              print(\" Processed {}/{} files\".format(processed_audios,data_size),end='')\n",
        "              print(\" Time audio: {} Segments {} \".format((audio_len-1)/sample_rate,0))\n",
        "          total_segments += segments\n",
        "\n",
        "    print(\" Total segments: \", total_segments)\n",
        "\n",
        "    signals = np.stack(signals,axis=0)\n",
        "    y_label = np.stack(y_label,axis=0)\n",
        "    subject_group = np.stack(subject_group,axis=0)\n",
        "\n",
        "    if want_to_augment:\n",
        "      augmentedSignals = np.stack(augmentedSignals,axis=0)\n",
        "      augmentedY_label = np.stack(augmentedY_label,axis=0)\n",
        "      augmentedSubject_group = np.stack(augmentedSubject_group,axis=0)\n",
        "      print(\" Total augmentations: \", augmented_data_counter)\n",
        "      return signals, y_label, subject_group, augmentedSignals, augmentedY_label, augmentedSubject_group\n",
        "\n",
        "    else:\n",
        "      return signals, y_label, subject_group"
      ],
      "metadata": {
        "id": "DFoF2YgXnUQy"
      },
      "execution_count": null,
      "outputs": []
    },
    {
      "cell_type": "code",
      "source": [
        "# Data train GITA + Data Augmentation\n",
        "signals_train_Gita, y_label_train_Gita, subject_group_train_Gita, aug_signals, aug_labels, aug_groups = process_select_signals(data_train_Gita, SAMPLE_RATE)\n",
        "\n",
        "print(\"-\"*40)\n",
        "# Data test NeuroVoz (sin data augmentation)\n",
        "signals_test_NeuroV, y_label_test_NeuroV, subject_group_test_NeuroV = process_select_signals(data_test_NeuroV, SAMPLE_RATE, want_to_augment = False)"
      ],
      "metadata": {
        "id": "4y5QOsOQpx7E"
      },
      "execution_count": null,
      "outputs": []
    },
    {
      "cell_type": "markdown",
      "source": [
        "### Verificación de tamaños"
      ],
      "metadata": {
        "id": "mO_JLAgTKn_b"
      }
    },
    {
      "cell_type": "markdown",
      "source": [
        "GITA"
      ],
      "metadata": {
        "id": "0ic2sbnPKvwL"
      }
    },
    {
      "cell_type": "code",
      "source": [
        "print('size data train', signals_train_Gita.shape)  # Debería dar size data train (1962, 17640).\n",
        "print('size labels train', y_label_train_Gita.shape)\n",
        "print('size group subject train', subject_group_train_Gita.shape)"
      ],
      "metadata": {
        "id": "8rOiJNH8lIMp"
      },
      "execution_count": null,
      "outputs": []
    },
    {
      "cell_type": "code",
      "source": [
        "print('size augmented signals', aug_signals.shape)\n",
        "print('size labels augmented', aug_labels.shape)\n",
        "print('size group subject augmented', aug_groups.shape)"
      ],
      "metadata": {
        "id": "p2mG6_DMlIMp"
      },
      "execution_count": null,
      "outputs": []
    },
    {
      "cell_type": "markdown",
      "source": [
        "NeuroVoz"
      ],
      "metadata": {
        "id": "r6lE7D3GKx1l"
      }
    },
    {
      "cell_type": "code",
      "source": [
        "print('size data test', signals_test_NeuroV.shape)  # Debería dar size data test (4985, 17640).\n",
        "print('size labels test', y_label_test_NeuroV.shape)\n",
        "print('size group subject test', subject_group_test_NeuroV.shape)"
      ],
      "metadata": {
        "id": "wleAL1lhKzKg"
      },
      "execution_count": null,
      "outputs": []
    },
    {
      "cell_type": "markdown",
      "source": [
        "## Espectrogramas"
      ],
      "metadata": {
        "id": "UZBY3QBt4Shk"
      }
    },
    {
      "cell_type": "code",
      "source": [
        "def compute_norm_spect(signals, sample_rate):\n",
        "    n_fft = 2048 #Numero de puntos\n",
        "    win_length = int(0.015*sample_rate)  # Tamaño de la ventana\n",
        "    hop_length = int(0.010*sample_rate)  # Tamaño del Hop\n",
        "    n_mels = 65                          # Número de ventanas de Mel\n",
        "\n",
        "    mel_spectrogram = T.MelSpectrogram(  #T from torchaudio.transforms. Configuración del espectrograma de Mel\n",
        "        sample_rate=sample_rate,\n",
        "        n_fft=n_fft,\n",
        "        win_length=win_length,\n",
        "        hop_length=hop_length,\n",
        "        center=True,\n",
        "        pad_mode=\"reflect\",\n",
        "        power=2.0,\n",
        "        norm=\"slaney\",\n",
        "        #onesided=True,\n",
        "        n_mels=n_mels,\n",
        "        mel_scale=\"htk\",\n",
        "    )\n",
        "\n",
        "\n",
        "    mel_spectrograms = []\n",
        "    scaler = StandardScaler()\n",
        "    print(\"Calculating mel spectrograms\")\n",
        "    for i in range(signals.shape[0]):\n",
        "        mel_spect = librosa.power_to_db(mel_spectrogram(torch.from_numpy(signals[i,:]))) #Calculamos el MelSpectrogram y Transformación a dB\n",
        "        mel_spect_norm=scaler.fit_transform(mel_spect) #Normalizamos a media 0, stdDev 1\n",
        "        mel_spectrograms.append(mel_spect_norm) #Guardamos los espectrogramas.\n",
        "        print(\"\\r Processed {}/{} files\".format(i,signals.shape[0]),end='')\n",
        "    mel_spectrograms = np.stack(mel_spectrograms,axis=0)\n",
        "    print(' ')\n",
        "    return mel_spectrograms"
      ],
      "metadata": {
        "id": "kePzTHqB3KbC"
      },
      "execution_count": null,
      "outputs": []
    },
    {
      "cell_type": "code",
      "source": [
        "#Data train\n",
        "mel_spectrograms_train_Gita=compute_norm_spect(signals_train_Gita, SAMPLE_RATE)\n",
        "aug_mel_spectrograms = compute_norm_spect(aug_signals, SAMPLE_RATE)\n",
        "print('Data size:',mel_spectrograms_train_Gita.shape)\n",
        "\n",
        "print(\"-\"*40)\n",
        "#Data test\n",
        "mel_spectrograms_test_NeuroV=compute_norm_spect(signals_test_NeuroV, SAMPLE_RATE)\n",
        "print('Data size:',mel_spectrograms_test_NeuroV.shape)"
      ],
      "metadata": {
        "id": "Jcy40l1F3PpD"
      },
      "execution_count": null,
      "outputs": []
    },
    {
      "cell_type": "markdown",
      "source": [
        "## Verificación visual y auditiva"
      ],
      "metadata": {
        "id": "T95umySYhOlb"
      }
    },
    {
      "cell_type": "code",
      "source": [
        "#Sólo para ver, no es necesario ejecutarla.\n",
        "offset = 0\n",
        "plt.subplot(1, 2, 1)\n",
        "plt.imshow(mel_spectrograms_train_Gita[offset], cmap='viridis', origin='lower', aspect='auto')\n",
        "plt.colorbar(format='%+2.0f dB')\n",
        "plt.title('Espectrograma de Mel- Original. Sujeto: {}'.format(subject_group_train_Gita[offset]))\n",
        "\n",
        "plt.subplot(1, 2, 2)\n",
        "plt.imshow(aug_mel_spectrograms[offset], cmap='viridis', origin='lower', aspect='auto')\n",
        "plt.colorbar(format='%+2.0f dB')\n",
        "plt.title('Espectrograma de Mel - Speed Changed. Sujeto: {}'.format(aug_groups[offset]))\n",
        "\n",
        "plt.tight_layout()\n",
        "plt.savefig('/content/drive/MyDrive/Memoria/Imagenes/pitchChange_segmented_.png')\n",
        "plt.show()"
      ],
      "metadata": {
        "id": "4-Rq3YAbmP5L"
      },
      "execution_count": null,
      "outputs": []
    },
    {
      "cell_type": "code",
      "source": [
        "#Pruebas para escuchar - Original Segmentado\n",
        "sujeto = 0\n",
        "Audio(signals_train_Gita[sujeto],rate=SAMPLE_RATE)"
      ],
      "metadata": {
        "id": "zi_wDT1HmP5L"
      },
      "execution_count": null,
      "outputs": []
    },
    {
      "cell_type": "code",
      "source": [
        "#Pruebas para escuchar - Aumentado Segmentado\n",
        "Audio(aug_signals[sujeto],rate=SAMPLE_RATE)"
      ],
      "metadata": {
        "id": "8MAUP7UxMbwW"
      },
      "execution_count": null,
      "outputs": []
    },
    {
      "cell_type": "code",
      "source": [
        "#Pruebas para escuchar - Original Completo\n",
        "original, sample_rate = librosa.load(data_train_Gita['Path'][sujeto], sr=SAMPLE_RATE)\n",
        "Audio(original, rate=SAMPLE_RATE)"
      ],
      "metadata": {
        "id": "HaOudKjNMufN"
      },
      "execution_count": null,
      "outputs": []
    },
    {
      "cell_type": "code",
      "source": [
        "#Pruebas para escuchar - Aumentado Completo\n",
        "y_pitch = original.copy()\n",
        "bins_per_octave = 12\n",
        "pitch_change = 4\n",
        "y_pitch = librosa.effects.pitch_shift(audio,sr=SAMPLE_RATE, n_steps=pitch_change, bins_per_octave=bins_per_octave)\n",
        "sf.write('/content/drive/MyDrive/Memoria/audiosAumentados/pitchChange_completa_4up.wav', y_stretch, SAMPLE_RATE)\n",
        "Audio(y_pitch, rate=SAMPLE_RATE)"
      ],
      "metadata": {
        "id": "_kdApyGJNZtb"
      },
      "execution_count": null,
      "outputs": []
    },
    {
      "cell_type": "markdown",
      "source": [
        "## Diseño y entrenamiento de la red convolucional"
      ],
      "metadata": {
        "id": "9_uPYYbqq8Ky"
      }
    },
    {
      "cell_type": "code",
      "source": [
        "class CNN(nn.Module):\n",
        "\n",
        "        def __init__(self, kernel_size_1=8, kernel_size_2=9, depth_CL=64, neurons_MLP=64, drop_out=0.2):\n",
        "            super().__init__()\n",
        "\n",
        "            # 1. conv block\n",
        "            self.conv2Dblock1 = nn.Sequential(\n",
        "            nn.Conv2d(in_channels=1,\n",
        "                       out_channels=depth_CL,\n",
        "                       kernel_size=kernel_size_1,\n",
        "                       stride=1,\n",
        "                       padding=1\n",
        "                      ),\n",
        "            nn.BatchNorm2d(depth_CL),\n",
        "            nn.ReLU(),\n",
        "            nn.MaxPool2d(kernel_size=2),\n",
        "            nn.Dropout(p=drop_out),\n",
        "            )\n",
        "\n",
        "            # 2. conv block\n",
        "            self.conv2Dblock2 = nn.Sequential(\n",
        "            nn.Conv2d(in_channels=depth_CL,\n",
        "                       out_channels=depth_CL,\n",
        "                       kernel_size=kernel_size_2,\n",
        "                       stride=1,\n",
        "                       padding=1\n",
        "                      ),\n",
        "            nn.BatchNorm2d(depth_CL),\n",
        "            nn.ReLU(),\n",
        "            nn.MaxPool2d(kernel_size=2),\n",
        "            nn.Dropout(p=drop_out),\n",
        "\n",
        "            )\n",
        "\n",
        "            self.MLP = nn.Sequential(\n",
        "                nn.Linear(depth_CL*math.ceil((math.ceil((65-kernel_size_1)/2+1)-kernel_size_2)/2+1)\n",
        "                          *math.ceil((math.ceil((41-kernel_size_1)/2+1)-kernel_size_2)/2+1),neurons_MLP),\n",
        "            nn.ReLU(),\n",
        "            nn.Dropout(p=drop_out),\n",
        "            )\n",
        "\n",
        "            self.out_softmax = nn.Sequential(\n",
        "                nn.Linear(neurons_MLP,2),\n",
        "                nn.Softmax(dim=1)\n",
        "            )\n",
        "\n",
        "\n",
        "        def forward(self,x):\n",
        "            x = self.conv2Dblock1(x)\n",
        "            conv_embedding = self.conv2Dblock2(x)\n",
        "            conv_embedding = torch.flatten(conv_embedding, start_dim=1)\n",
        "            MPL_output = self.MLP(conv_embedding)\n",
        "            output_softmax = self.out_softmax(MPL_output)\n",
        "            return output_softmax, MPL_output"
      ],
      "metadata": {
        "id": "NeucVhojq7N3"
      },
      "execution_count": null,
      "outputs": []
    },
    {
      "cell_type": "code",
      "source": [
        "def reset_weights(m):\n",
        "    for layer in m.children():\n",
        "        if hasattr(layer, 'reset_parameters'):\n",
        "            layer.reset_parameters()\n",
        "\n",
        "def soft_output_by_subject(output_test, Y_test, subject_group_test, ):\n",
        "\n",
        "    Y_test_bySubject= []\n",
        "    output_test_bySubjects=torch.empty((1,2),device=output_test.device.type)\n",
        "    subject_in_group=np.unique(subject_group_test)\n",
        "    output_test_subject=torch.zeros(subject_in_group.shape)\n",
        "    Y_estimated_test_subject=torch.ones(subject_in_group.shape)\n",
        "    for i, speaker in enumerate(subject_in_group):\n",
        "        index_speaker = np.where(subject_group_test==speaker)\n",
        "        output_test_subject[i]=torch.mean(torch.log(output_test[index_speaker][:,1]) -torch.log(output_test[index_speaker][:,0]),0)\n",
        "        Y_test_bySubject.append(Y_test[index_speaker][0])\n",
        "\n",
        "\n",
        "    Y_test_tensor_bySubject = torch.tensor(Y_test_bySubject,dtype=torch.long,device=device)\n",
        "    Y_estimated_test_subject[output_test_subject<0]=0\n",
        "    return output_test_subject , Y_test_tensor_bySubject,Y_estimated_test_subject"
      ],
      "metadata": {
        "id": "9dvSRpyns8y8"
      },
      "execution_count": null,
      "outputs": []
    },
    {
      "cell_type": "code",
      "source": [
        "sgkf = StratifiedGroupKFold(n_splits=10)\n",
        "\n",
        "Data_Gita_strat=sgkf.split(mel_spectrograms_train_Gita, y=y_label_train_Gita, groups=subject_group_train_Gita)\n",
        "\n",
        "device = 'cuda' if torch.cuda.is_available() else 'cpu'\n",
        "\n",
        "if device=='cuda':\n",
        "    print(\"cuda\")\n",
        "    #torch.cuda.set_device(1)\n",
        "\n",
        "BATCH_SIZE = 64\n",
        "\n",
        "\n",
        "#Data to test NeuroV\n",
        "X_test_NeuroV =np.expand_dims(np.stack(mel_spectrograms_test_NeuroV, axis=0),1)\n",
        "Y_test_NeuroV= y_label_test_NeuroV\n",
        "X_test_tensor_NeuroV = torch.tensor(X_test_NeuroV,device=device).float()\n",
        "Y_test_tensor_NeuroV = torch.tensor(Y_test_NeuroV,dtype=torch.long,device=device)\n",
        "\n",
        "\n",
        "#Métricas del modelo\n",
        "results_val_metric_subject_Gita  = []\n",
        "Subject_Sen_spe_Gita, Subject_f1_score_Gita, Subject_MCC_Gita, Subject_AUC_Gita=[],[],[],[]\n",
        "Subject_fpr_Gita, Subject_tpr_Gita=[],[]\n",
        "results_loss_Epochs, results_metric_Epochs= [], []\n",
        "results_val_metric_Gita_Epochs, results_val_loss_Gita_Epochs=[],[]\n",
        "\n",
        "#Métricas de validación con el mismo dataset\n",
        "val_windows_metrics_Gita, val_subject_metrics_Gita=[],[]\n",
        "\n",
        "#Para test con Neurovoz\n",
        "test_windows_metrics_NeuroV, test_subject_metrics_NeuroV=[],[]\n",
        "\n",
        "#Para T-SNE:\n",
        "flattern_train_CNN_Original, Y_train_Original_fold =[],[]\n",
        "flattern_train_CNN_Augmented, Y_train_Augmented_fold =[],[]\n",
        "\n",
        "for k in range(10):\n",
        "    results_loss, results_metric, results_val_metric_Gita, results_val_loss_Gita,  = [], [], [], []\n",
        "\n",
        "\n",
        "    print('')\n",
        "    print(f\"\\k-fold {k + 1} \\n***********************\")\n",
        "\n",
        "    train_index_Gita, val_index_Gita =next(iter(Data_Gita_strat))\n",
        "\n",
        "    print(np.unique(subject_group_train_Gita[val_index_Gita])) #Imprimo los índices que serán usados en validation\n",
        "\n",
        "\n",
        "    #Variables para T-SNE\n",
        "    X_Original = np.expand_dims(np.stack(mel_spectrograms_train_Gita[train_index_Gita,:,:], axis=0),1)\n",
        "    X_tensor_Original = torch.tensor(X_Original,device=device).float()\n",
        "    Y_tensor_Original = torch.tensor(y_label_train_Gita[train_index_Gita], dtype=torch.long,device=device)\n",
        "\n",
        "    X_Augmented = np.expand_dims(np.stack(aug_mel_spectrograms, axis=0),1)\n",
        "    X_tensor_Augmented = torch.tensor(X_Augmented,device=device).float()\n",
        "    Y_tensor_Augmented = torch.tensor(aug_labels, dtype=torch.long,device=device)\n",
        "\n",
        "    #Data to train. Augmented variables: aug_signals, aug_labels, aug_groups, aug_mel_spectrograms\n",
        "\n",
        "    X_train = np.expand_dims(np.stack(np.concatenate([mel_spectrograms_train_Gita[train_index_Gita,:,:], aug_mel_spectrograms], axis=0), axis=0),1) #Acá poner + augmentedSpec\n",
        "    Y_train = np.concatenate([y_label_train_Gita[train_index_Gita], aug_labels],axis=0) #Aca igua ponerle las de augmented\n",
        "\n",
        "    X_tensor = torch.tensor(X_train,device=device).float()\n",
        "    Y_tensor = torch.tensor(Y_train, dtype=torch.long,device=device)\n",
        "\n",
        "    subject_group_train=np.concatenate([subject_group_train_Gita[train_index_Gita], aug_groups],axis=0)#Acá igual concatenar las de augmented\n",
        "\n",
        "\n",
        "    #Data to val Gita\n",
        "    X_val_Gita =np.expand_dims(np.stack(mel_spectrograms_train_Gita[val_index_Gita,:,:], axis=0),1)\n",
        "    Y_val_Gita= y_label_train_Gita[val_index_Gita]\n",
        "    subject_group_val_Gita=subject_group_train_Gita[val_index_Gita]\n",
        "    X_val_tensor_Gita = torch.tensor(X_val_Gita,device=device).float()\n",
        "    Y_val_tensor_Gita = torch.tensor(Y_val_Gita,dtype=torch.long,device=device)\n",
        "\n",
        "\n",
        "    DATASET_SIZE=X_train.shape[0]\n",
        "    iters = int(DATASET_SIZE / BATCH_SIZE)\n",
        "\n",
        "    model = CNN().to(device)\n",
        "    model.apply(reset_weights)\n",
        "\n",
        "\n",
        "    loss_func = nn.CrossEntropyLoss()\n",
        "    optimizer = torch.optim.SGD(model.parameters(),lr=0.1)\n",
        "    lambda1 = lambda epoch: 0.95 ** epoch\n",
        "    scheduler = torch.optim.lr_scheduler.LambdaLR(optimizer, lr_lambda=lambda1)\n",
        "\n",
        "\n",
        "    dataset=TensorDataset(X_tensor,Y_tensor)\n",
        "    dataloader = DataLoader(dataset, batch_size=BATCH_SIZE, shuffle=True)\n",
        "\n",
        "    for epoch in range(100): #200 épocas\n",
        "        epoch_acc = 0\n",
        "        epoch_loss = 0\n",
        "        for id_batch, (x_batch, y_batch) in enumerate(dataloader):\n",
        "            actual_batch_size=x_batch.shape[0]\n",
        "\n",
        "            # zero the parameter gradients\n",
        "            model.train()\n",
        "            optimizer.zero_grad()\n",
        "\n",
        "            # forward\n",
        "            outputs = model(x_batch)[0]\n",
        "\n",
        "            # calculate accuracy\n",
        "            prediction = torch.max(outputs, 1)[1]\n",
        "            metric = sklearn.metrics.accuracy_score(y_batch.data.cpu(), prediction.data.cpu())*100\n",
        "\n",
        "\n",
        "            # calculate loss + backward + optimize\n",
        "            loss = loss_func(outputs, y_batch)\n",
        "            loss.backward()\n",
        "            optimizer.step()\n",
        "\n",
        "            epoch_acc += metric*actual_batch_size/DATASET_SIZE\n",
        "            epoch_loss += loss.item()*actual_batch_size/DATASET_SIZE\n",
        "        print(f\"\\r Epoch {epoch +1}: iteration {id_batch +1}/{iters} Acc_class: {epoch_acc:.2f}\",end='')\n",
        "\n",
        "\n",
        "        scheduler.step()\n",
        "\n",
        "        with torch.no_grad():\n",
        "            model.eval()\n",
        "            output_val_Gita = model(X_val_tensor_Gita)[0]\n",
        "            prediction_val_Gita = torch.max(output_val_Gita, 1)[1]\n",
        "            val_metric_Gita = sklearn.metrics.accuracy_score(Y_val_tensor_Gita.data.cpu(), prediction_val_Gita.data.cpu())*100\n",
        "            val_loss_Gita = loss_func(output_val_Gita, Y_val_tensor_Gita.data)\n",
        "\n",
        "            output_val_bySubjects_Gita, Y_val_tensor_bySubject_Gita, prediction_val_bySubject_Gita =soft_output_by_subject(output_val_Gita, Y_val_Gita, subject_group_val_Gita)\n",
        "            val_metric_subject_Gita = sklearn.metrics.accuracy_score(Y_val_tensor_bySubject_Gita.data.cpu(), prediction_val_bySubject_Gita.data.cpu())*100\n",
        "\n",
        "        # append history\n",
        "        results_loss.append(epoch_loss)\n",
        "        results_metric.append(epoch_acc)\n",
        "        results_val_metric_Gita.append(val_metric_Gita)\n",
        "        results_val_metric_subject_Gita.append(val_metric_subject_Gita)\n",
        "        results_val_loss_Gita.append(val_loss_Gita.item())\n",
        "\n",
        "\n",
        "    print('')\n",
        "    print(f\"\\r validation Gita: {val_metric_Gita:.2f} % by Subject: {val_metric_subject_Gita:.2f}%  \")\n",
        "\n",
        "    #compute metrics\n",
        "    Sen_spe_subject_Gita=sensitivity_specificity_support(Y_val_tensor_bySubject_Gita.data.cpu(), prediction_val_bySubject_Gita.data.cpu(), average='binary')*100\n",
        "    val_f1_score_Gita = sklearn.metrics.f1_score(Y_val_tensor_bySubject_Gita.data.cpu(), prediction_val_bySubject_Gita.data.cpu())*100\n",
        "    val_MCC_Gita = sklearn.metrics.matthews_corrcoef(Y_val_tensor_bySubject_Gita.data.cpu(), prediction_val_bySubject_Gita.data.cpu())\n",
        "    val_fpr_Gita, val_tpr_Gita, _ = sklearn.metrics.roc_curve(Y_val_tensor_bySubject_Gita.data.cpu(), output_val_bySubjects_Gita.data.cpu())\n",
        "    val_AUC_Gita = sklearn.metrics.auc(val_fpr_Gita, val_tpr_Gita)\n",
        "\n",
        "    #Métricas para T-SNE\n",
        "    with torch.no_grad():\n",
        "        model.eval()\n",
        "        output_train_Original, train_CNN_Original = model(X_tensor_Original)\n",
        "        output_train_Augmented, train_CNN_Augmented = model(X_tensor_Augmented)\n",
        "\n",
        "    with torch.no_grad():\n",
        "        model.eval()\n",
        "        output_test_NeuroV, output_CNN_NeuroV = model(X_test_tensor_NeuroV)\n",
        "        prediction_test_NeuroV = torch.max(output_test_NeuroV, 1)[1]\n",
        "\n",
        "    test_metric_NeuroV = sklearn.metrics.accuracy_score(Y_test_tensor_NeuroV.data.cpu(), prediction_test_NeuroV.data.cpu())*100\n",
        "\n",
        "    output_test_bySubjects_NeuroV, Y_test_tensor_bySubject_NeuroV, prediction_test_bySubject_NeuroV =soft_output_by_subject( output_test_NeuroV, Y_test_NeuroV, subject_group_test_NeuroV)\n",
        "    test_metric_subject_NeuroV = sklearn.metrics.accuracy_score(Y_test_tensor_bySubject_NeuroV.data.cpu(), prediction_test_bySubject_NeuroV.data.cpu())*100\n",
        "\n",
        "    results_loss_Epochs.append(results_loss)\n",
        "    results_metric_Epochs.append(results_metric)\n",
        "    results_val_metric_Gita_Epochs.append(results_val_metric_Gita)\n",
        "    results_val_loss_Gita_Epochs.append(results_val_loss_Gita)\n",
        "\n",
        "    val_windows_metrics_Gita.append(val_metric_Gita)\n",
        "    val_subject_metrics_Gita.append(val_metric_subject_Gita)\n",
        "    Subject_Sen_spe_Gita.append([Sen_spe_subject_Gita[0]*100, Sen_spe_subject_Gita[1]*100])\n",
        "    Subject_f1_score_Gita.append(val_f1_score_Gita)\n",
        "    Subject_MCC_Gita.append(val_MCC_Gita)\n",
        "    Subject_AUC_Gita.append(val_AUC_Gita)\n",
        "    Subject_fpr_Gita.append(val_fpr_Gita)\n",
        "    Subject_tpr_Gita.append(val_tpr_Gita)\n",
        "\n",
        "\n",
        "    #Variables para T-SNE\n",
        "    flattern_train_CNN_Original.append(train_CNN_Original)\n",
        "    Y_train_Original_fold.append(Y_tensor_Original)\n",
        "    flattern_train_CNN_Augmented.append(train_CNN_Augmented)\n",
        "    Y_train_Augmented_fold.append(Y_tensor_Augmented)\n",
        "\n",
        "    test_windows_metrics_NeuroV.append(test_metric_NeuroV)\n",
        "    test_subject_metrics_NeuroV.append(test_metric_subject_NeuroV)\n",
        "\n",
        "    torch.save(model.state_dict(), '/content/drive/MyDrive/Memoria/pitch_change/test5/CNN_Gita_pataka_fold_'+str(k)+'.pt')"
      ],
      "metadata": {
        "id": "dEcoCuW8tnQn"
      },
      "execution_count": null,
      "outputs": []
    },
    {
      "cell_type": "markdown",
      "source": [
        "## Métricas Gita"
      ],
      "metadata": {
        "id": "y5I2jbnVBeqw"
      }
    },
    {
      "cell_type": "code",
      "source": [
        "#Métricas\n",
        "print(f'Gita: Accuracy:    {np.mean(val_subject_metrics_Gita):.2f} ({np.std(val_subject_metrics_Gita):.2f})%')\n",
        "print(f\"\\r      Sensitivity: {np.mean(np.stack(Subject_Sen_spe_Gita,0),0)[0]:.2f} ({np.std(np.stack(Subject_Sen_spe_Gita,0),0)[0]:.2f})% \")\n",
        "print(f\"\\r      Specifity:   {np.mean(np.stack(Subject_Sen_spe_Gita,0),0)[1]:.2f} ({np.std(np.stack(Subject_Sen_spe_Gita,0),0)[1]:.2f})% \")\n",
        "print(f'\\r      f1_score:    {np.mean(Subject_f1_score_Gita):.2f} ({np.std(Subject_f1_score_Gita):.2f})%')\n",
        "print(f'\\r      MCC:         {np.mean(Subject_MCC_Gita):.2f} ({np.std(Subject_MCC_Gita):.2f})')\n",
        "print(f'\\r      AUC:         {np.mean(Subject_AUC_Gita):.2f} ({np.std(Subject_AUC_Gita):.2f})')\n"
      ],
      "metadata": {
        "colab": {
          "base_uri": "https://localhost:8080/"
        },
        "id": "fJvrhg4KBNOQ",
        "outputId": "8fab47c2-1464-4044-cf1e-7c582cc65657"
      },
      "execution_count": null,
      "outputs": [
        {
          "output_type": "stream",
          "name": "stdout",
          "text": [
            "Gita: Accuracy:    92.89 (7.86)%\n",
            "\r      Sensitivity: 90.00 (13.42)% \n",
            "\r      Specifity:   96.00 (8.00)% \n",
            "\r      f1_score:    92.17 (8.84)%\n",
            "\r      MCC:         0.87 (0.15)\n",
            "\r      AUC:         0.96 (0.07)\n"
          ]
        }
      ]
    },
    {
      "cell_type": "code",
      "source": [
        "results_loss_Epochs_mean=np.stack(results_loss_Epochs,0).mean(axis=0)\n",
        "results_loss_Epochs_std=np.stack(results_loss_Epochs,0).std(axis=0)\n",
        "\n",
        "results_val_loss_Gita_Epochs_mean=np.stack(results_val_loss_Gita_Epochs,0).mean(axis=0)\n",
        "results_val_loss_Gita_Epochs_mean=np.stack(results_val_loss_Gita_Epochs,0).mean(axis=0)\n",
        "results_val_loss_Gita_Epochs_std=np.stack(results_val_loss_Gita_Epochs,0).std(axis=0)\n",
        "\n",
        "fig, ax = plt.subplots(figsize=(8, 4))\n",
        "ax.plot(range(epoch+1),results_loss_Epochs_mean, alpha=0.5, color='#888888', label='train', linewidth = 2.0)\n",
        "ax.fill_between(range(epoch+1), results_loss_Epochs_mean - results_loss_Epochs_std, results_loss_Epochs_mean + results_loss_Epochs_std, color='#888888', alpha=0.4)\n",
        "\n",
        "ax.plot(range(epoch+1),results_val_loss_Gita_Epochs_mean, alpha=0.5, color='blue', label='Validation Gita', linewidth = 2.0)\n",
        "ax.fill_between(range(epoch+1), results_val_loss_Gita_Epochs_mean - results_val_loss_Gita_Epochs_std, results_val_loss_Gita_Epochs_mean + results_val_loss_Gita_Epochs_std, color='blue', alpha=0.2)\n",
        "\n",
        "\n",
        "ax.set_ylim([0,1])\n",
        "ax.legend(loc='lower right')\n",
        "ax.set_ylabel(\"Loss\")\n",
        "ax.set_xlabel(\"Epoch\")\n",
        "plt.savefig(\"/content/drive/MyDrive/Memoria/pitch_change/test5/Loss_Train_Validation_pataka.pdf\", dpi=150)\n",
        "\n",
        "results_metric_Epochs_mean=np.stack(results_metric_Epochs,0).mean(axis=0)\n",
        "results_metric_Epochs_std=np.stack(results_metric_Epochs,0).std(axis=0)\n",
        "\n",
        "results_val_metric_Gita_Epochs_mean=np.stack(results_val_metric_Gita_Epochs,0).mean(axis=0)\n",
        "results_val_metric_Gita_Epochs_std=np.stack(results_val_metric_Gita_Epochs,0).std(axis=0)\n",
        "\n",
        "\n",
        "fig, ax = plt.subplots(figsize=(8, 4))\n",
        "ax.plot(range(epoch+1),results_metric_Epochs_mean, alpha=0.5, color='#888888', label='train', linewidth = 2.0)\n",
        "ax.fill_between(range(epoch+1), results_metric_Epochs_mean - results_metric_Epochs_std, results_metric_Epochs_mean + results_metric_Epochs_std, color='#888888', alpha=0.4)\n",
        "\n",
        "ax.plot(range(epoch+1),results_val_metric_Gita_Epochs_mean, alpha=0.5, color='blue', label='Validation Gita', linewidth = 2.0)\n",
        "ax.fill_between(range(epoch+1), results_val_metric_Gita_Epochs_mean - results_val_metric_Gita_Epochs_std, results_val_metric_Gita_Epochs_mean + results_val_metric_Gita_Epochs_std, color='blue', alpha=0.2)\n",
        "\n",
        "ax.set_ylim([30,100])\n",
        "ax.legend(loc='lower right')\n",
        "\n",
        "ax.set_ylabel(\"Accuracy (%)\")\n",
        "ax.set_xlabel(\"Epoch\")\n",
        "plt.savefig(\"/content/drive/MyDrive/Memoria/pitch_change/test5/Accuracy_Train_Validation_pataka_prob_100.pdf\", dpi=150)"
      ],
      "metadata": {
        "colab": {
          "base_uri": "https://localhost:8080/",
          "height": 769
        },
        "id": "XG_oAyzjBhzW",
        "outputId": "10f72909-eadf-4ee6-eaa1-5487575d181d"
      },
      "execution_count": null,
      "outputs": [
        {
          "output_type": "display_data",
          "data": {
            "text/plain": [
              "<Figure size 800x400 with 1 Axes>"
            ],
            "image/png": "[encoded data removed]"
          },
          "metadata": {}
        },
        {
          "output_type": "display_data",
          "data": {
            "text/plain": [
              "<Figure size 800x400 with 1 Axes>"
            ],
            "image/png": "[encoded data removed]"
          },
          "metadata": {}
        }
      ]
    },
    {
      "cell_type": "code",
      "source": [
        "print(f'Gita: Accuracy by windows:, {np.mean(val_windows_metrics_Gita):.2f} ({np.std(val_windows_metrics_Gita):.2f})%,Accuracy by subject:{np.mean(val_subject_metrics_Gita):.2f} ({np.std(val_subject_metrics_Gita):.2f})')"
      ],
      "metadata": {
        "colab": {
          "base_uri": "https://localhost:8080/"
        },
        "id": "lbwBtJmYsBVU",
        "outputId": "8ffb51bb-cf08-4134-fc19-573c9a9e48d1"
      },
      "execution_count": null,
      "outputs": [
        {
          "output_type": "stream",
          "name": "stdout",
          "text": [
            "Gita: Accuracy by windows:, 88.59 (4.26)%,Accuracy by subject:92.89 (7.86)\n"
          ]
        }
      ]
    },
    {
      "cell_type": "code",
      "source": [
        "def plot_ROC_k_fold(fpr_k_folds,tpr_k_folds,auc_k_folds,folds, color):\n",
        "    mean_fpr = np.linspace(0, 1, 100)\n",
        "    fig, ax = plt.subplots(figsize=(6, 6))\n",
        "    ax.plot([0, 1], [0, 1], \"k--\", label=\"chance level (AUC = 0.5)\")\n",
        "    tprs=[]\n",
        "    for k in range(folds):\n",
        "        #display = sklearn.metrics.RocCurveDisplay(fpr=fpr_k_folds[k], tpr=tpr_k_folds[k], roc_auc=auc_k_folds[k],\n",
        "        #                           estimator_name='ROC fold'+str(k))\n",
        "        #display.plot()\n",
        "\n",
        "        interp_tpr = np.interp(mean_fpr, fpr_k_folds[k], tpr_k_folds[k])\n",
        "        interp_tpr[0] = 0.0\n",
        "        tprs.append(interp_tpr)\n",
        "    mean_tpr = np.mean(tprs, axis=0)\n",
        "    mean_auc =np.mean(auc_k_folds)\n",
        "    std_auc = np.std(auc_k_folds)\n",
        "    ax.plot(\n",
        "        mean_fpr,\n",
        "        mean_tpr,\n",
        "        color=color,\n",
        "        label=r\"Mean ROC (AUC = %0.2f $\\pm$ %0.2f)\" % (mean_auc, std_auc),\n",
        "        lw=2,\n",
        "        alpha=0.8,\n",
        "    )\n",
        "\n",
        "    std_tpr = np.std(tprs, axis=0)\n",
        "    tprs_upper = np.minimum(mean_tpr + std_tpr, 1)\n",
        "    tprs_lower = np.maximum(mean_tpr - std_tpr, 0)\n",
        "    ax.fill_between(\n",
        "        mean_fpr,\n",
        "        tprs_lower,\n",
        "        tprs_upper,\n",
        "        color=color,\n",
        "        alpha=0.2,\n",
        "        label=r\"$\\pm$ 1 std. dev.\",\n",
        "    )\n",
        "\n",
        "    ax.set(\n",
        "        xlim=[-0.05, 1.05],\n",
        "        ylim=[-0.05, 1.05],\n",
        "        xlabel=\"False Positive Rate\",\n",
        "        ylabel=\"True Positive Rate\",\n",
        "       # title=f\"Mean ROC curve with variability\\n(Positive label '{target_names[1]}')\",\n",
        "    )\n",
        "    ax.axis(\"square\")\n",
        "    ax.legend(loc=\"lower right\")\n",
        "    plt.savefig(\"/content/drive/MyDrive/Memoria/pitch_change/test5/ROC_Subject_fpr_Gita.pdf\", dpi=150)\n",
        "    plt.show()\n"
      ],
      "metadata": {
        "id": "ysdyBYUDsNkB"
      },
      "execution_count": null,
      "outputs": []
    },
    {
      "cell_type": "code",
      "source": [
        "plot_ROC_k_fold(Subject_fpr_Gita,Subject_tpr_Gita,Subject_AUC_Gita, 10, 'blue')"
      ],
      "metadata": {
        "colab": {
          "base_uri": "https://localhost:8080/",
          "height": 542
        },
        "id": "Y6KpPTPUsOmB",
        "outputId": "76a967d7-985a-48c2-f803-359ed3804138"
      },
      "execution_count": null,
      "outputs": [
        {
          "output_type": "display_data",
          "data": {
            "text/plain": [
              "<Figure size 600x600 with 1 Axes>"
            ],
            "image/png": "[encoded data removed]"
          },
          "metadata": {}
        }
      ]
    },
    {
      "cell_type": "markdown",
      "source": [
        "## Métricas Cross-Validation (Neurovoz)"
      ],
      "metadata": {
        "id": "dLnF6t1w4c_g"
      }
    },
    {
      "cell_type": "code",
      "source": [
        "print(f'NeuroV: Accuracy:  {np.mean(test_subject_metrics_NeuroV):.2f} ({np.std(test_subject_metrics_NeuroV):.2f})%')\n",
        "print(f'Test NeuroV: Accuracy by windows:, {np.mean(test_windows_metrics_NeuroV):.2f} ({np.std(test_windows_metrics_NeuroV):.2f})%,Accuracy by subject:{np.mean(test_subject_metrics_NeuroV):.2f} ({np.std(test_subject_metrics_NeuroV):.2f})')"
      ],
      "metadata": {
        "colab": {
          "base_uri": "https://localhost:8080/"
        },
        "id": "5V_29M1L4gqa",
        "outputId": "eed4d7d7-3348-4c38-a316-f55cef651a8d"
      },
      "execution_count": null,
      "outputs": [
        {
          "output_type": "stream",
          "name": "stdout",
          "text": [
            "NeuroV: Accuracy:  49.77 (2.84)%\n",
            "Test NeuroV: Accuracy by windows:, 46.60 (1.60)%,Accuracy by subject:49.77 (2.84)\n"
          ]
        }
      ]
    },
    {
      "cell_type": "markdown",
      "source": [
        "## T-SNE\n",
        "Esta etapa se usará para verificar el comportamiento interno de la red y como analiza las distintas caraterísticas de los espectrogramas"
      ],
      "metadata": {
        "id": "qxcqp4wS0aeO"
      }
    },
    {
      "cell_type": "code",
      "source": [
        "def plot_embedding(X, y, d, title=None):\n",
        "    \"\"\"Plot an embedding X with the class label y colored by the domain d.\"\"\"\n",
        "    x_min, x_max = np.min(X, 0), np.max(X, 0)\n",
        "    X = (X - x_min) / (x_max - x_min)\n",
        "    # Plot colors numbers\n",
        "    plt.figure(figsize=(10,10))\n",
        "    ax = plt.subplot(111)\n",
        "    colores=[(0,0.6,1), (0,0,1), (1,0.5,0.5), (1,0,0)  ]\n",
        "\n",
        "    for i in range(X.shape[0]):\n",
        "        # plot colored number\n",
        "        #plt.text(X[i, 0], X[i, 1], 'o',\n",
        "        #         color=colores[y[i]],\n",
        "        #         fontdict={ 'size': 14})\n",
        "        plt.plot(X[i, 0], X[i, 1], 'o',\n",
        "                 color=colores[y[i]],#plt.cm.brw(y[i]),\n",
        "                  )\n",
        "\n",
        "    plt.xticks([]), plt.yticks([])\n",
        "    plt.legend(['Original_HC', 'Original_PD', 'Augmented_HC', 'Augmented_PD'] )\n",
        "    ax = plt.gca()\n",
        "    leg = ax.get_legend()\n",
        "    leg.legendHandles[0].set_color((0,0.6,1))\n",
        "    leg.legendHandles[1].set_color((0,0,1))\n",
        "    leg.legendHandles[2].set_color((1,0.5,0.5))\n",
        "    leg.legendHandles[3].set_color((1,0,0))\n",
        "    if title is not None:\n",
        "        plt.title(title)"
      ],
      "metadata": {
        "id": "BV1peHda1GWb"
      },
      "execution_count": null,
      "outputs": []
    },
    {
      "cell_type": "code",
      "source": [
        "t_SNE= TSNE(n_components=2,n_iter=500,n_iter_without_progress=150, n_jobs=2, random_state=0)\n",
        "\n",
        "for k in range(10):\n",
        "    CCN_train=np.concatenate([flattern_train_CNN_Original[k].data.cpu(), flattern_train_CNN_Augmented[k].data.cpu()])\n",
        "    Y_train=np.concatenate([Y_train_Original_fold[k].data.cpu(), Y_train_Augmented_fold[k].data.cpu()])\n",
        "    Y_train_plot=np.concatenate([Y_train_Original_fold[k].data.cpu(), Y_train_Augmented_fold[k].data.cpu()+2])\n",
        "    domain_train=np.concatenate([np.zeros(Y_train_Original_fold[k].shape), np.ones( Y_train_Augmented_fold[k].shape)])\n",
        "\n",
        "    projections=t_SNE.fit_transform(CCN_train,Y_train)\n",
        "\n",
        "    plot_embedding(projections,Y_train_plot,domain_train, 't-SNE embeedding')\n",
        "    plt.savefig(\"/content/drive/MyDrive/Memoria/pitch_change/test5/T-SNE{}.pdf\".format(k), dpi=150)\n",
        "\n",
        "    plt.show()\n"
      ],
      "metadata": {
        "id": "ALrXkQsD0Z_K"
      },
      "execution_count": null,
      "outputs": []
    },
    {
      "cell_type": "markdown",
      "source": [
        "# Train with: NeuroVoz"
      ],
      "metadata": {
        "id": "_IVq5raMmpvT"
      }
    },
    {
      "cell_type": "markdown",
      "source": [
        "## Processing"
      ],
      "metadata": {
        "id": "BAdyJolTniU7"
      }
    },
    {
      "cell_type": "code",
      "source": [
        "# Data test GITA (sin data augmentation)\n",
        "signals_test_Gita, y_label_test_Gita, subject_group_test_Gita = process_select_signals(data_train_Gita, SAMPLE_RATE, want_to_augment = False)\n",
        "\n",
        "print(\"-\"*40)\n",
        "# Data train NeuroVoz + Data Augmentation\n",
        "signals_train_NeuroV, y_label_train_NeuroV, subject_group_train_NeuroV, aug_signals, aug_labels, aug_groups = process_select_signals(data_test_NeuroV, SAMPLE_RATE)"
      ],
      "metadata": {
        "id": "kexao050mevW"
      },
      "execution_count": null,
      "outputs": []
    },
    {
      "cell_type": "markdown",
      "source": [
        "### Verificación de tamaños"
      ],
      "metadata": {
        "id": "aogH8KLNG8T4"
      }
    },
    {
      "cell_type": "markdown",
      "source": [
        "GITA"
      ],
      "metadata": {
        "id": "8j1G9ppxG8T4"
      }
    },
    {
      "cell_type": "code",
      "source": [
        "print('size data train', signals_test_Gita.shape)  # Debería dar size data train (1962, 17640).\n",
        "print('size labels train', y_label_test_Gita.shape)\n",
        "print('size group subject train', subject_group_test_Gita.shape)"
      ],
      "metadata": {
        "id": "nUS00i9iG8T5"
      },
      "execution_count": null,
      "outputs": []
    },
    {
      "cell_type": "markdown",
      "source": [
        "NeuroVoz"
      ],
      "metadata": {
        "id": "BCj0AJQsG8T5"
      }
    },
    {
      "cell_type": "code",
      "source": [
        "print('size data test', signals_train_NeuroV.shape)  # Debería dar size data test (4985, 17640).\n",
        "print('size labels test', y_label_train_NeuroV.shape)\n",
        "print('size group subject test', subject_group_train_NeuroV.shape)"
      ],
      "metadata": {
        "id": "kOE52o37G8T5"
      },
      "execution_count": null,
      "outputs": []
    },
    {
      "cell_type": "code",
      "source": [
        "print('size augmented signals', aug_signals.shape)\n",
        "print('size labels augmented', aug_labels.shape)\n",
        "print('size group subject augmented', aug_groups.shape)"
      ],
      "metadata": {
        "id": "KQxCtoUMG8T5"
      },
      "execution_count": null,
      "outputs": []
    },
    {
      "cell_type": "markdown",
      "source": [
        "## Espectrogramas"
      ],
      "metadata": {
        "id": "xzsVLok8uXXg"
      }
    },
    {
      "cell_type": "code",
      "source": [
        "def compute_norm_spect(signals, sample_rate):\n",
        "    n_fft = 2048 #Numero de puntos\n",
        "    win_length = int(0.015*sample_rate)  # Tamaño de la ventana\n",
        "    hop_length = int(0.010*sample_rate)  # Tamaño del Hop\n",
        "    n_mels = 65                          # Número de ventanas de Mel\n",
        "\n",
        "    mel_spectrogram = T.MelSpectrogram(  #T from torchaudio.transforms. Configuración del espectrograma de Mel\n",
        "        sample_rate=sample_rate,\n",
        "        n_fft=n_fft,\n",
        "        win_length=win_length,\n",
        "        hop_length=hop_length,\n",
        "        center=True,\n",
        "        pad_mode=\"reflect\",\n",
        "        power=2.0,\n",
        "        norm=\"slaney\",\n",
        "        #onesided=True,\n",
        "        n_mels=n_mels,\n",
        "        mel_scale=\"htk\",\n",
        "    )\n",
        "\n",
        "\n",
        "    mel_spectrograms = []\n",
        "    scaler = StandardScaler()\n",
        "    print(\"Calculating mel spectrograms\")\n",
        "    for i in range(signals.shape[0]):\n",
        "        mel_spect = librosa.power_to_db(mel_spectrogram(torch.from_numpy(signals[i,:]))) #Calculamos el MelSpectrogram y Transformación a dB\n",
        "        mel_spect_norm=scaler.fit_transform(mel_spect) #Normalizamos a media 0, stdDev 1\n",
        "        mel_spectrograms.append(mel_spect_norm) #Guardamos los espectrogramas.\n",
        "        print(\"\\r Processed {}/{} files\".format(i,signals.shape[0]),end='')\n",
        "    mel_spectrograms = np.stack(mel_spectrograms,axis=0)\n",
        "    print(' ')\n",
        "    return mel_spectrograms"
      ],
      "metadata": {
        "id": "Gk34k8x4ohmc"
      },
      "execution_count": null,
      "outputs": []
    },
    {
      "cell_type": "code",
      "source": [
        "#Data train\n",
        "mel_spectrograms_train_NeuroV=compute_norm_spect(signals_train_NeuroV, SAMPLE_RATE)\n",
        "aug_mel_spectrograms = compute_norm_spect(aug_signals, SAMPLE_RATE)\n",
        "print('Data size:',mel_spectrograms_train_NeuroV.shape)\n",
        "\n",
        "print(\"-\"*40)\n",
        "#Data test\n",
        "mel_spectrograms_test_Gita=compute_norm_spect(signals_test_Gita, SAMPLE_RATE)\n",
        "print('Data size:',mel_spectrograms_test_Gita.shape)"
      ],
      "metadata": {
        "id": "SNiSiRo8oBBw"
      },
      "execution_count": null,
      "outputs": []
    },
    {
      "cell_type": "markdown",
      "source": [
        "## Entrenamiento"
      ],
      "metadata": {
        "id": "QEmSw3fMFQqp"
      }
    },
    {
      "cell_type": "code",
      "source": [
        "class CNN(nn.Module):\n",
        "\n",
        "        def __init__(self, kernel_size_1=8, kernel_size_2=9, depth_CL=64, neurons_MLP=64, drop_out=0.2):\n",
        "            super().__init__()\n",
        "\n",
        "            # 1. conv block\n",
        "            self.conv2Dblock1 = nn.Sequential(\n",
        "            nn.Conv2d(in_channels=1,\n",
        "                       out_channels=depth_CL,\n",
        "                       kernel_size=kernel_size_1,\n",
        "                       stride=1,\n",
        "                       padding=1\n",
        "                      ),\n",
        "            nn.BatchNorm2d(depth_CL),\n",
        "            nn.ReLU(),\n",
        "            nn.MaxPool2d(kernel_size=2),\n",
        "            nn.Dropout(p=drop_out),\n",
        "            )\n",
        "\n",
        "            # 2. conv block\n",
        "            self.conv2Dblock2 = nn.Sequential(\n",
        "            nn.Conv2d(in_channels=depth_CL,\n",
        "                       out_channels=depth_CL,\n",
        "                       kernel_size=kernel_size_2,\n",
        "                       stride=1,\n",
        "                       padding=1\n",
        "                      ),\n",
        "            nn.BatchNorm2d(depth_CL),\n",
        "            nn.ReLU(),\n",
        "            nn.MaxPool2d(kernel_size=2),\n",
        "            nn.Dropout(p=drop_out),\n",
        "\n",
        "            )\n",
        "\n",
        "            self.MLP = nn.Sequential(\n",
        "                nn.Linear(depth_CL*math.ceil((math.ceil((65-kernel_size_1)/2+1)-kernel_size_2)/2+1)\n",
        "                          *math.ceil((math.ceil((41-kernel_size_1)/2+1)-kernel_size_2)/2+1),neurons_MLP),\n",
        "            nn.ReLU(),\n",
        "            nn.Dropout(p=drop_out),\n",
        "            )\n",
        "\n",
        "            self.out_softmax = nn.Sequential(\n",
        "                nn.Linear(neurons_MLP,2),\n",
        "                nn.Softmax(dim=1)\n",
        "            )\n",
        "\n",
        "\n",
        "        def forward(self,x):\n",
        "            x = self.conv2Dblock1(x)\n",
        "            conv_embedding = self.conv2Dblock2(x)\n",
        "            conv_embedding = torch.flatten(conv_embedding, start_dim=1)\n",
        "            MPL_output = self.MLP(conv_embedding)\n",
        "            output_softmax = self.out_softmax(MPL_output)\n",
        "            return output_softmax, MPL_output"
      ],
      "metadata": {
        "id": "W33sC-2-ot9m"
      },
      "execution_count": null,
      "outputs": []
    },
    {
      "cell_type": "code",
      "source": [
        "def reset_weights(m):\n",
        "    for layer in m.children():\n",
        "        if hasattr(layer, 'reset_parameters'):\n",
        "            layer.reset_parameters()\n",
        "\n",
        "def soft_output_by_subject(output_test, Y_test, subject_group_test, ):\n",
        "\n",
        "    Y_test_bySubject= []\n",
        "    output_test_bySubjects=torch.empty((1,2),device=output_test.device.type)\n",
        "    subject_in_group=np.unique(subject_group_test)\n",
        "    output_test_subject=torch.zeros(subject_in_group.shape)\n",
        "    Y_estimated_test_subject=torch.ones(subject_in_group.shape)\n",
        "    for i, speaker in enumerate(subject_in_group):\n",
        "        index_speaker = np.where(subject_group_test==speaker)\n",
        "        output_test_subject[i]=torch.mean(torch.log(output_test[index_speaker][:,1]) -torch.log(output_test[index_speaker][:,0]),0)\n",
        "        Y_test_bySubject.append(Y_test[index_speaker][0])\n",
        "\n",
        "\n",
        "    Y_test_tensor_bySubject = torch.tensor(Y_test_bySubject,dtype=torch.long,device=device)\n",
        "    Y_estimated_test_subject[output_test_subject<0]=0\n",
        "    return output_test_subject , Y_test_tensor_bySubject,Y_estimated_test_subject"
      ],
      "metadata": {
        "id": "PaC_CWemozI9"
      },
      "execution_count": null,
      "outputs": []
    },
    {
      "cell_type": "code",
      "source": [
        "sgkf = StratifiedGroupKFold(n_splits=10)\n",
        "\n",
        "Data_NeuroV_strat=sgkf.split(mel_spectrograms_train_NeuroV, y=y_label_train_NeuroV, groups=subject_group_train_NeuroV)\n",
        "\n",
        "device = 'cuda' if torch.cuda.is_available() else 'cpu'\n",
        "\n",
        "if device=='cuda':\n",
        "    print(\"cuda\")\n",
        "    #torch.cuda.set_device(1)\n",
        "\n",
        "BATCH_SIZE = 64\n",
        "\n",
        "\n",
        "#Data to test Gita\n",
        "X_test_Gita =np.expand_dims(np.stack(mel_spectrograms_test_Gita, axis=0),1)\n",
        "Y_test_Gita= y_label_test_Gita\n",
        "X_test_tensor_Gita = torch.tensor(X_test_Gita,device=device).float()\n",
        "Y_test_tensor_Gita = torch.tensor(Y_test_Gita,dtype=torch.long,device=device)\n",
        "\n",
        "\n",
        "#Métricas del modelo\n",
        "results_val_metric_subject_NeuroV  = []\n",
        "Subject_Sen_spe_NeuroV, Subject_f1_score_NeuroV, Subject_MCC_NeuroV, Subject_AUC_NeuroV=[],[],[],[]\n",
        "Subject_fpr_NeuroV, Subject_tpr_NeuroV=[],[]\n",
        "results_loss_Epochs, results_metric_Epochs= [], []\n",
        "results_val_metric_NeuroV_Epochs, results_val_loss_NeuroV_Epochs=[],[]\n",
        "\n",
        "#Métricas de validación con el mismo dataset\n",
        "val_windows_metrics_NeuroV, val_subject_metrics_NeuroV=[],[]\n",
        "\n",
        "#Para test con Gita\n",
        "test_windows_metrics_Gita, test_subject_metrics_Gita=[],[]\n",
        "\n",
        "#Para T-SNE:\n",
        "flattern_train_CNN_Original, Y_train_Original_fold =[],[]\n",
        "flattern_train_CNN_Augmented, Y_train_Augmented_fold =[],[]\n",
        "\n",
        "for k in range(10):\n",
        "    results_loss, results_metric, results_val_metric_NeuroV, results_val_loss_NeuroV,  = [], [], [], []\n",
        "\n",
        "\n",
        "    print('')\n",
        "    print(f\"\\k-fold {k + 1} \\n***********************\")\n",
        "\n",
        "    train_index_NeuroV, val_index_NeuroV =next(iter(Data_NeuroV_strat))\n",
        "\n",
        "    print(np.unique(subject_group_train_NeuroV[val_index_NeuroV])) #Imprimo los índices que serán usados en validation\n",
        "\n",
        "\n",
        "    #Variables para T-SNE\n",
        "    X_Original = np.expand_dims(np.stack(mel_spectrograms_train_NeuroV[train_index_NeuroV,:,:], axis=0),1)\n",
        "    X_tensor_Original = torch.tensor(X_Original,device=device).float()\n",
        "    Y_tensor_Original = torch.tensor(y_label_train_NeuroV[train_index_NeuroV], dtype=torch.long,device=device)\n",
        "\n",
        "    X_Augmented = np.expand_dims(np.stack(aug_mel_spectrograms, axis=0),1)\n",
        "    X_tensor_Augmented = torch.tensor(X_Augmented,device=device).float()\n",
        "    Y_tensor_Augmented = torch.tensor(aug_labels, dtype=torch.long,device=device)\n",
        "\n",
        "    #Data to train. Augmented variables: aug_signals, aug_labels, aug_groups, aug_mel_spectrograms\n",
        "\n",
        "    X_train = np.expand_dims(np.stack(np.concatenate([mel_spectrograms_train_NeuroV[train_index_NeuroV,:,:], aug_mel_spectrograms], axis=0), axis=0),1) #Acá poner + augmentedSpec\n",
        "    Y_train = np.concatenate([y_label_train_NeuroV[train_index_NeuroV], aug_labels],axis=0) #Aca igua ponerle las de augmented\n",
        "\n",
        "    X_tensor = torch.tensor(X_train,device=device).float()\n",
        "    Y_tensor = torch.tensor(Y_train, dtype=torch.long,device=device)\n",
        "\n",
        "    subject_group_train=np.concatenate([subject_group_train_NeuroV[train_index_NeuroV], aug_groups],axis=0)#Acá igual concatenar las de augmented\n",
        "\n",
        "\n",
        "    #Data to val NeuroV\n",
        "    X_val_NeuroV =np.expand_dims(np.stack(mel_spectrograms_train_NeuroV[val_index_NeuroV,:,:], axis=0),1)\n",
        "    Y_val_NeuroV= y_label_train_NeuroV[val_index_NeuroV]\n",
        "    subject_group_val_NeuroV=subject_group_train_NeuroV[val_index_NeuroV]\n",
        "    X_val_tensor_NeuroV = torch.tensor(X_val_NeuroV,device=device).float()\n",
        "    Y_val_tensor_NeuroV = torch.tensor(Y_val_NeuroV,dtype=torch.long,device=device)\n",
        "\n",
        "\n",
        "    DATASET_SIZE=X_train.shape[0]\n",
        "    iters = int(DATASET_SIZE / BATCH_SIZE)\n",
        "\n",
        "    model = CNN().to(device)\n",
        "    model.apply(reset_weights)\n",
        "\n",
        "\n",
        "    loss_func = nn.CrossEntropyLoss()\n",
        "    optimizer = torch.optim.SGD(model.parameters(),lr=0.1)\n",
        "    lambda1 = lambda epoch: 0.95 ** epoch\n",
        "    scheduler = torch.optim.lr_scheduler.LambdaLR(optimizer, lr_lambda=lambda1)\n",
        "\n",
        "\n",
        "    dataset=TensorDataset(X_tensor,Y_tensor)\n",
        "    dataloader = DataLoader(dataset, batch_size=BATCH_SIZE, shuffle=True)\n",
        "\n",
        "    for epoch in range(100): #100 épocas\n",
        "        epoch_acc = 0\n",
        "        epoch_loss = 0\n",
        "        for id_batch, (x_batch, y_batch) in enumerate(dataloader):\n",
        "            actual_batch_size=x_batch.shape[0]\n",
        "\n",
        "            # zero the parameter gradients\n",
        "            model.train()\n",
        "            optimizer.zero_grad()\n",
        "\n",
        "            # forward\n",
        "            outputs = model(x_batch)[0]\n",
        "\n",
        "            # calculate accuracy\n",
        "            prediction = torch.max(outputs, 1)[1]\n",
        "            metric = sklearn.metrics.accuracy_score(y_batch.data.cpu(), prediction.data.cpu())*100\n",
        "\n",
        "\n",
        "            # calculate loss + backward + optimize\n",
        "            loss = loss_func(outputs, y_batch)\n",
        "            loss.backward()\n",
        "            optimizer.step()\n",
        "\n",
        "            epoch_acc += metric*actual_batch_size/DATASET_SIZE\n",
        "            epoch_loss += loss.item()*actual_batch_size/DATASET_SIZE\n",
        "        print(f\"\\r Epoch {epoch +1}: iteration {id_batch +1}/{iters} Acc_class: {epoch_acc:.2f}\",end='')\n",
        "\n",
        "\n",
        "        scheduler.step()\n",
        "\n",
        "        with torch.no_grad():\n",
        "            model.eval()\n",
        "            output_val_NeuroV = model(X_val_tensor_NeuroV)[0]\n",
        "            prediction_val_NeuroV = torch.max(output_val_NeuroV, 1)[1]\n",
        "            val_metric_NeuroV = sklearn.metrics.accuracy_score(Y_val_tensor_NeuroV.data.cpu(), prediction_val_NeuroV.data.cpu())*100\n",
        "            val_loss_NeuroV = loss_func(output_val_NeuroV, Y_val_tensor_NeuroV.data)\n",
        "\n",
        "            output_val_bySubjects_NeuroV, Y_val_tensor_bySubject_NeuroV, prediction_val_bySubject_NeuroV =soft_output_by_subject(output_val_NeuroV, Y_val_NeuroV, subject_group_val_NeuroV)\n",
        "            val_metric_subject_NeuroV = sklearn.metrics.accuracy_score(Y_val_tensor_bySubject_NeuroV.data.cpu(), prediction_val_bySubject_NeuroV.data.cpu())*100\n",
        "\n",
        "        # append history\n",
        "        results_loss.append(epoch_loss)\n",
        "        results_metric.append(epoch_acc)\n",
        "        results_val_metric_NeuroV.append(val_metric_NeuroV)\n",
        "        results_val_metric_subject_NeuroV.append(val_metric_subject_NeuroV)\n",
        "        results_val_loss_NeuroV.append(val_loss_NeuroV.item())\n",
        "\n",
        "\n",
        "    print('')\n",
        "    print(f\"\\r validation NeuroV: {val_metric_NeuroV:.2f} % by Subject: {val_metric_subject_NeuroV:.2f}%  \")\n",
        "\n",
        "    #compute metrics\n",
        "    Sen_spe_subject_NeuroV=sensitivity_specificity_support(Y_val_tensor_bySubject_NeuroV.data.cpu(), prediction_val_bySubject_NeuroV.data.cpu(), average='binary')*100\n",
        "    val_f1_score_NeuroV = sklearn.metrics.f1_score(Y_val_tensor_bySubject_NeuroV.data.cpu(), prediction_val_bySubject_NeuroV.data.cpu())*100\n",
        "    val_MCC_NeuroV = sklearn.metrics.matthews_corrcoef(Y_val_tensor_bySubject_NeuroV.data.cpu(), prediction_val_bySubject_NeuroV.data.cpu())\n",
        "    val_fpr_NeuroV, val_tpr_NeuroV, _ = sklearn.metrics.roc_curve(Y_val_tensor_bySubject_NeuroV.data.cpu(), output_val_bySubjects_NeuroV.data.cpu())\n",
        "    val_AUC_NeuroV = sklearn.metrics.auc(val_fpr_NeuroV, val_tpr_NeuroV)\n",
        "\n",
        "    #Métricas para T-SNE\n",
        "    with torch.no_grad():\n",
        "        model.eval()\n",
        "        output_train_Original, train_CNN_Original = model(X_tensor_Original)\n",
        "        output_train_Augmented, train_CNN_Augmented = model(X_tensor_Augmented)\n",
        "\n",
        "    with torch.no_grad():\n",
        "        model.eval()\n",
        "        output_test_Gita, output_CNN_Gita = model(X_test_tensor_Gita)\n",
        "        prediction_test_Gita = torch.max(output_test_Gita, 1)[1]\n",
        "\n",
        "    test_metric_Gita = sklearn.metrics.accuracy_score(Y_test_tensor_Gita.data.cpu(), prediction_test_Gita.data.cpu())*100\n",
        "\n",
        "    output_test_bySubjects_Gita, Y_test_tensor_bySubject_Gita, prediction_test_bySubject_Gita =soft_output_by_subject( output_test_Gita, Y_test_Gita, subject_group_test_Gita)\n",
        "    test_metric_subject_Gita = sklearn.metrics.accuracy_score(Y_test_tensor_bySubject_Gita.data.cpu(), prediction_test_bySubject_Gita.data.cpu())*100\n",
        "\n",
        "    results_loss_Epochs.append(results_loss)\n",
        "    results_metric_Epochs.append(results_metric)\n",
        "    results_val_metric_NeuroV_Epochs.append(results_val_metric_NeuroV)\n",
        "    results_val_loss_NeuroV_Epochs.append(results_val_loss_NeuroV)\n",
        "\n",
        "    val_windows_metrics_NeuroV.append(val_metric_NeuroV)\n",
        "    val_subject_metrics_NeuroV.append(val_metric_subject_NeuroV)\n",
        "    Subject_Sen_spe_NeuroV.append([Sen_spe_subject_NeuroV[0]*100, Sen_spe_subject_NeuroV[1]*100])\n",
        "    Subject_f1_score_NeuroV.append(val_f1_score_NeuroV)\n",
        "    Subject_MCC_NeuroV.append(val_MCC_NeuroV)\n",
        "    Subject_AUC_NeuroV.append(val_AUC_NeuroV)\n",
        "    Subject_fpr_NeuroV.append(val_fpr_NeuroV)\n",
        "    Subject_tpr_NeuroV.append(val_tpr_NeuroV)\n",
        "\n",
        "\n",
        "    #Variables para T-SNE\n",
        "    flattern_train_CNN_Original.append(train_CNN_Original)\n",
        "    Y_train_Original_fold.append(Y_tensor_Original)\n",
        "    flattern_train_CNN_Augmented.append(train_CNN_Augmented)\n",
        "    Y_train_Augmented_fold.append(Y_tensor_Augmented)\n",
        "\n",
        "    test_windows_metrics_Gita.append(test_metric_Gita)\n",
        "    test_subject_metrics_Gita.append(test_metric_subject_Gita)\n",
        "\n",
        "    torch.save(model.state_dict(), '/content/drive/MyDrive/Memoria/pitch_change/testNeurovoz/CNN_NeuroV_pataka_fold_'+str(k)+'.pt')"
      ],
      "metadata": {
        "id": "wHO9nAKoo5ii"
      },
      "execution_count": null,
      "outputs": []
    },
    {
      "cell_type": "markdown",
      "source": [
        "## Métricas con Neurovoz"
      ],
      "metadata": {
        "id": "3JvVsZ9wviI_"
      }
    },
    {
      "cell_type": "code",
      "source": [
        "#Métricas\n",
        "print(f'NeuroV: Accuracy:    {np.mean(val_subject_metrics_NeuroV):.2f} ({np.std(val_subject_metrics_NeuroV):.2f})%')\n",
        "print(f\"\\r      Sensitivity: {np.mean(np.stack(Subject_Sen_spe_NeuroV,0),0)[0]:.2f} ({np.std(np.stack(Subject_Sen_spe_NeuroV,0),0)[0]:.2f})% \")\n",
        "print(f\"\\r      Specifity:   {np.mean(np.stack(Subject_Sen_spe_NeuroV,0),0)[1]:.2f} ({np.std(np.stack(Subject_Sen_spe_NeuroV,0),0)[1]:.2f})% \")\n",
        "print(f'\\r      f1_score:    {np.mean(Subject_f1_score_NeuroV):.2f} ({np.std(Subject_f1_score_NeuroV):.2f})%')\n",
        "print(f'\\r      MCC:         {np.mean(Subject_MCC_NeuroV):.2f} ({np.std(Subject_MCC_NeuroV):.2f})')\n",
        "print(f'\\r      AUC:         {np.mean(Subject_AUC_NeuroV):.2f} ({np.std(Subject_AUC_NeuroV):.2f})')\n"
      ],
      "metadata": {
        "id": "WQDndNHJtub0"
      },
      "execution_count": null,
      "outputs": []
    },
    {
      "cell_type": "code",
      "source": [
        "print(f'NeuroV: Accuracy by windows:, {np.mean(val_windows_metrics_NeuroV):.2f} ({np.std(val_windows_metrics_NeuroV):.2f})%,Accuracy by subject:{np.mean(val_subject_metrics_NeuroV):.2f} ({np.std(val_subject_metrics_NeuroV):.2f})')"
      ],
      "metadata": {
        "id": "BN2KWa1ut1Xs"
      },
      "execution_count": null,
      "outputs": []
    },
    {
      "cell_type": "markdown",
      "source": [
        "## Cross-Validation con Gita"
      ],
      "metadata": {
        "id": "qEJmtu0rvgZr"
      }
    },
    {
      "cell_type": "code",
      "source": [
        "print(f'Gita: Accuracy:  {np.mean(test_subject_metrics_Gita):.2f} ({np.std(test_subject_metrics_Gita):.2f})%')\n",
        "print(f'Test Gita: Accuracy by windows:, {np.mean(test_windows_metrics_Gita):.2f} ({np.std(test_windows_metrics_Gita):.2f})%,Accuracy by subject:{np.mean(test_subject_metrics_Gita):.2f} ({np.std(test_subject_metrics_Gita):.2f})')"
      ],
      "metadata": {
        "colab": {
          "base_uri": "https://localhost:8080/"
        },
        "outputId": "3e6ddf55-e756-47e4-b26a-bfbf9f79ba63",
        "id": "m4XXOPRIt6C-"
      },
      "execution_count": null,
      "outputs": [
        {
          "output_type": "stream",
          "name": "stdout",
          "text": [
            "Gita: Accuracy:  49.60 (2.29)%\n",
            "Test Gita: Accuracy by windows:, 49.29 (1.47)%,Accuracy by subject:49.60 (2.29)\n"
          ]
        }
      ]
    },
    {
      "cell_type": "markdown",
      "source": [
        "## Curvas (Accuracy, Loss, ROC y T-SNE)"
      ],
      "metadata": {
        "id": "pZo9GNE0vq_k"
      }
    },
    {
      "cell_type": "code",
      "source": [
        "results_loss_Epochs_mean=np.stack(results_loss_Epochs,0).mean(axis=0)\n",
        "results_loss_Epochs_std=np.stack(results_loss_Epochs,0).std(axis=0)\n",
        "\n",
        "results_val_loss_NeuroV_Epochs_mean=np.stack(results_val_loss_NeuroV_Epochs,0).mean(axis=0)\n",
        "results_val_loss_NeuroV_Epochs_mean=np.stack(results_val_loss_NeuroV_Epochs,0).mean(axis=0)\n",
        "results_val_loss_NeuroV_Epochs_std=np.stack(results_val_loss_NeuroV_Epochs,0).std(axis=0)\n",
        "\n",
        "fig, ax = plt.subplots(figsize=(8, 4))\n",
        "ax.plot(range(epoch+1),results_loss_Epochs_mean, alpha=0.5, color='#888888', label='train', linewidth = 2.0)\n",
        "ax.fill_between(range(epoch+1), results_loss_Epochs_mean - results_loss_Epochs_std, results_loss_Epochs_mean + results_loss_Epochs_std, color='#888888', alpha=0.4)\n",
        "\n",
        "ax.plot(range(epoch+1),results_val_loss_NeuroV_Epochs_mean, alpha=0.5, color='blue', label='Validation NeuroV', linewidth = 2.0)\n",
        "ax.fill_between(range(epoch+1), results_val_loss_NeuroV_Epochs_mean - results_val_loss_NeuroV_Epochs_std, results_val_loss_NeuroV_Epochs_mean + results_val_loss_NeuroV_Epochs_std, color='blue', alpha=0.2)\n",
        "\n",
        "\n",
        "ax.set_ylim([0,1])\n",
        "ax.legend(loc='lower right')\n",
        "ax.set_ylabel(\"Loss\")\n",
        "ax.set_xlabel(\"Epoch\")\n",
        "plt.savefig(\"/content/drive/MyDrive/Memoria/pitch_change/testNeurovoz/Loss_Train_Validation_pataka.pdf\", dpi=150)\n",
        "\n",
        "results_metric_Epochs_mean=np.stack(results_metric_Epochs,0).mean(axis=0)\n",
        "results_metric_Epochs_std=np.stack(results_metric_Epochs,0).std(axis=0)\n",
        "\n",
        "results_val_metric_NeuroV_Epochs_mean=np.stack(results_val_metric_NeuroV_Epochs,0).mean(axis=0)\n",
        "results_val_metric_NeuroV_Epochs_std=np.stack(results_val_metric_NeuroV_Epochs,0).std(axis=0)\n",
        "\n",
        "\n",
        "fig, ax = plt.subplots(figsize=(8, 4))\n",
        "ax.plot(range(epoch+1),results_metric_Epochs_mean, alpha=0.5, color='#888888', label='train', linewidth = 2.0)\n",
        "ax.fill_between(range(epoch+1), results_metric_Epochs_mean - results_metric_Epochs_std, results_metric_Epochs_mean + results_metric_Epochs_std, color='#888888', alpha=0.4)\n",
        "\n",
        "ax.plot(range(epoch+1),results_val_metric_NeuroV_Epochs_mean, alpha=0.5, color='blue', label='Validation NeuroV', linewidth = 2.0)\n",
        "ax.fill_between(range(epoch+1), results_val_metric_NeuroV_Epochs_mean - results_val_metric_NeuroV_Epochs_std, results_val_metric_NeuroV_Epochs_mean + results_val_metric_NeuroV_Epochs_std, color='blue', alpha=0.2)\n",
        "\n",
        "ax.set_ylim([30,100])\n",
        "ax.legend(loc='lower right')\n",
        "\n",
        "ax.set_ylabel(\"Accuracy (%)\")\n",
        "ax.set_xlabel(\"Epoch\")\n",
        "plt.savefig(\"/content/drive/MyDrive/Memoria/pitch_change/testNeurovoz/Accuracy_Train_Validation_pataka_prob_100.pdf\", dpi=150)"
      ],
      "metadata": {
        "colab": {
          "base_uri": "https://localhost:8080/",
          "height": 769
        },
        "outputId": "1aa3d8a7-6028-498f-d0cf-fca3772a3dd5",
        "id": "TvG0SlLNuHDI"
      },
      "execution_count": null,
      "outputs": [
        {
          "output_type": "display_data",
          "data": {
            "text/plain": [
              "<Figure size 800x400 with 1 Axes>"
            ],
            "image/png": "[encoded data removed]"
          },
          "metadata": {}
        },
        {
          "output_type": "display_data",
          "data": {
            "text/plain": [
              "<Figure size 800x400 with 1 Axes>"
            ],
            "image/png": "[encoded data removed]"
          },
          "metadata": {}
        }
      ]
    },
    {
      "cell_type": "code",
      "source": [
        "def plot_ROC_k_fold(fpr_k_folds,tpr_k_folds,auc_k_folds,folds, color):\n",
        "    mean_fpr = np.linspace(0, 1, 100)\n",
        "    fig, ax = plt.subplots(figsize=(6, 6))\n",
        "    ax.plot([0, 1], [0, 1], \"k--\", label=\"chance level (AUC = 0.5)\")\n",
        "    tprs=[]\n",
        "    for k in range(folds):\n",
        "        #display = sklearn.metrics.RocCurveDisplay(fpr=fpr_k_folds[k], tpr=tpr_k_folds[k], roc_auc=auc_k_folds[k],\n",
        "        #                           estimator_name='ROC fold'+str(k))\n",
        "        #display.plot()\n",
        "\n",
        "        interp_tpr = np.interp(mean_fpr, fpr_k_folds[k], tpr_k_folds[k])\n",
        "        interp_tpr[0] = 0.0\n",
        "        tprs.append(interp_tpr)\n",
        "    mean_tpr = np.mean(tprs, axis=0)\n",
        "    mean_auc =np.mean(auc_k_folds)\n",
        "    std_auc = np.std(auc_k_folds)\n",
        "    ax.plot(\n",
        "        mean_fpr,\n",
        "        mean_tpr,\n",
        "        color=color,\n",
        "        label=r\"Mean ROC (AUC = %0.2f $\\pm$ %0.2f)\" % (mean_auc, std_auc),\n",
        "        lw=2,\n",
        "        alpha=0.8,\n",
        "    )\n",
        "\n",
        "    std_tpr = np.std(tprs, axis=0)\n",
        "    tprs_upper = np.minimum(mean_tpr + std_tpr, 1)\n",
        "    tprs_lower = np.maximum(mean_tpr - std_tpr, 0)\n",
        "    ax.fill_between(\n",
        "        mean_fpr,\n",
        "        tprs_lower,\n",
        "        tprs_upper,\n",
        "        color=color,\n",
        "        alpha=0.2,\n",
        "        label=r\"$\\pm$ 1 std. dev.\",\n",
        "    )\n",
        "\n",
        "    ax.set(\n",
        "        xlim=[-0.05, 1.05],\n",
        "        ylim=[-0.05, 1.05],\n",
        "        xlabel=\"False Positive Rate\",\n",
        "        ylabel=\"True Positive Rate\",\n",
        "       # title=f\"Mean ROC curve with variability\\n(Positive label '{target_names[1]}')\",\n",
        "    )\n",
        "    ax.axis(\"square\")\n",
        "    ax.legend(loc=\"lower right\")\n",
        "    plt.savefig(\"/content/drive/MyDrive/Memoria/pitch_change/testNeurovoz/ROC_Subject_fpr_Gita.pdf\", dpi=150)\n",
        "    plt.show()\n"
      ],
      "metadata": {
        "id": "HqL0NzmKuVs5"
      },
      "execution_count": null,
      "outputs": []
    },
    {
      "cell_type": "code",
      "source": [
        "plot_ROC_k_fold(Subject_fpr_NeuroV,Subject_tpr_NeuroV,Subject_AUC_NeuroV, 10, 'blue')"
      ],
      "metadata": {
        "colab": {
          "base_uri": "https://localhost:8080/",
          "height": 542
        },
        "outputId": "fcfc1a07-52b9-41f6-d2c1-03c65cd7a92a",
        "id": "CxnJD1M3u2pr"
      },
      "execution_count": null,
      "outputs": [
        {
          "output_type": "display_data",
          "data": {
            "text/plain": [
              "<Figure size 600x600 with 1 Axes>"
            ],
            "image/png": "[encoded data removed]"
          },
          "metadata": {}
        }
      ]
    },
    {
      "cell_type": "markdown",
      "source": [
        "t-SNE"
      ],
      "metadata": {
        "id": "AkRagIysuvYZ"
      }
    },
    {
      "cell_type": "code",
      "source": [
        "def plot_embedding(X, y, d, title=None):\n",
        "    \"\"\"Plot an embedding X with the class label y colored by the domain d.\"\"\"\n",
        "    x_min, x_max = np.min(X, 0), np.max(X, 0)\n",
        "    X = (X - x_min) / (x_max - x_min)\n",
        "    # Plot colors numbers\n",
        "    plt.figure(figsize=(10,10))\n",
        "    ax = plt.subplot(111)\n",
        "    colores=[(0,0.6,1), (0,0,1), (1,0.5,0.5), (1,0,0)  ]\n",
        "\n",
        "    for i in range(X.shape[0]):\n",
        "        # plot colored number\n",
        "        #plt.text(X[i, 0], X[i, 1], 'o',\n",
        "        #         color=colores[y[i]],\n",
        "        #         fontdict={ 'size': 14})\n",
        "        plt.plot(X[i, 0], X[i, 1], 'o',\n",
        "                 color=colores[y[i]],#plt.cm.brw(y[i]),\n",
        "                  )\n",
        "\n",
        "    plt.xticks([]), plt.yticks([])\n",
        "    plt.legend(['Original_HC', 'Original_PD', 'Augmented_HC', 'Augmented_PD'] )\n",
        "    ax = plt.gca()\n",
        "    leg = ax.get_legend()\n",
        "    leg.legendHandles[0].set_color((0,0.6,1))\n",
        "    leg.legendHandles[1].set_color((0,0,1))\n",
        "    leg.legendHandles[2].set_color((1,0.5,0.5))\n",
        "    leg.legendHandles[3].set_color((1,0,0))\n",
        "    if title is not None:\n",
        "        plt.title(title)"
      ],
      "metadata": {
        "id": "eIgHy_VTu8Mp"
      },
      "execution_count": null,
      "outputs": []
    },
    {
      "cell_type": "code",
      "source": [
        "t_SNE= TSNE(n_components=2,n_iter=500,n_iter_without_progress=150, n_jobs=2, random_state=0)\n",
        "\n",
        "for k in range(10):\n",
        "    CCN_train=np.concatenate([flattern_train_CNN_Original[k].data.cpu(), flattern_train_CNN_Augmented[k].data.cpu()])\n",
        "    Y_train=np.concatenate([Y_train_Original_fold[k].data.cpu(), Y_train_Augmented_fold[k].data.cpu()])\n",
        "    Y_train_plot=np.concatenate([Y_train_Original_fold[k].data.cpu(), Y_train_Augmented_fold[k].data.cpu()+2])\n",
        "    domain_train=np.concatenate([np.zeros(Y_train_Original_fold[k].shape), np.ones( Y_train_Augmented_fold[k].shape)])\n",
        "\n",
        "    projections=t_SNE.fit_transform(CCN_train,Y_train)\n",
        "\n",
        "    plot_embedding(projections,Y_train_plot,domain_train, 't-SNE embeedding')\n",
        "    plt.savefig(\"/content/drive/MyDrive/Memoria/pitch_change/testNeurovoz/T-SNE{}.pdf\".format(k), dpi=150)\n",
        "\n",
        "    plt.show()\n"
      ],
      "metadata": {
        "id": "XMnPE46vvAI6"
      },
      "execution_count": null,
      "outputs": []
    }
  ]
}