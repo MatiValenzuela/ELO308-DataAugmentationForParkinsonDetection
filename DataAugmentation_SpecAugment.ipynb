{
  "cells": [
    {
      "cell_type": "markdown",
      "metadata": {
        "id": "view-in-github",
        "colab_type": "text"
      },
      "source": [
        "<a href=\"https://colab.research.google.com/github/MatiValenzuela/ELO308-DataAugmentationForParkinsonDetection/blob/main/DataAugmentation_SpecAugment.ipynb\" target=\"_parent\"><img src=\"https://colab.research.google.com/assets/colab-badge.svg\" alt=\"Open In Colab\"/></a>"
      ]
    },
    {
      "cell_type": "markdown",
      "metadata": {
        "id": "d59Kc72PvN6I"
      },
      "source": [
        "## Bibliotecas"
      ]
    },
    {
      "cell_type": "code",
      "execution_count": null,
      "metadata": {
        "id": "GEHmK8DUb-vV"
      },
      "outputs": [],
      "source": [
        "import numpy as np\n",
        "import math\n",
        "import random\n",
        "import pandas as pd\n",
        "import os\n",
        "import matplotlib.pyplot as plt\n",
        "import librosa\n",
        "import librosa.display\n",
        "import IPython\n",
        "from IPython.display import Audio\n",
        "from IPython.display import Image\n",
        "\n",
        "import torch\n",
        "import torch.nn as nn\n",
        "\n",
        "from sklearn.preprocessing import StandardScaler\n",
        "from sklearn.model_selection import StratifiedGroupKFold\n",
        "import torchaudio\n",
        "import torchaudio.functional as F\n",
        "import torchaudio.transforms as T\n",
        "from torch.utils.data import DataLoader, TensorDataset\n",
        "from sklearn.model_selection import KFold\n",
        "import seaborn as sn\n",
        "import sklearn\n",
        "from sklearn.manifold import TSNE\n",
        "from imblearn.metrics import sensitivity_specificity_support\n",
        "\n",
        "import soundfile as sf"
      ]
    },
    {
      "cell_type": "code",
      "execution_count": null,
      "metadata": {
        "colab": {
          "base_uri": "https://localhost:8080/"
        },
        "id": "ArQB729lcX0y",
        "outputId": "a317ff9d-0572-4b39-b603-76ad7ff3389d"
      },
      "outputs": [
        {
          "name": "stdout",
          "output_type": "stream",
          "text": [
            "Mounted at /content/drive\n"
          ]
        }
      ],
      "source": [
        "from google.colab import drive\n",
        "drive.mount('/content/drive')\n",
        "audio_data_path = '/content/drive/MyDrive/Memoria/Pataka'"
      ]
    },
    {
      "cell_type": "markdown",
      "metadata": {
        "id": "H4CoPzXFjfzd"
      },
      "source": [
        "## Carga de datos\n",
        "En primer lugar se genera un dataframe que incluye el path a los distintos archivos de audio, un ID y un tag siendo 'PD' = 1 y 'HC' = 0"
      ]
    },
    {
      "cell_type": "code",
      "execution_count": null,
      "metadata": {
        "colab": {
          "base_uri": "https://localhost:8080/",
          "height": 242
        },
        "id": "EeBHQljldm3k",
        "outputId": "f7736084-2285-4ada-93fe-9165a2a1d04d"
      },
      "outputs": [
        {
          "name": "stdout",
          "output_type": "stream",
          "text": [
            "number of files is 100\n"
          ]
        },
        {
          "data": {
            "text/html": [
              "\n",
              "  <div id=\"df-b2d46aa5-7bd9-48fa-85c1-644a25f283d1\" class=\"colab-df-container\">\n",
              "    <div>\n",
              "<style scoped>\n",
              "    .dataframe tbody tr th:only-of-type {\n",
              "        vertical-align: middle;\n",
              "    }\n",
              "\n",
              "    .dataframe tbody tr th {\n",
              "        vertical-align: top;\n",
              "    }\n",
              "\n",
              "    .dataframe thead th {\n",
              "        text-align: right;\n",
              "    }\n",
              "</style>\n",
              "<table border=\"1\" class=\"dataframe\">\n",
              "  <thead>\n",
              "    <tr style=\"text-align: right;\">\n",
              "      <th></th>\n",
              "      <th>Speaker_ID</th>\n",
              "      <th>Label</th>\n",
              "      <th>Path</th>\n",
              "    </tr>\n",
              "  </thead>\n",
              "  <tbody>\n",
              "    <tr>\n",
              "      <th>0</th>\n",
              "      <td>1</td>\n",
              "      <td>1</td>\n",
              "      <td>/content/drive/MyDrive/Memoria/Pataka/PD/AVPEP...</td>\n",
              "    </tr>\n",
              "    <tr>\n",
              "      <th>1</th>\n",
              "      <td>2</td>\n",
              "      <td>1</td>\n",
              "      <td>/content/drive/MyDrive/Memoria/Pataka/PD/AVPEP...</td>\n",
              "    </tr>\n",
              "    <tr>\n",
              "      <th>2</th>\n",
              "      <td>3</td>\n",
              "      <td>1</td>\n",
              "      <td>/content/drive/MyDrive/Memoria/Pataka/PD/AVPEP...</td>\n",
              "    </tr>\n",
              "    <tr>\n",
              "      <th>3</th>\n",
              "      <td>4</td>\n",
              "      <td>1</td>\n",
              "      <td>/content/drive/MyDrive/Memoria/Pataka/PD/AVPEP...</td>\n",
              "    </tr>\n",
              "    <tr>\n",
              "      <th>4</th>\n",
              "      <td>5</td>\n",
              "      <td>1</td>\n",
              "      <td>/content/drive/MyDrive/Memoria/Pataka/PD/AVPEP...</td>\n",
              "    </tr>\n",
              "  </tbody>\n",
              "</table>\n",
              "</div>\n",
              "    <div class=\"colab-df-buttons\">\n",
              "\n",
              "  <div class=\"colab-df-container\">\n",
              "    <button class=\"colab-df-convert\" onclick=\"convertToInteractive('df-b2d46aa5-7bd9-48fa-85c1-644a25f283d1')\"\n",
              "            title=\"Convert this dataframe to an interactive table.\"\n",
              "            style=\"display:none;\">\n",
              "\n",
              "  <svg xmlns=\"http://www.w3.org/2000/svg\" height=\"24px\" viewBox=\"0 -960 960 960\">\n",
              "    <path d=\"M120-120v-720h720v720H120Zm60-500h600v-160H180v160Zm220 220h160v-160H400v160Zm0 220h160v-160H400v160ZM180-400h160v-160H180v160Zm440 0h160v-160H620v160ZM180-180h160v-160H180v160Zm440 0h160v-160H620v160Z\"/>\n",
              "  </svg>\n",
              "    </button>\n",
              "\n",
              "  <style>\n",
              "    .colab-df-container {\n",
              "      display:flex;\n",
              "      gap: 12px;\n",
              "    }\n",
              "\n",
              "    .colab-df-convert {\n",
              "      background-color: #E8F0FE;\n",
              "      border: none;\n",
              "      border-radius: 50%;\n",
              "      cursor: pointer;\n",
              "      display: none;\n",
              "      fill: #1967D2;\n",
              "      height: 32px;\n",
              "      padding: 0 0 0 0;\n",
              "      width: 32px;\n",
              "    }\n",
              "\n",
              "    .colab-df-convert:hover {\n",
              "      background-color: #E2EBFA;\n",
              "      box-shadow: 0px 1px 2px rgba(60, 64, 67, 0.3), 0px 1px 3px 1px rgba(60, 64, 67, 0.15);\n",
              "      fill: #174EA6;\n",
              "    }\n",
              "\n",
              "    .colab-df-buttons div {\n",
              "      margin-bottom: 4px;\n",
              "    }\n",
              "\n",
              "    [theme=dark] .colab-df-convert {\n",
              "      background-color: #3B4455;\n",
              "      fill: #D2E3FC;\n",
              "    }\n",
              "\n",
              "    [theme=dark] .colab-df-convert:hover {\n",
              "      background-color: #434B5C;\n",
              "      box-shadow: 0px 1px 3px 1px rgba(0, 0, 0, 0.15);\n",
              "      filter: drop-shadow(0px 1px 2px rgba(0, 0, 0, 0.3));\n",
              "      fill: #FFFFFF;\n",
              "    }\n",
              "  </style>\n",
              "\n",
              "    <script>\n",
              "      const buttonEl =\n",
              "        document.querySelector('#df-b2d46aa5-7bd9-48fa-85c1-644a25f283d1 button.colab-df-convert');\n",
              "      buttonEl.style.display =\n",
              "        google.colab.kernel.accessAllowed ? 'block' : 'none';\n",
              "\n",
              "      async function convertToInteractive(key) {\n",
              "        const element = document.querySelector('#df-b2d46aa5-7bd9-48fa-85c1-644a25f283d1');\n",
              "        const dataTable =\n",
              "          await google.colab.kernel.invokeFunction('convertToInteractive',\n",
              "                                                    [key], {});\n",
              "        if (!dataTable) return;\n",
              "\n",
              "        const docLinkHtml = 'Like what you see? Visit the ' +\n",
              "          '<a target=\"_blank\" href=https://colab.research.google.com/notebooks/data_table.ipynb>data table notebook</a>'\n",
              "          + ' to learn more about interactive tables.';\n",
              "        element.innerHTML = '';\n",
              "        dataTable['output_type'] = 'display_data';\n",
              "        await google.colab.output.renderOutput(dataTable, element);\n",
              "        const docLink = document.createElement('div');\n",
              "        docLink.innerHTML = docLinkHtml;\n",
              "        element.appendChild(docLink);\n",
              "      }\n",
              "    </script>\n",
              "  </div>\n",
              "\n",
              "\n",
              "<div id=\"df-fc8fde78-7627-4534-b548-6c8d64521735\">\n",
              "  <button class=\"colab-df-quickchart\" onclick=\"quickchart('df-fc8fde78-7627-4534-b548-6c8d64521735')\"\n",
              "            title=\"Suggest charts\"\n",
              "            style=\"display:none;\">\n",
              "\n",
              "<svg xmlns=\"http://www.w3.org/2000/svg\" height=\"24px\"viewBox=\"0 0 24 24\"\n",
              "     width=\"24px\">\n",
              "    <g>\n",
              "        <path d=\"M19 3H5c-1.1 0-2 .9-2 2v14c0 1.1.9 2 2 2h14c1.1 0 2-.9 2-2V5c0-1.1-.9-2-2-2zM9 17H7v-7h2v7zm4 0h-2V7h2v10zm4 0h-2v-4h2v4z\"/>\n",
              "    </g>\n",
              "</svg>\n",
              "  </button>\n",
              "\n",
              "<style>\n",
              "  .colab-df-quickchart {\n",
              "      --bg-color: #E8F0FE;\n",
              "      --fill-color: #1967D2;\n",
              "      --hover-bg-color: #E2EBFA;\n",
              "      --hover-fill-color: #174EA6;\n",
              "      --disabled-fill-color: #AAA;\n",
              "      --disabled-bg-color: #DDD;\n",
              "  }\n",
              "\n",
              "  [theme=dark] .colab-df-quickchart {\n",
              "      --bg-color: #3B4455;\n",
              "      --fill-color: #D2E3FC;\n",
              "      --hover-bg-color: #434B5C;\n",
              "      --hover-fill-color: #FFFFFF;\n",
              "      --disabled-bg-color: #3B4455;\n",
              "      --disabled-fill-color: #666;\n",
              "  }\n",
              "\n",
              "  .colab-df-quickchart {\n",
              "    background-color: var(--bg-color);\n",
              "    border: none;\n",
              "    border-radius: 50%;\n",
              "    cursor: pointer;\n",
              "    display: none;\n",
              "    fill: var(--fill-color);\n",
              "    height: 32px;\n",
              "    padding: 0;\n",
              "    width: 32px;\n",
              "  }\n",
              "\n",
              "  .colab-df-quickchart:hover {\n",
              "    background-color: var(--hover-bg-color);\n",
              "    box-shadow: 0 1px 2px rgba(60, 64, 67, 0.3), 0 1px 3px 1px rgba(60, 64, 67, 0.15);\n",
              "    fill: var(--button-hover-fill-color);\n",
              "  }\n",
              "\n",
              "  .colab-df-quickchart-complete:disabled,\n",
              "  .colab-df-quickchart-complete:disabled:hover {\n",
              "    background-color: var(--disabled-bg-color);\n",
              "    fill: var(--disabled-fill-color);\n",
              "    box-shadow: none;\n",
              "  }\n",
              "\n",
              "  .colab-df-spinner {\n",
              "    border: 2px solid var(--fill-color);\n",
              "    border-color: transparent;\n",
              "    border-bottom-color: var(--fill-color);\n",
              "    animation:\n",
              "      spin 1s steps(1) infinite;\n",
              "  }\n",
              "\n",
              "  @keyframes spin {\n",
              "    0% {\n",
              "      border-color: transparent;\n",
              "      border-bottom-color: var(--fill-color);\n",
              "      border-left-color: var(--fill-color);\n",
              "    }\n",
              "    20% {\n",
              "      border-color: transparent;\n",
              "      border-left-color: var(--fill-color);\n",
              "      border-top-color: var(--fill-color);\n",
              "    }\n",
              "    30% {\n",
              "      border-color: transparent;\n",
              "      border-left-color: var(--fill-color);\n",
              "      border-top-color: var(--fill-color);\n",
              "      border-right-color: var(--fill-color);\n",
              "    }\n",
              "    40% {\n",
              "      border-color: transparent;\n",
              "      border-right-color: var(--fill-color);\n",
              "      border-top-color: var(--fill-color);\n",
              "    }\n",
              "    60% {\n",
              "      border-color: transparent;\n",
              "      border-right-color: var(--fill-color);\n",
              "    }\n",
              "    80% {\n",
              "      border-color: transparent;\n",
              "      border-right-color: var(--fill-color);\n",
              "      border-bottom-color: var(--fill-color);\n",
              "    }\n",
              "    90% {\n",
              "      border-color: transparent;\n",
              "      border-bottom-color: var(--fill-color);\n",
              "    }\n",
              "  }\n",
              "</style>\n",
              "\n",
              "  <script>\n",
              "    async function quickchart(key) {\n",
              "      const quickchartButtonEl =\n",
              "        document.querySelector('#' + key + ' button');\n",
              "      quickchartButtonEl.disabled = true;  // To prevent multiple clicks.\n",
              "      quickchartButtonEl.classList.add('colab-df-spinner');\n",
              "      try {\n",
              "        const charts = await google.colab.kernel.invokeFunction(\n",
              "            'suggestCharts', [key], {});\n",
              "      } catch (error) {\n",
              "        console.error('Error during call to suggestCharts:', error);\n",
              "      }\n",
              "      quickchartButtonEl.classList.remove('colab-df-spinner');\n",
              "      quickchartButtonEl.classList.add('colab-df-quickchart-complete');\n",
              "    }\n",
              "    (() => {\n",
              "      let quickchartButtonEl =\n",
              "        document.querySelector('#df-fc8fde78-7627-4534-b548-6c8d64521735 button');\n",
              "      quickchartButtonEl.style.display =\n",
              "        google.colab.kernel.accessAllowed ? 'block' : 'none';\n",
              "    })();\n",
              "  </script>\n",
              "</div>\n",
              "    </div>\n",
              "  </div>\n"
            ],
            "text/plain": [
              "  Speaker_ID Label                                               Path\n",
              "0          1     1  /content/drive/MyDrive/Memoria/Pataka/PD/AVPEP...\n",
              "1          2     1  /content/drive/MyDrive/Memoria/Pataka/PD/AVPEP...\n",
              "2          3     1  /content/drive/MyDrive/Memoria/Pataka/PD/AVPEP...\n",
              "3          4     1  /content/drive/MyDrive/Memoria/Pataka/PD/AVPEP...\n",
              "4          5     1  /content/drive/MyDrive/Memoria/Pataka/PD/AVPEP..."
            ]
          },
          "execution_count": 3,
          "metadata": {},
          "output_type": "execute_result"
        }
      ],
      "source": [
        "DATA_PATH_Gita = '/content/drive/MyDrive/Memoria/Pataka'\n",
        "\n",
        "SAMPLE_RATE = 44100\n",
        "#AVPEPUDEAC0001_pataka.wav   -> Formato de los archivos\n",
        "data_Gita = pd.DataFrame(columns=['Speaker_ID', 'Label', 'Path'])\n",
        "Speaker_PD=0\n",
        "Speaker_HC=50 #Sabemos que son 50 muestras por cada uno.\n",
        "\n",
        "for dirname, _, filenames in os.walk(DATA_PATH_Gita):\n",
        "\n",
        "    for filename in filenames:\n",
        "        file_path = os.path.join(dirname, filename)\n",
        "\n",
        "        if dirname.find('PD')!=-1:\n",
        "            Speaker_PD+=1\n",
        "            Speaker_ID=Speaker_PD\n",
        "            Label=1\n",
        "        else:\n",
        "            Speaker_HC+=1\n",
        "            Speaker_ID=Speaker_HC\n",
        "            Label=0\n",
        "\n",
        "\n",
        "        data_Gita=pd.concat([data_Gita, pd.DataFrame({\"Speaker_ID\": [Speaker_ID],\n",
        "                            \"Label\": [Label],\n",
        "                            \"Path\": [file_path]\n",
        "                             })],ignore_index=True)\n",
        "print(\"number of files is {}\".format(len(data_Gita)))\n",
        "data_Gita.head()"
      ]
    },
    {
      "cell_type": "code",
      "execution_count": null,
      "metadata": {
        "colab": {
          "base_uri": "https://localhost:8080/"
        },
        "id": "scf_WlWinINZ",
        "outputId": "d3ea7135-5e36-45a2-ef6b-620954dda0f0"
      },
      "outputs": [
        {
          "name": "stdout",
          "output_type": "stream",
          "text": [
            "Data Gita\n",
            "Parkinson\n",
            "[1 2 3 4 5 6 7 8 9 10 11 12 13 14 15 16 17 18 19 20 21 22 23 24 25 26 27\n",
            " 28 29 30 31 32 33 34 35 36 37 38 39 40 41 42 43 44 45 46 47 48 49 50]\n",
            "size= (50,)\n",
            "Control\n",
            "[51 52 53 54 55 56 57 58 59 60 61 62 63 64 65 66 67 68 69 70 71 72 73 74\n",
            " 75 76 77 78 79 80 81 82 83 84 85 86 87 88 89 90 91 92 93 94 95 96 97 98\n",
            " 99 100]\n",
            "size= (50,)\n",
            "Data Gita\n",
            "To train: (100,)\n"
          ]
        }
      ],
      "source": [
        "print('Data Gita')\n",
        "print('Parkinson')\n",
        "PD_Gita=data_Gita[data_Gita['Label']==1].sort_values(by=['Speaker_ID'])['Speaker_ID'].unique()\n",
        "print(PD_Gita)\n",
        "print('size=', PD_Gita.shape)\n",
        "print('Control')\n",
        "HC_Gita=data_Gita[data_Gita['Label']==0].sort_values(by=['Speaker_ID'])['Speaker_ID'].unique()\n",
        "print(HC_Gita)\n",
        "print('size=', HC_Gita.shape)\n",
        "\n",
        "#Partition Gita\n",
        "Train_Subject_Gita=np.concatenate([PD_Gita, HC_Gita])\n",
        "print(\"Data Gita\")\n",
        "print(\"To train:\",np.unique(Train_Subject_Gita).shape)\n",
        "data_train_Gita=data_Gita"
      ]
    },
    {
      "cell_type": "markdown",
      "metadata": {
        "id": "UwV0nkjGzSa8"
      },
      "source": [
        "## Carga de datos Neurovoz"
      ]
    },
    {
      "cell_type": "code",
      "execution_count": null,
      "metadata": {
        "colab": {
          "base_uri": "https://localhost:8080/",
          "height": 242
        },
        "id": "XuM1N4zkzWud",
        "outputId": "7ed6b952-c95f-4817-f427-088450ad74e3"
      },
      "outputs": [
        {
          "name": "stdout",
          "output_type": "stream",
          "text": [
            "number of files is 86\n"
          ]
        },
        {
          "data": {
            "text/html": [
              "\n",
              "  <div id=\"df-62a72e6f-7e60-4dd2-a7ad-85e3b417bd15\" class=\"colab-df-container\">\n",
              "    <div>\n",
              "<style scoped>\n",
              "    .dataframe tbody tr th:only-of-type {\n",
              "        vertical-align: middle;\n",
              "    }\n",
              "\n",
              "    .dataframe tbody tr th {\n",
              "        vertical-align: top;\n",
              "    }\n",
              "\n",
              "    .dataframe thead th {\n",
              "        text-align: right;\n",
              "    }\n",
              "</style>\n",
              "<table border=\"1\" class=\"dataframe\">\n",
              "  <thead>\n",
              "    <tr style=\"text-align: right;\">\n",
              "      <th></th>\n",
              "      <th>Speaker_ID</th>\n",
              "      <th>Label</th>\n",
              "      <th>Path</th>\n",
              "    </tr>\n",
              "  </thead>\n",
              "  <tbody>\n",
              "    <tr>\n",
              "      <th>0</th>\n",
              "      <td>134</td>\n",
              "      <td>0</td>\n",
              "      <td>/content/drive/MyDrive/Memoria/Neurovoz/PATAKA...</td>\n",
              "    </tr>\n",
              "    <tr>\n",
              "      <th>1</th>\n",
              "      <td>160</td>\n",
              "      <td>0</td>\n",
              "      <td>/content/drive/MyDrive/Memoria/Neurovoz/PATAKA...</td>\n",
              "    </tr>\n",
              "    <tr>\n",
              "      <th>2</th>\n",
              "      <td>149</td>\n",
              "      <td>0</td>\n",
              "      <td>/content/drive/MyDrive/Memoria/Neurovoz/PATAKA...</td>\n",
              "    </tr>\n",
              "    <tr>\n",
              "      <th>3</th>\n",
              "      <td>153</td>\n",
              "      <td>0</td>\n",
              "      <td>/content/drive/MyDrive/Memoria/Neurovoz/PATAKA...</td>\n",
              "    </tr>\n",
              "    <tr>\n",
              "      <th>4</th>\n",
              "      <td>136</td>\n",
              "      <td>0</td>\n",
              "      <td>/content/drive/MyDrive/Memoria/Neurovoz/PATAKA...</td>\n",
              "    </tr>\n",
              "  </tbody>\n",
              "</table>\n",
              "</div>\n",
              "    <div class=\"colab-df-buttons\">\n",
              "\n",
              "  <div class=\"colab-df-container\">\n",
              "    <button class=\"colab-df-convert\" onclick=\"convertToInteractive('df-62a72e6f-7e60-4dd2-a7ad-85e3b417bd15')\"\n",
              "            title=\"Convert this dataframe to an interactive table.\"\n",
              "            style=\"display:none;\">\n",
              "\n",
              "  <svg xmlns=\"http://www.w3.org/2000/svg\" height=\"24px\" viewBox=\"0 -960 960 960\">\n",
              "    <path d=\"M120-120v-720h720v720H120Zm60-500h600v-160H180v160Zm220 220h160v-160H400v160Zm0 220h160v-160H400v160ZM180-400h160v-160H180v160Zm440 0h160v-160H620v160ZM180-180h160v-160H180v160Zm440 0h160v-160H620v160Z\"/>\n",
              "  </svg>\n",
              "    </button>\n",
              "\n",
              "  <style>\n",
              "    .colab-df-container {\n",
              "      display:flex;\n",
              "      gap: 12px;\n",
              "    }\n",
              "\n",
              "    .colab-df-convert {\n",
              "      background-color: #E8F0FE;\n",
              "      border: none;\n",
              "      border-radius: 50%;\n",
              "      cursor: pointer;\n",
              "      display: none;\n",
              "      fill: #1967D2;\n",
              "      height: 32px;\n",
              "      padding: 0 0 0 0;\n",
              "      width: 32px;\n",
              "    }\n",
              "\n",
              "    .colab-df-convert:hover {\n",
              "      background-color: #E2EBFA;\n",
              "      box-shadow: 0px 1px 2px rgba(60, 64, 67, 0.3), 0px 1px 3px 1px rgba(60, 64, 67, 0.15);\n",
              "      fill: #174EA6;\n",
              "    }\n",
              "\n",
              "    .colab-df-buttons div {\n",
              "      margin-bottom: 4px;\n",
              "    }\n",
              "\n",
              "    [theme=dark] .colab-df-convert {\n",
              "      background-color: #3B4455;\n",
              "      fill: #D2E3FC;\n",
              "    }\n",
              "\n",
              "    [theme=dark] .colab-df-convert:hover {\n",
              "      background-color: #434B5C;\n",
              "      box-shadow: 0px 1px 3px 1px rgba(0, 0, 0, 0.15);\n",
              "      filter: drop-shadow(0px 1px 2px rgba(0, 0, 0, 0.3));\n",
              "      fill: #FFFFFF;\n",
              "    }\n",
              "  </style>\n",
              "\n",
              "    <script>\n",
              "      const buttonEl =\n",
              "        document.querySelector('#df-62a72e6f-7e60-4dd2-a7ad-85e3b417bd15 button.colab-df-convert');\n",
              "      buttonEl.style.display =\n",
              "        google.colab.kernel.accessAllowed ? 'block' : 'none';\n",
              "\n",
              "      async function convertToInteractive(key) {\n",
              "        const element = document.querySelector('#df-62a72e6f-7e60-4dd2-a7ad-85e3b417bd15');\n",
              "        const dataTable =\n",
              "          await google.colab.kernel.invokeFunction('convertToInteractive',\n",
              "                                                    [key], {});\n",
              "        if (!dataTable) return;\n",
              "\n",
              "        const docLinkHtml = 'Like what you see? Visit the ' +\n",
              "          '<a target=\"_blank\" href=https://colab.research.google.com/notebooks/data_table.ipynb>data table notebook</a>'\n",
              "          + ' to learn more about interactive tables.';\n",
              "        element.innerHTML = '';\n",
              "        dataTable['output_type'] = 'display_data';\n",
              "        await google.colab.output.renderOutput(dataTable, element);\n",
              "        const docLink = document.createElement('div');\n",
              "        docLink.innerHTML = docLinkHtml;\n",
              "        element.appendChild(docLink);\n",
              "      }\n",
              "    </script>\n",
              "  </div>\n",
              "\n",
              "\n",
              "<div id=\"df-9696da0b-32ca-4046-9d11-98c681fc9fdc\">\n",
              "  <button class=\"colab-df-quickchart\" onclick=\"quickchart('df-9696da0b-32ca-4046-9d11-98c681fc9fdc')\"\n",
              "            title=\"Suggest charts\"\n",
              "            style=\"display:none;\">\n",
              "\n",
              "<svg xmlns=\"http://www.w3.org/2000/svg\" height=\"24px\"viewBox=\"0 0 24 24\"\n",
              "     width=\"24px\">\n",
              "    <g>\n",
              "        <path d=\"M19 3H5c-1.1 0-2 .9-2 2v14c0 1.1.9 2 2 2h14c1.1 0 2-.9 2-2V5c0-1.1-.9-2-2-2zM9 17H7v-7h2v7zm4 0h-2V7h2v10zm4 0h-2v-4h2v4z\"/>\n",
              "    </g>\n",
              "</svg>\n",
              "  </button>\n",
              "\n",
              "<style>\n",
              "  .colab-df-quickchart {\n",
              "      --bg-color: #E8F0FE;\n",
              "      --fill-color: #1967D2;\n",
              "      --hover-bg-color: #E2EBFA;\n",
              "      --hover-fill-color: #174EA6;\n",
              "      --disabled-fill-color: #AAA;\n",
              "      --disabled-bg-color: #DDD;\n",
              "  }\n",
              "\n",
              "  [theme=dark] .colab-df-quickchart {\n",
              "      --bg-color: #3B4455;\n",
              "      --fill-color: #D2E3FC;\n",
              "      --hover-bg-color: #434B5C;\n",
              "      --hover-fill-color: #FFFFFF;\n",
              "      --disabled-bg-color: #3B4455;\n",
              "      --disabled-fill-color: #666;\n",
              "  }\n",
              "\n",
              "  .colab-df-quickchart {\n",
              "    background-color: var(--bg-color);\n",
              "    border: none;\n",
              "    border-radius: 50%;\n",
              "    cursor: pointer;\n",
              "    display: none;\n",
              "    fill: var(--fill-color);\n",
              "    height: 32px;\n",
              "    padding: 0;\n",
              "    width: 32px;\n",
              "  }\n",
              "\n",
              "  .colab-df-quickchart:hover {\n",
              "    background-color: var(--hover-bg-color);\n",
              "    box-shadow: 0 1px 2px rgba(60, 64, 67, 0.3), 0 1px 3px 1px rgba(60, 64, 67, 0.15);\n",
              "    fill: var(--button-hover-fill-color);\n",
              "  }\n",
              "\n",
              "  .colab-df-quickchart-complete:disabled,\n",
              "  .colab-df-quickchart-complete:disabled:hover {\n",
              "    background-color: var(--disabled-bg-color);\n",
              "    fill: var(--disabled-fill-color);\n",
              "    box-shadow: none;\n",
              "  }\n",
              "\n",
              "  .colab-df-spinner {\n",
              "    border: 2px solid var(--fill-color);\n",
              "    border-color: transparent;\n",
              "    border-bottom-color: var(--fill-color);\n",
              "    animation:\n",
              "      spin 1s steps(1) infinite;\n",
              "  }\n",
              "\n",
              "  @keyframes spin {\n",
              "    0% {\n",
              "      border-color: transparent;\n",
              "      border-bottom-color: var(--fill-color);\n",
              "      border-left-color: var(--fill-color);\n",
              "    }\n",
              "    20% {\n",
              "      border-color: transparent;\n",
              "      border-left-color: var(--fill-color);\n",
              "      border-top-color: var(--fill-color);\n",
              "    }\n",
              "    30% {\n",
              "      border-color: transparent;\n",
              "      border-left-color: var(--fill-color);\n",
              "      border-top-color: var(--fill-color);\n",
              "      border-right-color: var(--fill-color);\n",
              "    }\n",
              "    40% {\n",
              "      border-color: transparent;\n",
              "      border-right-color: var(--fill-color);\n",
              "      border-top-color: var(--fill-color);\n",
              "    }\n",
              "    60% {\n",
              "      border-color: transparent;\n",
              "      border-right-color: var(--fill-color);\n",
              "    }\n",
              "    80% {\n",
              "      border-color: transparent;\n",
              "      border-right-color: var(--fill-color);\n",
              "      border-bottom-color: var(--fill-color);\n",
              "    }\n",
              "    90% {\n",
              "      border-color: transparent;\n",
              "      border-bottom-color: var(--fill-color);\n",
              "    }\n",
              "  }\n",
              "</style>\n",
              "\n",
              "  <script>\n",
              "    async function quickchart(key) {\n",
              "      const quickchartButtonEl =\n",
              "        document.querySelector('#' + key + ' button');\n",
              "      quickchartButtonEl.disabled = true;  // To prevent multiple clicks.\n",
              "      quickchartButtonEl.classList.add('colab-df-spinner');\n",
              "      try {\n",
              "        const charts = await google.colab.kernel.invokeFunction(\n",
              "            'suggestCharts', [key], {});\n",
              "      } catch (error) {\n",
              "        console.error('Error during call to suggestCharts:', error);\n",
              "      }\n",
              "      quickchartButtonEl.classList.remove('colab-df-spinner');\n",
              "      quickchartButtonEl.classList.add('colab-df-quickchart-complete');\n",
              "    }\n",
              "    (() => {\n",
              "      let quickchartButtonEl =\n",
              "        document.querySelector('#df-9696da0b-32ca-4046-9d11-98c681fc9fdc button');\n",
              "      quickchartButtonEl.style.display =\n",
              "        google.colab.kernel.accessAllowed ? 'block' : 'none';\n",
              "    })();\n",
              "  </script>\n",
              "</div>\n",
              "    </div>\n",
              "  </div>\n"
            ],
            "text/plain": [
              "  Speaker_ID Label                                               Path\n",
              "0        134     0  /content/drive/MyDrive/Memoria/Neurovoz/PATAKA...\n",
              "1        160     0  /content/drive/MyDrive/Memoria/Neurovoz/PATAKA...\n",
              "2        149     0  /content/drive/MyDrive/Memoria/Neurovoz/PATAKA...\n",
              "3        153     0  /content/drive/MyDrive/Memoria/Neurovoz/PATAKA...\n",
              "4        136     0  /content/drive/MyDrive/Memoria/Neurovoz/PATAKA..."
            ]
          },
          "execution_count": 5,
          "metadata": {},
          "output_type": "execute_result"
        }
      ],
      "source": [
        "DATA_PATH_NeuroV = '/content/drive/MyDrive/Memoria/Neurovoz/PATAKA'\n",
        "\n",
        "SAMPLE_RATE_NeuroV = 44100\n",
        "data_NeuroV = pd.DataFrame(columns=['Speaker_ID', 'Label', 'Path'])\n",
        "for dirname, _, filenames in os.walk(DATA_PATH_NeuroV):\n",
        "    for filename in filenames:\n",
        "            file_path = os.path.join(dirname, filename)\n",
        "            if filename.find('wav')!=-1:\n",
        "                identifiers=filename.split('.')[0].split('_')\n",
        "                Speaker_ID=int(identifiers[2])+100\n",
        "                if identifiers[0]=='PD':\n",
        "                    Label=1\n",
        "                else:\n",
        "                    Label=0\n",
        "            data_NeuroV=pd.concat([data_NeuroV, pd.DataFrame({\"Speaker_ID\": [Speaker_ID],\n",
        "                            \"Label\": [Label],\n",
        "                            \"Path\": [file_path]\n",
        "                             })],ignore_index=True)\n",
        "print(\"number of files is {}\".format(len(data_NeuroV)))\n",
        "data_NeuroV.head()"
      ]
    },
    {
      "cell_type": "code",
      "execution_count": null,
      "metadata": {
        "colab": {
          "base_uri": "https://localhost:8080/"
        },
        "id": "JncLOiUkzaXx",
        "outputId": "2d6917ba-5187-438f-8edf-e224ed64edef"
      },
      "outputs": [
        {
          "name": "stdout",
          "output_type": "stream",
          "text": [
            "Data NeuroVoz\n",
            "Parkinson\n",
            "[106 107 108 109 110 111 112 113 115 116 117 118 119 120 124 125 127 128\n",
            " 129 130 131 132 133 135 137 138 139 140 141 142 143 144 146 147 166 168\n",
            " 169 170 177 209 211 213 215 217]\n",
            "size= (44,)\n",
            "Control\n",
            "[134 136 148 149 151 152 153 154 155 156 160 161 162 163 164 172 174 175\n",
            " 176 181 182 185 186 205 212 216 218 220 222 228 230 231 232 234 236 237\n",
            " 238 240 241 242 243 245]\n",
            "size= (42,)\n",
            "Data NeuroVoz\n",
            "To test: (86,)\n"
          ]
        }
      ],
      "source": [
        "print('Data NeuroVoz')\n",
        "print('Parkinson')\n",
        "PD_NeuroV=data_NeuroV[data_NeuroV['Label']==1].sort_values(by=['Speaker_ID'])['Speaker_ID'].unique()\n",
        "print(PD_NeuroV)\n",
        "print('size=', PD_NeuroV.shape)\n",
        "print('Control')\n",
        "HC_NeuroV=data_NeuroV[data_NeuroV['Label']==0].sort_values(by=['Speaker_ID'])['Speaker_ID'].unique()\n",
        "print(HC_NeuroV)\n",
        "print('size=', HC_NeuroV.shape)\n",
        "\n",
        "#Partition NeuroVoz\n",
        "Train_Subject_NeuroV=np.concatenate([PD_NeuroV, HC_NeuroV])\n",
        "print(\"Data NeuroVoz\")\n",
        "print(\"To test:\",np.unique(Train_Subject_NeuroV).shape)\n",
        "data_test_NeuroV=data_NeuroV"
      ]
    },
    {
      "cell_type": "markdown",
      "metadata": {
        "id": "MrnklFPCGsP3"
      },
      "source": [
        "# Train with: Gita"
      ]
    },
    {
      "cell_type": "markdown",
      "metadata": {
        "id": "DIp4bb-trPGn"
      },
      "source": [
        "## Procesamiento de los datos\n",
        "Primero segmentamos nuestras señales en base a un umbral. No hacemos data augmentation aún."
      ]
    },
    {
      "cell_type": "code",
      "execution_count": null,
      "metadata": {
        "id": "DFoF2YgXnUQy"
      },
      "outputs": [],
      "source": [
        "#selecting 400ms overlap in 50ms of audio signal example\n",
        "def process_select_signals(data, SAMPLE_RATE):\n",
        "    time_leng=0.4 #Esto son 400 ms.\n",
        "    sample_leng=int(time_leng*SAMPLE_RATE) #Sample_rate = 44100. sample_leng = 0.4*44100 = 17640\n",
        "    overloap=2\n",
        "    signals, y_label, subject_group, tono =[],[],[],[]\n",
        "    data_size = len(data)\n",
        "    total_segments=0\n",
        "    processed_audios = 0\n",
        "\n",
        "\n",
        "    #Process data to train\n",
        "    for data_ind, file_path in enumerate(data.Path):\n",
        "        audio, sample_rate = librosa.load(file_path, sr=SAMPLE_RATE)\n",
        "\n",
        "        for a in range(1): #Usando solo 1 para reutilizar código de las secciones aumentadas.\n",
        "          audio_len=len(audio)\n",
        "          audio=audio/np.max(abs(audio))\n",
        "          indx=[i for i,x in enumerate(np.sqrt(abs(audio))) if x>.30]\n",
        "\n",
        "          segments=0\n",
        "          if (indx[0]+sample_leng)<audio_len:\n",
        "              for i in range(int((-indx[0]+indx[len(indx)-1])/(sample_leng/overloap))):\n",
        "                  ind_start = i * int(sample_leng/overloap)+indx[0]\n",
        "                  ind_end = ind_start + sample_leng\n",
        "                  if ind_end <= indx[len(indx)-1]:\n",
        "                      signal=np.zeros(sample_leng)\n",
        "                      signal = audio[ind_start:int(ind_end)]\n",
        "\n",
        "                      signals.append(signal) #\n",
        "                      y_label.append(data.iloc[data_ind]['Label'])\n",
        "                      subject_group.append(data.iloc[data_ind]['Speaker_ID'])\n",
        "\n",
        "                      segments=segments+1\n",
        "              processed_audios += 1\n",
        "              print(\" Processed {}/{} files\".format(processed_audios,data_size),end='')\n",
        "              print(\" Time audio: {} Segments {} \".format((audio_len-1)/sample_rate,segments))\n",
        "          else:\n",
        "              print(\" Processed {}/{} files\".format(processed_audios,data_size),end='')\n",
        "              print(\" Time audio: {} Segments {} \".format((audio_len-1)/sample_rate,0))\n",
        "          total_segments += segments\n",
        "\n",
        "    signals = np.stack(signals,axis=0)\n",
        "    y_label = np.stack(y_label,axis=0)\n",
        "    subject_group = np.stack(subject_group,axis=0)\n",
        "\n",
        "    print(\" Total segments: \", total_segments)\n",
        "    return signals, y_label, subject_group"
      ]
    },
    {
      "cell_type": "code",
      "execution_count": null,
      "metadata": {
        "id": "4y5QOsOQpx7E"
      },
      "outputs": [],
      "source": [
        "#Data train Gita\n",
        "signals_train_Gita, y_label_train_Gita, subject_group_train_Gita = process_select_signals(data_train_Gita, SAMPLE_RATE)\n",
        "\n",
        "print(\"-\"*40)\n",
        "# Data test NeuroVoz\n",
        "signals_test_NeuroV, y_label_test_NeuroV, subject_group_test_NeuroV = process_select_signals(data_test_NeuroV, SAMPLE_RATE)"
      ]
    },
    {
      "cell_type": "markdown",
      "source": [
        "### Verificación de tamaños"
      ],
      "metadata": {
        "id": "mO_JLAgTKn_b"
      }
    },
    {
      "cell_type": "markdown",
      "source": [
        "GITA"
      ],
      "metadata": {
        "id": "0ic2sbnPKvwL"
      }
    },
    {
      "cell_type": "code",
      "source": [
        "print('size data train', signals_train_Gita.shape)  # Debería dar size data train (1962, 17640).\n",
        "print('size labels train', y_label_train_Gita.shape)\n",
        "print('size group subject train', subject_group_train_Gita.shape)"
      ],
      "metadata": {
        "id": "TtH8YlYUns9C"
      },
      "execution_count": null,
      "outputs": []
    },
    {
      "cell_type": "markdown",
      "source": [
        "NeuroVoz"
      ],
      "metadata": {
        "id": "r6lE7D3GKx1l"
      }
    },
    {
      "cell_type": "code",
      "source": [
        "print('size data test', signals_test_NeuroV.shape)  # Debería dar size data test (4985, 17640).\n",
        "print('size labels test', y_label_test_NeuroV.shape)\n",
        "print('size group subject test', subject_group_test_NeuroV.shape)"
      ],
      "metadata": {
        "id": "wleAL1lhKzKg"
      },
      "execution_count": null,
      "outputs": []
    },
    {
      "cell_type": "markdown",
      "metadata": {
        "id": "KgUeGFjKrdOJ"
      },
      "source": [
        "## Espectrogramas\n",
        "Aquí se realiza el data augmentation.\n",
        "https://pytorch.org/audio/main/generated/torchaudio.transforms.TimeMasking.html#torchaudio.transforms.TimeMasking\n",
        "https://paperswithcode.com/paper/specaugment-a-simple-data-augmentation-method"
      ]
    },
    {
      "cell_type": "code",
      "execution_count": null,
      "metadata": {
        "id": "kePzTHqB3KbC"
      },
      "outputs": [],
      "source": [
        "def compute_norm_spect(signals, sample_rate, want_to_augment = True):\n",
        "    n_fft = 2048 #Numero de puntos\n",
        "    win_length = int(0.015*sample_rate)  # Tamaño de la ventana\n",
        "    hop_length = int(0.010*sample_rate)  # Tamaño del Hop\n",
        "    n_mels = 65                          # Número de ventanas de Mel\n",
        "\n",
        "    augmentation_count = 0\n",
        "\n",
        "    if want_to_augment: #Configuration of Data augmentation\n",
        "      time_masking = T.TimeMasking(time_mask_param=6)\n",
        "      freq_masking = T.FrequencyMasking(freq_mask_param=10)\n",
        "      aug_mel_spectrograms = []\n",
        "\n",
        "    mel_spectrogram = T.MelSpectrogram(  #T from torchaudio.transforms.\n",
        "        sample_rate=sample_rate,\n",
        "        n_fft=n_fft,\n",
        "        win_length=win_length,\n",
        "        hop_length=hop_length,\n",
        "        center=True,\n",
        "        pad_mode=\"reflect\",\n",
        "        power=2.0,\n",
        "        norm=\"slaney\",\n",
        "        #onesided=True,\n",
        "        n_mels=n_mels,\n",
        "        mel_scale=\"htk\",\n",
        "    )\n",
        "\n",
        "\n",
        "    mel_spectrograms = []\n",
        "    scaler = StandardScaler()\n",
        "    print(\"Calculating mel spectrograms\")\n",
        "    for i in range(signals.shape[0]):\n",
        "        mel_spect = librosa.power_to_db(mel_spectrogram(torch.from_numpy(signals[i,:]))) #Calculamos el MelSpectrogram y Transformación a dB\n",
        "        mel_spect_norm=scaler.fit_transform(mel_spect) #Normalizamos a media 0, stdDev 1\n",
        "        mel_spectrograms.append(mel_spect_norm) #Guardamos los espectrogramas.\n",
        "        print(\"\\r Processed {}/{} files\".format(i + augmentation_count,signals.shape[0] + augmentation_count),end='')\n",
        "\n",
        "        #Data augment\n",
        "        if want_to_augment:\n",
        "          prob_aug = random.random()\n",
        "          if prob_aug <= 1: # All data is augmented\n",
        "              aug_mel_spec = freq_masking(time_masking(torch.from_numpy(mel_spect))) #Apply FreqMasking and TimeMasking to the mel_spect\n",
        "              aug_mel_spect_norm=scaler.fit_transform(aug_mel_spec)\n",
        "              aug_mel_spectrograms.append(aug_mel_spect_norm)\n",
        "              augmentation_count += 1\n",
        "              print(\"\\r Processed {}/{} files\".format(i + augmentation_count,signals.shape[0] + augmentation_count),end='')\n",
        "\n",
        "    mel_spectrograms = np.stack(mel_spectrograms,axis=0)\n",
        "\n",
        "    if want_to_augment:\n",
        "      aug_mel_spectrograms = np.stack(aug_mel_spectrograms,axis=0) #Descomentar si se vuelve a tener data Aug\n",
        "      print(' ')\n",
        "      return mel_spectrograms, aug_mel_spectrograms\n",
        "    else:\n",
        "      print(' ')\n",
        "      return mel_spectrograms"
      ]
    },
    {
      "cell_type": "code",
      "execution_count": null,
      "metadata": {
        "id": "Jcy40l1F3PpD"
      },
      "outputs": [],
      "source": [
        "#Data train + augmentations\n",
        "mel_spectrograms_train_Gita, aug_mel_spectrograms=compute_norm_spect(signals_train_Gita, SAMPLE_RATE)\n",
        "aug_labels = y_label_train_Gita\n",
        "aug_groups = subject_group_train_Gita + 1000\n",
        "print('Data size:',mel_spectrograms_train_Gita.shape)\n",
        "\n",
        "print(\"-\"*40)\n",
        "#Data test\n",
        "mel_spectrograms_test_NeuroV=compute_norm_spect(signals_test_NeuroV, SAMPLE_RATE, want_to_augment = False)\n",
        "print('Data size:',mel_spectrograms_test_NeuroV.shape)"
      ]
    },
    {
      "cell_type": "markdown",
      "metadata": {
        "id": "bKebT7Xg8ejx"
      },
      "source": [
        "## Pruebas para ver"
      ]
    },
    {
      "cell_type": "code",
      "execution_count": null,
      "metadata": {
        "colab": {
          "base_uri": "https://localhost:8080/",
          "height": 504
        },
        "id": "G3YtAEGAr5rz",
        "outputId": "9d9ed1ad-c791-4fc4-d813-3efbd3b27ce4"
      },
      "outputs": [
        {
          "data": {
            "image/png": "[encoded data removed]",
            "text/plain": [
              "<Figure size 640x480 with 4 Axes>"
            ]
          },
          "metadata": {},
          "output_type": "display_data"
        },
        {
          "name": "stdout",
          "output_type": "stream",
          "text": [
            "Orginal Subject: 1, Augmented Subject: 1\n"
          ]
        }
      ],
      "source": [
        "#Sólo para ver, no es necesario ejecutarla.\n",
        "offset = 0\n",
        "plt.subplot(1, 2, 1)\n",
        "plt.imshow(mel_spectrograms_train_Gita[offset], cmap='viridis', origin='lower', aspect='auto')\n",
        "plt.colorbar(format='%+2.0f dB')\n",
        "plt.title('Espectrograma de Mel- Original. Sujeto: {}'.format(subject_group_train_Gita[offset]))\n",
        "\n",
        "plt.subplot(1, 2, 2)\n",
        "plt.imshow(aug_mel_spectrograms[offset], cmap='viridis', origin='lower', aspect='auto')\n",
        "plt.colorbar(format='%+2.0f dB')\n",
        "plt.title('Espectrograma de Mel - Masked. Sujeto: {}'.format(aug_groups[offset]))\n",
        "\n",
        "plt.tight_layout()\n",
        "plt.savefig('/content/drive/MyDrive/Memoria/Imagenes/specAugment_segmented_.png')\n",
        "plt.show()"
      ]
    },
    {
      "cell_type": "markdown",
      "metadata": {
        "id": "9_uPYYbqq8Ky"
      },
      "source": [
        "## Diseño y entrenamiento de la red convolucional"
      ]
    },
    {
      "cell_type": "code",
      "execution_count": null,
      "metadata": {
        "id": "NeucVhojq7N3"
      },
      "outputs": [],
      "source": [
        "class CNN(nn.Module):\n",
        "\n",
        "        def __init__(self, kernel_size_1=8, kernel_size_2=9, depth_CL=64, neurons_MLP=64, drop_out=0.2):\n",
        "            super().__init__()\n",
        "\n",
        "            # 1. conv block\n",
        "            self.conv2Dblock1 = nn.Sequential(\n",
        "            nn.Conv2d(in_channels=1,\n",
        "                       out_channels=depth_CL,\n",
        "                       kernel_size=kernel_size_1,\n",
        "                       stride=1,\n",
        "                       padding=1\n",
        "                      ),\n",
        "            nn.BatchNorm2d(depth_CL),\n",
        "            nn.ReLU(),\n",
        "            nn.MaxPool2d(kernel_size=2),\n",
        "            nn.Dropout(p=drop_out),\n",
        "            )\n",
        "\n",
        "            # 2. conv block\n",
        "            self.conv2Dblock2 = nn.Sequential(\n",
        "            nn.Conv2d(in_channels=depth_CL,\n",
        "                       out_channels=depth_CL,\n",
        "                       kernel_size=kernel_size_2,\n",
        "                       stride=1,\n",
        "                       padding=1\n",
        "                      ),\n",
        "            nn.BatchNorm2d(depth_CL),\n",
        "            nn.ReLU(),\n",
        "            nn.MaxPool2d(kernel_size=2),\n",
        "            nn.Dropout(p=drop_out),\n",
        "\n",
        "            )\n",
        "\n",
        "            self.MLP = nn.Sequential(\n",
        "                nn.Linear(depth_CL*math.ceil((math.ceil((65-kernel_size_1)/2+1)-kernel_size_2)/2+1)\n",
        "                          *math.ceil((math.ceil((41-kernel_size_1)/2+1)-kernel_size_2)/2+1),neurons_MLP),\n",
        "            nn.ReLU(),\n",
        "            nn.Dropout(p=drop_out),\n",
        "            )\n",
        "\n",
        "            self.out_softmax = nn.Sequential(\n",
        "                nn.Linear(neurons_MLP,2),\n",
        "                nn.Softmax(dim=1)\n",
        "            )\n",
        "\n",
        "\n",
        "        def forward(self,x):\n",
        "            x = self.conv2Dblock1(x)\n",
        "            conv_embedding = self.conv2Dblock2(x)\n",
        "            conv_embedding = torch.flatten(conv_embedding, start_dim=1)\n",
        "            MPL_output = self.MLP(conv_embedding)\n",
        "            output_softmax = self.out_softmax(MPL_output)\n",
        "            return output_softmax, MPL_output"
      ]
    },
    {
      "cell_type": "code",
      "execution_count": null,
      "metadata": {
        "id": "9dvSRpyns8y8"
      },
      "outputs": [],
      "source": [
        "def reset_weights(m):\n",
        "    for layer in m.children():\n",
        "        if hasattr(layer, 'reset_parameters'):\n",
        "            layer.reset_parameters()\n",
        "\n",
        "def soft_output_by_subject(output_test, Y_test, subject_group_test, ):\n",
        "\n",
        "    Y_test_bySubject= []\n",
        "    output_test_bySubjects=torch.empty((1,2),device=output_test.device.type)\n",
        "    subject_in_group=np.unique(subject_group_test)\n",
        "    output_test_subject=torch.zeros(subject_in_group.shape)\n",
        "    Y_estimated_test_subject=torch.ones(subject_in_group.shape)\n",
        "    for i, speaker in enumerate(subject_in_group):\n",
        "        index_speaker = np.where(subject_group_test==speaker)\n",
        "        output_test_subject[i]=torch.mean(torch.log(output_test[index_speaker][:,1]) -torch.log(output_test[index_speaker][:,0]),0)\n",
        "        Y_test_bySubject.append(Y_test[index_speaker][0])\n",
        "\n",
        "\n",
        "    Y_test_tensor_bySubject = torch.tensor(Y_test_bySubject,dtype=torch.long,device=device)\n",
        "    Y_estimated_test_subject[output_test_subject<0]=0\n",
        "    return output_test_subject , Y_test_tensor_bySubject,Y_estimated_test_subject"
      ]
    },
    {
      "cell_type": "code",
      "execution_count": null,
      "metadata": {
        "colab": {
          "base_uri": "https://localhost:8080/"
        },
        "id": "tXXsM11gBpK4",
        "outputId": "38753637-3765-444d-9f0b-97fed811f785"
      },
      "outputs": [
        {
          "name": "stdout",
          "output_type": "stream",
          "text": [
            "cuda\n",
            "\n",
            "\\k-fold 1 \n",
            "***********************\n",
            "[24 26 35 38 45 57 58 61 66 99]\n",
            " Epoch 100: iteration 59/58 Acc_class: 99.09\n",
            " validation Gita: 99.49 % by Subject: 100.00%  \n",
            "\n",
            "\\k-fold 2 \n",
            "***********************\n",
            "[ 16  20  37  48  50  52  77  80  84 100]\n",
            " Epoch 100: iteration 59/58 Acc_class: 98.95\n",
            " validation Gita: 98.96 % by Subject: 100.00%  \n",
            "\n",
            "\\k-fold 3 \n",
            "***********************\n",
            "[ 6  7 13 34 47 81 82 86 88 93]\n",
            " Epoch 100: iteration 59/58 Acc_class: 99.11\n",
            " validation Gita: 96.46 % by Subject: 100.00%  \n",
            "\n",
            "\\k-fold 4 \n",
            "***********************\n",
            "[ 1  5 23 33 43 74 78 79 83 89]\n",
            " Epoch 100: iteration 59/58 Acc_class: 98.79\n",
            " validation Gita: 86.80 % by Subject: 90.00%  \n",
            "\n",
            "\\k-fold 5 \n",
            "***********************\n",
            "[ 2  9 12 21 29 64 72 90 94 95]\n",
            " Epoch 100: iteration 59/58 Acc_class: 98.93\n",
            " validation Gita: 93.91 % by Subject: 100.00%  \n",
            "\n",
            "\\k-fold 6 \n",
            "***********************\n",
            "[ 3 22 25 31 39 49 56 73 75 76 91]\n",
            " Epoch 100: iteration 59/58 Acc_class: 98.87\n",
            " validation Gita: 91.46 % by Subject: 90.91%  \n",
            "\n",
            "\\k-fold 7 \n",
            "***********************\n",
            "[ 4  8 17 30 40 53 63 87 97 98]\n",
            " Epoch 100: iteration 59/58 Acc_class: 98.85\n",
            " validation Gita: 99.49 % by Subject: 100.00%  \n",
            "\n",
            "\\k-fold 8 \n",
            "***********************\n",
            "[27 28 32 42 46 51 54 68 70 96]\n",
            " Epoch 100: iteration 59/58 Acc_class: 99.06\n",
            " validation Gita: 96.43 % by Subject: 100.00%  \n",
            "\n",
            "\\k-fold 9 \n",
            "***********************\n",
            "[10 11 19 41 55 59 60 65 92]\n",
            " Epoch 100: iteration 59/58 Acc_class: 98.61\n",
            " validation Gita: 92.27 % by Subject: 88.89%  \n",
            "\n",
            "\\k-fold 10 \n",
            "***********************\n",
            "[14 15 18 36 44 62 67 69 71 85]\n",
            " Epoch 100: iteration 59/58 Acc_class: 98.87\n",
            " validation Gita: 97.44 % by Subject: 100.00%  \n"
          ]
        }
      ],
      "source": [
        "sgkf = StratifiedGroupKFold(n_splits=10)\n",
        "\n",
        "Data_Gita_strat=sgkf.split(mel_spectrograms_train_Gita, y=y_label_train_Gita, groups=subject_group_train_Gita)\n",
        "\n",
        "device = 'cuda' if torch.cuda.is_available() else 'cpu'\n",
        "\n",
        "if device=='cuda':\n",
        "    print(\"cuda\")\n",
        "    #torch.cuda.set_device(1)\n",
        "\n",
        "BATCH_SIZE = 64\n",
        "\n",
        "\n",
        "#Data to test NeuroV\n",
        "X_test_NeuroV =np.expand_dims(np.stack(mel_spectrograms_test_NeuroV, axis=0),1)\n",
        "Y_test_NeuroV= y_label_test_NeuroV\n",
        "X_test_tensor_NeuroV = torch.tensor(X_test_NeuroV,device=device).float()\n",
        "Y_test_tensor_NeuroV = torch.tensor(Y_test_NeuroV,dtype=torch.long,device=device)\n",
        "\n",
        "\n",
        "#Métricas del modelo\n",
        "results_val_metric_subject_Gita  = []\n",
        "Subject_Sen_spe_Gita, Subject_f1_score_Gita, Subject_MCC_Gita, Subject_AUC_Gita=[],[],[],[]\n",
        "Subject_fpr_Gita, Subject_tpr_Gita=[],[]\n",
        "results_loss_Epochs, results_metric_Epochs= [], []\n",
        "results_val_metric_Gita_Epochs, results_val_loss_Gita_Epochs=[],[]\n",
        "\n",
        "#Métricas de validación con el mismo dataset\n",
        "val_windows_metrics_Gita, val_subject_metrics_Gita=[],[]\n",
        "\n",
        "#Para test con Neurovoz\n",
        "test_windows_metrics_NeuroV, test_subject_metrics_NeuroV=[],[]\n",
        "\n",
        "#Para T-SNE:\n",
        "flattern_train_CNN_Original, Y_train_Original_fold =[],[]\n",
        "flattern_train_CNN_Augmented, Y_train_Augmented_fold =[],[]\n",
        "\n",
        "for k in range(10):\n",
        "    results_loss, results_metric, results_val_metric_Gita, results_val_loss_Gita,  = [], [], [], []\n",
        "\n",
        "\n",
        "    print('')\n",
        "    print(f\"\\k-fold {k + 1} \\n***********************\")\n",
        "\n",
        "    train_index_Gita, val_index_Gita =next(iter(Data_Gita_strat))\n",
        "\n",
        "    print(np.unique(subject_group_train_Gita[val_index_Gita])) #Imprimo los índices que serán usados en validation\n",
        "\n",
        "\n",
        "    #Variables para T-SNE\n",
        "    X_Original = np.expand_dims(np.stack(mel_spectrograms_train_Gita[train_index_Gita,:,:], axis=0),1)\n",
        "    X_tensor_Original = torch.tensor(X_Original,device=device).float()\n",
        "    Y_tensor_Original = torch.tensor(y_label_train_Gita[train_index_Gita], dtype=torch.long,device=device)\n",
        "\n",
        "    X_Augmented = np.expand_dims(np.stack(aug_mel_spectrograms, axis=0),1)\n",
        "    X_tensor_Augmented = torch.tensor(X_Augmented,device=device).float()\n",
        "    Y_tensor_Augmented = torch.tensor(aug_labels, dtype=torch.long,device=device)\n",
        "\n",
        "    #Data to train. Augmented variables: aug_signals, aug_labels, aug_groups, aug_mel_spectrograms\n",
        "\n",
        "    X_train = np.expand_dims(np.stack(np.concatenate([mel_spectrograms_train_Gita[train_index_Gita,:,:], aug_mel_spectrograms], axis=0), axis=0),1) #Acá poner + augmentedSpec\n",
        "    Y_train = np.concatenate([y_label_train_Gita[train_index_Gita], aug_labels],axis=0) #Aca igua ponerle las de augmented\n",
        "\n",
        "    X_tensor = torch.tensor(X_train,device=device).float()\n",
        "    Y_tensor = torch.tensor(Y_train, dtype=torch.long,device=device)\n",
        "\n",
        "    subject_group_train=np.concatenate([subject_group_train_Gita[train_index_Gita], aug_groups],axis=0)#Acá igual concatenar las de augmented\n",
        "\n",
        "\n",
        "    #Data to val Gita\n",
        "    X_val_Gita =np.expand_dims(np.stack(mel_spectrograms_train_Gita[val_index_Gita,:,:], axis=0),1)\n",
        "    Y_val_Gita= y_label_train_Gita[val_index_Gita]\n",
        "    subject_group_val_Gita=subject_group_train_Gita[val_index_Gita]\n",
        "    X_val_tensor_Gita = torch.tensor(X_val_Gita,device=device).float()\n",
        "    Y_val_tensor_Gita = torch.tensor(Y_val_Gita,dtype=torch.long,device=device)\n",
        "\n",
        "\n",
        "    DATASET_SIZE=X_train.shape[0]\n",
        "    iters = int(DATASET_SIZE / BATCH_SIZE)\n",
        "\n",
        "    model = CNN().to(device)\n",
        "    model.apply(reset_weights)\n",
        "\n",
        "\n",
        "    loss_func = nn.CrossEntropyLoss()\n",
        "    optimizer = torch.optim.SGD(model.parameters(),lr=0.1)\n",
        "    lambda1 = lambda epoch: 0.95 ** epoch\n",
        "    scheduler = torch.optim.lr_scheduler.LambdaLR(optimizer, lr_lambda=lambda1)\n",
        "\n",
        "\n",
        "    dataset=TensorDataset(X_tensor,Y_tensor)\n",
        "    dataloader = DataLoader(dataset, batch_size=BATCH_SIZE, shuffle=True)\n",
        "\n",
        "    for epoch in range(100): #100 épocas\n",
        "        epoch_acc = 0\n",
        "        epoch_loss = 0\n",
        "        for id_batch, (x_batch, y_batch) in enumerate(dataloader):\n",
        "            actual_batch_size=x_batch.shape[0]\n",
        "\n",
        "            # zero the parameter gradients\n",
        "            model.train()\n",
        "            optimizer.zero_grad()\n",
        "\n",
        "            # forward\n",
        "            outputs = model(x_batch)[0]\n",
        "\n",
        "            # calculate accuracy\n",
        "            prediction = torch.max(outputs, 1)[1]\n",
        "            metric = sklearn.metrics.accuracy_score(y_batch.data.cpu(), prediction.data.cpu())*100\n",
        "\n",
        "\n",
        "            # calculate loss + backward + optimize\n",
        "            loss = loss_func(outputs, y_batch)\n",
        "            loss.backward()\n",
        "            optimizer.step()\n",
        "\n",
        "            epoch_acc += metric*actual_batch_size/DATASET_SIZE\n",
        "            epoch_loss += loss.item()*actual_batch_size/DATASET_SIZE\n",
        "        print(f\"\\r Epoch {epoch +1}: iteration {id_batch +1}/{iters} Acc_class: {epoch_acc:.2f}\",end='')\n",
        "\n",
        "\n",
        "        scheduler.step()\n",
        "\n",
        "        with torch.no_grad():\n",
        "            model.eval()\n",
        "            output_val_Gita = model(X_val_tensor_Gita)[0]\n",
        "            prediction_val_Gita = torch.max(output_val_Gita, 1)[1]\n",
        "            val_metric_Gita = sklearn.metrics.accuracy_score(Y_val_tensor_Gita.data.cpu(), prediction_val_Gita.data.cpu())*100\n",
        "            val_loss_Gita = loss_func(output_val_Gita, Y_val_tensor_Gita.data)\n",
        "\n",
        "            output_val_bySubjects_Gita, Y_val_tensor_bySubject_Gita, prediction_val_bySubject_Gita =soft_output_by_subject(output_val_Gita, Y_val_Gita, subject_group_val_Gita)\n",
        "            val_metric_subject_Gita = sklearn.metrics.accuracy_score(Y_val_tensor_bySubject_Gita.data.cpu(), prediction_val_bySubject_Gita.data.cpu())*100\n",
        "\n",
        "        # append history\n",
        "        results_loss.append(epoch_loss)\n",
        "        results_metric.append(epoch_acc)\n",
        "        results_val_metric_Gita.append(val_metric_Gita)\n",
        "        results_val_metric_subject_Gita.append(val_metric_subject_Gita)\n",
        "        results_val_loss_Gita.append(val_loss_Gita.item())\n",
        "\n",
        "\n",
        "    print('')\n",
        "    print(f\"\\r validation Gita: {val_metric_Gita:.2f} % by Subject: {val_metric_subject_Gita:.2f}%  \")\n",
        "\n",
        "    #compute metrics\n",
        "    Sen_spe_subject_Gita=sensitivity_specificity_support(Y_val_tensor_bySubject_Gita.data.cpu(), prediction_val_bySubject_Gita.data.cpu(), average='binary')*100\n",
        "    val_f1_score_Gita = sklearn.metrics.f1_score(Y_val_tensor_bySubject_Gita.data.cpu(), prediction_val_bySubject_Gita.data.cpu())*100\n",
        "    val_MCC_Gita = sklearn.metrics.matthews_corrcoef(Y_val_tensor_bySubject_Gita.data.cpu(), prediction_val_bySubject_Gita.data.cpu())\n",
        "    val_fpr_Gita, val_tpr_Gita, _ = sklearn.metrics.roc_curve(Y_val_tensor_bySubject_Gita.data.cpu(), output_val_bySubjects_Gita.data.cpu())\n",
        "    val_AUC_Gita = sklearn.metrics.auc(val_fpr_Gita, val_tpr_Gita)\n",
        "\n",
        "    #Métricas para T-SNE\n",
        "    with torch.no_grad():\n",
        "        model.eval()\n",
        "        output_train_Original, train_CNN_Original = model(X_tensor_Original)\n",
        "        output_train_Augmented, train_CNN_Augmented = model(X_tensor_Augmented)\n",
        "\n",
        "    with torch.no_grad():\n",
        "        model.eval()\n",
        "        output_test_NeuroV, output_CNN_NeuroV = model(X_test_tensor_NeuroV)\n",
        "        prediction_test_NeuroV = torch.max(output_test_NeuroV, 1)[1]\n",
        "\n",
        "    test_metric_NeuroV = sklearn.metrics.accuracy_score(Y_test_tensor_NeuroV.data.cpu(), prediction_test_NeuroV.data.cpu())*100\n",
        "\n",
        "    output_test_bySubjects_NeuroV, Y_test_tensor_bySubject_NeuroV, prediction_test_bySubject_NeuroV =soft_output_by_subject( output_test_NeuroV, Y_test_NeuroV, subject_group_test_NeuroV)\n",
        "    test_metric_subject_NeuroV = sklearn.metrics.accuracy_score(Y_test_tensor_bySubject_NeuroV.data.cpu(), prediction_test_bySubject_NeuroV.data.cpu())*100\n",
        "\n",
        "    results_loss_Epochs.append(results_loss)\n",
        "    results_metric_Epochs.append(results_metric)\n",
        "    results_val_metric_Gita_Epochs.append(results_val_metric_Gita)\n",
        "    results_val_loss_Gita_Epochs.append(results_val_loss_Gita)\n",
        "\n",
        "    val_windows_metrics_Gita.append(val_metric_Gita)\n",
        "    val_subject_metrics_Gita.append(val_metric_subject_Gita)\n",
        "    Subject_Sen_spe_Gita.append([Sen_spe_subject_Gita[0]*100, Sen_spe_subject_Gita[1]*100])\n",
        "    Subject_f1_score_Gita.append(val_f1_score_Gita)\n",
        "    Subject_MCC_Gita.append(val_MCC_Gita)\n",
        "    Subject_AUC_Gita.append(val_AUC_Gita)\n",
        "    Subject_fpr_Gita.append(val_fpr_Gita)\n",
        "    Subject_tpr_Gita.append(val_tpr_Gita)\n",
        "\n",
        "\n",
        "    #Variables para T-SNE\n",
        "    flattern_train_CNN_Original.append(train_CNN_Original)\n",
        "    Y_train_Original_fold.append(Y_tensor_Original)\n",
        "    flattern_train_CNN_Augmented.append(train_CNN_Augmented)\n",
        "    Y_train_Augmented_fold.append(Y_tensor_Augmented)\n",
        "\n",
        "    test_windows_metrics_NeuroV.append(test_metric_NeuroV)\n",
        "    test_subject_metrics_NeuroV.append(test_metric_subject_NeuroV)\n",
        "\n",
        "    torch.save(model.state_dict(), '/content/drive/MyDrive/Memoria/SpecAugment/test7/CNN_Gita_pataka_fold_'+str(k)+'.pt')"
      ]
    },
    {
      "cell_type": "markdown",
      "metadata": {
        "id": "y5I2jbnVBeqw"
      },
      "source": [
        "## Métricas Gita"
      ]
    },
    {
      "cell_type": "code",
      "execution_count": null,
      "metadata": {
        "colab": {
          "base_uri": "https://localhost:8080/"
        },
        "id": "fJvrhg4KBNOQ",
        "outputId": "08014097-f295-4add-c0d9-10138aea3ee2"
      },
      "outputs": [
        {
          "name": "stdout",
          "output_type": "stream",
          "text": [
            "Gita: Accuracy:    96.98 (4.64)%\n",
            "\r      Sensitivity: 96.33 (7.37)% \n",
            "\r      Specifity:   98.00 (6.00)% \n",
            "\r      f1_score:    96.87 (4.81)%\n",
            "\r      MCC:         0.94 (0.08)\n",
            "\r      AUC:         1.00 (0.01)\n"
          ]
        }
      ],
      "source": [
        "#Métricas\n",
        "print(f'Gita: Accuracy:    {np.mean(val_subject_metrics_Gita):.2f} ({np.std(val_subject_metrics_Gita):.2f})%')\n",
        "print(f\"\\r      Sensitivity: {np.mean(np.stack(Subject_Sen_spe_Gita,0),0)[0]:.2f} ({np.std(np.stack(Subject_Sen_spe_Gita,0),0)[0]:.2f})% \")\n",
        "print(f\"\\r      Specifity:   {np.mean(np.stack(Subject_Sen_spe_Gita,0),0)[1]:.2f} ({np.std(np.stack(Subject_Sen_spe_Gita,0),0)[1]:.2f})% \")\n",
        "print(f'\\r      f1_score:    {np.mean(Subject_f1_score_Gita):.2f} ({np.std(Subject_f1_score_Gita):.2f})%')\n",
        "print(f'\\r      MCC:         {np.mean(Subject_MCC_Gita):.2f} ({np.std(Subject_MCC_Gita):.2f})')\n",
        "print(f'\\r      AUC:         {np.mean(Subject_AUC_Gita):.2f} ({np.std(Subject_AUC_Gita):.2f})')\n"
      ]
    },
    {
      "cell_type": "code",
      "execution_count": null,
      "metadata": {
        "colab": {
          "base_uri": "https://localhost:8080/",
          "height": 769
        },
        "id": "XG_oAyzjBhzW",
        "outputId": "084e6817-7290-4630-8d5f-0994f5b387e9"
      },
      "outputs": [
        {
          "data": {
            "image/png": "[encoded data removed]",
            "text/plain": [
              "<Figure size 800x400 with 1 Axes>"
            ]
          },
          "metadata": {},
          "output_type": "display_data"
        },
        {
          "data": {
            "image/png": "[encoded data removed]",
            "text/plain": [
              "<Figure size 800x400 with 1 Axes>"
            ]
          },
          "metadata": {},
          "output_type": "display_data"
        }
      ],
      "source": [
        "results_loss_Epochs_mean=np.stack(results_loss_Epochs,0).mean(axis=0)\n",
        "results_loss_Epochs_std=np.stack(results_loss_Epochs,0).std(axis=0)\n",
        "\n",
        "results_val_loss_Gita_Epochs_mean=np.stack(results_val_loss_Gita_Epochs,0).mean(axis=0)\n",
        "results_val_loss_Gita_Epochs_std=np.stack(results_val_loss_Gita_Epochs,0).std(axis=0)\n",
        "\n",
        "fig, ax = plt.subplots(figsize=(8, 4))\n",
        "ax.plot(range(epoch+1),results_loss_Epochs_mean, alpha=0.5, color='#888888', label='train', linewidth = 2.0)\n",
        "ax.fill_between(range(epoch+1), results_loss_Epochs_mean - results_loss_Epochs_std, results_loss_Epochs_mean + results_loss_Epochs_std, color='#888888', alpha=0.4)\n",
        "\n",
        "ax.plot(range(epoch+1),results_val_loss_Gita_Epochs_mean, alpha=0.5, color='blue', label='Validation Gita', linewidth = 2.0)\n",
        "ax.fill_between(range(epoch+1), results_val_loss_Gita_Epochs_mean - results_val_loss_Gita_Epochs_std, results_val_loss_Gita_Epochs_mean + results_val_loss_Gita_Epochs_std, color='blue', alpha=0.2)\n",
        "\n",
        "\n",
        "ax.set_ylim([0,1])\n",
        "ax.legend(loc='lower right')\n",
        "ax.set_ylabel(\"Loss\")\n",
        "ax.set_xlabel(\"Epoch\")\n",
        "plt.savefig(\"/content/drive/MyDrive/Memoria/SpecAugment/test7/Loss_Train_Validation_pataka.pdf\", dpi=150)\n",
        "\n",
        "results_metric_Epochs_mean=np.stack(results_metric_Epochs,0).mean(axis=0)\n",
        "results_metric_Epochs_std=np.stack(results_metric_Epochs,0).std(axis=0)\n",
        "\n",
        "results_val_metric_Gita_Epochs_mean=np.stack(results_val_metric_Gita_Epochs,0).mean(axis=0)\n",
        "results_val_metric_Gita_Epochs_std=np.stack(results_val_metric_Gita_Epochs,0).std(axis=0)\n",
        "\n",
        "\n",
        "fig, ax = plt.subplots(figsize=(8, 4))\n",
        "ax.plot(range(epoch+1),results_metric_Epochs_mean, alpha=0.5, color='#888888', label='train', linewidth = 2.0)\n",
        "ax.fill_between(range(epoch+1), results_metric_Epochs_mean - results_metric_Epochs_std, results_metric_Epochs_mean + results_metric_Epochs_std, color='#888888', alpha=0.4)\n",
        "\n",
        "ax.plot(range(epoch+1),results_val_metric_Gita_Epochs_mean, alpha=0.5, color='blue', label='Validation Gita', linewidth = 2.0)\n",
        "ax.fill_between(range(epoch+1), results_val_metric_Gita_Epochs_mean - results_val_metric_Gita_Epochs_std, results_val_metric_Gita_Epochs_mean + results_val_metric_Gita_Epochs_std, color='blue', alpha=0.2)\n",
        "\n",
        "ax.set_ylim([30,100])\n",
        "ax.legend(loc='lower right')\n",
        "\n",
        "ax.set_ylabel(\"Accuracy (%)\")\n",
        "ax.set_xlabel(\"Epoch\")\n",
        "plt.savefig(\"/content/drive/MyDrive/Memoria/SpecAugment/test7/Accuracy_Train_Validation_pataka_prob_100.pdf\", dpi=150)"
      ]
    },
    {
      "cell_type": "code",
      "execution_count": null,
      "metadata": {
        "colab": {
          "base_uri": "https://localhost:8080/"
        },
        "id": "lbwBtJmYsBVU",
        "outputId": "e9ef2ac8-e074-460f-b7d0-ca9b17ea6200"
      },
      "outputs": [
        {
          "name": "stdout",
          "output_type": "stream",
          "text": [
            "Gita: Accuracy by windows:, 95.27 (3.92)%,Accuracy by subject:96.98 (4.64)\n"
          ]
        }
      ],
      "source": [
        "print(f'Gita: Accuracy by windows:, {np.mean(val_windows_metrics_Gita):.2f} ({np.std(val_windows_metrics_Gita):.2f})%,Accuracy by subject:{np.mean(val_subject_metrics_Gita):.2f} ({np.std(val_subject_metrics_Gita):.2f})')"
      ]
    },
    {
      "cell_type": "code",
      "execution_count": null,
      "metadata": {
        "id": "ysdyBYUDsNkB"
      },
      "outputs": [],
      "source": [
        "def plot_ROC_k_fold(fpr_k_folds,tpr_k_folds,auc_k_folds,folds, color):\n",
        "    mean_fpr = np.linspace(0, 1, 100)\n",
        "    fig, ax = plt.subplots(figsize=(6, 6))\n",
        "    ax.plot([0, 1], [0, 1], \"k--\", label=\"chance level (AUC = 0.5)\")\n",
        "    tprs=[]\n",
        "    for k in range(folds):\n",
        "        #display = sklearn.metrics.RocCurveDisplay(fpr=fpr_k_folds[k], tpr=tpr_k_folds[k], roc_auc=auc_k_folds[k],\n",
        "        #                           estimator_name='ROC fold'+str(k))\n",
        "        #display.plot()\n",
        "\n",
        "        interp_tpr = np.interp(mean_fpr, fpr_k_folds[k], tpr_k_folds[k])\n",
        "        interp_tpr[0] = 0.0\n",
        "        tprs.append(interp_tpr)\n",
        "    mean_tpr = np.mean(tprs, axis=0)\n",
        "    mean_auc =np.mean(auc_k_folds)\n",
        "    std_auc = np.std(auc_k_folds)\n",
        "    ax.plot(\n",
        "        mean_fpr,\n",
        "        mean_tpr,\n",
        "        color=color,\n",
        "        label=r\"Mean ROC (AUC = %0.2f $\\pm$ %0.2f)\" % (mean_auc, std_auc),\n",
        "        lw=2,\n",
        "        alpha=0.8,\n",
        "    )\n",
        "\n",
        "    std_tpr = np.std(tprs, axis=0)\n",
        "    tprs_upper = np.minimum(mean_tpr + std_tpr, 1)\n",
        "    tprs_lower = np.maximum(mean_tpr - std_tpr, 0)\n",
        "    ax.fill_between(\n",
        "        mean_fpr,\n",
        "        tprs_lower,\n",
        "        tprs_upper,\n",
        "        color=color,\n",
        "        alpha=0.2,\n",
        "        label=r\"$\\pm$ 1 std. dev.\",\n",
        "    )\n",
        "\n",
        "    ax.set(\n",
        "        xlim=[-0.05, 1.05],\n",
        "        ylim=[-0.05, 1.05],\n",
        "        xlabel=\"False Positive Rate\",\n",
        "        ylabel=\"True Positive Rate\",\n",
        "       # title=f\"Mean ROC curve with variability\\n(Positive label '{target_names[1]}')\",\n",
        "    )\n",
        "    ax.axis(\"square\")\n",
        "    ax.legend(loc=\"lower right\")\n",
        "    plt.savefig(\"/content/drive/MyDrive/Memoria/SpecAugment/test7/ROC_Subject_fpr_Gita.pdf\", dpi=150)\n",
        "    plt.show()\n"
      ]
    },
    {
      "cell_type": "code",
      "execution_count": null,
      "metadata": {
        "colab": {
          "base_uri": "https://localhost:8080/",
          "height": 542
        },
        "id": "Y6KpPTPUsOmB",
        "outputId": "2800c3cb-ed08-4bbd-d82a-e7e390fa4bb5"
      },
      "outputs": [
        {
          "data": {
            "image/png": "[encoded data removed]",
            "text/plain": [
              "<Figure size 600x600 with 1 Axes>"
            ]
          },
          "metadata": {},
          "output_type": "display_data"
        }
      ],
      "source": [
        "plot_ROC_k_fold(Subject_fpr_Gita,Subject_tpr_Gita,Subject_AUC_Gita, 10, 'blue')"
      ]
    },
    {
      "cell_type": "markdown",
      "metadata": {
        "id": "dLnF6t1w4c_g"
      },
      "source": [
        "## Métricas Cross-Validation (Neurovoz)"
      ]
    },
    {
      "cell_type": "code",
      "execution_count": null,
      "metadata": {
        "colab": {
          "base_uri": "https://localhost:8080/"
        },
        "id": "5V_29M1L4gqa",
        "outputId": "e7d94b7b-b795-434a-ecd9-d5a6aa8f657a"
      },
      "outputs": [
        {
          "name": "stdout",
          "output_type": "stream",
          "text": [
            "NeuroV: Accuracy:  51.40 (1.86)%\n",
            "Test NeuroV: Accuracy by windows:, 44.41 (1.73)%,Accuracy by subject:51.40 (1.86)\n"
          ]
        }
      ],
      "source": [
        "print(f'NeuroV: Accuracy:  {np.mean(test_subject_metrics_NeuroV):.2f} ({np.std(test_subject_metrics_NeuroV):.2f})%')\n",
        "print(f'Test NeuroV: Accuracy by windows:, {np.mean(test_windows_metrics_NeuroV):.2f} ({np.std(test_windows_metrics_NeuroV):.2f})%,Accuracy by subject:{np.mean(test_subject_metrics_NeuroV):.2f} ({np.std(test_subject_metrics_NeuroV):.2f})')"
      ]
    },
    {
      "cell_type": "markdown",
      "metadata": {
        "id": "UgIz-CjhgkSV"
      },
      "source": [
        "## T-SNE"
      ]
    },
    {
      "cell_type": "code",
      "execution_count": null,
      "metadata": {
        "id": "qDnjGEkMeFX-"
      },
      "outputs": [],
      "source": [
        "def plot_embedding(X, y, d, title=None):\n",
        "    \"\"\"Plot an embedding X with the class label y colored by the domain d.\"\"\"\n",
        "    x_min, x_max = np.min(X, 0), np.max(X, 0)\n",
        "    X = (X - x_min) / (x_max - x_min)\n",
        "    # Plot colors numbers\n",
        "    plt.figure(figsize=(10,10))\n",
        "    ax = plt.subplot(111)\n",
        "    colores=[(0,0.6,1), (0,0,1), (1,0.5,0.5), (1,0,0)  ]\n",
        "\n",
        "    for i in range(X.shape[0]):\n",
        "        # plot colored number\n",
        "        #plt.text(X[i, 0], X[i, 1], 'o',\n",
        "        #         color=colores[y[i]],\n",
        "        #         fontdict={ 'size': 14})\n",
        "        plt.plot(X[i, 0], X[i, 1], 'o',\n",
        "                 color=colores[y[i]],#plt.cm.brw(y[i]),\n",
        "                  )\n",
        "\n",
        "    plt.xticks([]), plt.yticks([])\n",
        "    plt.legend(['Original_HC', 'Original_PD', 'Augmented_HC', 'Augmented_PD'] )\n",
        "    ax = plt.gca()\n",
        "    leg = ax.get_legend()\n",
        "    leg.legendHandles[0].set_color((0,0.6,1))\n",
        "    leg.legendHandles[1].set_color((0,0,1))\n",
        "    leg.legendHandles[2].set_color((1,0.5,0.5))\n",
        "    leg.legendHandles[3].set_color((1,0,0))\n",
        "    if title is not None:\n",
        "        plt.title(title)"
      ]
    },
    {
      "cell_type": "code",
      "execution_count": null,
      "metadata": {
        "id": "P1R3lRmXd_pi"
      },
      "outputs": [],
      "source": [
        "t_SNE= TSNE(n_components=2,n_iter=500,n_iter_without_progress=150, n_jobs=2, random_state=0)\n",
        "\n",
        "for k in range(10):\n",
        "    CCN_train=np.concatenate([flattern_train_CNN_Original[k].data.cpu(), flattern_train_CNN_Augmented[k].data.cpu()])\n",
        "    Y_train=np.concatenate([Y_train_Original_fold[k].data.cpu(), Y_train_Augmented_fold[k].data.cpu()])\n",
        "    Y_train_plot=np.concatenate([Y_train_Original_fold[k].data.cpu(), Y_train_Augmented_fold[k].data.cpu()+2])\n",
        "    domain_train=np.concatenate([np.zeros(Y_train_Original_fold[k].shape), np.ones( Y_train_Augmented_fold[k].shape)])\n",
        "\n",
        "    projections=t_SNE.fit_transform(CCN_train,Y_train)\n",
        "\n",
        "    plot_embedding(projections,Y_train_plot,domain_train, 't-SNE embeedding')\n",
        "    plt.savefig(\"/content/drive/MyDrive/Memoria/SpecAugment/test7/T-SNE{}.pdf\".format(k), dpi=150)\n",
        "\n",
        "    plt.show()"
      ]
    },
    {
      "cell_type": "markdown",
      "metadata": {
        "id": "_IVq5raMmpvT"
      },
      "source": [
        "# Train with: NeuroVoz"
      ]
    },
    {
      "cell_type": "markdown",
      "metadata": {
        "id": "BAdyJolTniU7"
      },
      "source": [
        "## Processing"
      ]
    },
    {
      "cell_type": "code",
      "execution_count": null,
      "metadata": {
        "id": "kexao050mevW"
      },
      "outputs": [],
      "source": [
        "# Data test GITA (sin data augmentation)\n",
        "signals_test_Gita, y_label_test_Gita, subject_group_test_Gita = process_select_signals(data_train_Gita, SAMPLE_RATE)\n",
        "\n",
        "print(\"-\"*40)\n",
        "# Data train NeuroVoz + Data Augmentation\n",
        "signals_train_NeuroV, y_label_train_NeuroV, subject_group_train_NeuroV = process_select_signals(data_test_NeuroV, SAMPLE_RATE)"
      ]
    },
    {
      "cell_type": "code",
      "execution_count": null,
      "metadata": {
        "colab": {
          "base_uri": "https://localhost:8080/"
        },
        "id": "RqxemaAYw7Fd",
        "outputId": "49208c53-1d7f-44d3-be6e-c99bead30949"
      },
      "outputs": [
        {
          "name": "stdout",
          "output_type": "stream",
          "text": [
            "size data train (4985, 17640)\n",
            "size data test (1962, 17640)\n"
          ]
        }
      ],
      "source": [
        "print('size data train', signals_train_NeuroV.shape)  # Debería dar size data test (4985, 17640).\n",
        "print('size data test', signals_test_Gita.shape)  # Debería dar size data train (1962, 17640)."
      ]
    },
    {
      "cell_type": "markdown",
      "source": [
        "## Espectrogramas\n",
        "Aquí hacemos data augmentation"
      ],
      "metadata": {
        "id": "o7WgkHMK1zin"
      }
    },
    {
      "cell_type": "code",
      "execution_count": null,
      "metadata": {
        "id": "Gk34k8x4ohmc"
      },
      "outputs": [],
      "source": [
        "def compute_norm_spect(signals, sample_rate, want_to_augment = True):\n",
        "    n_fft = 2048 #Numero de puntos\n",
        "    win_length = int(0.015*sample_rate)  # Tamaño de la ventana\n",
        "    hop_length = int(0.010*sample_rate)  # Tamaño del Hop\n",
        "    n_mels = 65                          # Número de ventanas de Mel\n",
        "\n",
        "    augmentation_count = 0\n",
        "    if want_to_augment: #Preparación del Data augmentation\n",
        "      time_masking = T.TimeMasking(time_mask_param=6)\n",
        "      freq_masking = T.FrequencyMasking(freq_mask_param=10)\n",
        "      aug_mel_spectrograms = []\n",
        "\n",
        "    mel_spectrogram = T.MelSpectrogram(  #T from torchaudio.transforms. Configuración del espectrograma de Mel\n",
        "        sample_rate=sample_rate,\n",
        "        n_fft=n_fft,\n",
        "        win_length=win_length,\n",
        "        hop_length=hop_length,\n",
        "        center=True,\n",
        "        pad_mode=\"reflect\",\n",
        "        power=2.0,\n",
        "        norm=\"slaney\",\n",
        "        #onesided=True,\n",
        "        n_mels=n_mels,\n",
        "        mel_scale=\"htk\",\n",
        "    )\n",
        "\n",
        "\n",
        "    mel_spectrograms = []\n",
        "    scaler = StandardScaler()\n",
        "    print(\"Calculating mel spectrograms\")\n",
        "    for i in range(signals.shape[0]):\n",
        "        mel_spect = librosa.power_to_db(mel_spectrogram(torch.from_numpy(signals[i,:]))) #Calculamos el MelSpectrogram y Transformación a dB\n",
        "        mel_spect_norm=scaler.fit_transform(mel_spect) #Normalizamos a media 0, stdDev 1\n",
        "        mel_spectrograms.append(mel_spect_norm) #Guardamos los espectrogramas.\n",
        "        print(\"\\r Processed {}/{} files\".format(i + augmentation_count,signals.shape[0] + augmentation_count),end='')\n",
        "\n",
        "        #Data augment\n",
        "        if want_to_augment:\n",
        "          prob_aug = random.random()\n",
        "          if prob_aug <= 1: # All data is augmented\n",
        "              aug_mel_spec = freq_masking(time_masking(torch.from_numpy(mel_spect)))\n",
        "              aug_mel_spect_norm=scaler.fit_transform(aug_mel_spec)\n",
        "              aug_mel_spectrograms.append(aug_mel_spect_norm)\n",
        "              augmentation_count += 1\n",
        "              print(\"\\r Processed {}/{} files\".format(i + augmentation_count,signals.shape[0] + augmentation_count),end='')\n",
        "\n",
        "    mel_spectrograms = np.stack(mel_spectrograms,axis=0)\n",
        "\n",
        "    if want_to_augment:\n",
        "      aug_mel_spectrograms = np.stack(aug_mel_spectrograms,axis=0)\n",
        "      print(' ')\n",
        "      return mel_spectrograms, aug_mel_spectrograms\n",
        "    else:\n",
        "      print(' ')\n",
        "      return mel_spectrograms"
      ]
    },
    {
      "cell_type": "code",
      "execution_count": null,
      "metadata": {
        "colab": {
          "base_uri": "https://localhost:8080/"
        },
        "id": "SNiSiRo8oBBw",
        "outputId": "fca08d2f-d9e1-4c98-cbd7-0076308c9eb0"
      },
      "outputs": [
        {
          "name": "stdout",
          "output_type": "stream",
          "text": [
            "Calculating mel spectrograms\n",
            " Processed 9969/9970 files \n",
            "Data size: (4985, 65, 41)\n",
            "----------------------------------------\n",
            "Calculating mel spectrograms\n",
            " Processed 1961/1962 files \n",
            "Data size: (1962, 65, 41)\n"
          ]
        }
      ],
      "source": [
        "#Data train\n",
        "mel_spectrograms_train_NeuroV, aug_mel_spectrograms=compute_norm_spect(signals_train_NeuroV, SAMPLE_RATE)\n",
        "aug_labels = y_label_train_NeuroV\n",
        "aug_groups = subject_group_train_NeuroV + 1000\n",
        "print('Data train size:',mel_spectrograms_train_NeuroV.shape)\n",
        "print('Data aug size:',mel_spectrograms_train_NeuroV.shape)\n",
        "\n",
        "print(\"-\"*40)\n",
        "#Data test\n",
        "mel_spectrograms_test_Gita=compute_norm_spect(signals_test_Gita, SAMPLE_RATE, want_to_augment = False)\n",
        "print('Data test size:',mel_spectrograms_test_Gita.shape)"
      ]
    },
    {
      "cell_type": "markdown",
      "metadata": {
        "id": "QEmSw3fMFQqp"
      },
      "source": [
        "## Entrenamiento"
      ]
    },
    {
      "cell_type": "code",
      "execution_count": null,
      "metadata": {
        "id": "W33sC-2-ot9m"
      },
      "outputs": [],
      "source": [
        "class CNN(nn.Module):\n",
        "\n",
        "        def __init__(self, kernel_size_1=8, kernel_size_2=9, depth_CL=64, neurons_MLP=64, drop_out=0.2):\n",
        "            super().__init__()\n",
        "\n",
        "            # 1. conv block\n",
        "            self.conv2Dblock1 = nn.Sequential(\n",
        "            nn.Conv2d(in_channels=1,\n",
        "                       out_channels=depth_CL,\n",
        "                       kernel_size=kernel_size_1,\n",
        "                       stride=1,\n",
        "                       padding=1\n",
        "                      ),\n",
        "            nn.BatchNorm2d(depth_CL),\n",
        "            nn.ReLU(),\n",
        "            nn.MaxPool2d(kernel_size=2),\n",
        "            nn.Dropout(p=drop_out),\n",
        "            )\n",
        "\n",
        "            # 2. conv block\n",
        "            self.conv2Dblock2 = nn.Sequential(\n",
        "            nn.Conv2d(in_channels=depth_CL,\n",
        "                       out_channels=depth_CL,\n",
        "                       kernel_size=kernel_size_2,\n",
        "                       stride=1,\n",
        "                       padding=1\n",
        "                      ),\n",
        "            nn.BatchNorm2d(depth_CL),\n",
        "            nn.ReLU(),\n",
        "            nn.MaxPool2d(kernel_size=2),\n",
        "            nn.Dropout(p=drop_out),\n",
        "\n",
        "            )\n",
        "\n",
        "            self.MLP = nn.Sequential(\n",
        "                nn.Linear(depth_CL*math.ceil((math.ceil((65-kernel_size_1)/2+1)-kernel_size_2)/2+1)\n",
        "                          *math.ceil((math.ceil((41-kernel_size_1)/2+1)-kernel_size_2)/2+1),neurons_MLP),\n",
        "            nn.ReLU(),\n",
        "            nn.Dropout(p=drop_out),\n",
        "            )\n",
        "\n",
        "            self.out_softmax = nn.Sequential(\n",
        "                nn.Linear(neurons_MLP,2),\n",
        "                nn.Softmax(dim=1)\n",
        "            )\n",
        "\n",
        "\n",
        "        def forward(self,x):\n",
        "            x = self.conv2Dblock1(x)\n",
        "            conv_embedding = self.conv2Dblock2(x)\n",
        "            conv_embedding = torch.flatten(conv_embedding, start_dim=1)\n",
        "            MPL_output = self.MLP(conv_embedding)\n",
        "            output_softmax = self.out_softmax(MPL_output)\n",
        "            return output_softmax, MPL_output"
      ]
    },
    {
      "cell_type": "code",
      "execution_count": null,
      "metadata": {
        "id": "PaC_CWemozI9"
      },
      "outputs": [],
      "source": [
        "def reset_weights(m):\n",
        "    for layer in m.children():\n",
        "        if hasattr(layer, 'reset_parameters'):\n",
        "            layer.reset_parameters()\n",
        "\n",
        "def soft_output_by_subject(output_test, Y_test, subject_group_test, ):\n",
        "\n",
        "    Y_test_bySubject= []\n",
        "    output_test_bySubjects=torch.empty((1,2),device=output_test.device.type)\n",
        "    subject_in_group=np.unique(subject_group_test)\n",
        "    output_test_subject=torch.zeros(subject_in_group.shape)\n",
        "    Y_estimated_test_subject=torch.ones(subject_in_group.shape)\n",
        "    for i, speaker in enumerate(subject_in_group):\n",
        "        index_speaker = np.where(subject_group_test==speaker)\n",
        "        output_test_subject[i]=torch.mean(torch.log(output_test[index_speaker][:,1]) -torch.log(output_test[index_speaker][:,0]),0)\n",
        "        Y_test_bySubject.append(Y_test[index_speaker][0])\n",
        "\n",
        "\n",
        "    Y_test_tensor_bySubject = torch.tensor(Y_test_bySubject,dtype=torch.long,device=device)\n",
        "    Y_estimated_test_subject[output_test_subject<0]=0\n",
        "    return output_test_subject , Y_test_tensor_bySubject,Y_estimated_test_subject"
      ]
    },
    {
      "cell_type": "code",
      "execution_count": null,
      "metadata": {
        "colab": {
          "background_save": true,
          "base_uri": "https://localhost:8080/"
        },
        "id": "wHO9nAKoo5ii",
        "outputId": "017b4624-33ff-47b9-e410-ebaf6b04967a"
      },
      "outputs": [
        {
          "name": "stdout",
          "output_type": "stream",
          "text": [
            "cuda\n",
            "\n",
            "\\k-fold 1 \n",
            "***********************\n",
            "[111 119 144 156 166 169 237 240 245]\n",
            " Epoch 100: iteration 148/147 Acc_class: 99.46\n",
            " validation NeuroV: 98.43 % by Subject: 100.00%  \n",
            "\n",
            "\\k-fold 2 \n",
            "***********************\n",
            "[125 127 130 140 164 182 186 230 234]\n",
            " Epoch 100: iteration 149/148 Acc_class: 99.09\n",
            " validation NeuroV: 99.19 % by Subject: 100.00%  \n",
            "\n",
            "\\k-fold 3 \n",
            "***********************\n",
            "[129 133 137 170 175 177 205 238 242]\n",
            " Epoch 100: iteration 148/147 Acc_class: 99.32\n",
            " validation NeuroV: 94.00 % by Subject: 100.00%  \n",
            "\n",
            "\\k-fold 4 \n",
            "***********************\n",
            "[115 118 135 147 151 162 231 232]\n",
            " Epoch 100: iteration 149/148 Acc_class: 99.49\n",
            " validation NeuroV: 97.14 % by Subject: 100.00%  \n",
            "\n",
            "\\k-fold 5 \n",
            "***********************\n",
            "[108 128 131 143 152 153 163 236 241]\n",
            " Epoch 100: iteration 148/147 Acc_class: 99.40\n",
            " validation NeuroV: 97.43 % by Subject: 100.00%  \n",
            "\n",
            "\\k-fold 6 \n",
            "***********************\n",
            "[106 117 136 142 146 148 149 168 176]\n",
            " Epoch 100: iteration 148/147 Acc_class: 99.04\n",
            " validation NeuroV: 91.16 % by Subject: 100.00%  \n",
            "\n",
            "\\k-fold 7 \n",
            "***********************\n",
            "[110 112 113 120 154 155 174 209 228]\n",
            " Epoch 100: iteration 148/147 Acc_class: 99.23\n",
            " validation NeuroV: 100.00 % by Subject: 100.00%  \n",
            "\n",
            "\\k-fold 8 \n",
            "***********************\n",
            "[107 116 132 134 141 161 172 181]\n",
            " Epoch 100: iteration 149/148 Acc_class: 97.93\n",
            " validation NeuroV: 97.38 % by Subject: 100.00%  \n",
            "\n",
            "\\k-fold 9 \n",
            "***********************\n",
            "[109 124 138 185 212 213 222 243]\n",
            " Epoch 100: iteration 149/148 Acc_class: 99.26\n",
            " validation NeuroV: 99.19 % by Subject: 100.00%  \n",
            "\n",
            "\\k-fold 10 \n",
            "***********************\n",
            "[139 160 211 215 216 217 218 220]\n",
            " Epoch 100: iteration 149/148 Acc_class: 99.38\n",
            " validation NeuroV: 95.70 % by Subject: 100.00%  \n"
          ]
        }
      ],
      "source": [
        "sgkf = StratifiedGroupKFold(n_splits=10)\n",
        "\n",
        "Data_NeuroV_strat=sgkf.split(mel_spectrograms_train_NeuroV, y=y_label_train_NeuroV, groups=subject_group_train_NeuroV)\n",
        "\n",
        "device = 'cuda' if torch.cuda.is_available() else 'cpu'\n",
        "\n",
        "if device=='cuda':\n",
        "    print(\"cuda\")\n",
        "    #torch.cuda.set_device(1)\n",
        "\n",
        "BATCH_SIZE = 64\n",
        "\n",
        "\n",
        "#Data to test Gita\n",
        "X_test_Gita =np.expand_dims(np.stack(mel_spectrograms_test_Gita, axis=0),1)\n",
        "Y_test_Gita= y_label_test_Gita\n",
        "X_test_tensor_Gita = torch.tensor(X_test_Gita,device=device).float()\n",
        "Y_test_tensor_Gita = torch.tensor(Y_test_Gita,dtype=torch.long,device=device)\n",
        "\n",
        "\n",
        "#Métricas del modelo\n",
        "results_val_metric_subject_NeuroV  = []\n",
        "Subject_Sen_spe_NeuroV, Subject_f1_score_NeuroV, Subject_MCC_NeuroV, Subject_AUC_NeuroV=[],[],[],[]\n",
        "Subject_fpr_NeuroV, Subject_tpr_NeuroV=[],[]\n",
        "results_loss_Epochs, results_metric_Epochs= [], []\n",
        "results_val_metric_NeuroV_Epochs, results_val_loss_NeuroV_Epochs=[],[]\n",
        "\n",
        "#Métricas de validación con el mismo dataset\n",
        "val_windows_metrics_NeuroV, val_subject_metrics_NeuroV=[],[]\n",
        "\n",
        "#Para test con Gita\n",
        "test_windows_metrics_Gita, test_subject_metrics_Gita=[],[]\n",
        "\n",
        "#Para T-SNE:\n",
        "flattern_train_CNN_Original, Y_train_Original_fold =[],[]\n",
        "flattern_train_CNN_Augmented, Y_train_Augmented_fold =[],[]\n",
        "\n",
        "for k in range(10):\n",
        "    results_loss, results_metric, results_val_metric_NeuroV, results_val_loss_NeuroV,  = [], [], [], []\n",
        "\n",
        "\n",
        "    print('')\n",
        "    print(f\"\\k-fold {k + 1} \\n***********************\")\n",
        "\n",
        "    train_index_NeuroV, val_index_NeuroV =next(iter(Data_NeuroV_strat))\n",
        "\n",
        "    print(np.unique(subject_group_train_NeuroV[val_index_NeuroV])) #Imprimo los índices que serán usados en validation\n",
        "\n",
        "\n",
        "    #Variables para T-SNE\n",
        "    X_Original = np.expand_dims(np.stack(mel_spectrograms_train_NeuroV[train_index_NeuroV,:,:], axis=0),1)\n",
        "    X_tensor_Original = torch.tensor(X_Original,device=device).float()\n",
        "    Y_tensor_Original = torch.tensor(y_label_train_NeuroV[train_index_NeuroV], dtype=torch.long,device=device)\n",
        "\n",
        "    X_Augmented = np.expand_dims(np.stack(aug_mel_spectrograms, axis=0),1)\n",
        "    X_tensor_Augmented = torch.tensor(X_Augmented,device=device).float()\n",
        "    Y_tensor_Augmented = torch.tensor(aug_labels, dtype=torch.long,device=device)\n",
        "\n",
        "    #Data to train. Augmented variables: aug_signals, aug_labels, aug_groups, aug_mel_spectrograms\n",
        "\n",
        "    X_train = np.expand_dims(np.stack(np.concatenate([mel_spectrograms_train_NeuroV[train_index_NeuroV,:,:], aug_mel_spectrograms], axis=0), axis=0),1) #Acá poner + augmentedSpec\n",
        "    Y_train = np.concatenate([y_label_train_NeuroV[train_index_NeuroV], aug_labels],axis=0) #Aca igua ponerle las de augmented\n",
        "\n",
        "    X_tensor = torch.tensor(X_train,device=device).float()\n",
        "    Y_tensor = torch.tensor(Y_train, dtype=torch.long,device=device)\n",
        "\n",
        "    subject_group_train=np.concatenate([subject_group_train_NeuroV[train_index_NeuroV], aug_groups],axis=0)#Acá igual concatenar las de augmented\n",
        "\n",
        "\n",
        "    #Data to val NeuroV\n",
        "    X_val_NeuroV =np.expand_dims(np.stack(mel_spectrograms_train_NeuroV[val_index_NeuroV,:,:], axis=0),1)\n",
        "    Y_val_NeuroV= y_label_train_NeuroV[val_index_NeuroV]\n",
        "    subject_group_val_NeuroV=subject_group_train_NeuroV[val_index_NeuroV]\n",
        "    X_val_tensor_NeuroV = torch.tensor(X_val_NeuroV,device=device).float()\n",
        "    Y_val_tensor_NeuroV = torch.tensor(Y_val_NeuroV,dtype=torch.long,device=device)\n",
        "\n",
        "\n",
        "    DATASET_SIZE=X_train.shape[0]\n",
        "    iters = int(DATASET_SIZE / BATCH_SIZE)\n",
        "\n",
        "    model = CNN().to(device)\n",
        "    model.apply(reset_weights)\n",
        "\n",
        "\n",
        "    loss_func = nn.CrossEntropyLoss()\n",
        "    optimizer = torch.optim.SGD(model.parameters(),lr=0.1)\n",
        "    lambda1 = lambda epoch: 0.95 ** epoch\n",
        "    scheduler = torch.optim.lr_scheduler.LambdaLR(optimizer, lr_lambda=lambda1)\n",
        "\n",
        "\n",
        "    dataset=TensorDataset(X_tensor,Y_tensor)\n",
        "    dataloader = DataLoader(dataset, batch_size=BATCH_SIZE, shuffle=True)\n",
        "\n",
        "    for epoch in range(100): #100 épocas\n",
        "        epoch_acc = 0\n",
        "        epoch_loss = 0\n",
        "        for id_batch, (x_batch, y_batch) in enumerate(dataloader):\n",
        "            actual_batch_size=x_batch.shape[0]\n",
        "\n",
        "            # zero the parameter gradients\n",
        "            model.train()\n",
        "            optimizer.zero_grad()\n",
        "\n",
        "            # forward\n",
        "            outputs = model(x_batch)[0]\n",
        "\n",
        "            # calculate accuracy\n",
        "            prediction = torch.max(outputs, 1)[1]\n",
        "            metric = sklearn.metrics.accuracy_score(y_batch.data.cpu(), prediction.data.cpu())*100\n",
        "\n",
        "\n",
        "            # calculate loss + backward + optimize\n",
        "            loss = loss_func(outputs, y_batch)\n",
        "            loss.backward()\n",
        "            optimizer.step()\n",
        "\n",
        "            epoch_acc += metric*actual_batch_size/DATASET_SIZE\n",
        "            epoch_loss += loss.item()*actual_batch_size/DATASET_SIZE\n",
        "        print(f\"\\r Epoch {epoch +1}: iteration {id_batch +1}/{iters} Acc_class: {epoch_acc:.2f}\",end='')\n",
        "\n",
        "\n",
        "        scheduler.step()\n",
        "\n",
        "        with torch.no_grad():\n",
        "            model.eval()\n",
        "            output_val_NeuroV = model(X_val_tensor_NeuroV)[0]\n",
        "            prediction_val_NeuroV = torch.max(output_val_NeuroV, 1)[1]\n",
        "            val_metric_NeuroV = sklearn.metrics.accuracy_score(Y_val_tensor_NeuroV.data.cpu(), prediction_val_NeuroV.data.cpu())*100\n",
        "            val_loss_NeuroV = loss_func(output_val_NeuroV, Y_val_tensor_NeuroV.data)\n",
        "\n",
        "            output_val_bySubjects_NeuroV, Y_val_tensor_bySubject_NeuroV, prediction_val_bySubject_NeuroV =soft_output_by_subject(output_val_NeuroV, Y_val_NeuroV, subject_group_val_NeuroV)\n",
        "            val_metric_subject_NeuroV = sklearn.metrics.accuracy_score(Y_val_tensor_bySubject_NeuroV.data.cpu(), prediction_val_bySubject_NeuroV.data.cpu())*100\n",
        "\n",
        "        # append history\n",
        "        results_loss.append(epoch_loss)\n",
        "        results_metric.append(epoch_acc)\n",
        "        results_val_metric_NeuroV.append(val_metric_NeuroV)\n",
        "        results_val_metric_subject_NeuroV.append(val_metric_subject_NeuroV)\n",
        "        results_val_loss_NeuroV.append(val_loss_NeuroV.item())\n",
        "\n",
        "\n",
        "    print('')\n",
        "    print(f\"\\r validation NeuroV: {val_metric_NeuroV:.2f} % by Subject: {val_metric_subject_NeuroV:.2f}%  \")\n",
        "\n",
        "    #compute metrics\n",
        "    Sen_spe_subject_NeuroV=sensitivity_specificity_support(Y_val_tensor_bySubject_NeuroV.data.cpu(), prediction_val_bySubject_NeuroV.data.cpu(), average='binary')*100\n",
        "    val_f1_score_NeuroV = sklearn.metrics.f1_score(Y_val_tensor_bySubject_NeuroV.data.cpu(), prediction_val_bySubject_NeuroV.data.cpu())*100\n",
        "    val_MCC_NeuroV = sklearn.metrics.matthews_corrcoef(Y_val_tensor_bySubject_NeuroV.data.cpu(), prediction_val_bySubject_NeuroV.data.cpu())\n",
        "    val_fpr_NeuroV, val_tpr_NeuroV, _ = sklearn.metrics.roc_curve(Y_val_tensor_bySubject_NeuroV.data.cpu(), output_val_bySubjects_NeuroV.data.cpu())\n",
        "    val_AUC_NeuroV = sklearn.metrics.auc(val_fpr_NeuroV, val_tpr_NeuroV)\n",
        "\n",
        "    #Métricas para T-SNE\n",
        "    with torch.no_grad():\n",
        "        model.eval()\n",
        "        output_train_Original, train_CNN_Original = model(X_tensor_Original)\n",
        "        output_train_Augmented, train_CNN_Augmented = model(X_tensor_Augmented)\n",
        "\n",
        "    with torch.no_grad():\n",
        "        model.eval()\n",
        "        output_test_Gita, output_CNN_Gita = model(X_test_tensor_Gita)\n",
        "        prediction_test_Gita = torch.max(output_test_Gita, 1)[1]\n",
        "\n",
        "    test_metric_Gita = sklearn.metrics.accuracy_score(Y_test_tensor_Gita.data.cpu(), prediction_test_Gita.data.cpu())*100\n",
        "\n",
        "    output_test_bySubjects_Gita, Y_test_tensor_bySubject_Gita, prediction_test_bySubject_Gita =soft_output_by_subject( output_test_Gita, Y_test_Gita, subject_group_test_Gita)\n",
        "    test_metric_subject_Gita = sklearn.metrics.accuracy_score(Y_test_tensor_bySubject_Gita.data.cpu(), prediction_test_bySubject_Gita.data.cpu())*100\n",
        "\n",
        "    results_loss_Epochs.append(results_loss)\n",
        "    results_metric_Epochs.append(results_metric)\n",
        "    results_val_metric_NeuroV_Epochs.append(results_val_metric_NeuroV)\n",
        "    results_val_loss_NeuroV_Epochs.append(results_val_loss_NeuroV)\n",
        "\n",
        "    val_windows_metrics_NeuroV.append(val_metric_NeuroV)\n",
        "    val_subject_metrics_NeuroV.append(val_metric_subject_NeuroV)\n",
        "    Subject_Sen_spe_NeuroV.append([Sen_spe_subject_NeuroV[0]*100, Sen_spe_subject_NeuroV[1]*100])\n",
        "    Subject_f1_score_NeuroV.append(val_f1_score_NeuroV)\n",
        "    Subject_MCC_NeuroV.append(val_MCC_NeuroV)\n",
        "    Subject_AUC_NeuroV.append(val_AUC_NeuroV)\n",
        "    Subject_fpr_NeuroV.append(val_fpr_NeuroV)\n",
        "    Subject_tpr_NeuroV.append(val_tpr_NeuroV)\n",
        "\n",
        "\n",
        "    #Variables para T-SNE\n",
        "    flattern_train_CNN_Original.append(train_CNN_Original)\n",
        "    Y_train_Original_fold.append(Y_tensor_Original)\n",
        "    flattern_train_CNN_Augmented.append(train_CNN_Augmented)\n",
        "    Y_train_Augmented_fold.append(Y_tensor_Augmented)\n",
        "\n",
        "    test_windows_metrics_Gita.append(test_metric_Gita)\n",
        "    test_subject_metrics_Gita.append(test_metric_subject_Gita)\n",
        "\n",
        "    torch.save(model.state_dict(), '/content/drive/MyDrive/Memoria/SpecAugment/testNeurovoz/CNN_NeuroV_pataka_fold_'+str(k)+'.pt')"
      ]
    },
    {
      "cell_type": "markdown",
      "metadata": {
        "id": "3JvVsZ9wviI_"
      },
      "source": [
        "## Métricas con Neurovoz"
      ]
    },
    {
      "cell_type": "code",
      "execution_count": null,
      "metadata": {
        "colab": {
          "base_uri": "https://localhost:8080/"
        },
        "id": "WQDndNHJtub0",
        "outputId": "1664d537-7fb1-4140-e0ea-485d7b27f8ab"
      },
      "outputs": [
        {
          "name": "stdout",
          "output_type": "stream",
          "text": [
            "NeuroV: Accuracy:    100.00 (0.00)%\n",
            "\r      Sensitivity: 100.00 (0.00)% \n",
            "\r      Specifity:   100.00 (0.00)% \n",
            "\r      f1_score:    100.00 (0.00)%\n",
            "\r      MCC:         1.00 (0.00)\n",
            "\r      AUC:         1.00 (0.00)\n"
          ]
        }
      ],
      "source": [
        "#Métricas\n",
        "print(f'NeuroV: Accuracy:    {np.mean(val_subject_metrics_NeuroV):.2f} ({np.std(val_subject_metrics_NeuroV):.2f})%')\n",
        "print(f\"\\r      Sensitivity: {np.mean(np.stack(Subject_Sen_spe_NeuroV,0),0)[0]:.2f} ({np.std(np.stack(Subject_Sen_spe_NeuroV,0),0)[0]:.2f})% \")\n",
        "print(f\"\\r      Specifity:   {np.mean(np.stack(Subject_Sen_spe_NeuroV,0),0)[1]:.2f} ({np.std(np.stack(Subject_Sen_spe_NeuroV,0),0)[1]:.2f})% \")\n",
        "print(f'\\r      f1_score:    {np.mean(Subject_f1_score_NeuroV):.2f} ({np.std(Subject_f1_score_NeuroV):.2f})%')\n",
        "print(f'\\r      MCC:         {np.mean(Subject_MCC_NeuroV):.2f} ({np.std(Subject_MCC_NeuroV):.2f})')\n",
        "print(f'\\r      AUC:         {np.mean(Subject_AUC_NeuroV):.2f} ({np.std(Subject_AUC_NeuroV):.2f})')\n"
      ]
    },
    {
      "cell_type": "code",
      "execution_count": null,
      "metadata": {
        "colab": {
          "base_uri": "https://localhost:8080/"
        },
        "id": "BN2KWa1ut1Xs",
        "outputId": "28f2d022-962e-4465-b81d-f3cae8e989e5"
      },
      "outputs": [
        {
          "name": "stdout",
          "output_type": "stream",
          "text": [
            "NeuroV: Accuracy by windows:, 97.40 (2.14)%,Accuracy by subject:100.00 (0.00)\n"
          ]
        }
      ],
      "source": [
        "print(f'NeuroV: Accuracy by windows:, {np.mean(val_windows_metrics_NeuroV):.2f} ({np.std(val_windows_metrics_NeuroV):.2f})%,Accuracy by subject:{np.mean(val_subject_metrics_NeuroV):.2f} ({np.std(val_subject_metrics_NeuroV):.2f})')"
      ]
    },
    {
      "cell_type": "markdown",
      "metadata": {
        "id": "qEJmtu0rvgZr"
      },
      "source": [
        "## Cross-Validation con Gita"
      ]
    },
    {
      "cell_type": "code",
      "execution_count": null,
      "metadata": {
        "colab": {
          "base_uri": "https://localhost:8080/"
        },
        "id": "m4XXOPRIt6C-",
        "outputId": "203a9986-90bd-4f45-c036-d707239404b5"
      },
      "outputs": [
        {
          "name": "stdout",
          "output_type": "stream",
          "text": [
            "Gita: Accuracy:  54.40 (2.11)%\n",
            "Test Gita: Accuracy by windows:, 54.09 (1.71)%,Accuracy by subject:54.40 (2.11)\n"
          ]
        }
      ],
      "source": [
        "print(f'Gita: Accuracy:  {np.mean(test_subject_metrics_Gita):.2f} ({np.std(test_subject_metrics_Gita):.2f})%')\n",
        "print(f'Test Gita: Accuracy by windows:, {np.mean(test_windows_metrics_Gita):.2f} ({np.std(test_windows_metrics_Gita):.2f})%,Accuracy by subject:{np.mean(test_subject_metrics_Gita):.2f} ({np.std(test_subject_metrics_Gita):.2f})')"
      ]
    },
    {
      "cell_type": "markdown",
      "metadata": {
        "id": "pZo9GNE0vq_k"
      },
      "source": [
        "## Curvas (Accuracy, Loss, ROC y T-SNE)"
      ]
    },
    {
      "cell_type": "code",
      "execution_count": null,
      "metadata": {
        "colab": {
          "base_uri": "https://localhost:8080/",
          "height": 769
        },
        "id": "TvG0SlLNuHDI",
        "outputId": "45fd51c2-f301-4193-de23-1ee818d4b010"
      },
      "outputs": [
        {
          "data": {
            "image/png": "[encoded data removed]",
            "text/plain": [
              "<Figure size 800x400 with 1 Axes>"
            ]
          },
          "metadata": {},
          "output_type": "display_data"
        },
        {
          "data": {
            "image/png": "[encoded data removed]",
            "text/plain": [
              "<Figure size 800x400 with 1 Axes>"
            ]
          },
          "metadata": {},
          "output_type": "display_data"
        }
      ],
      "source": [
        "results_loss_Epochs_mean=np.stack(results_loss_Epochs,0).mean(axis=0)\n",
        "results_loss_Epochs_std=np.stack(results_loss_Epochs,0).std(axis=0)\n",
        "\n",
        "results_val_loss_NeuroV_Epochs_mean=np.stack(results_val_loss_NeuroV_Epochs,0).mean(axis=0)\n",
        "results_val_loss_NeuroV_Epochs_mean=np.stack(results_val_loss_NeuroV_Epochs,0).mean(axis=0)\n",
        "results_val_loss_NeuroV_Epochs_std=np.stack(results_val_loss_NeuroV_Epochs,0).std(axis=0)\n",
        "\n",
        "fig, ax = plt.subplots(figsize=(8, 4))\n",
        "ax.plot(range(epoch+1),results_loss_Epochs_mean, alpha=0.5, color='#888888', label='train', linewidth = 2.0)\n",
        "ax.fill_between(range(epoch+1), results_loss_Epochs_mean - results_loss_Epochs_std, results_loss_Epochs_mean + results_loss_Epochs_std, color='#888888', alpha=0.4)\n",
        "\n",
        "ax.plot(range(epoch+1),results_val_loss_NeuroV_Epochs_mean, alpha=0.5, color='blue', label='Validation NeuroV', linewidth = 2.0)\n",
        "ax.fill_between(range(epoch+1), results_val_loss_NeuroV_Epochs_mean - results_val_loss_NeuroV_Epochs_std, results_val_loss_NeuroV_Epochs_mean + results_val_loss_NeuroV_Epochs_std, color='blue', alpha=0.2)\n",
        "\n",
        "\n",
        "ax.set_ylim([0,1])\n",
        "ax.legend(loc='lower right')\n",
        "ax.set_ylabel(\"Loss\")\n",
        "ax.set_xlabel(\"Epoch\")\n",
        "plt.savefig(\"/content/drive/MyDrive/Memoria/SpecAugment/testNeurovoz/Loss_Train_Validation_pataka.pdf\", dpi=150)\n",
        "\n",
        "results_metric_Epochs_mean=np.stack(results_metric_Epochs,0).mean(axis=0)\n",
        "results_metric_Epochs_std=np.stack(results_metric_Epochs,0).std(axis=0)\n",
        "\n",
        "results_val_metric_NeuroV_Epochs_mean=np.stack(results_val_metric_NeuroV_Epochs,0).mean(axis=0)\n",
        "results_val_metric_NeuroV_Epochs_std=np.stack(results_val_metric_NeuroV_Epochs,0).std(axis=0)\n",
        "\n",
        "\n",
        "fig, ax = plt.subplots(figsize=(8, 4))\n",
        "ax.plot(range(epoch+1),results_metric_Epochs_mean, alpha=0.5, color='#888888', label='train', linewidth = 2.0)\n",
        "ax.fill_between(range(epoch+1), results_metric_Epochs_mean - results_metric_Epochs_std, results_metric_Epochs_mean + results_metric_Epochs_std, color='#888888', alpha=0.4)\n",
        "\n",
        "ax.plot(range(epoch+1),results_val_metric_NeuroV_Epochs_mean, alpha=0.5, color='blue', label='Validation NeuroV', linewidth = 2.0)\n",
        "ax.fill_between(range(epoch+1), results_val_metric_NeuroV_Epochs_mean - results_val_metric_NeuroV_Epochs_std, results_val_metric_NeuroV_Epochs_mean + results_val_metric_NeuroV_Epochs_std, color='blue', alpha=0.2)\n",
        "\n",
        "ax.set_ylim([30,100])\n",
        "ax.legend(loc='lower right')\n",
        "\n",
        "ax.set_ylabel(\"Accuracy (%)\")\n",
        "ax.set_xlabel(\"Epoch\")\n",
        "plt.savefig(\"/content/drive/MyDrive/Memoria/SpecAugment/testNeurovoz/Accuracy_Train_Validation_pataka_prob_100.pdf\", dpi=150)"
      ]
    },
    {
      "cell_type": "code",
      "execution_count": null,
      "metadata": {
        "id": "HqL0NzmKuVs5"
      },
      "outputs": [],
      "source": [
        "def plot_ROC_k_fold(fpr_k_folds,tpr_k_folds,auc_k_folds,folds, color):\n",
        "    mean_fpr = np.linspace(0, 1, 100)\n",
        "    fig, ax = plt.subplots(figsize=(6, 6))\n",
        "    ax.plot([0, 1], [0, 1], \"k--\", label=\"chance level (AUC = 0.5)\")\n",
        "    tprs=[]\n",
        "    for k in range(folds):\n",
        "        #display = sklearn.metrics.RocCurveDisplay(fpr=fpr_k_folds[k], tpr=tpr_k_folds[k], roc_auc=auc_k_folds[k],\n",
        "        #                           estimator_name='ROC fold'+str(k))\n",
        "        #display.plot()\n",
        "\n",
        "        interp_tpr = np.interp(mean_fpr, fpr_k_folds[k], tpr_k_folds[k])\n",
        "        interp_tpr[0] = 0.0\n",
        "        tprs.append(interp_tpr)\n",
        "    mean_tpr = np.mean(tprs, axis=0)\n",
        "    mean_auc =np.mean(auc_k_folds)\n",
        "    std_auc = np.std(auc_k_folds)\n",
        "    ax.plot(\n",
        "        mean_fpr,\n",
        "        mean_tpr,\n",
        "        color=color,\n",
        "        label=r\"Mean ROC (AUC = %0.2f $\\pm$ %0.2f)\" % (mean_auc, std_auc),\n",
        "        lw=2,\n",
        "        alpha=0.8,\n",
        "    )\n",
        "\n",
        "    std_tpr = np.std(tprs, axis=0)\n",
        "    tprs_upper = np.minimum(mean_tpr + std_tpr, 1)\n",
        "    tprs_lower = np.maximum(mean_tpr - std_tpr, 0)\n",
        "    ax.fill_between(\n",
        "        mean_fpr,\n",
        "        tprs_lower,\n",
        "        tprs_upper,\n",
        "        color=color,\n",
        "        alpha=0.2,\n",
        "        label=r\"$\\pm$ 1 std. dev.\",\n",
        "    )\n",
        "\n",
        "    ax.set(\n",
        "        xlim=[-0.05, 1.05],\n",
        "        ylim=[-0.05, 1.05],\n",
        "        xlabel=\"False Positive Rate\",\n",
        "        ylabel=\"True Positive Rate\",\n",
        "       # title=f\"Mean ROC curve with variability\\n(Positive label '{target_names[1]}')\",\n",
        "    )\n",
        "    ax.axis(\"square\")\n",
        "    ax.legend(loc=\"lower right\")\n",
        "    plt.savefig(\"/content/drive/MyDrive/Memoria/SpecAugment/testNeurovoz/ROC_Subject_fpr_Gita.pdf\", dpi=150)\n",
        "    plt.show()\n"
      ]
    },
    {
      "cell_type": "code",
      "execution_count": null,
      "metadata": {
        "colab": {
          "base_uri": "https://localhost:8080/",
          "height": 542
        },
        "id": "CxnJD1M3u2pr",
        "outputId": "991b9251-f1b4-480c-f732-f2dbd509bbfd"
      },
      "outputs": [
        {
          "data": {
            "image/png": "[encoded data removed]",
            "text/plain": [
              "<Figure size 600x600 with 1 Axes>"
            ]
          },
          "metadata": {},
          "output_type": "display_data"
        }
      ],
      "source": [
        "plot_ROC_k_fold(Subject_fpr_NeuroV,Subject_tpr_NeuroV,Subject_AUC_NeuroV, 10, 'blue')"
      ]
    },
    {
      "cell_type": "code",
      "execution_count": null,
      "metadata": {
        "id": "eIgHy_VTu8Mp"
      },
      "outputs": [],
      "source": [
        "def plot_embedding(X, y, d, title=None):\n",
        "    \"\"\"Plot an embedding X with the class label y colored by the domain d.\"\"\"\n",
        "    x_min, x_max = np.min(X, 0), np.max(X, 0)\n",
        "    X = (X - x_min) / (x_max - x_min)\n",
        "    # Plot colors numbers\n",
        "    plt.figure(figsize=(10,10))\n",
        "    ax = plt.subplot(111)\n",
        "    colores=[(0,0.6,1), (0,0,1), (1,0.5,0.5), (1,0,0)  ]\n",
        "\n",
        "    for i in range(X.shape[0]):\n",
        "        # plot colored number\n",
        "        #plt.text(X[i, 0], X[i, 1], 'o',\n",
        "        #         color=colores[y[i]],\n",
        "        #         fontdict={ 'size': 14})\n",
        "        plt.plot(X[i, 0], X[i, 1], 'o',\n",
        "                 color=colores[y[i]],#plt.cm.brw(y[i]),\n",
        "                  )\n",
        "\n",
        "    plt.xticks([]), plt.yticks([])\n",
        "    plt.legend(['Original_HC', 'Original_PD', 'Augmented_HC', 'Augmented_PD'] )\n",
        "    ax = plt.gca()\n",
        "    leg = ax.get_legend()\n",
        "    leg.legendHandles[0].set_color((0,0.6,1))\n",
        "    leg.legendHandles[1].set_color((0,0,1))\n",
        "    leg.legendHandles[2].set_color((1,0.5,0.5))\n",
        "    leg.legendHandles[3].set_color((1,0,0))\n",
        "    if title is not None:\n",
        "        plt.title(title)"
      ]
    },
    {
      "cell_type": "code",
      "execution_count": null,
      "metadata": {
        "id": "XMnPE46vvAI6"
      },
      "outputs": [],
      "source": [
        "t_SNE= TSNE(n_components=2,n_iter=500,n_iter_without_progress=150, n_jobs=2, random_state=0)\n",
        "\n",
        "for k in range(10):\n",
        "    CCN_train=np.concatenate([flattern_train_CNN_Original[k].data.cpu(), flattern_train_CNN_Augmented[k].data.cpu()])\n",
        "    Y_train=np.concatenate([Y_train_Original_fold[k].data.cpu(), Y_train_Augmented_fold[k].data.cpu()])\n",
        "    Y_train_plot=np.concatenate([Y_train_Original_fold[k].data.cpu(), Y_train_Augmented_fold[k].data.cpu()+2])\n",
        "    domain_train=np.concatenate([np.zeros(Y_train_Original_fold[k].shape), np.ones( Y_train_Augmented_fold[k].shape)])\n",
        "\n",
        "    projections=t_SNE.fit_transform(CCN_train,Y_train)\n",
        "\n",
        "    plot_embedding(projections,Y_train_plot,domain_train, 't-SNE embeedding')\n",
        "    plt.savefig(\"/content/drive/MyDrive/Memoria/SpecAugment/testNeurovoz/T-SNE{}.pdf\".format(k), dpi=150)\n",
        "\n",
        "    plt.show()\n"
      ]
    }
  ],
  "metadata": {
    "accelerator": "GPU",
    "colab": {
      "provenance": [],
      "authorship_tag": "ABX9TyNhB+WDOtJjPtkfl0NghRgw",
      "include_colab_link": true
    },
    "kernelspec": {
      "display_name": "Python 3",
      "name": "python3"
    },
    "language_info": {
      "name": "python"
    }
  },
  "nbformat": 4,
  "nbformat_minor": 0
}